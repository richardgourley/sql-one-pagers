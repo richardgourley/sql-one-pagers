{
 "cells": [
  {
   "cell_type": "markdown",
   "id": "5c483f76",
   "metadata": {},
   "source": [
    "# SQL Window Functions - One Page"
   ]
  },
  {
   "cell_type": "markdown",
   "id": "2ad5784d",
   "metadata": {},
   "source": [
    "- A one page reference of the most common Window functions for SQL.\n",
    "- These are often used in retrieving information for analysis.\n",
    "- Query aims and notes are added to each query.\n",
    "- To keep the length down, table creation is not included BUT the data types used in the examples are clear."
   ]
  },
  {
   "cell_type": "markdown",
   "id": "a85b2f5f",
   "metadata": {},
   "source": [
    "**CONTENTS:**\n",
    "\n",
    "**1. Cumulative Distribution**\n",
    "\n",
    "**2. Dense Rank**\n",
    "\n",
    "**3. First Value**"
   ]
  },
  {
   "cell_type": "markdown",
   "id": "66720d8e",
   "metadata": {},
   "source": [
    "## 1. Cumulative Distribution"
   ]
  },
  {
   "cell_type": "markdown",
   "id": "3fe6a8eb",
   "metadata": {},
   "source": [
    "**QUERY AIM:**\n",
    "- This query aims to tell us where the sales persons net_sales come, relative to the net_sales of all of the other sales people.\n",
    "\n",
    "**NOTES:**\n",
    "- A PARTITION BY clause is optional and not included in this query. So, the CUME_DIST function will treat the result set as one partition.\n",
    "- An example of the middle section of a result set could like this:\n",
    "\n",
    "**full_name,** **net_sales,** **cume_dist**\n",
    "\n",
    "...\n",
    "\n",
    "Bob, 360, 0.4\n",
    "\n",
    "Sandra 320, 0.5\n",
    "\n",
    "Debbie, 329, 0.62\n",
    "\n",
    "...\n",
    "\n",
    "- In the example above, we can see that Sandra's net_sales of 320 are the halfway point. 50% of the sales people have net_sales higher than 320.\n"
   ]
  },
  {
   "cell_type": "markdown",
   "id": "39242732",
   "metadata": {},
   "source": [
    "```SQL\n",
    "SELECT \n",
    "    CONCAT_WS(' ',first_name,last_name) full_name,\n",
    "    net_sales, \n",
    "    CUME_DIST() OVER (\n",
    "        ORDER BY net_sales DESC\n",
    "    ) cume_dist\n",
    "FROM \n",
    "    sales.vw_staff_sales t\n",
    "INNER JOIN sales.staffs m on m.staff_id = t.staff_id\n",
    "WHERE \n",
    "    year = 2017;\n",
    "```"
   ]
  },
  {
   "cell_type": "markdown",
   "id": "25559d8c",
   "metadata": {},
   "source": [
    "--"
   ]
  },
  {
   "cell_type": "markdown",
   "id": "ee9f6140",
   "metadata": {},
   "source": [
    "**QUERY AIM:**\n",
    "- This query aims to tell us where the sales persons net_sales come, relevant to other salespeople by year.  Only the results for 2016 and 2017 are retrieved.\n",
    "\n",
    "**NOTES:**\n",
    "- PARTITION BY is used - we receive the cumulative distribution of net_sales in year groups.\n",
    "- The query returns all salespeople, net sales, cumulative distribution for 2016 and then repeats for each salesperson for 2017.\n",
    "- This query can be used as a CTE or in a subquery to further filter the results to find, say the top 10% of salespeople per year by adding a WHERE cume_dist >= 0.10\n"
   ]
  },
  {
   "cell_type": "markdown",
   "id": "c524fa69",
   "metadata": {},
   "source": [
    "```SQL\n",
    "SELECT \n",
    "    CONCAT_WS(' ',first_name,last_name) full_name,\n",
    "    net_sales, \n",
    "    year,\n",
    "    CUME_DIST() OVER (\n",
    "        PARTITION BY year\n",
    "        ORDER BY net_sales DESC\n",
    "    ) cume_dist\n",
    "FROM \n",
    "    sales.vw_staff_sales t\n",
    "INNER JOIN sales.staffs m on m.staff_id = t.staff_id\n",
    "WHERE \n",
    "    year IN (2016,2017);\n",
    "```"
   ]
  },
  {
   "cell_type": "markdown",
   "id": "ff26e0c0",
   "metadata": {},
   "source": [
    "--"
   ]
  },
  {
   "cell_type": "markdown",
   "id": "08e6dfaf",
   "metadata": {},
   "source": [
    "## 2. Dense Rank"
   ]
  },
  {
   "cell_type": "markdown",
   "id": "fb0792c7",
   "metadata": {},
   "source": [
    "**QUERY AIM:**\n",
    "- This query aims to give rankings with ordered ranking groups with 1 for the highest for the list price of products.\n",
    "\n",
    "**NOTES:**\n",
    "- DENSE_RANK() is relevant when their are ties in totals.\n",
    "- DENSE_RANK() groups totals into a rank in order 1,2,3,4 etc. regardless of how many items are tied in each group.\n",
    "- Here is how a results with DENSE_RANK might look.....\n",
    "\n",
    "**Total** **Rank**\n",
    "\n",
    "50, 1\n",
    "\n",
    "50, 1\n",
    "\n",
    "50, 1\n",
    "\n",
    "60, 2 (In normal ranking, this would be considered as 4th position)\n",
    "\n",
    "60, 2\n",
    "\n",
    "70, 3 (In normal ranking, this would be considered as 7th postion)"
   ]
  },
  {
   "cell_type": "markdown",
   "id": "eebde766",
   "metadata": {},
   "source": [
    "```SQL\n",
    "SELECT\n",
    "\tproduct_id,\n",
    "\tproduct_name,\n",
    "\tlist_price,\n",
    "\tDENSE_RANK () OVER ( \n",
    "\t\tORDER BY list_price DESC\n",
    "\t) price_rank \n",
    "FROM\n",
    "\tproduction.products;\n",
    "```"
   ]
  },
  {
   "cell_type": "markdown",
   "id": "d54c7a3e",
   "metadata": {},
   "source": [
    "--"
   ]
  },
  {
   "cell_type": "markdown",
   "id": "ab301076",
   "metadata": {},
   "source": [
    "**QUERY AIM:**\n",
    "- This query again gives a ranking to each product list price inside a ranking group but this query ranks the products in sections of category id.\n",
    "\n",
    "**NOTES:**\n",
    "- The PARTITION BY category_id means we have the results returned in sections by category_id.\n",
    "- DENSE_RANK() will group any tied values together (see above)"
   ]
  },
  {
   "cell_type": "markdown",
   "id": "2ecec8ac",
   "metadata": {},
   "source": [
    "```SQL\n",
    "SELECT\n",
    "\t\tproduct_id,\n",
    "\t\tproduct_name,\n",
    "\t\tcategory_id,\n",
    "\t\tlist_price,\n",
    "\t\tDENSE_RANK () OVER ( \n",
    "\t\t\tPARTITION BY category_id\n",
    "\t\t\tORDER BY list_price DESC\n",
    "\t\t) price_rank \n",
    "\tFROM\n",
    "\t\tproduction.products\n",
    "```"
   ]
  },
  {
   "cell_type": "markdown",
   "id": "c177da20",
   "metadata": {},
   "source": [
    "--"
   ]
  },
  {
   "cell_type": "markdown",
   "id": "89da4c87",
   "metadata": {},
   "source": [
    "## 3. First Value"
   ]
  },
  {
   "cell_type": "markdown",
   "id": "73a9aaf4",
   "metadata": {},
   "source": [
    "**QUERY AIM:**\n",
    "- This query aims to display category and quantity information for each category followed by a spearate column that has the category name of the category with the lowest quantity of orders.\n",
    "\n",
    "**NOTES:**\n",
    "- FIRST_VALUE is used to display the category_name in a lowest_sales_volume column for every row.\n",
    "- PARTITION BY is not used so the entire result set is evaluated and ONE category will appear in the lowest_sales_volumen for the entire table."
   ]
  },
  {
   "cell_type": "markdown",
   "id": "4e15b965",
   "metadata": {},
   "source": [
    "```SQL\n",
    "SELECT \n",
    "    category_name,\n",
    "    year,\n",
    "    qty,\n",
    "    FIRST_VALUE(category_name) OVER(\n",
    "        ORDER BY qty\n",
    "    ) lowest_sales_volume\n",
    "FROM \n",
    "    sales.vw_category_sales_volume\n",
    "WHERE\n",
    "    year = 2017;\n",
    "```"
   ]
  },
  {
   "cell_type": "markdown",
   "id": "16397331",
   "metadata": {},
   "source": [
    "--"
   ]
  },
  {
   "cell_type": "markdown",
   "id": "ce6ac360",
   "metadata": {},
   "source": [
    "**QUERY AIM:**\n",
    "- This query aims to display category, year and quantity information per year as well as a lowest_sales_volume column with the name of the category with the lowest sales volume for that year.\n",
    "\n",
    "**NOTES:**\n",
    "- PARTITION BY is used to partition the results by year. \n",
    "- The results would look something like this:\n",
    "\n",
    "**category_name** **year** **qty** **lowest_sales_volume**\n",
    "\n",
    "CAT A, 2016, 52, CAT A\n",
    "\n",
    "CAT B, 2016, 60, CAT A\n",
    "\n",
    "CAT B, 2017, 41, CAT B\n",
    "\n",
    "CAT A, 2017, 53, CAT B"
   ]
  },
  {
   "cell_type": "markdown",
   "id": "7174c0e3",
   "metadata": {},
   "source": [
    "```SQL\n",
    "SELECT \n",
    "    category_name,\n",
    "    year,\n",
    "    qty,\n",
    "    FIRST_VALUE(category_name) OVER(\n",
    "        `PARTITION BY` year\n",
    "        ORDER BY qty\n",
    "    ) lowest_sales_volume\n",
    "FROM \n",
    "    sales.vw_category_sales_volume\n",
    "WHERE\n",
    "    year BETWEEN 2016 AND 2017;\n",
    "```"
   ]
  },
  {
   "cell_type": "markdown",
   "id": "2a80b39e",
   "metadata": {},
   "source": [
    "--"
   ]
  },
  {
   "cell_type": "markdown",
   "id": "761c894d",
   "metadata": {},
   "source": [
    "## 4. Lag"
   ]
  },
  {
   "cell_type": "markdown",
   "id": "0d51691c",
   "metadata": {},
   "source": [
    "**QUERY AIM:**\n",
    "- This query aims to print net sales for each month in 2018 and in the same row, have a column that displays  the previous months sales.\n",
    "\n",
    "**NOTES:**\n",
    "- LAG is useful for comparing a value in the current row with a value in the previous row.\n",
    "- In this query, LAG allows us to create further columns calculating current months sales vs. previous months sales.\n",
    "- When using LAG, the first result will have a NULL value because there are no previous results for the first column. An example...\n",
    "\n",
    "January, 200, NULL\n",
    "\n",
    "February, 240, 200\n",
    "\n",
    "March, 190, 240"
   ]
  },
  {
   "cell_type": "markdown",
   "id": "12388314",
   "metadata": {},
   "source": [
    "```SQL\n",
    "WITH cte_netsales_2018 AS(\n",
    "\tSELECT \n",
    "\t\tmonth, \n",
    "\t\tSUM(net_sales) net_sales\n",
    "\tFROM \n",
    "\t\tsales.vw_netsales_brands\n",
    "\tWHERE \n",
    "\t\tyear = 2018\n",
    "\tGROUP BY \n",
    "\t\tmonth\n",
    ")\n",
    "SELECT \n",
    "\tmonth,\n",
    "\tnet_sales,\n",
    "\tLAG(net_sales,1) OVER (\n",
    "\t\tORDER BY month\n",
    "\t) previous_month_sales\n",
    "FROM \n",
    "\tcte_netsales_2018;\n",
    "```"
   ]
  },
  {
   "cell_type": "markdown",
   "id": "8fc53407",
   "metadata": {},
   "source": [
    "--"
   ]
  },
  {
   "cell_type": "markdown",
   "id": "a8bd37bc",
   "metadata": {},
   "source": [
    "**QUERY AIM:**\n",
    "- This query aims to display net sales partitioned by brand and then grouped by month with an additional column in each row showing the previous months net sales.\n",
    "\n",
    "**NOTES:**\n",
    "- LAG allows us to see the previous months sales next to the current month.\n",
    "- PARTITION BY allows us to group results together within the LAG function by brand."
   ]
  },
  {
   "cell_type": "markdown",
   "id": "8c43b30d",
   "metadata": {},
   "source": [
    "```SQL\n",
    "SELECT \n",
    "\tmonth,\n",
    "\tbrand_name,\n",
    "\tnet_sales,\n",
    "\tLAG(net_sales,1) OVER (\n",
    "\t\tPARTITION BY brand_name\n",
    "\t\tORDER BY month\n",
    "\t) next_month_sales\n",
    "FROM \n",
    "\tsales.vw_netsales_brands\n",
    "WHERE\n",
    "\tyear = 2018;\n",
    "```"
   ]
  },
  {
   "cell_type": "markdown",
   "id": "b3131a4d",
   "metadata": {},
   "source": [
    "--"
   ]
  },
  {
   "cell_type": "markdown",
   "id": "7b55fc22",
   "metadata": {},
   "source": [
    "## 5. Last Value"
   ]
  },
  {
   "cell_type": "markdown",
   "id": "3e7a635a",
   "metadata": {},
   "source": [
    "**QUERY AIM:**\n",
    "- This query retrieves category_name, year and quantity of orders, ordered in a non-ascending way, and then a highest sales volume column which displays the highest category_name (last value) for the entire table.\n",
    "\n",
    "**NOTES:**\n",
    "- PARTITON BY is not used so the entire table is used undivided.\n",
    "- RANGE allows defining of start and end points within a partition."
   ]
  },
  {
   "cell_type": "markdown",
   "id": "cce8e8d6",
   "metadata": {},
   "source": [
    "```SQL\n",
    "SELECT \n",
    "    category_name,\n",
    "    year,\n",
    "    qty,\n",
    "    LAST_VALUE(category_name) OVER(\n",
    "        ORDER BY qty\n",
    "         RANGE BETWEEN \n",
    "            UNBOUNDED PRECEDING AND \n",
    "            UNBOUNDED FOLLOWING\n",
    "    ) highest_sales_volume\n",
    "FROM \n",
    "    sales.vw_category_sales_volume\n",
    "WHERE\n",
    "    year = 2016;\n",
    "```"
   ]
  },
  {
   "cell_type": "markdown",
   "id": "618401d0",
   "metadata": {},
   "source": [
    "--"
   ]
  },
  {
   "cell_type": "markdown",
   "id": "c841e336",
   "metadata": {},
   "source": [
    "**QUERY AIM:**\n",
    "- This query aims to return the category name, year, quantity sold and for each category with a further column displaying the category with the highest quantity for the year of the row.  The search limits results to the years 2016 and 2017.\n",
    "\n",
    "**NOTES:**\n",
    "- PARTITION BY year will break the results into two partition sets for each year with the highest quantity category being displayed in a column for that year appearing in all rows for that year."
   ]
  },
  {
   "cell_type": "markdown",
   "id": "d08ae798",
   "metadata": {},
   "source": [
    "```SQL\n",
    "SELECT \n",
    "    category_name,\n",
    "    year,\n",
    "    qty,\n",
    "    LAST_VALUE(category_name) OVER(\n",
    "\t\t\tPARTITION BY year\n",
    "        ORDER BY qty\n",
    "        RANGE BETWEEN \n",
    "            UNBOUNDED PRECEDING AND \n",
    "            UNBOUNDED FOLLOWING\n",
    "    ) highest_sales_volume\n",
    "FROM \n",
    "    sales.vw_category_sales_volume\n",
    "WHERE\n",
    "    year IN (2016,2017);\n",
    "```"
   ]
  },
  {
   "cell_type": "markdown",
   "id": "0ea2bcd2",
   "metadata": {},
   "source": []
  }
 ],
 "metadata": {
  "kernelspec": {
   "display_name": "Python 3 (ipykernel)",
   "language": "python",
   "name": "python3"
  },
  "language_info": {
   "codemirror_mode": {
    "name": "ipython",
    "version": 3
   },
   "file_extension": ".py",
   "mimetype": "text/x-python",
   "name": "python",
   "nbconvert_exporter": "python",
   "pygments_lexer": "ipython3",
   "version": "3.9.7"
  }
 },
 "nbformat": 4,
 "nbformat_minor": 5
}
