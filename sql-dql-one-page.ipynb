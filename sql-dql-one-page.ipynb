{
 "cells": [
  {
   "cell_type": "markdown",
   "id": "341f0005",
   "metadata": {},
   "source": [
    "## SQL Data Query Language - One Page"
   ]
  },
  {
   "cell_type": "markdown",
   "id": "cb6baf78",
   "metadata": {},
   "source": [
    "This one pager is a reference for all SQL DQL (Data Query Language) commands.\n",
    "Although some notes are added, this is intended to be a quick but comprehensive reference and reminder of all SQL query language commands."
   ]
  },
  {
   "cell_type": "markdown",
   "id": "28d3c789",
   "metadata": {},
   "source": [
    "**CONTENTS**\n",
    "\n",
    "**1. Sorting**\n",
    "\n",
    "**2. Limiting**\n",
    "\n",
    "**3. Filtering**\n",
    "\n",
    "**4. Joining Tables**"
   ]
  },
  {
   "cell_type": "markdown",
   "id": "a8845e88",
   "metadata": {},
   "source": [
    "## Sorting - Order By"
   ]
  },
  {
   "cell_type": "markdown",
   "id": "a0e6124e",
   "metadata": {},
   "source": [
    "`\n",
    "SELECT \n",
    "    first_name\n",
    "FROM\n",
    "    sales.customers\n",
    "ORDER BY \n",
    "    first_name DESC\n",
    "`"
   ]
  },
  {
   "cell_type": "markdown",
   "id": "9b20cd4d",
   "metadata": {},
   "source": [
    "ORDER BY multiple cols - city first, then first name eg. 'New York, Brian', 'New York, Jane'"
   ]
  },
  {
   "cell_type": "markdown",
   "id": "215f30a0",
   "metadata": {},
   "source": [
    "`\n",
    "ORDER BY \n",
    "    city,\n",
    "    first_name\n",
    "`"
   ]
  },
  {
   "cell_type": "markdown",
   "id": "2ea03ac6",
   "metadata": {},
   "source": [
    "ORDER BY expression"
   ]
  },
  {
   "cell_type": "markdown",
   "id": "d8f954c2",
   "metadata": {},
   "source": [
    "`\n",
    "SELECT\n",
    "    first_name\n",
    "FROM\n",
    "    sales.customers\n",
    "ORDER BY \n",
    "    LEN(first_name) DESC\n",
    "`"
   ]
  },
  {
   "cell_type": "markdown",
   "id": "59165b8e",
   "metadata": {},
   "source": [
    "## Limiting - Offset and Fetch"
   ]
  },
  {
   "cell_type": "markdown",
   "id": "cbc75175",
   "metadata": {},
   "source": [
    "OFFSET - means skip the first n rows\n",
    "\n",
    "FETCH FIRST - means how many rows to fetch\n",
    "\n",
    "- Often ORDER BY is used first, to put the data in it's correct order before limiting results."
   ]
  },
  {
   "cell_type": "markdown",
   "id": "77ce5c4e",
   "metadata": {},
   "source": [
    "`SELECT \n",
    "    team_name,\n",
    "    points,\n",
    "FROM \n",
    "    prem_table\n",
    "ORDER BY \n",
    "    points DESC\n",
    "OFFSET 4 ROWS\n",
    "FETCH FIRST 13 ROWS`"
   ]
  },
  {
   "cell_type": "markdown",
   "id": "be61bf21",
   "metadata": {},
   "source": [
    "## Limiting - Select Top"
   ]
  },
  {
   "cell_type": "markdown",
   "id": "07dd65e8",
   "metadata": {},
   "source": [
    "Get the Top n, top n%, or top nwith ties (means if tied for n number, show all tied results!)\n",
    "\n",
    "Start the query with these options and continue with a normal query"
   ]
  },
  {
   "cell_type": "markdown",
   "id": "b5b5cfba",
   "metadata": {},
   "source": [
    "`\n",
    "SELECT TOP 10\n",
    "SELECT TOP 1 PERCENT\n",
    "SELECT TOP 3 WITH TIES\n",
    "`"
   ]
  },
  {
   "cell_type": "markdown",
   "id": "9b51e128",
   "metadata": {},
   "source": [
    "## Filtering - Distinct"
   ]
  },
  {
   "cell_type": "markdown",
   "id": "bc8f26c1",
   "metadata": {},
   "source": [
    "`\n",
    "SELECT DISTINCT \n",
    "    country\n",
    "FROM \n",
    "    sales.customers\n",
    "`"
   ]
  },
  {
   "cell_type": "markdown",
   "id": "8b75d90c",
   "metadata": {},
   "source": [
    "Use SELECT DISTINCT with multiple cols"
   ]
  },
  {
   "cell_type": "markdown",
   "id": "52bd97b2",
   "metadata": {},
   "source": [
    "`\n",
    "SELECT DISTINCT\n",
    "    city, state\n",
    "FROM\n",
    "    sales.customers\n",
    "`"
   ]
  },
  {
   "cell_type": "markdown",
   "id": "2b98772e",
   "metadata": {},
   "source": [
    "## Filtering - And Or"
   ]
  },
  {
   "cell_type": "markdown",
   "id": "116d8b83",
   "metadata": {},
   "source": [
    "- AND is always evaluated first\n",
    "- This query acts as: get brand_id = 1 OR (brand_id = 2 AND list_price > 40)"
   ]
  },
  {
   "cell_type": "markdown",
   "id": "c1260812",
   "metadata": {},
   "source": [
    "`\n",
    "SELECT \n",
    "    product_name,\n",
    "    brand_id,\n",
    "    list_price\n",
    "FROM \n",
    "    production.products\n",
    "WHERE\n",
    "    brand_id = 1\n",
    "OR\n",
    "    brand_id = 2\n",
    "AND \n",
    "    list_price > 40\n",
    "`"
   ]
  },
  {
   "cell_type": "markdown",
   "id": "e9877629",
   "metadata": {},
   "source": [
    "USE parenthesis to make sure you retrieve correct data"
   ]
  },
  {
   "cell_type": "markdown",
   "id": "cdf4a80c",
   "metadata": {},
   "source": [
    "`\n",
    "WHERE\n",
    "    (brand_id 1 OR brand_id = 2)\n",
    "AND\n",
    "    list_price > 40\n",
    "`"
   ]
  },
  {
   "cell_type": "markdown",
   "id": "44225c7f",
   "metadata": {},
   "source": [
    "**Use the IN operator** - equivalent to many OR statements"
   ]
  },
  {
   "cell_type": "markdown",
   "id": "43e760a8",
   "metadata": {},
   "source": [
    "`\n",
    "SELECT \n",
    "    product_id,\n",
    "    brand_id\n",
    "FROM\n",
    "    products\n",
    "WHERE\n",
    "    brand_id IN(1,2,3,4)\n",
    "`"
   ]
  },
  {
   "cell_type": "markdown",
   "id": "b0141df3",
   "metadata": {},
   "source": [
    "## Filtering - Between/ Not Between"
   ]
  },
  {
   "cell_type": "markdown",
   "id": "39e7e684",
   "metadata": {},
   "source": [
    "`\n",
    "SELECT\n",
    "    product_id,\n",
    "    product_name,\n",
    "    list_price\n",
    "FROM\n",
    "    production.products\n",
    "WHERE\n",
    "    list_price NOT BETWEEN 149.99 AND 199.99\n",
    "`"
   ]
  },
  {
   "cell_type": "markdown",
   "id": "87969921",
   "metadata": {},
   "source": [
    "Between dates example\n",
    "\n",
    "Use a string literal 'YYYYMMDD'"
   ]
  },
  {
   "cell_type": "markdown",
   "id": "875dce4a",
   "metadata": {},
   "source": [
    "`\n",
    "WHERE\n",
    "    order_date BETWEEN '20170115' AND '20170117\n",
    "`"
   ]
  },
  {
   "cell_type": "markdown",
   "id": "d626bd81",
   "metadata": {},
   "source": [
    "## Filtering - Like"
   ]
  },
  {
   "cell_type": "markdown",
   "id": "7abb5785",
   "metadata": {},
   "source": [
    "`\n",
    "WHERE\n",
    "    last_name LIKE 'z%'\n",
    "`"
   ]
  },
  {
   "cell_type": "markdown",
   "id": "e93ffdad",
   "metadata": {},
   "source": [
    "`\n",
    "WHERE\n",
    "    last_name LIKE '%er'\n",
    "`"
   ]
  },
  {
   "cell_type": "markdown",
   "id": "44b41a85",
   "metadata": {},
   "source": [
    "`\n",
    "WHERE\n",
    "    last_name LIKE 't%s'\n",
    "`"
   ]
  },
  {
   "cell_type": "markdown",
   "id": "11711cd3",
   "metadata": {},
   "source": [
    "`\n",
    "WHERE\n",
    "    last_name LIKE '_u%'\n",
    "`"
   ]
  },
  {
   "cell_type": "markdown",
   "id": "86d1a8a2",
   "metadata": {},
   "source": [
    "Wilcard [] means either of these"
   ]
  },
  {
   "cell_type": "markdown",
   "id": "f748d1bc",
   "metadata": {},
   "source": [
    "`\n",
    "WHERE\n",
    "    last_name LIKE '[ZY]%'\n",
    "`"
   ]
  },
  {
   "cell_type": "markdown",
   "id": "f5a018c8",
   "metadata": {},
   "source": [
    "[^A-X] means not starting with this range"
   ]
  },
  {
   "cell_type": "markdown",
   "id": "305549af",
   "metadata": {},
   "source": [
    "`\n",
    "WHERE\n",
    "    last_name LIKE '[^A-X]%'\n",
    "`"
   ]
  },
  {
   "cell_type": "markdown",
   "id": "ff4d760e",
   "metadata": {},
   "source": [
    "Escape clause allows us to use wilcard characters like '%'"
   ]
  },
  {
   "cell_type": "markdown",
   "id": "22de2028",
   "metadata": {},
   "source": [
    "`\n",
    "WHERE \n",
    "    comment LIKE '%30!%%' ESCAPE '!';\n",
    "`"
   ]
  },
  {
   "cell_type": "markdown",
   "id": "9edfc44a",
   "metadata": {},
   "source": [
    "## Filtering - Column Aliases"
   ]
  },
  {
   "cell_type": "markdown",
   "id": "f7907216",
   "metadata": {},
   "source": [
    "`\n",
    "SELECT\n",
    "    first_name + ' ' + last_name AS full_name\n",
    "`"
   ]
  },
  {
   "cell_type": "markdown",
   "id": "4f732865",
   "metadata": {},
   "source": [
    "Use ' ' for spaces in alias"
   ]
  },
  {
   "cell_type": "markdown",
   "id": "91e4e308",
   "metadata": {},
   "source": [
    "`\n",
    "SELECT\n",
    "    first_name + ' ' + last_name AS 'Full Name'\n",
    "`"
   ]
  },
  {
   "cell_type": "markdown",
   "id": "503f69f2",
   "metadata": {},
   "source": [
    "Use aliases for joining tables"
   ]
  },
  {
   "cell_type": "markdown",
   "id": "3c03205b",
   "metadata": {},
   "source": [
    "`\n",
    "SELECT\n",
    "    c.customer_id,\n",
    "    first_name,\n",
    "FROM\n",
    "    sales.customers c\n",
    "INNER JOIN sales.orders o ON o.customer_id = c.customer_id\n",
    "`"
   ]
  },
  {
   "cell_type": "markdown",
   "id": "3a69ddad",
   "metadata": {},
   "source": [
    "## Joining Tables - Inner Join"
   ]
  },
  {
   "cell_type": "markdown",
   "id": "472c269d",
   "metadata": {},
   "source": [
    "Find all in both tables"
   ]
  },
  {
   "cell_type": "markdown",
   "id": "739c44a9",
   "metadata": {},
   "source": [
    "`\n",
    "SELECT \n",
    "    c.id candidate_id,\n",
    "    c.full_name candidate_name,\n",
    "    e.id employeed_id,\n",
    "    e.full_name employee_name\n",
    "FROM \n",
    "    candidates c\n",
    "    INNER JOIN \n",
    "        employees e\n",
    "        ON c.id = e.id\n",
    "`"
   ]
  },
  {
   "cell_type": "markdown",
   "id": "21dd87c7",
   "metadata": {},
   "source": [
    "Use joins to get information from other tables.\n",
    "\n",
    "Often we want to retrieve a name instead of an id"
   ]
  },
  {
   "cell_type": "markdown",
   "id": "63c7be7e",
   "metadata": {},
   "source": [
    "`\n",
    "SELECT \n",
    "    product_name, \n",
    "    category_name,\n",
    "    list_price\n",
    "FROM \n",
    "    production.products p\n",
    "    INNER JOIN production.categories c\n",
    "        ON p.category_id = c.category_id\n",
    "`"
   ]
  },
  {
   "cell_type": "markdown",
   "id": "c60ee79c",
   "metadata": {},
   "source": [
    "## Joining Tables - Left Join"
   ]
  },
  {
   "cell_type": "markdown",
   "id": "f2b7e69f",
   "metadata": {},
   "source": [
    "Return ALL candidates, not just matching ones in employees table -  NULL will appear if not in employee table"
   ]
  },
  {
   "cell_type": "markdown",
   "id": "e373b8b4",
   "metadata": {},
   "source": [
    "`\n",
    "SELECT  \n",
    "    c.id candidate_id,\n",
    "    c.fullname candidate_name,\n",
    "    e.id employee_id,\n",
    "    e.fullname employee_name\n",
    "FROM \n",
    "    hr.candidates c\n",
    "    LEFT JOIN hr.employees e \n",
    "        ON e.fullname = c.fullname\n",
    "`"
   ]
  },
  {
   "cell_type": "markdown",
   "id": "ec49e760",
   "metadata": {},
   "source": [
    "List all product names with order_id (NULL will appear for any unsold products (products without order_id))"
   ]
  },
  {
   "cell_type": "markdown",
   "id": "9d802cea",
   "metadata": {},
   "source": [
    "`\n",
    "SELECT\n",
    "    product_name,\n",
    "    order_id\n",
    "FROM\n",
    "    production.products p\n",
    "    LEFT JOIN sales.order_items o \n",
    "        ON o.product_id = p.product_id\n",
    "    ORDER BY\n",
    "        order_id;\n",
    "`"
   ]
  },
  {
   "cell_type": "markdown",
   "id": "32a8c745",
   "metadata": {},
   "source": [
    "## Joining Tables - Right Join"
   ]
  },
  {
   "cell_type": "markdown",
   "id": "59ffbb90",
   "metadata": {},
   "source": [
    "Opposite of left join"
   ]
  },
  {
   "cell_type": "markdown",
   "id": "22d3f582",
   "metadata": {},
   "source": [
    "Show all employees in the right column, showing if they appear in the candidates table (or NULL) in the left column."
   ]
  },
  {
   "cell_type": "markdown",
   "id": "b1c7ec46",
   "metadata": {},
   "source": [
    "`\n",
    "SELECT \n",
    "    c.id candidate_id,\n",
    "    c.full_name candidate_name,\n",
    "    e.id employee_id,\n",
    "    e.full_name employee_name\n",
    "FROM \n",
    "    candidates c\n",
    "    RIGHT JOIN employees e\n",
    "        ON c.full_name = e.full_name\n",
    "`"
   ]
  },
  {
   "cell_type": "markdown",
   "id": "41977c02",
   "metadata": {},
   "source": [
    "## Joining Tables - Full Outer Join"
   ]
  },
  {
   "cell_type": "markdown",
   "id": "ab427e75",
   "metadata": {},
   "source": [
    "Mix of left and right joins\n",
    "\n",
    "Will show all canditates from left table, all employees from right and display if they appear in both tables or show NULL if they appear in one but not the other."
   ]
  },
  {
   "cell_type": "markdown",
   "id": "a29dee72",
   "metadata": {},
   "source": [
    "`\n",
    "SELECT  \n",
    "    c.id candidate_id,\n",
    "    c.fullname candidate_name,\n",
    "    e.id employee_id,\n",
    "    e.fullname employee_name\n",
    "FROM \n",
    "    hr.candidates c\n",
    "    FULL JOIN hr.employees e \n",
    "        ON e.fullname = c.fullname;\n",
    "`"
   ]
  },
  {
   "cell_type": "markdown",
   "id": "5e5efb67",
   "metadata": {},
   "source": [
    "RESULTS LIKE THIS:\n",
    "\n",
    "1 John Doe 1 John Doe\n",
    "\n",
    "2 Jane Smith NULL NULL\n",
    "\n",
    "NULL NULL 2 Pete Jones"
   ]
  },
  {
   "cell_type": "markdown",
   "id": "df6b852c",
   "metadata": {},
   "source": [
    "## Joining Tables - Cross Join"
   ]
  },
  {
   "cell_type": "markdown",
   "id": "8a0f950d",
   "metadata": {},
   "source": [
    "Called a CARTESIAN JOIN\n",
    "\n",
    "Will create all possible combinations.\n",
    "\n",
    "Often used as part of a query that will be used with a sub query\n",
    "\n",
    "Store and Product match is a good example - will show all stores and product combinations..."
   ]
  },
  {
   "cell_type": "markdown",
   "id": "049b3fe3",
   "metadata": {},
   "source": [
    "`\n",
    "SELECT\n",
    "    s.store_id,\n",
    "    p.product_id,\n",
    "    ISNULL(sales, 0) sales\n",
    "FROM\n",
    "    sales.stores s\n",
    "CROSS JOIN production.products p\n",
    "    LEFT JOIN (....SUB QUERY...)\n",
    "`"
   ]
  },
  {
   "cell_type": "markdown",
   "id": "ba5c3fae",
   "metadata": {},
   "source": [
    "## Joining Tables - Self Join"
   ]
  },
  {
   "cell_type": "markdown",
   "id": "ad4a43ba",
   "metadata": {},
   "source": [
    "Two versions of same table used (with aliases)\n",
    "\n",
    "Often used for hierarchy queries such as employees and managers in the same table."
   ]
  },
  {
   "cell_type": "markdown",
   "id": "e29e46b3",
   "metadata": {},
   "source": [
    "`\n",
    "SELECT\n",
    "    e.full_name employee,\n",
    "    m.full_name manager\n",
    "FROM \n",
    "    employees e\n",
    "    LEFT JOIN employees m\n",
    "    ON m.employee_id = e.manager_id\n",
    "`"
   ]
  },
  {
   "cell_type": "markdown",
   "id": "dd57429b",
   "metadata": {},
   "source": []
  },
  {
   "cell_type": "markdown",
   "id": "dd41df97",
   "metadata": {},
   "source": []
  },
  {
   "cell_type": "markdown",
   "id": "3666da60",
   "metadata": {},
   "source": []
  },
  {
   "cell_type": "markdown",
   "id": "d7d19258",
   "metadata": {},
   "source": []
  },
  {
   "cell_type": "markdown",
   "id": "0fbf5730",
   "metadata": {},
   "source": []
  },
  {
   "cell_type": "markdown",
   "id": "ed825375",
   "metadata": {},
   "source": []
  },
  {
   "cell_type": "markdown",
   "id": "bbd0920d",
   "metadata": {},
   "source": []
  }
 ],
 "metadata": {
  "kernelspec": {
   "display_name": "Python 3 (ipykernel)",
   "language": "python",
   "name": "python3"
  },
  "language_info": {
   "codemirror_mode": {
    "name": "ipython",
    "version": 3
   },
   "file_extension": ".py",
   "mimetype": "text/x-python",
   "name": "python",
   "nbconvert_exporter": "python",
   "pygments_lexer": "ipython3",
   "version": "3.9.7"
  }
 },
 "nbformat": 4,
 "nbformat_minor": 5
}
