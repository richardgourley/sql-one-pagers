{
 "cells": [
  {
   "cell_type": "markdown",
   "id": "341f0005",
   "metadata": {},
   "source": [
    "# SQL Data Query Language - One Page"
   ]
  },
  {
   "cell_type": "markdown",
   "id": "cb6baf78",
   "metadata": {},
   "source": [
    "This one pager is a reference for all SQL DQL (Data Query Language) commands.\n",
    "\n",
    "Notes aren't added to every single example but notes have been added to what I deem to be lesser used (or lesser understood) concepts such as correlated subqueries.  The notes added try to explain the idea behind them in concise and simple terms.\n",
    "\n",
    "Above all, this is intended to be a quick but comprehensive reference and reminder of all SQL data query language commands.\n",
    "\n",
    "Some examples are my own to help better understanding, many are from online tutorials."
   ]
  },
  {
   "cell_type": "markdown",
   "id": "ca04eed4",
   "metadata": {},
   "source": [
    "**CONTENTS**\n",
    "\n",
    "**1. SQL Query Order**\n",
    "\n",
    "**2. Sorting**\n",
    "\n",
    "**3. Limiting**\n",
    "\n",
    "**3. Filtering**\n",
    "\n",
    "**4. Joining Tables**\n",
    "\n",
    "**5. Grouping**\n",
    "\n",
    "**6. SubQuery**\n",
    "\n",
    "**7. Set Operators**\n",
    "\n",
    "**8. Common Table Expressions**\n",
    "\n",
    "**9. Pivot**\n",
    "\n",
    "**10. Expressions**"
   ]
  },
  {
   "cell_type": "markdown",
   "id": "7eaa1eb9",
   "metadata": {},
   "source": [
    "# SQL Query Order"
   ]
  },
  {
   "cell_type": "markdown",
   "id": "ecadfcac",
   "metadata": {},
   "source": [
    "**SQL queries are evaluated in the following order:**"
   ]
  },
  {
   "cell_type": "markdown",
   "id": "aa169ef9",
   "metadata": {},
   "source": [
    "- FROM - choose and join tables\n",
    "- WHERE - filters the data\n",
    "- GROUP BY - aggregates the data\n",
    "- HAVING - filters the aggregated data\n",
    "- SELECT - returns the final data\n",
    "- ORDER BY - sorts the final data\n",
    "- LIMIT - limits sorted data to a row count"
   ]
  },
  {
   "cell_type": "markdown",
   "id": "a8845e88",
   "metadata": {},
   "source": [
    "# Sorting - Order By"
   ]
  },
  {
   "cell_type": "markdown",
   "id": "a0e6124e",
   "metadata": {},
   "source": [
    "`\n",
    "SELECT \n",
    "    first_name\n",
    "FROM\n",
    "    sales.customers\n",
    "ORDER BY \n",
    "    first_name DESC\n",
    "`"
   ]
  },
  {
   "cell_type": "markdown",
   "id": "9b20cd4d",
   "metadata": {},
   "source": [
    "ORDER BY multiple cols - city first, then first name eg. 'New York, Brian', 'New York, Jane'"
   ]
  },
  {
   "cell_type": "markdown",
   "id": "215f30a0",
   "metadata": {},
   "source": [
    "`\n",
    "ORDER BY \n",
    "    city,\n",
    "    first_name\n",
    "`"
   ]
  },
  {
   "cell_type": "markdown",
   "id": "d627fbca",
   "metadata": {},
   "source": [
    "ORDER BY expression"
   ]
  },
  {
   "cell_type": "markdown",
   "id": "94bf88e9",
   "metadata": {},
   "source": [
    "`\n",
    "SELECT\n",
    "    first_name\n",
    "FROM\n",
    "    sales.customers\n",
    "ORDER BY \n",
    "    LEN(first_name) DESC\n",
    "`"
   ]
  },
  {
   "cell_type": "markdown",
   "id": "7099c966",
   "metadata": {},
   "source": [
    "# Limiting - Offset and Fetch"
   ]
  },
  {
   "cell_type": "markdown",
   "id": "900176a6",
   "metadata": {},
   "source": [
    "OFFSET - means skip the first n rows\n",
    "\n",
    "FETCH FIRST - means how many rows to fetch\n",
    "\n",
    "- Often ORDER BY is used first, to put the data in it's correct order before limiting results."
   ]
  },
  {
   "cell_type": "markdown",
   "id": "172df5be",
   "metadata": {},
   "source": [
    "`SELECT \n",
    "    team_name,\n",
    "    points,\n",
    "FROM \n",
    "    prem_table\n",
    "ORDER BY \n",
    "    points DESC\n",
    "OFFSET 4 ROWS\n",
    "FETCH FIRST 13 ROWS`"
   ]
  },
  {
   "cell_type": "markdown",
   "id": "a78dc7f2",
   "metadata": {},
   "source": [
    "# Limiting - Select Top"
   ]
  },
  {
   "cell_type": "markdown",
   "id": "38c093a5",
   "metadata": {},
   "source": [
    "Get the Top n, top n%, or top n with ties (means if tied for n number, show all tied results!)\n",
    "\n",
    "Start the query with these options and continue with a normal query"
   ]
  },
  {
   "cell_type": "markdown",
   "id": "094e576c",
   "metadata": {},
   "source": [
    "`\n",
    "SELECT TOP 10\n",
    "SELECT TOP 1 PERCENT\n",
    "SELECT TOP 3 WITH TIES\n",
    "`"
   ]
  },
  {
   "cell_type": "markdown",
   "id": "e683b4ea",
   "metadata": {},
   "source": [
    "# Filtering - Distinct"
   ]
  },
  {
   "cell_type": "markdown",
   "id": "484d7ecb",
   "metadata": {},
   "source": [
    "`\n",
    "SELECT DISTINCT \n",
    "    country\n",
    "FROM \n",
    "    sales.customers\n",
    "`"
   ]
  },
  {
   "cell_type": "markdown",
   "id": "5c4f5ed3",
   "metadata": {},
   "source": [
    "Use SELECT DISTINCT with multiple cols"
   ]
  },
  {
   "cell_type": "markdown",
   "id": "a626a8b8",
   "metadata": {},
   "source": [
    "`\n",
    "SELECT DISTINCT\n",
    "    city, state\n",
    "FROM\n",
    "    sales.customers\n",
    "`"
   ]
  },
  {
   "cell_type": "markdown",
   "id": "eadc9584",
   "metadata": {},
   "source": [
    "# Filtering - And Or"
   ]
  },
  {
   "cell_type": "markdown",
   "id": "45c1f912",
   "metadata": {},
   "source": [
    "- AND is always evaluated first\n",
    "- This query acts as: get brand_id = 1 OR (brand_id = 2 AND list_price > 40)"
   ]
  },
  {
   "cell_type": "markdown",
   "id": "774f6940",
   "metadata": {},
   "source": [
    "`\n",
    "SELECT \n",
    "    product_name,\n",
    "    brand_id,\n",
    "    list_price\n",
    "FROM \n",
    "    production.products\n",
    "WHERE\n",
    "    brand_id = 1\n",
    "OR\n",
    "    brand_id = 2\n",
    "AND \n",
    "    list_price > 40\n",
    "`"
   ]
  },
  {
   "cell_type": "markdown",
   "id": "d5a1e018",
   "metadata": {},
   "source": [
    "USE parenthesis to make sure you retrieve correct data"
   ]
  },
  {
   "cell_type": "markdown",
   "id": "1225510a",
   "metadata": {},
   "source": [
    "`\n",
    "WHERE\n",
    "    (brand_id 1 OR brand_id = 2)\n",
    "AND\n",
    "    list_price > 40\n",
    "`"
   ]
  },
  {
   "cell_type": "markdown",
   "id": "4665e59f",
   "metadata": {},
   "source": [
    "**Use the IN operator** - equivalent to many OR statements"
   ]
  },
  {
   "cell_type": "markdown",
   "id": "6b6dc515",
   "metadata": {},
   "source": [
    "`\n",
    "SELECT \n",
    "    product_id,\n",
    "    brand_id\n",
    "FROM\n",
    "    products\n",
    "WHERE\n",
    "    brand_id IN(1,2,3,4)\n",
    "`"
   ]
  },
  {
   "cell_type": "markdown",
   "id": "8463b0ee",
   "metadata": {},
   "source": [
    "# Filtering - Between/ Not Between"
   ]
  },
  {
   "cell_type": "markdown",
   "id": "01380893",
   "metadata": {},
   "source": [
    "`\n",
    "SELECT\n",
    "    product_id,\n",
    "    product_name,\n",
    "    list_price\n",
    "FROM\n",
    "    production.products\n",
    "WHERE\n",
    "    list_price NOT BETWEEN 149.99 AND 199.99\n",
    "`"
   ]
  },
  {
   "cell_type": "markdown",
   "id": "bd5f3edc",
   "metadata": {},
   "source": [
    "Between dates example\n",
    "\n",
    "Use a string literal 'YYYYMMDD'"
   ]
  },
  {
   "cell_type": "markdown",
   "id": "553d37ee",
   "metadata": {},
   "source": [
    "`\n",
    "WHERE\n",
    "    order_date BETWEEN '20170115' AND '20170117\n",
    "`"
   ]
  },
  {
   "cell_type": "markdown",
   "id": "cce74b1f",
   "metadata": {},
   "source": [
    "# Filtering - Like"
   ]
  },
  {
   "cell_type": "markdown",
   "id": "dea0aae0",
   "metadata": {},
   "source": [
    "`\n",
    "WHERE\n",
    "    last_name LIKE 'z%'\n",
    "`"
   ]
  },
  {
   "cell_type": "markdown",
   "id": "6c08cb11",
   "metadata": {},
   "source": [
    "`\n",
    "WHERE\n",
    "    last_name LIKE '%er'\n",
    "`"
   ]
  },
  {
   "cell_type": "markdown",
   "id": "f03fb980",
   "metadata": {},
   "source": [
    "`\n",
    "WHERE\n",
    "    last_name LIKE 't%s'\n",
    "`"
   ]
  },
  {
   "cell_type": "markdown",
   "id": "411ed42a",
   "metadata": {},
   "source": [
    "`\n",
    "WHERE\n",
    "    last_name LIKE '_u%'\n",
    "`"
   ]
  },
  {
   "cell_type": "markdown",
   "id": "6aab2a79",
   "metadata": {},
   "source": [
    "Wilcard [] means either of these"
   ]
  },
  {
   "cell_type": "markdown",
   "id": "0726856d",
   "metadata": {},
   "source": [
    "`\n",
    "WHERE\n",
    "    last_name LIKE '[ZY]%'\n",
    "`"
   ]
  },
  {
   "cell_type": "markdown",
   "id": "1c1cc4df",
   "metadata": {},
   "source": [
    "[^A-X] means not starting with this range"
   ]
  },
  {
   "cell_type": "markdown",
   "id": "954f61d9",
   "metadata": {},
   "source": [
    "`\n",
    "WHERE\n",
    "    last_name LIKE '[^A-X]%'\n",
    "`"
   ]
  },
  {
   "cell_type": "markdown",
   "id": "8c25cfd8",
   "metadata": {},
   "source": [
    "Escape clause allows us to use wilcard characters like '%'"
   ]
  },
  {
   "cell_type": "markdown",
   "id": "711f56d2",
   "metadata": {},
   "source": [
    "`\n",
    "WHERE \n",
    "    comment LIKE '%30!%%' ESCAPE '!';\n",
    "`"
   ]
  },
  {
   "cell_type": "markdown",
   "id": "66c2fe8a",
   "metadata": {},
   "source": [
    "# Filtering - Column Aliases"
   ]
  },
  {
   "cell_type": "markdown",
   "id": "09ef59bc",
   "metadata": {},
   "source": [
    "`\n",
    "SELECT\n",
    "    first_name + ' ' + last_name AS full_name\n",
    "`"
   ]
  },
  {
   "cell_type": "markdown",
   "id": "515cd8bc",
   "metadata": {},
   "source": [
    "Use ' ' for spaces in alias"
   ]
  },
  {
   "cell_type": "markdown",
   "id": "337213e3",
   "metadata": {},
   "source": [
    "`\n",
    "SELECT\n",
    "    first_name + ' ' + last_name AS 'Full Name'\n",
    "`"
   ]
  },
  {
   "cell_type": "markdown",
   "id": "4cda0c52",
   "metadata": {},
   "source": [
    "Use aliases for joining tables"
   ]
  },
  {
   "cell_type": "markdown",
   "id": "91867141",
   "metadata": {},
   "source": [
    "`\n",
    "SELECT\n",
    "    c.customer_id,\n",
    "    first_name,\n",
    "FROM\n",
    "    sales.customers c\n",
    "INNER JOIN sales.orders o ON o.customer_id = c.customer_id\n",
    "`"
   ]
  },
  {
   "cell_type": "markdown",
   "id": "69cc53fd",
   "metadata": {},
   "source": [
    "# Joining Tables - Inner Join"
   ]
  },
  {
   "cell_type": "markdown",
   "id": "23453240",
   "metadata": {},
   "source": [
    "Find all in both tables"
   ]
  },
  {
   "cell_type": "markdown",
   "id": "b89829ff",
   "metadata": {},
   "source": [
    "`\n",
    "SELECT \n",
    "    c.id candidate_id,\n",
    "    c.full_name candidate_name,\n",
    "    e.id employeed_id,\n",
    "    e.full_name employee_name\n",
    "FROM \n",
    "    candidates c\n",
    "    INNER JOIN \n",
    "        employees e\n",
    "        ON c.id = e.id\n",
    "`"
   ]
  },
  {
   "cell_type": "markdown",
   "id": "631dc5e3",
   "metadata": {},
   "source": [
    "Use joins to get information from other tables.\n",
    "\n",
    "Often we want to retrieve a name instead of an id"
   ]
  },
  {
   "cell_type": "markdown",
   "id": "ecce7322",
   "metadata": {},
   "source": [
    "`\n",
    "SELECT \n",
    "    product_name, \n",
    "    category_name,\n",
    "    list_price\n",
    "FROM \n",
    "    production.products p\n",
    "    INNER JOIN production.categories c\n",
    "        ON p.category_id = c.category_id\n",
    "`"
   ]
  },
  {
   "cell_type": "markdown",
   "id": "21129461",
   "metadata": {},
   "source": [
    "# Joining Tables - Left Join"
   ]
  },
  {
   "cell_type": "markdown",
   "id": "da6c719a",
   "metadata": {},
   "source": [
    "Return ALL candidates, not just matching ones in employees table -  NULL will appear if not in employee table"
   ]
  },
  {
   "cell_type": "markdown",
   "id": "5e940e3d",
   "metadata": {},
   "source": [
    "`\n",
    "SELECT  \n",
    "    c.id candidate_id,\n",
    "    c.fullname candidate_name,\n",
    "    e.id employee_id,\n",
    "    e.fullname employee_name\n",
    "FROM \n",
    "    hr.candidates c\n",
    "    LEFT JOIN hr.employees e \n",
    "        ON e.fullname = c.fullname\n",
    "`"
   ]
  },
  {
   "cell_type": "markdown",
   "id": "e1806f45",
   "metadata": {},
   "source": [
    "List all product names with order_id (NULL will appear for any unsold products (products without order_id))"
   ]
  },
  {
   "cell_type": "markdown",
   "id": "5061fcad",
   "metadata": {},
   "source": [
    "`\n",
    "SELECT\n",
    "    product_name,\n",
    "    order_id\n",
    "FROM\n",
    "    production.products p\n",
    "    LEFT JOIN sales.order_items o \n",
    "        ON o.product_id = p.product_id\n",
    "    ORDER BY\n",
    "        order_id;\n",
    "`"
   ]
  },
  {
   "cell_type": "markdown",
   "id": "5ddb2f7c",
   "metadata": {},
   "source": [
    "# Joining Tables - Right Join"
   ]
  },
  {
   "cell_type": "markdown",
   "id": "a0079d49",
   "metadata": {},
   "source": [
    "Opposite of left join"
   ]
  },
  {
   "cell_type": "markdown",
   "id": "33c36891",
   "metadata": {},
   "source": [
    "Show all employees in the right column, showing if they appear in the candidates table (or NULL) in the left column."
   ]
  },
  {
   "cell_type": "markdown",
   "id": "66ec710a",
   "metadata": {},
   "source": [
    "`\n",
    "SELECT \n",
    "    c.id candidate_id,\n",
    "    c.full_name candidate_name,\n",
    "    e.id employee_id,\n",
    "    e.full_name employee_name\n",
    "FROM \n",
    "    candidates c\n",
    "    RIGHT JOIN employees e\n",
    "        ON c.full_name = e.full_name\n",
    "`"
   ]
  },
  {
   "cell_type": "markdown",
   "id": "17efbc47",
   "metadata": {},
   "source": [
    "# Joining Tables - Full Outer Join"
   ]
  },
  {
   "cell_type": "markdown",
   "id": "93118854",
   "metadata": {},
   "source": [
    "Mix of left and right joins\n",
    "\n",
    "Will show all canditates from left table, all employees from right and display if they appear in both tables or show NULL if they appear in one but not the other."
   ]
  },
  {
   "cell_type": "markdown",
   "id": "2d331e71",
   "metadata": {},
   "source": [
    "`\n",
    "SELECT  \n",
    "    c.id candidate_id,\n",
    "    c.fullname candidate_name,\n",
    "    e.id employee_id,\n",
    "    e.fullname employee_name\n",
    "FROM \n",
    "    hr.candidates c\n",
    "    FULL JOIN hr.employees e \n",
    "        ON e.fullname = c.fullname;\n",
    "`"
   ]
  },
  {
   "cell_type": "markdown",
   "id": "f37a9221",
   "metadata": {},
   "source": [
    "RESULTS LIKE THIS:\n",
    "\n",
    "1 John Doe 1 John Doe\n",
    "\n",
    "2 Jane Smith NULL NULL\n",
    "\n",
    "NULL NULL 2 Pete Jones"
   ]
  },
  {
   "cell_type": "markdown",
   "id": "f9cced89",
   "metadata": {},
   "source": [
    "# Joining Tables - Cross Join"
   ]
  },
  {
   "cell_type": "markdown",
   "id": "ce8155b5",
   "metadata": {},
   "source": [
    "Called a CARTESIAN JOIN\n",
    "\n",
    "Will create all possible combinations.\n",
    "\n",
    "Often used as part of a query that will be used with a sub query\n",
    "\n",
    "Store and Product match is a good example - will show all stores and product combinations..."
   ]
  },
  {
   "cell_type": "markdown",
   "id": "c1bfaed0",
   "metadata": {},
   "source": [
    "`\n",
    "SELECT\n",
    "    s.store_id,\n",
    "    p.product_id,\n",
    "    ISNULL(sales, 0) sales\n",
    "FROM\n",
    "    sales.stores s\n",
    "CROSS JOIN production.products p\n",
    "    LEFT JOIN (....SUB QUERY...)\n",
    "`"
   ]
  },
  {
   "cell_type": "markdown",
   "id": "ec942c87",
   "metadata": {},
   "source": [
    "# Joining Tables - Self Join"
   ]
  },
  {
   "cell_type": "markdown",
   "id": "5a1d1b8d",
   "metadata": {},
   "source": [
    "Two versions of same table used (with aliases)\n",
    "\n",
    "Often used for hierarchy queries such as employees and managers in the same table."
   ]
  },
  {
   "cell_type": "markdown",
   "id": "641fcc1b",
   "metadata": {},
   "source": [
    "`\n",
    "SELECT\n",
    "    e.full_name employee,\n",
    "    m.full_name manager\n",
    "FROM \n",
    "    employees e\n",
    "    LEFT JOIN employees m\n",
    "    ON m.employee_id = e.manager_id\n",
    "`"
   ]
  },
  {
   "cell_type": "markdown",
   "id": "8d74122b",
   "metadata": {},
   "source": [
    "# Grouping - Group By"
   ]
  },
  {
   "cell_type": "markdown",
   "id": "511bed3b",
   "metadata": {},
   "source": [
    " COUNT num of orders per year per customer, eg. 1,2016,2...1,2017,1....2,2017,2...2,2018,1 etc."
   ]
  },
  {
   "cell_type": "markdown",
   "id": "7e294b13",
   "metadata": {},
   "source": [
    "`\n",
    "SELECT\n",
    "    customer_id,\n",
    "    YEAR (order_date) order_year,\n",
    "    COUNT (order_id) order_placed\n",
    "FROM\n",
    "    sales.orders\n",
    "WHERE\n",
    "    customer_id IN (1, 2)\n",
    "GROUP BY\n",
    "    customer_id,\n",
    "    YEAR (order_date)\n",
    "ORDER BY\n",
    "    customer_id; \n",
    "`"
   ]
  },
  {
   "cell_type": "markdown",
   "id": "6885c9d7",
   "metadata": {},
   "source": [
    "COUNT customers in every city"
   ]
  },
  {
   "cell_type": "markdown",
   "id": "569c742f",
   "metadata": {},
   "source": [
    "`\n",
    "SELECT\n",
    "    city,\n",
    "    COUNT (customer_id) customer_count\n",
    "FROM\n",
    "    sales.customers\n",
    "GROUP BY\n",
    "    city\n",
    "ORDER BY\n",
    "    city;\n",
    "`"
   ]
  },
  {
   "cell_type": "markdown",
   "id": "ac76eb2a",
   "metadata": {},
   "source": [
    "Get AVG list price (join used to retrieve brand name)"
   ]
  },
  {
   "cell_type": "markdown",
   "id": "6baeccba",
   "metadata": {},
   "source": [
    "`\n",
    "SELECT\n",
    "    brand_name,\n",
    "    AVG (list_price) avg_price\n",
    "FROM\n",
    "    production.products p\n",
    "INNER JOIN production.brands b ON b.brand_id = p.brand_id\n",
    "WHERE\n",
    "    model_year = 2018\n",
    "GROUP BY\n",
    "    brand_name\n",
    "ORDER BY\n",
    "    brand_name;\n",
    "`"
   ]
  },
  {
   "cell_type": "markdown",
   "id": "0a51c473",
   "metadata": {},
   "source": [
    "Get net value of every order using SUM()"
   ]
  },
  {
   "cell_type": "markdown",
   "id": "a5ab486d",
   "metadata": {},
   "source": [
    "`\n",
    "SELECT\n",
    "    order_id,\n",
    "    SUM (\n",
    "        quantity * list_price * (1 - discount)\n",
    "    ) net_value\n",
    "FROM\n",
    "    sales.order_items\n",
    "GROUP BY\n",
    "    order_id;\n",
    "`"
   ]
  },
  {
   "cell_type": "markdown",
   "id": "93fb50e2",
   "metadata": {},
   "source": [
    "# Grouping - Having"
   ]
  },
  {
   "cell_type": "markdown",
   "id": "e6868403",
   "metadata": {},
   "source": [
    "HAVING is similar to WHERE clause, often used to filter GROUP BY\n",
    "\n",
    "NOTE - HAVING is evaluated later in the query, so calculations not column aliases are used.\n"
   ]
  },
  {
   "cell_type": "markdown",
   "id": "c0d9e479",
   "metadata": {},
   "source": [
    "`\n",
    "SELECT \n",
    "    salesperson_name,\n",
    "    SUM(sales) sales_total\n",
    "FROM \n",
    "    sales\n",
    "GROUP BY \n",
    "    salesperson_name\n",
    "HAVING \n",
    "    SUM(sales) < 2000\n",
    "`"
   ]
  },
  {
   "cell_type": "markdown",
   "id": "dd38ba66",
   "metadata": {},
   "source": [
    "`\n",
    "SELECT\n",
    "    category_id,\n",
    "    MAX (list_price) max_list_price,\n",
    "    MIN (list_price) min_list_price\n",
    "FROM\n",
    "    production.products\n",
    "GROUP BY\n",
    "    category_id\n",
    "HAVING\n",
    "    MAX (list_price) > 4000 OR MIN (list_price) < 500;\n",
    "`"
   ]
  },
  {
   "cell_type": "markdown",
   "id": "b01a32aa",
   "metadata": {},
   "source": [
    "`\n",
    "SELECT\n",
    "    category_id,\n",
    "    AVG (list_price) avg_list_price\n",
    "FROM\n",
    "    production.products\n",
    "GROUP BY\n",
    "    category_id\n",
    "HAVING\n",
    "    AVG (list_price) BETWEEN 500 AND 1000;\n",
    "`"
   ]
  },
  {
   "cell_type": "markdown",
   "id": "61221035",
   "metadata": {},
   "source": [
    "# Grouping - Grouping Sets"
   ]
  },
  {
   "cell_type": "markdown",
   "id": "b6ed2d5f",
   "metadata": {},
   "source": [
    "Without having to perform lengthy UNION statements\n",
    "\n",
    "GROUPING SETS allow us to define multiple group by queries within the same query."
   ]
  },
  {
   "cell_type": "markdown",
   "id": "56deb242",
   "metadata": {},
   "source": [
    "`\n",
    "SELECT\n",
    "\tbrand,\n",
    "\tcategory,\n",
    "\tSUM (sales) sales\n",
    "FROM\n",
    "\tsales.sales_summary\n",
    "GROUP BY\n",
    "\tGROUPING SETS (\n",
    "\t\t(brand, category),\n",
    "\t\t(brand),\n",
    "\t\t(category),\n",
    "\t\t()\n",
    "\t)\n",
    "ORDER BY\n",
    "\tbrand,\n",
    "\tcategory;\n",
    "`"
   ]
  },
  {
   "cell_type": "markdown",
   "id": "c9e4dcaf",
   "metadata": {},
   "source": [
    "The result from the above query would return aggregated results for both brand and category, only brand results, only category results and neither brand or category results (total sales):\n",
    "\n",
    "**Brand Category Sales**\n",
    "\n",
    "NULL NULL 20000\n",
    "\n",
    "NULL Bikes 10000\n",
    "\n",
    "BrandA NULL 5000\n",
    "\n",
    "BrandA Bikes 2000 \n"
   ]
  },
  {
   "cell_type": "markdown",
   "id": "1c7c50fc",
   "metadata": {},
   "source": [
    "# Grouping - Cube"
   ]
  },
  {
   "cell_type": "markdown",
   "id": "bea3ad91",
   "metadata": {},
   "source": [
    "CUBE is a perfect follow on the GROUPING SETS () function\n",
    "\n",
    "CUBE creates all possible grouping sets  from given columns\n",
    "\n",
    "Ideal if you have more than 2 columns --- combos from 3 cols is large using GROUPING SET()..."
   ]
  },
  {
   "cell_type": "markdown",
   "id": "bd785815",
   "metadata": {},
   "source": [
    "`\n",
    "SELECT\n",
    "    d1,\n",
    "    d2,\n",
    "    d3,\n",
    "    aggregate_function (c4)\n",
    "FROM\n",
    "    table_name\n",
    "GROUP BY\n",
    "    CUBE (d1, d2, d3);  \n",
    "`"
   ]
  },
  {
   "cell_type": "markdown",
   "id": "743fcf74",
   "metadata": {},
   "source": [
    "A partial cube is used to group by brand first, then group by category AND then by NULL showing all results.\n",
    "\n",
    "**RESULTS:**\n",
    "\n",
    "brand + category \n",
    "\n",
    "brand + NULL (total brand sales)"
   ]
  },
  {
   "cell_type": "markdown",
   "id": "eb72f184",
   "metadata": {},
   "source": [
    "`\n",
    "SELECT\n",
    "    brand,\n",
    "    category,\n",
    "    SUM (sales) sales\n",
    "FROM\n",
    "    sales.sales_summary\n",
    "GROUP BY\n",
    "    brand,\n",
    "    CUBE(category);\n",
    "`"
   ]
  },
  {
   "cell_type": "markdown",
   "id": "479a749d",
   "metadata": {},
   "source": [
    "# Grouping - Roll Up"
   ]
  },
  {
   "cell_type": "markdown",
   "id": "ce471ada",
   "metadata": {},
   "source": [
    "Subset of GROUP BY - assumes hierarchy - creates less sets than CUBE\n",
    "\n",
    "Often used in accounting totals, such as totals for year, month, quarter\n",
    "\n",
    "ROLLUP(d1,d2,d3) produces:\n",
    "\n",
    "(d1, d2, d3)\n",
    "(d1, d2)\n",
    "(d1)\n",
    "()"
   ]
  },
  {
   "cell_type": "markdown",
   "id": "c602b969",
   "metadata": {},
   "source": [
    "`\n",
    "SELECT\n",
    "    brand,\n",
    "    category,\n",
    "    SUM (sales) sales\n",
    "FROM\n",
    "    sales.sales_summary\n",
    "GROUP BY\n",
    "    ROLLUP(brand, category);\n",
    "`"
   ]
  },
  {
   "cell_type": "markdown",
   "id": "8ba17a31",
   "metadata": {},
   "source": [
    "The above query returns:\n",
    "\n",
    "brand + category\n",
    "\n",
    "brand + NULL ( brand total)\n",
    "\n",
    "NULL + NULL (overall total)\n",
    "\n",
    "**RESULTS:** \n",
    "\n",
    "BrandA CategoryA 2000\n",
    "\n",
    "BrandA NULL 4000\n",
    "\n",
    "NULL NULL 6000\n"
   ]
  },
  {
   "cell_type": "markdown",
   "id": "fe0caefb",
   "metadata": {},
   "source": [
    "`\n",
    "SELECT\n",
    "    category,\n",
    "    brand,\n",
    "    SUM (sales) sales\n",
    "FROM\n",
    "    sales.sales_summary\n",
    "GROUP BY\n",
    "    ROLLUP (category, brand)\n",
    "`"
   ]
  },
  {
   "cell_type": "markdown",
   "id": "3179a387",
   "metadata": {},
   "source": [
    "The above produces the following results:\n",
    "    \n",
    "category + brand\n",
    "\n",
    "category + NULL (category total)\n",
    "\n",
    "NULL + NULL (overall total)"
   ]
  },
  {
   "cell_type": "markdown",
   "id": "86894800",
   "metadata": {},
   "source": [
    "`\n",
    "SELECT\n",
    "    brand,\n",
    "    category,\n",
    "    SUM (sales) sales\n",
    "FROM\n",
    "    sales.sales_summary\n",
    "GROUP BY\n",
    "    brand,\n",
    "    ROLLUP (category);\n",
    "`"
   ]
  },
  {
   "cell_type": "markdown",
   "id": "22f281ee",
   "metadata": {},
   "source": [
    "The above is a 'partial' ROLLUP and will only return:\n",
    "\n",
    "brand + category\n",
    "\n",
    "brand + NULL (brand total sales)"
   ]
  },
  {
   "cell_type": "markdown",
   "id": "ab955be9",
   "metadata": {},
   "source": [
    "# SubQuery - Overview"
   ]
  },
  {
   "cell_type": "markdown",
   "id": "91773836",
   "metadata": {},
   "source": [
    "A subquery is evaluated first.\n",
    "\n",
    "In this example, the subquery obtaining all customer_id of customers in New York is evaluated and returned first\n",
    "..."
   ]
  },
  {
   "cell_type": "markdown",
   "id": "e9164766",
   "metadata": {},
   "source": [
    "`\n",
    "SELECT\n",
    "    order_id,\n",
    "    order_date,\n",
    "    customer_id\n",
    "FROM\n",
    "    sales.orders\n",
    "WHERE\n",
    "    customer_id IN (\n",
    "        SELECT\n",
    "            customer_id\n",
    "        FROM\n",
    "            sales.customers\n",
    "        WHERE\n",
    "            city = 'New York'\n",
    "    )\n",
    "ORDER BY\n",
    "    order_date DESC;\n",
    "`"
   ]
  },
  {
   "cell_type": "markdown",
   "id": "11dc815a",
   "metadata": {},
   "source": [
    "A subquery can be used as a column expression where a single result is returned:"
   ]
  },
  {
   "cell_type": "markdown",
   "id": "c2bc1ba2",
   "metadata": {},
   "source": [
    "`\n",
    "SELECT\n",
    "    order_id,\n",
    "    order_date,\n",
    "    (\n",
    "        SELECT\n",
    "            MAX (list_price)\n",
    "        FROM\n",
    "            sales.order_items i\n",
    "        WHERE\n",
    "            i.order_id = o.order_id\n",
    "    ) AS max_list_price\n",
    "FROM\n",
    "    sales.orders o\n",
    "ORDER BY order_date desc;\n",
    "`"
   ]
  },
  {
   "cell_type": "markdown",
   "id": "8fa4c675",
   "metadata": {},
   "source": [
    "Subquery can be used with:\n",
    "\n",
    "IN\n",
    "\n",
    "ANY\n",
    "\n",
    "ALL\n",
    "\n",
    "EXISTS/ NOT EXISTS\n",
    "\n",
    "FROM"
   ]
  },
  {
   "cell_type": "markdown",
   "id": "7628a729",
   "metadata": {},
   "source": [
    "# SubQuery - Correlated SubQuery"
   ]
  },
  {
   "cell_type": "markdown",
   "id": "87aa586e",
   "metadata": {},
   "source": [
    "A correlated subquery relies on the outer table.  A correlated subquery is also called a repeating subquery.\n",
    "\n",
    "A correlated subquery is executed repeatedly, asessed each time by each outer query row."
   ]
  },
  {
   "cell_type": "markdown",
   "id": "3165502c",
   "metadata": {},
   "source": [
    "**This query finds products whose list price is equal to the highest list price of products in the same category:**"
   ]
  },
  {
   "cell_type": "markdown",
   "id": "aa726bad",
   "metadata": {},
   "source": [
    "1. The subquery gets the category_id of the PRODUCT (SUBQUERY WHERE clause.) \n",
    "\n",
    "2. The subquery then finds the MAX list_price for that category.\n",
    "\n",
    "3. The product in the outer query then asesses if its' list_price matches the MAX list_price for its' category_id or not."
   ]
  },
  {
   "cell_type": "markdown",
   "id": "b094f28c",
   "metadata": {},
   "source": [
    "**EXAMPLE SUBQUERY RESULTS:**\n",
    "\n",
    "**Highest list_price in each category**\n",
    "\n",
    "600 (category 1)\n",
    "\n",
    "900 (category 2 etc.)\n",
    "\n",
    "1800 (category 3 etc.)"
   ]
  },
  {
   "cell_type": "markdown",
   "id": "00d2a738",
   "metadata": {},
   "source": [
    "**OUTER QUERY PRODUCT BY PRODUCT PROCESS:**\n",
    "\n",
    "**Blue Mountain Bike, 600, 1**\n",
    "\n",
    "---> Subquery finds max list_price in **category_id = 1** (matched in WHERE clause) -> 600\n",
    "\n",
    "---> Does the list_price of this product match the MAX list_price in category_id = 1 -> **YES - RETURN Blue Mountain Bike** \n",
    "\n",
    "**Red Mountain Bike, 500, 1**\n",
    "\n",
    "---> Subquery finds max list_price in **category_id = 1** (matched in WHERE clause) -> 600\n",
    "\n",
    "---> Does the list_price of this product match the MAX list_price in category_id = 1 -> **NO**\n",
    "\n",
    "**Yellow Mountain Bike, 900, 2**\n",
    "\n",
    "---> Subquery finds max list_price in **category_id = 2** (matched in WHERE clause) -> 900\n",
    "\n",
    "---> Does the list_price of this product match the MAX list_price in category_id = 2 -> **YES - RETURN Yellow Mountain Bike** "
   ]
  },
  {
   "cell_type": "markdown",
   "id": "7d033286",
   "metadata": {},
   "source": [
    "`\n",
    "SELECT\n",
    "    product_name,\n",
    "    list_price,\n",
    "    category_id\n",
    "FROM\n",
    "    production.products p1\n",
    "WHERE\n",
    "    list_price IN (\n",
    "        SELECT\n",
    "            MAX (p2.list_price)\n",
    "        FROM\n",
    "            production.products p2\n",
    "        WHERE\n",
    "            p2.category_id = p1.category_id\n",
    "        GROUP BY\n",
    "            p2.category_id\n",
    "    )\n",
    "ORDER BY\n",
    "    category_id,\n",
    "    product_name;\n",
    "`"
   ]
  },
  {
   "cell_type": "markdown",
   "id": "34aac63b",
   "metadata": {},
   "source": [
    "# SubQuery - Exists"
   ]
  },
  {
   "cell_type": "markdown",
   "id": "21409963",
   "metadata": {},
   "source": [
    "- EXISTS works with correlated subqueries that use the outer query.\n",
    "- In this example, the **WHERE** clause in the EXISTS subquery checks if the outer customer_id is found inside the results from the subquery.\n",
    "- ---> If **TRUE** the row is returned, if **FALSE** the row is not returned.\n",
    "- The subquery has the COUNT() of customer_ids that appear more than twice in the orders table.\n",
    "- Every row from the outer query is checked to see if its customer_id appears in the customer_id column of the subquery."
   ]
  },
  {
   "cell_type": "markdown",
   "id": "a9c4b525",
   "metadata": {},
   "source": [
    "`\n",
    "SELECT\n",
    "    customer_id,\n",
    "    first_name,\n",
    "    last_name\n",
    "FROM\n",
    "    sales.customers c\n",
    "WHERE\n",
    "    EXISTS (\n",
    "        SELECT\n",
    "            COUNT (*)\n",
    "        FROM\n",
    "            sales.orders o\n",
    "        WHERE\n",
    "            customer_id = c.customer_id\n",
    "        GROUP BY\n",
    "            customer_id\n",
    "        HAVING\n",
    "            COUNT (*) > 2\n",
    "    )\n",
    "ORDER BY\n",
    "    first_name,\n",
    "    last_name;\n",
    "`"
   ]
  },
  {
   "cell_type": "markdown",
   "id": "086ff9a8",
   "metadata": {},
   "source": [
    "- Sometimes a simpler IN subquery without a correlated subquery can achieve the same result."
   ]
  },
  {
   "cell_type": "markdown",
   "id": "d8735bf4",
   "metadata": {},
   "source": [
    "`\n",
    "SELECT\n",
    "    *\n",
    "FROM\n",
    "    sales.orders\n",
    "WHERE\n",
    "    customer_id IN (\n",
    "        SELECT\n",
    "            customer_id\n",
    "        FROM\n",
    "            sales.customers\n",
    "        WHERE\n",
    "            city = 'San Jose'\n",
    "    )\n",
    "ORDER BY\n",
    "    customer_id,\n",
    "    order_date;\n",
    "`"
   ]
  },
  {
   "cell_type": "markdown",
   "id": "06f5375d",
   "metadata": {},
   "source": [
    "`\n",
    "SELECT\n",
    "    *\n",
    "FROM\n",
    "    sales.orders o\n",
    "WHERE\n",
    "    EXISTS (\n",
    "        SELECT\n",
    "            customer_id\n",
    "        FROM\n",
    "            sales.customers c\n",
    "        WHERE\n",
    "            o.customer_id = c.customer_id\n",
    "        AND city = 'San Jose'\n",
    "    )\n",
    "ORDER BY\n",
    "    o.customer_id,\n",
    "    order_date;\n",
    "`"
   ]
  },
  {
   "cell_type": "markdown",
   "id": "9d9ed38f",
   "metadata": {},
   "source": [
    "**NOTE:** With JOIN, you actively want to get columns from another table.\n",
    "\n",
    "EXISTS merely checks they exist in another table!"
   ]
  },
  {
   "cell_type": "markdown",
   "id": "a84d3b93",
   "metadata": {},
   "source": [
    "# SubQuery - Any"
   ]
  },
  {
   "cell_type": "markdown",
   "id": "c73285ab",
   "metadata": {},
   "source": [
    "ANY is used with conditional operators = > < to compare the rows of an outer query with a match of an inner query."
   ]
  },
  {
   "cell_type": "markdown",
   "id": "38e2fc71",
   "metadata": {},
   "source": [
    "This query finds ANY product that was sold with more than 2 items in the order."
   ]
  },
  {
   "cell_type": "markdown",
   "id": "c1dcc896",
   "metadata": {},
   "source": [
    "`\n",
    "SELECT\n",
    "    product_name,\n",
    "    list_price\n",
    "FROM\n",
    "    production.products\n",
    "WHERE\n",
    "    product_id = ANY (\n",
    "        SELECT\n",
    "            product_id\n",
    "        FROM\n",
    "            sales.order_items\n",
    "        WHERE\n",
    "            quantity >= 2\n",
    "    )\n",
    "ORDER BY\n",
    "    product_name;\n",
    "`"
   ]
  },
  {
   "cell_type": "markdown",
   "id": "aab6091c",
   "metadata": {},
   "source": [
    "# SubQuery - All"
   ]
  },
  {
   "cell_type": "markdown",
   "id": "516fe338",
   "metadata": {},
   "source": [
    "ALL is used with conditional operators = > < to compare the rows of an outer query with a match of an inner query."
   ]
  },
  {
   "cell_type": "markdown",
   "id": "168f2197",
   "metadata": {},
   "source": [
    "The key here is that ALL conditions must match to return TRUE and include the outer row in the result set."
   ]
  },
  {
   "cell_type": "markdown",
   "id": "2ab9a42e",
   "metadata": {},
   "source": [
    "This query returns all products whose list price is greater than ALL of the average list prices grouped by brand."
   ]
  },
  {
   "cell_type": "markdown",
   "id": "4463abe2",
   "metadata": {},
   "source": [
    "`\n",
    "SELECT\n",
    "    product_name,\n",
    "    list_price\n",
    "FROM\n",
    "    production.products\n",
    "WHERE\n",
    "    list_price > ALL (\n",
    "        SELECT\n",
    "            AVG (list_price) avg_list_price\n",
    "        FROM\n",
    "            production.products\n",
    "        GROUP BY\n",
    "            brand_id\n",
    "    )\n",
    "ORDER BY\n",
    "    list_price;\n",
    "`"
   ]
  },
  {
   "cell_type": "markdown",
   "id": "8347ee3d",
   "metadata": {},
   "source": [
    "# Set Operators - Union, Union All"
   ]
  },
  {
   "cell_type": "markdown",
   "id": "ed82b6e4",
   "metadata": {},
   "source": [
    "- JOIN combines columns, UNION combines rows\n",
    "- UNION removes duplicates, UNION ALL maintaints duplicates."
   ]
  },
  {
   "cell_type": "markdown",
   "id": "e24e35f0",
   "metadata": {},
   "source": [
    "UNION EXAMPLE\n",
    "\n",
    "A, B  UNION A+B\n",
    "\n",
    "1, 2, 1\n",
    "\n",
    "2, 3, 2\n",
    "\n",
    "      3"
   ]
  },
  {
   "cell_type": "markdown",
   "id": "f11dd8a4",
   "metadata": {},
   "source": [
    "- Here we get all staff and customers into one set\n",
    "- Dulicates will be removed here"
   ]
  },
  {
   "cell_type": "markdown",
   "id": "0ea43eed",
   "metadata": {},
   "source": [
    "`\n",
    "SELECT\n",
    "    first_name,\n",
    "    last_name\n",
    "FROM\n",
    "    sales.staffs\n",
    "UNION\n",
    "SELECT\n",
    "    first_name,\n",
    "    last_name\n",
    "FROM\n",
    "    sales.customers;\n",
    "`"
   ]
  },
  {
   "cell_type": "markdown",
   "id": "b8db4f8e",
   "metadata": {},
   "source": [
    "- UNION ALL can be useful when countingstaff and customers in total (if you want to include all staff who are also customers in the figures)"
   ]
  },
  {
   "cell_type": "markdown",
   "id": "4029dc99",
   "metadata": {},
   "source": [
    "`\n",
    "SELECT\n",
    "    first_name,\n",
    "    last_name\n",
    "FROM\n",
    "    sales.staffs\n",
    "UNION ALL\n",
    "SELECT\n",
    "    first_name,\n",
    "    last_name\n",
    "FROM\n",
    "    sales.customers;\n",
    "`"
   ]
  },
  {
   "cell_type": "markdown",
   "id": "e2489b05",
   "metadata": {},
   "source": [
    "# Set Operators - Intersect"
   ]
  },
  {
   "cell_type": "markdown",
   "id": "3bbeb9de",
   "metadata": {},
   "source": [
    "- Both queries must have matching name and type of columns for INTERSECT to work.\n",
    "- INTERSECT finds items that appear in both.\n",
    "- This example finds players who appeared in both player of the year tables."
   ]
  },
  {
   "cell_type": "markdown",
   "id": "70299d98",
   "metadata": {},
   "source": [
    "`\n",
    "SELECT \n",
    "    player_name\n",
    "FROM \n",
    "    player_of_the_year 2021\n",
    "INTERSECT\n",
    "SELECT \n",
    "    player_id\n",
    "FROM \n",
    "    player_of_the_year_2020\n",
    "`"
   ]
  },
  {
   "cell_type": "markdown",
   "id": "5e7d1aaf",
   "metadata": {},
   "source": [
    "# Set Operators - Except"
   ]
  },
  {
   "cell_type": "markdown",
   "id": "e8ea9e1a",
   "metadata": {},
   "source": [
    "- EXCEPT tells you which items from TABLE 1 do not appear in TABLE 2\n",
    "- This query tells us which staff members have not taken the health and safety exam at work."
   ]
  },
  {
   "cell_type": "markdown",
   "id": "f4a4bbb5",
   "metadata": {},
   "source": [
    "`\n",
    "SELECT \n",
    "    first_name,\n",
    "    last_name\n",
    "FROM\n",
    "    employees\n",
    "EXCEPT\n",
    "SELECT\n",
    "    first_name,\n",
    "    last_name\n",
    "FROM \n",
    "    completed_health_and_safety\n",
    "`"
   ]
  },
  {
   "cell_type": "markdown",
   "id": "afcba46f",
   "metadata": {},
   "source": [
    "# Common Table Expressions"
   ]
  },
  {
   "cell_type": "markdown",
   "id": "0be57f5d",
   "metadata": {},
   "source": [
    "CTE -> Temporary result set - can use it with SELECT, INSERT, UPDATE DELETE or MERGE"
   ]
  },
  {
   "cell_type": "markdown",
   "id": "c32cecc3",
   "metadata": {},
   "source": [
    "- More readable than subqueries\n",
    "- Uses WITH keyword\n",
    "- Specifying column names is optional. If not specified, the column name given in the query is used"
   ]
  },
  {
   "cell_type": "markdown",
   "id": "22736353",
   "metadata": {},
   "source": [
    "**NOTE: This is an example for syntax revision, not the most optimal way to retrieve sales totals for each sales person for 2019.**"
   ]
  },
  {
   "cell_type": "markdown",
   "id": "e0b15c09",
   "metadata": {},
   "source": [
    "`\n",
    "WITH sales_person_yearly_total (sales_person_id, sales, year) AS (\n",
    "SELECT\n",
    "    id,\n",
    "    SUM(sales_total)\n",
    "    YEAR(sales_date)\n",
    "FROM \n",
    "    sales\n",
    "GROUP BY \n",
    "    id,\n",
    "    YEAR(sales_date)\n",
    ")\n",
    "SELECT \n",
    "    sales_person_id,\n",
    "    sales,\n",
    "    year\n",
    "FROM \n",
    "    sales_person_yearly_total\n",
    "WHERE\n",
    "    year = 2019\n",
    "`"
   ]
  },
  {
   "cell_type": "markdown",
   "id": "547969bd",
   "metadata": {},
   "source": [
    "- An example of CTE in use would be to calculate the COUNT of a number of rows in the CTE... then use the outer query to calculate an average number of sales."
   ]
  },
  {
   "cell_type": "markdown",
   "id": "aa5a18bf",
   "metadata": {},
   "source": [
    "`\n",
    "WITH cte_sales AS (\n",
    "    SELECT \n",
    "        staff_id, \n",
    "        COUNT(*) order_count  \n",
    "    FROM\n",
    "        sales.orders\n",
    "    WHERE \n",
    "        YEAR(order_date) = 2018\n",
    "    GROUP BY\n",
    "        staff_id\n",
    ")\n",
    "SELECT\n",
    "    AVG(order_count) average_orders_by_staff\n",
    "FROM \n",
    "    cte_sales;\n",
    "`"
   ]
  },
  {
   "cell_type": "markdown",
   "id": "1c22d42a",
   "metadata": {},
   "source": [
    "- You can setup multiple CTEs to be used by an outer query...."
   ]
  },
  {
   "cell_type": "markdown",
   "id": "56d7c39d",
   "metadata": {},
   "source": [
    "`\n",
    "WITH cte_1 AS (\n",
    "SELECT ....\n",
    "),\n",
    "WITH cte_2 AS (\n",
    "SELECT ...\n",
    ")\n",
    "SELECT \n",
    "    col_a,\n",
    "    col_b\n",
    "FROM \n",
    "    cte_1\n",
    "    INNER JOIN cte_2 ON...\n",
    "WHERE...\n",
    "ORDER BY...\n",
    "`"
   ]
  },
  {
   "cell_type": "markdown",
   "id": "ae3a7e23",
   "metadata": {},
   "source": [
    "# Pivot"
   ]
  },
  {
   "cell_type": "markdown",
   "id": "3d0322ab",
   "metadata": {},
   "source": [
    "- Pivoting is similarly used in Pandas and Excel spreadsheets to switch columns to rows, add new initial rows and produce aggregated totals of a cross section such as year (row).. category(col) -> total"
   ]
  },
  {
   "cell_type": "markdown",
   "id": "2a437335",
   "metadata": {},
   "source": [
    "- The initial aim is to show the COUNT(product_id) with each category as a column instead of a row. \n",
    "- We essentially pivot the columns to rows (we will be able to add new rows afterwards)\n",
    "- NOTE - you have to use a CTE or a derived query as used here:\n",
    "\n",
    "**CatA, CatB, CatC, CatD**\n",
    "\n",
    "50,25,60,35"
   ]
  },
  {
   "cell_type": "markdown",
   "id": "1bc098e3",
   "metadata": {},
   "source": [
    "`\n",
    "SELECT * FROM   \n",
    "(\n",
    "    SELECT \n",
    "        category_name, \n",
    "        product_id\n",
    "    FROM \n",
    "        products p\n",
    "        INNER JOIN categories c \n",
    "            ON c.category_id = p.category_id\n",
    ") t \n",
    "PIVOT(\n",
    "    COUNT(product_id) \n",
    "    FOR category_name IN (\n",
    "        [CatA], \n",
    "        [CatB], \n",
    "        [CatC], \n",
    "        [CatD]\n",
    ") AS pivot_table;\n",
    "`"
   ]
  },
  {
   "cell_type": "markdown",
   "id": "69b3cf74",
   "metadata": {},
   "source": [
    "- Any additional column in the base data (model_year in SELECT statement here) will generate ROW GROUPS in the pivot table.\n",
    "\n",
    "**YEAR CatA, CatB, CatC, CatD**\n",
    "\n",
    "2019,30,15,25,10\n",
    "\n",
    "2020,20,10,5,10\n",
    "\n",
    "2021,0,0,30,15"
   ]
  },
  {
   "cell_type": "markdown",
   "id": "97bcfa71",
   "metadata": {},
   "source": [
    "`\n",
    "SELECT * FROM   \n",
    "(\n",
    "    SELECT \n",
    "        category_name, \n",
    "        product_id,\n",
    "        model_year\n",
    "    FROM \n",
    "        products p\n",
    "        INNER JOIN categories c \n",
    "            ON c.category_id = p.category_id\n",
    ") t \n",
    "PIVOT(\n",
    "    COUNT(product_id) \n",
    "    FOR category_name IN (\n",
    "        [CatA], \n",
    "        [CatB], \n",
    "        [CatC], \n",
    "        [CatD]\n",
    ") AS pivot_table;\n",
    "`"
   ]
  },
  {
   "cell_type": "markdown",
   "id": "1a9151b5",
   "metadata": {},
   "source": [
    "# Expressions - Case"
   ]
  },
  {
   "cell_type": "markdown",
   "id": "f5e9bfb6",
   "metadata": {},
   "source": [
    "- CASE adds if, else logic to queries.\n",
    "- For example, you could return the word 'PASS' if a score was over 70, or 'FAIL' if less or equal to 70.\n",
    "- The example here performs SUM() on every row adding 1 or 0 to a 'Pass' or 'Fail' column based on the condition provided with CASE."
   ]
  },
  {
   "cell_type": "markdown",
   "id": "15600b63",
   "metadata": {},
   "source": [
    "`\n",
    "SELECT \n",
    "    SUM(CASE\n",
    "        WHEN test_score > 70\n",
    "        THEN 1\n",
    "        ELSE 0\n",
    "    END) AS 'Pass',\n",
    "    SUM(CASE\n",
    "        WHEN test_score <= 70\n",
    "        THEN 1\n",
    "        ELSE 0\n",
    "    END) AS 'Fail'\n",
    "FROM \n",
    "    test_scores\n",
    "`"
   ]
  },
  {
   "cell_type": "markdown",
   "id": "af4907cf",
   "metadata": {},
   "source": [
    "- You can create new columns with case as well as returning original column totals.\n",
    "- In this example, a new column calld 'outcome' is created with three possible values - 'Pass' 'Possible retake' and 'Fail'"
   ]
  },
  {
   "cell_type": "markdown",
   "id": "c12a5764",
   "metadata": {},
   "source": [
    "`\n",
    "SELECT \n",
    "    name, \n",
    "    score,\n",
    "    CASE\n",
    "        WHEN score > 70\n",
    "            THEN 'Pass'\n",
    "        WHEN score <= 70 AND score >= 60\n",
    "            THEN 'Possible retake'\n",
    "        WHEN score <60 \n",
    "            THEN 'Fail'\n",
    "    END outcome\n",
    "FROM \n",
    "    test_scores\n",
    "`"
   ]
  },
  {
   "cell_type": "markdown",
   "id": "2fcb8133",
   "metadata": {},
   "source": [
    "# Expressions - Coalesce"
   ]
  },
  {
   "cell_type": "markdown",
   "id": "8547efad",
   "metadata": {},
   "source": [
    "- COALESCE helps handle NULL values effectively.\n",
    "- It returns the first value in a list of inputs that is not NULL\n",
    "- If all values are NULL, then it will return NULL"
   ]
  },
  {
   "cell_type": "markdown",
   "id": "10cc583a",
   "metadata": {},
   "source": [
    "- In this example we handle phone numbers that might be null, so we want to return a more user friendly string."
   ]
  },
  {
   "cell_type": "markdown",
   "id": "cd139845",
   "metadata": {},
   "source": [
    "`\n",
    "SELECT \n",
    "    first_name,\n",
    "    last_name,\n",
    "    COALESCE(phone,'N/A')\n",
    "FROM ........\n",
    "`"
   ]
  },
  {
   "cell_type": "markdown",
   "id": "4c7b6502",
   "metadata": {},
   "source": [
    "- This clever use of COALESCE handles a situation where employers have their salary added as either hourly, daily or monthly rate.\n",
    "- The table returns NULL for monthly and daily if the rate is hourly.\n",
    "- The query uses the NULL values where a calculation returns NULL, to go through each to calculate the monthly rate based on the first non null value found."
   ]
  },
  {
   "cell_type": "markdown",
   "id": "4257d1b8",
   "metadata": {},
   "source": [
    "`\n",
    "SELECT\n",
    "    staff_id,\n",
    "    COALESCE(\n",
    "        hourly_rate*22*8, \n",
    "        weekly_rate*4, \n",
    "        monthly_rate\n",
    "    ) monthly_salary\n",
    "FROM\n",
    "    salaries;\n",
    "`"
   ]
  },
  {
   "cell_type": "markdown",
   "id": "2c161e4c",
   "metadata": {},
   "source": [
    "NOTE: - COALESCE and CASE are similar when CASE is used like this....."
   ]
  },
  {
   "cell_type": "markdown",
   "id": "5dd05e83",
   "metadata": {},
   "source": [
    "`\n",
    "COALESCE(e1,e2,e3)\n",
    "......\n",
    "CASE\n",
    "    WHEN e1 IS NOT NULL THEN e1\n",
    "    WHEN e2 IS NOT NULL THEN e2\n",
    "    ELSE e3\n",
    "END\n",
    "`"
   ]
  },
  {
   "cell_type": "markdown",
   "id": "2c52d79d",
   "metadata": {},
   "source": [
    "# Expressions - NULLIF"
   ]
  },
  {
   "cell_type": "markdown",
   "id": "ff2115fc",
   "metadata": {},
   "source": [
    "- NULLIF returns the two values passed in are equal.\n",
    "- The WHERE clause in this example says get all emails that are NULL but count them as NULL if they are blank"
   ]
  },
  {
   "cell_type": "markdown",
   "id": "5d50dc56",
   "metadata": {},
   "source": [
    "`\n",
    "SELECT \n",
    "    name,\n",
    "    email\n",
    "FROM \n",
    "    clients\n",
    "WHERE\n",
    "    NULLIF(email, '') IS NULL\n",
    "`"
   ]
  },
  {
   "cell_type": "markdown",
   "id": "a258879c",
   "metadata": {},
   "source": [
    "- NULLIF and CASE can also be created in a similar way..."
   ]
  },
  {
   "cell_type": "markdown",
   "id": "f1e80389",
   "metadata": {},
   "source": [
    "`\n",
    "SELECT \n",
    "    NULLIF(a,b)\n",
    "........ equal to .....\n",
    "CASE\n",
    "    WHEN a=b\n",
    "    THEN NULL\n",
    "END\n",
    "`"
   ]
  }
 ],
 "metadata": {
  "kernelspec": {
   "display_name": "Python 3 (ipykernel)",
   "language": "python",
   "name": "python3"
  },
  "language_info": {
   "codemirror_mode": {
    "name": "ipython",
    "version": 3
   },
   "file_extension": ".py",
   "mimetype": "text/x-python",
   "name": "python",
   "nbconvert_exporter": "python",
   "pygments_lexer": "ipython3",
   "version": "3.9.7"
  }
 },
 "nbformat": 4,
 "nbformat_minor": 5
}
