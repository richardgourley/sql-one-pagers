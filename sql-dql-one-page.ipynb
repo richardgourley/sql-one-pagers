{
 "cells": [
  {
   "cell_type": "markdown",
   "id": "341f0005",
   "metadata": {},
   "source": [
    "# SQL Data Query Language - One Page"
   ]
  },
  {
   "cell_type": "markdown",
   "id": "cb6baf78",
   "metadata": {},
   "source": [
    "This one pager is a reference for all SQL DQL (Data Query Language) commands.\n",
    "Although some notes are added, this is intended to be a quick but comprehensive reference and reminder of all SQL query language commands."
   ]
  },
  {
   "cell_type": "markdown",
   "id": "6a941240",
   "metadata": {},
   "source": [
    "**CONTENTS**\n",
    "\n",
    "**1. SQL Query Order**\n",
    "\n",
    "**2. Sorting**\n",
    "\n",
    "**3. Limiting**\n",
    "\n",
    "**3. Filtering**\n",
    "\n",
    "**4. Joining Tables**\n",
    "\n",
    "**5. Grouping**"
   ]
  },
  {
   "cell_type": "markdown",
   "id": "13ab31ed",
   "metadata": {},
   "source": [
    "# SQL Query Order"
   ]
  },
  {
   "cell_type": "markdown",
   "id": "091e1b5c",
   "metadata": {},
   "source": [
    "**SQL queries are evaluated in the following order:**"
   ]
  },
  {
   "cell_type": "markdown",
   "id": "544e6c8e",
   "metadata": {},
   "source": [
    "- FROM - choose and join tables\n",
    "- WHERE - filters the data\n",
    "- GROUP BY - aggregates the data\n",
    "- HAVING - filters the aggregated data\n",
    "- SELECT - returns the final data\n",
    "- ORDER BY - sorts the final data\n",
    "- LIMIT - limits sorted data to a row count"
   ]
  },
  {
   "cell_type": "markdown",
   "id": "a8845e88",
   "metadata": {},
   "source": [
    "# Sorting - Order By"
   ]
  },
  {
   "cell_type": "markdown",
   "id": "a0e6124e",
   "metadata": {},
   "source": [
    "`\n",
    "SELECT \n",
    "    first_name\n",
    "FROM\n",
    "    sales.customers\n",
    "ORDER BY \n",
    "    first_name DESC\n",
    "`"
   ]
  },
  {
   "cell_type": "markdown",
   "id": "9b20cd4d",
   "metadata": {},
   "source": [
    "ORDER BY multiple cols - city first, then first name eg. 'New York, Brian', 'New York, Jane'"
   ]
  },
  {
   "cell_type": "markdown",
   "id": "215f30a0",
   "metadata": {},
   "source": [
    "`\n",
    "ORDER BY \n",
    "    city,\n",
    "    first_name\n",
    "`"
   ]
  },
  {
   "cell_type": "markdown",
   "id": "67b1cb91",
   "metadata": {},
   "source": [
    "ORDER BY expression"
   ]
  },
  {
   "cell_type": "markdown",
   "id": "05bd7428",
   "metadata": {},
   "source": [
    "`\n",
    "SELECT\n",
    "    first_name\n",
    "FROM\n",
    "    sales.customers\n",
    "ORDER BY \n",
    "    LEN(first_name) DESC\n",
    "`"
   ]
  },
  {
   "cell_type": "markdown",
   "id": "7310328d",
   "metadata": {},
   "source": [
    "# Limiting - Offset and Fetch"
   ]
  },
  {
   "cell_type": "markdown",
   "id": "a7dd877c",
   "metadata": {},
   "source": [
    "OFFSET - means skip the first n rows\n",
    "\n",
    "FETCH FIRST - means how many rows to fetch\n",
    "\n",
    "- Often ORDER BY is used first, to put the data in it's correct order before limiting results."
   ]
  },
  {
   "cell_type": "markdown",
   "id": "a1e09e84",
   "metadata": {},
   "source": [
    "`SELECT \n",
    "    team_name,\n",
    "    points,\n",
    "FROM \n",
    "    prem_table\n",
    "ORDER BY \n",
    "    points DESC\n",
    "OFFSET 4 ROWS\n",
    "FETCH FIRST 13 ROWS`"
   ]
  },
  {
   "cell_type": "markdown",
   "id": "f9341127",
   "metadata": {},
   "source": [
    "# Limiting - Select Top"
   ]
  },
  {
   "cell_type": "markdown",
   "id": "9fce4e48",
   "metadata": {},
   "source": [
    "Get the Top n, top n%, or top nwith ties (means if tied for n number, show all tied results!)\n",
    "\n",
    "Start the query with these options and continue with a normal query"
   ]
  },
  {
   "cell_type": "markdown",
   "id": "66993cf5",
   "metadata": {},
   "source": [
    "`\n",
    "SELECT TOP 10\n",
    "SELECT TOP 1 PERCENT\n",
    "SELECT TOP 3 WITH TIES\n",
    "`"
   ]
  },
  {
   "cell_type": "markdown",
   "id": "9d7aa81b",
   "metadata": {},
   "source": [
    "# Filtering - Distinct"
   ]
  },
  {
   "cell_type": "markdown",
   "id": "c4dbbfa9",
   "metadata": {},
   "source": [
    "`\n",
    "SELECT DISTINCT \n",
    "    country\n",
    "FROM \n",
    "    sales.customers\n",
    "`"
   ]
  },
  {
   "cell_type": "markdown",
   "id": "d800870c",
   "metadata": {},
   "source": [
    "Use SELECT DISTINCT with multiple cols"
   ]
  },
  {
   "cell_type": "markdown",
   "id": "6c2ce21a",
   "metadata": {},
   "source": [
    "`\n",
    "SELECT DISTINCT\n",
    "    city, state\n",
    "FROM\n",
    "    sales.customers\n",
    "`"
   ]
  },
  {
   "cell_type": "markdown",
   "id": "7ecb81ae",
   "metadata": {},
   "source": [
    "# Filtering - And Or"
   ]
  },
  {
   "cell_type": "markdown",
   "id": "c6afb31b",
   "metadata": {},
   "source": [
    "- AND is always evaluated first\n",
    "- This query acts as: get brand_id = 1 OR (brand_id = 2 AND list_price > 40)"
   ]
  },
  {
   "cell_type": "markdown",
   "id": "9b733c17",
   "metadata": {},
   "source": [
    "`\n",
    "SELECT \n",
    "    product_name,\n",
    "    brand_id,\n",
    "    list_price\n",
    "FROM \n",
    "    production.products\n",
    "WHERE\n",
    "    brand_id = 1\n",
    "OR\n",
    "    brand_id = 2\n",
    "AND \n",
    "    list_price > 40\n",
    "`"
   ]
  },
  {
   "cell_type": "markdown",
   "id": "ac4083c6",
   "metadata": {},
   "source": [
    "USE parenthesis to make sure you retrieve correct data"
   ]
  },
  {
   "cell_type": "markdown",
   "id": "b636857f",
   "metadata": {},
   "source": [
    "`\n",
    "WHERE\n",
    "    (brand_id 1 OR brand_id = 2)\n",
    "AND\n",
    "    list_price > 40\n",
    "`"
   ]
  },
  {
   "cell_type": "markdown",
   "id": "c81fa2f5",
   "metadata": {},
   "source": [
    "**Use the IN operator** - equivalent to many OR statements"
   ]
  },
  {
   "cell_type": "markdown",
   "id": "09b2fbef",
   "metadata": {},
   "source": [
    "`\n",
    "SELECT \n",
    "    product_id,\n",
    "    brand_id\n",
    "FROM\n",
    "    products\n",
    "WHERE\n",
    "    brand_id IN(1,2,3,4)\n",
    "`"
   ]
  },
  {
   "cell_type": "markdown",
   "id": "1ef3deeb",
   "metadata": {},
   "source": [
    "# Filtering - Between/ Not Between"
   ]
  },
  {
   "cell_type": "markdown",
   "id": "c8a4d76c",
   "metadata": {},
   "source": [
    "`\n",
    "SELECT\n",
    "    product_id,\n",
    "    product_name,\n",
    "    list_price\n",
    "FROM\n",
    "    production.products\n",
    "WHERE\n",
    "    list_price NOT BETWEEN 149.99 AND 199.99\n",
    "`"
   ]
  },
  {
   "cell_type": "markdown",
   "id": "c6dadd26",
   "metadata": {},
   "source": [
    "Between dates example\n",
    "\n",
    "Use a string literal 'YYYYMMDD'"
   ]
  },
  {
   "cell_type": "markdown",
   "id": "59928451",
   "metadata": {},
   "source": [
    "`\n",
    "WHERE\n",
    "    order_date BETWEEN '20170115' AND '20170117\n",
    "`"
   ]
  },
  {
   "cell_type": "markdown",
   "id": "d07a244f",
   "metadata": {},
   "source": [
    "# Filtering - Like"
   ]
  },
  {
   "cell_type": "markdown",
   "id": "f6cf0dd0",
   "metadata": {},
   "source": [
    "`\n",
    "WHERE\n",
    "    last_name LIKE 'z%'\n",
    "`"
   ]
  },
  {
   "cell_type": "markdown",
   "id": "b2ae5f09",
   "metadata": {},
   "source": [
    "`\n",
    "WHERE\n",
    "    last_name LIKE '%er'\n",
    "`"
   ]
  },
  {
   "cell_type": "markdown",
   "id": "8e2c8607",
   "metadata": {},
   "source": [
    "`\n",
    "WHERE\n",
    "    last_name LIKE 't%s'\n",
    "`"
   ]
  },
  {
   "cell_type": "markdown",
   "id": "24949930",
   "metadata": {},
   "source": [
    "`\n",
    "WHERE\n",
    "    last_name LIKE '_u%'\n",
    "`"
   ]
  },
  {
   "cell_type": "markdown",
   "id": "ba646c55",
   "metadata": {},
   "source": [
    "Wilcard [] means either of these"
   ]
  },
  {
   "cell_type": "markdown",
   "id": "470e5f6a",
   "metadata": {},
   "source": [
    "`\n",
    "WHERE\n",
    "    last_name LIKE '[ZY]%'\n",
    "`"
   ]
  },
  {
   "cell_type": "markdown",
   "id": "7cbe23ed",
   "metadata": {},
   "source": [
    "[^A-X] means not starting with this range"
   ]
  },
  {
   "cell_type": "markdown",
   "id": "ef966241",
   "metadata": {},
   "source": [
    "`\n",
    "WHERE\n",
    "    last_name LIKE '[^A-X]%'\n",
    "`"
   ]
  },
  {
   "cell_type": "markdown",
   "id": "78b42e58",
   "metadata": {},
   "source": [
    "Escape clause allows us to use wilcard characters like '%'"
   ]
  },
  {
   "cell_type": "markdown",
   "id": "835f54e1",
   "metadata": {},
   "source": [
    "`\n",
    "WHERE \n",
    "    comment LIKE '%30!%%' ESCAPE '!';\n",
    "`"
   ]
  },
  {
   "cell_type": "markdown",
   "id": "cfba6e02",
   "metadata": {},
   "source": [
    "# Filtering - Column Aliases"
   ]
  },
  {
   "cell_type": "markdown",
   "id": "4e9511ac",
   "metadata": {},
   "source": [
    "`\n",
    "SELECT\n",
    "    first_name + ' ' + last_name AS full_name\n",
    "`"
   ]
  },
  {
   "cell_type": "markdown",
   "id": "0c8358bd",
   "metadata": {},
   "source": [
    "Use ' ' for spaces in alias"
   ]
  },
  {
   "cell_type": "markdown",
   "id": "cf2fe5a2",
   "metadata": {},
   "source": [
    "`\n",
    "SELECT\n",
    "    first_name + ' ' + last_name AS 'Full Name'\n",
    "`"
   ]
  },
  {
   "cell_type": "markdown",
   "id": "163594d9",
   "metadata": {},
   "source": [
    "Use aliases for joining tables"
   ]
  },
  {
   "cell_type": "markdown",
   "id": "7651df4a",
   "metadata": {},
   "source": [
    "`\n",
    "SELECT\n",
    "    c.customer_id,\n",
    "    first_name,\n",
    "FROM\n",
    "    sales.customers c\n",
    "INNER JOIN sales.orders o ON o.customer_id = c.customer_id\n",
    "`"
   ]
  },
  {
   "cell_type": "markdown",
   "id": "500a7ec4",
   "metadata": {},
   "source": [
    "# Joining Tables - Inner Join"
   ]
  },
  {
   "cell_type": "markdown",
   "id": "90a62281",
   "metadata": {},
   "source": [
    "Find all in both tables"
   ]
  },
  {
   "cell_type": "markdown",
   "id": "6f4cb8d9",
   "metadata": {},
   "source": [
    "`\n",
    "SELECT \n",
    "    c.id candidate_id,\n",
    "    c.full_name candidate_name,\n",
    "    e.id employeed_id,\n",
    "    e.full_name employee_name\n",
    "FROM \n",
    "    candidates c\n",
    "    INNER JOIN \n",
    "        employees e\n",
    "        ON c.id = e.id\n",
    "`"
   ]
  },
  {
   "cell_type": "markdown",
   "id": "591d268d",
   "metadata": {},
   "source": [
    "Use joins to get information from other tables.\n",
    "\n",
    "Often we want to retrieve a name instead of an id"
   ]
  },
  {
   "cell_type": "markdown",
   "id": "b4e43175",
   "metadata": {},
   "source": [
    "`\n",
    "SELECT \n",
    "    product_name, \n",
    "    category_name,\n",
    "    list_price\n",
    "FROM \n",
    "    production.products p\n",
    "    INNER JOIN production.categories c\n",
    "        ON p.category_id = c.category_id\n",
    "`"
   ]
  },
  {
   "cell_type": "markdown",
   "id": "3c8fc4dd",
   "metadata": {},
   "source": [
    "# Joining Tables - Left Join"
   ]
  },
  {
   "cell_type": "markdown",
   "id": "22c052af",
   "metadata": {},
   "source": [
    "Return ALL candidates, not just matching ones in employees table -  NULL will appear if not in employee table"
   ]
  },
  {
   "cell_type": "markdown",
   "id": "31a7a34b",
   "metadata": {},
   "source": [
    "`\n",
    "SELECT  \n",
    "    c.id candidate_id,\n",
    "    c.fullname candidate_name,\n",
    "    e.id employee_id,\n",
    "    e.fullname employee_name\n",
    "FROM \n",
    "    hr.candidates c\n",
    "    LEFT JOIN hr.employees e \n",
    "        ON e.fullname = c.fullname\n",
    "`"
   ]
  },
  {
   "cell_type": "markdown",
   "id": "ff256b12",
   "metadata": {},
   "source": [
    "List all product names with order_id (NULL will appear for any unsold products (products without order_id))"
   ]
  },
  {
   "cell_type": "markdown",
   "id": "437ff718",
   "metadata": {},
   "source": [
    "`\n",
    "SELECT\n",
    "    product_name,\n",
    "    order_id\n",
    "FROM\n",
    "    production.products p\n",
    "    LEFT JOIN sales.order_items o \n",
    "        ON o.product_id = p.product_id\n",
    "    ORDER BY\n",
    "        order_id;\n",
    "`"
   ]
  },
  {
   "cell_type": "markdown",
   "id": "5c9e73b7",
   "metadata": {},
   "source": [
    "# Joining Tables - Right Join"
   ]
  },
  {
   "cell_type": "markdown",
   "id": "fd450ee3",
   "metadata": {},
   "source": [
    "Opposite of left join"
   ]
  },
  {
   "cell_type": "markdown",
   "id": "f6705928",
   "metadata": {},
   "source": [
    "Show all employees in the right column, showing if they appear in the candidates table (or NULL) in the left column."
   ]
  },
  {
   "cell_type": "markdown",
   "id": "e2316ffb",
   "metadata": {},
   "source": [
    "`\n",
    "SELECT \n",
    "    c.id candidate_id,\n",
    "    c.full_name candidate_name,\n",
    "    e.id employee_id,\n",
    "    e.full_name employee_name\n",
    "FROM \n",
    "    candidates c\n",
    "    RIGHT JOIN employees e\n",
    "        ON c.full_name = e.full_name\n",
    "`"
   ]
  },
  {
   "cell_type": "markdown",
   "id": "f2cb7da6",
   "metadata": {},
   "source": [
    "# Joining Tables - Full Outer Join"
   ]
  },
  {
   "cell_type": "markdown",
   "id": "f3513780",
   "metadata": {},
   "source": [
    "Mix of left and right joins\n",
    "\n",
    "Will show all canditates from left table, all employees from right and display if they appear in both tables or show NULL if they appear in one but not the other."
   ]
  },
  {
   "cell_type": "markdown",
   "id": "ecb9029b",
   "metadata": {},
   "source": [
    "`\n",
    "SELECT  \n",
    "    c.id candidate_id,\n",
    "    c.fullname candidate_name,\n",
    "    e.id employee_id,\n",
    "    e.fullname employee_name\n",
    "FROM \n",
    "    hr.candidates c\n",
    "    FULL JOIN hr.employees e \n",
    "        ON e.fullname = c.fullname;\n",
    "`"
   ]
  },
  {
   "cell_type": "markdown",
   "id": "ad90cbf8",
   "metadata": {},
   "source": [
    "RESULTS LIKE THIS:\n",
    "\n",
    "1 John Doe 1 John Doe\n",
    "\n",
    "2 Jane Smith NULL NULL\n",
    "\n",
    "NULL NULL 2 Pete Jones"
   ]
  },
  {
   "cell_type": "markdown",
   "id": "97d38ea3",
   "metadata": {},
   "source": [
    "# Joining Tables - Cross Join"
   ]
  },
  {
   "cell_type": "markdown",
   "id": "981702df",
   "metadata": {},
   "source": [
    "Called a CARTESIAN JOIN\n",
    "\n",
    "Will create all possible combinations.\n",
    "\n",
    "Often used as part of a query that will be used with a sub query\n",
    "\n",
    "Store and Product match is a good example - will show all stores and product combinations..."
   ]
  },
  {
   "cell_type": "markdown",
   "id": "41802808",
   "metadata": {},
   "source": [
    "`\n",
    "SELECT\n",
    "    s.store_id,\n",
    "    p.product_id,\n",
    "    ISNULL(sales, 0) sales\n",
    "FROM\n",
    "    sales.stores s\n",
    "CROSS JOIN production.products p\n",
    "    LEFT JOIN (....SUB QUERY...)\n",
    "`"
   ]
  },
  {
   "cell_type": "markdown",
   "id": "f77d7cf0",
   "metadata": {},
   "source": [
    "# Joining Tables - Self Join"
   ]
  },
  {
   "cell_type": "markdown",
   "id": "52dc5a2b",
   "metadata": {},
   "source": [
    "Two versions of same table used (with aliases)\n",
    "\n",
    "Often used for hierarchy queries such as employees and managers in the same table."
   ]
  },
  {
   "cell_type": "markdown",
   "id": "e8ed57f2",
   "metadata": {},
   "source": [
    "`\n",
    "SELECT\n",
    "    e.full_name employee,\n",
    "    m.full_name manager\n",
    "FROM \n",
    "    employees e\n",
    "    LEFT JOIN employees m\n",
    "    ON m.employee_id = e.manager_id\n",
    "`"
   ]
  },
  {
   "cell_type": "markdown",
   "id": "e401cc28",
   "metadata": {},
   "source": [
    "# Grouping - Group By"
   ]
  },
  {
   "cell_type": "markdown",
   "id": "96b40dd0",
   "metadata": {},
   "source": [
    " COUNT num of orders per year per customer, eg. 1,2016,2...1,2017,1....2,2017,2...2,2018,1 etc."
   ]
  },
  {
   "cell_type": "markdown",
   "id": "7200d81f",
   "metadata": {},
   "source": [
    "`\n",
    "SELECT\n",
    "    customer_id,\n",
    "    YEAR (order_date) order_year,\n",
    "    COUNT (order_id) order_placed\n",
    "FROM\n",
    "    sales.orders\n",
    "WHERE\n",
    "    customer_id IN (1, 2)\n",
    "GROUP BY\n",
    "    customer_id,\n",
    "    YEAR (order_date)\n",
    "ORDER BY\n",
    "    customer_id; \n",
    "`"
   ]
  },
  {
   "cell_type": "markdown",
   "id": "64c4d0f2",
   "metadata": {},
   "source": [
    "COUNT customers in every city"
   ]
  },
  {
   "cell_type": "markdown",
   "id": "60872679",
   "metadata": {},
   "source": [
    "`\n",
    "SELECT\n",
    "    city,\n",
    "    COUNT (customer_id) customer_count\n",
    "FROM\n",
    "    sales.customers\n",
    "GROUP BY\n",
    "    city\n",
    "ORDER BY\n",
    "    city;\n",
    "`"
   ]
  },
  {
   "cell_type": "markdown",
   "id": "31618e1f",
   "metadata": {},
   "source": [
    "Get AVG list price (join used to retrieve brand name)"
   ]
  },
  {
   "cell_type": "markdown",
   "id": "4ed0485b",
   "metadata": {},
   "source": [
    "`\n",
    "SELECT\n",
    "    brand_name,\n",
    "    AVG (list_price) avg_price\n",
    "FROM\n",
    "    production.products p\n",
    "INNER JOIN production.brands b ON b.brand_id = p.brand_id\n",
    "WHERE\n",
    "    model_year = 2018\n",
    "GROUP BY\n",
    "    brand_name\n",
    "ORDER BY\n",
    "    brand_name;\n",
    "`"
   ]
  },
  {
   "cell_type": "markdown",
   "id": "8a233fc0",
   "metadata": {},
   "source": [
    "Get net value of every order using SUM()"
   ]
  },
  {
   "cell_type": "markdown",
   "id": "491c0f65",
   "metadata": {},
   "source": [
    "`\n",
    "SELECT\n",
    "    order_id,\n",
    "    SUM (\n",
    "        quantity * list_price * (1 - discount)\n",
    "    ) net_value\n",
    "FROM\n",
    "    sales.order_items\n",
    "GROUP BY\n",
    "    order_id;\n",
    "`"
   ]
  },
  {
   "cell_type": "markdown",
   "id": "b7f6b6a6",
   "metadata": {},
   "source": [
    "# Grouping - Having"
   ]
  },
  {
   "cell_type": "markdown",
   "id": "30c6eed8",
   "metadata": {},
   "source": [
    "HAVING is similar to WHERE clause, often used to filter GROUP BY\n",
    "\n",
    "NOTE - HAVING is evaluated later in the query, so calculations not column aliases are used.\n"
   ]
  },
  {
   "cell_type": "markdown",
   "id": "b9cb82ae",
   "metadata": {},
   "source": [
    "`\n",
    "SELECT \n",
    "    salesperson_name,\n",
    "    SUM(sales) sales_total\n",
    "FROM \n",
    "    sales\n",
    "GROUP BY \n",
    "    salesperson_name\n",
    "HAVING \n",
    "    SUM(sales) < 2000\n",
    "`"
   ]
  },
  {
   "cell_type": "markdown",
   "id": "6450dc96",
   "metadata": {},
   "source": [
    "`\n",
    "SELECT\n",
    "    category_id,\n",
    "    MAX (list_price) max_list_price,\n",
    "    MIN (list_price) min_list_price\n",
    "FROM\n",
    "    production.products\n",
    "GROUP BY\n",
    "    category_id\n",
    "HAVING\n",
    "    MAX (list_price) > 4000 OR MIN (list_price) < 500;\n",
    "`"
   ]
  },
  {
   "cell_type": "markdown",
   "id": "ef8b18db",
   "metadata": {},
   "source": [
    "`\n",
    "SELECT\n",
    "    category_id,\n",
    "    AVG (list_price) avg_list_price\n",
    "FROM\n",
    "    production.products\n",
    "GROUP BY\n",
    "    category_id\n",
    "HAVING\n",
    "    AVG (list_price) BETWEEN 500 AND 1000;\n",
    "`"
   ]
  },
  {
   "cell_type": "markdown",
   "id": "d1cd147e",
   "metadata": {},
   "source": [
    "# Grouping - Grouping Sets"
   ]
  },
  {
   "cell_type": "markdown",
   "id": "f2c3e19c",
   "metadata": {},
   "source": [
    "Without having to perform lengthy UNION statements\n",
    "\n",
    "GROUPING SETS allow us to define multiple group by queries within the same query."
   ]
  },
  {
   "cell_type": "markdown",
   "id": "f1e54bc0",
   "metadata": {},
   "source": [
    "`\n",
    "SELECT\n",
    "\tbrand,\n",
    "\tcategory,\n",
    "\tSUM (sales) sales\n",
    "FROM\n",
    "\tsales.sales_summary\n",
    "GROUP BY\n",
    "\tGROUPING SETS (\n",
    "\t\t(brand, category),\n",
    "\t\t(brand),\n",
    "\t\t(category),\n",
    "\t\t()\n",
    "\t)\n",
    "ORDER BY\n",
    "\tbrand,\n",
    "\tcategory;\n",
    "`"
   ]
  },
  {
   "cell_type": "markdown",
   "id": "2d8ea7b4",
   "metadata": {},
   "source": [
    "The result from the above query would return aggregated results for both brand and category, only brand results, only category results and neither brand or category results (total sales):\n",
    "\n",
    "**Brand Category Sales**\n",
    "\n",
    "NULL NULL 20000\n",
    "\n",
    "NULL Bikes 10000\n",
    "\n",
    "BrandA NULL 5000\n",
    "\n",
    "BrandA Bikes 2000 \n"
   ]
  },
  {
   "cell_type": "markdown",
   "id": "55192986",
   "metadata": {},
   "source": [
    "# Grouping - Cube"
   ]
  },
  {
   "cell_type": "markdown",
   "id": "f64181ae",
   "metadata": {},
   "source": [
    "CUBE is a perfect follow on the GROUPING SETS () function\n",
    "\n",
    "CUBE creates all possible grouping sets  from given columns\n",
    "\n",
    "Ideal if you have more than 2 columns --- combos from 3 cols is large using GROUPING SET()..."
   ]
  },
  {
   "cell_type": "markdown",
   "id": "6fc8815a",
   "metadata": {},
   "source": [
    "`\n",
    "SELECT\n",
    "    d1,\n",
    "    d2,\n",
    "    d3,\n",
    "    aggregate_function (c4)\n",
    "FROM\n",
    "    table_name\n",
    "GROUP BY\n",
    "    CUBE (d1, d2, d3);  \n",
    "`"
   ]
  },
  {
   "cell_type": "markdown",
   "id": "be2c18ef",
   "metadata": {},
   "source": [
    "A partial cube is used to group by brand first, then group by category AND then by NULL showing all results.\n",
    "\n",
    "**RESULTS:**\n",
    "\n",
    "brand + category \n",
    "\n",
    "brand + NULL (total brand sales)"
   ]
  },
  {
   "cell_type": "markdown",
   "id": "7bdb17e1",
   "metadata": {},
   "source": [
    "`\n",
    "SELECT\n",
    "    brand,\n",
    "    category,\n",
    "    SUM (sales) sales\n",
    "FROM\n",
    "    sales.sales_summary\n",
    "GROUP BY\n",
    "    brand,\n",
    "    CUBE(category);\n",
    "`"
   ]
  },
  {
   "cell_type": "markdown",
   "id": "374f1b42",
   "metadata": {},
   "source": [
    "# Grouping - Roll Up"
   ]
  },
  {
   "cell_type": "markdown",
   "id": "9f7f29d9",
   "metadata": {},
   "source": [
    "Subset of GROUP BY - assumes hierarchy - creates less sets than CUBE\n",
    "\n",
    "Often used in accounting totals, such as totals for year, month, quarter\n",
    "\n",
    "ROLLUP(d1,d2,d3) produces:\n",
    "\n",
    "(d1, d2, d3)\n",
    "(d1, d2)\n",
    "(d1)\n",
    "()"
   ]
  },
  {
   "cell_type": "markdown",
   "id": "1f2a5c3d",
   "metadata": {},
   "source": [
    "`\n",
    "SELECT\n",
    "    brand,\n",
    "    category,\n",
    "    SUM (sales) sales\n",
    "FROM\n",
    "    sales.sales_summary\n",
    "GROUP BY\n",
    "    ROLLUP(brand, category);\n",
    "`"
   ]
  },
  {
   "cell_type": "markdown",
   "id": "58a64c11",
   "metadata": {},
   "source": [
    "The above query returns:\n",
    "\n",
    "brand + category\n",
    "\n",
    "brand + NULL ( brand total)\n",
    "\n",
    "NULL + NULL (overall total)\n",
    "\n",
    "**RESULTS:** \n",
    "\n",
    "BrandA CategoryA 2000\n",
    "\n",
    "BrandA NULL 4000\n",
    "\n",
    "NULL NULL 6000\n"
   ]
  },
  {
   "cell_type": "markdown",
   "id": "7299f5d9",
   "metadata": {},
   "source": [
    "`\n",
    "SELECT\n",
    "    category,\n",
    "    brand,\n",
    "    SUM (sales) sales\n",
    "FROM\n",
    "    sales.sales_summary\n",
    "GROUP BY\n",
    "    ROLLUP (category, brand)\n",
    "`"
   ]
  },
  {
   "cell_type": "markdown",
   "id": "5f1e0a97",
   "metadata": {},
   "source": [
    "The above produces the following results:\n",
    "    \n",
    "category + brand\n",
    "\n",
    "category + NULL (category total)\n",
    "\n",
    "NULL + NULL (overall total)"
   ]
  },
  {
   "cell_type": "markdown",
   "id": "5cc5b50f",
   "metadata": {},
   "source": [
    "`\n",
    "SELECT\n",
    "    brand,\n",
    "    category,\n",
    "    SUM (sales) sales\n",
    "FROM\n",
    "    sales.sales_summary\n",
    "GROUP BY\n",
    "    brand,\n",
    "    ROLLUP (category);\n",
    "`"
   ]
  },
  {
   "cell_type": "markdown",
   "id": "b4918f54",
   "metadata": {},
   "source": [
    "The above is a 'partial' ROLLUP and will only return:\n",
    "\n",
    "brand + category\n",
    "brand + NULL (brand total sales)"
   ]
  },
  {
   "cell_type": "markdown",
   "id": "07236464",
   "metadata": {},
   "source": []
  },
  {
   "cell_type": "markdown",
   "id": "3a20c57c",
   "metadata": {},
   "source": []
  },
  {
   "cell_type": "markdown",
   "id": "d626f8ab",
   "metadata": {},
   "source": []
  }
 ],
 "metadata": {
  "kernelspec": {
   "display_name": "Python 3 (ipykernel)",
   "language": "python",
   "name": "python3"
  },
  "language_info": {
   "codemirror_mode": {
    "name": "ipython",
    "version": 3
   },
   "file_extension": ".py",
   "mimetype": "text/x-python",
   "name": "python",
   "nbconvert_exporter": "python",
   "pygments_lexer": "ipython3",
   "version": "3.9.7"
  }
 },
 "nbformat": 4,
 "nbformat_minor": 5
}
