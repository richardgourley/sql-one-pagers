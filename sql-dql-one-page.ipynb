{
 "cells": [
  {
   "cell_type": "markdown",
   "id": "341f0005",
   "metadata": {},
   "source": [
    "# SQL Data Query Language - One Page"
   ]
  },
  {
   "cell_type": "markdown",
   "id": "cb6baf78",
   "metadata": {},
   "source": [
    "This one pager is a reference for all SQL DQL (Data Query Language) commands.\n",
    "Although some notes are added, this is intended to be a quick but comprehensive reference and reminder of all SQL query language commands."
   ]
  },
  {
   "cell_type": "markdown",
   "id": "348e81a1",
   "metadata": {},
   "source": [
    "**CONTENTS**\n",
    "\n",
    "**1. SQL Query Order**\n",
    "\n",
    "**2. Sorting**\n",
    "\n",
    "**3. Limiting**\n",
    "\n",
    "**3. Filtering**\n",
    "\n",
    "**4. Joining Tables**\n",
    "\n",
    "**5. Grouping**"
   ]
  },
  {
   "cell_type": "markdown",
   "id": "b28cd7e4",
   "metadata": {},
   "source": [
    "# SQL Query Order"
   ]
  },
  {
   "cell_type": "markdown",
   "id": "4d46df94",
   "metadata": {},
   "source": [
    "**SQL queries are evaluated in the following order:**"
   ]
  },
  {
   "cell_type": "markdown",
   "id": "6618e072",
   "metadata": {},
   "source": [
    "- FROM - choose and join tables\n",
    "- WHERE - filters the data\n",
    "- GROUP BY - aggregates the data\n",
    "- HAVING - filters the aggregated data\n",
    "- SELECT - returns the final data\n",
    "- ORDER BY - sorts the final data\n",
    "- LIMIT - limits sorted data to a row count"
   ]
  },
  {
   "cell_type": "markdown",
   "id": "a8845e88",
   "metadata": {},
   "source": [
    "# Sorting - Order By"
   ]
  },
  {
   "cell_type": "markdown",
   "id": "a0e6124e",
   "metadata": {},
   "source": [
    "`\n",
    "SELECT \n",
    "    first_name\n",
    "FROM\n",
    "    sales.customers\n",
    "ORDER BY \n",
    "    first_name DESC\n",
    "`"
   ]
  },
  {
   "cell_type": "markdown",
   "id": "9b20cd4d",
   "metadata": {},
   "source": [
    "ORDER BY multiple cols - city first, then first name eg. 'New York, Brian', 'New York, Jane'"
   ]
  },
  {
   "cell_type": "markdown",
   "id": "215f30a0",
   "metadata": {},
   "source": [
    "`\n",
    "ORDER BY \n",
    "    city,\n",
    "    first_name\n",
    "`"
   ]
  },
  {
   "cell_type": "markdown",
   "id": "6d2bd7fb",
   "metadata": {},
   "source": [
    "ORDER BY expression"
   ]
  },
  {
   "cell_type": "markdown",
   "id": "1b8b232e",
   "metadata": {},
   "source": [
    "`\n",
    "SELECT\n",
    "    first_name\n",
    "FROM\n",
    "    sales.customers\n",
    "ORDER BY \n",
    "    LEN(first_name) DESC\n",
    "`"
   ]
  },
  {
   "cell_type": "markdown",
   "id": "db494f48",
   "metadata": {},
   "source": [
    "# Limiting - Offset and Fetch"
   ]
  },
  {
   "cell_type": "markdown",
   "id": "8ad69adb",
   "metadata": {},
   "source": [
    "OFFSET - means skip the first n rows\n",
    "\n",
    "FETCH FIRST - means how many rows to fetch\n",
    "\n",
    "- Often ORDER BY is used first, to put the data in it's correct order before limiting results."
   ]
  },
  {
   "cell_type": "markdown",
   "id": "6deeda3a",
   "metadata": {},
   "source": [
    "`SELECT \n",
    "    team_name,\n",
    "    points,\n",
    "FROM \n",
    "    prem_table\n",
    "ORDER BY \n",
    "    points DESC\n",
    "OFFSET 4 ROWS\n",
    "FETCH FIRST 13 ROWS`"
   ]
  },
  {
   "cell_type": "markdown",
   "id": "4ce742b5",
   "metadata": {},
   "source": [
    "# Limiting - Select Top"
   ]
  },
  {
   "cell_type": "markdown",
   "id": "3fff0573",
   "metadata": {},
   "source": [
    "Get the Top n, top n%, or top nwith ties (means if tied for n number, show all tied results!)\n",
    "\n",
    "Start the query with these options and continue with a normal query"
   ]
  },
  {
   "cell_type": "markdown",
   "id": "267e4212",
   "metadata": {},
   "source": [
    "`\n",
    "SELECT TOP 10\n",
    "SELECT TOP 1 PERCENT\n",
    "SELECT TOP 3 WITH TIES\n",
    "`"
   ]
  },
  {
   "cell_type": "markdown",
   "id": "89469715",
   "metadata": {},
   "source": [
    "# Filtering - Distinct"
   ]
  },
  {
   "cell_type": "markdown",
   "id": "a8b362fc",
   "metadata": {},
   "source": [
    "`\n",
    "SELECT DISTINCT \n",
    "    country\n",
    "FROM \n",
    "    sales.customers\n",
    "`"
   ]
  },
  {
   "cell_type": "markdown",
   "id": "dda6e8b1",
   "metadata": {},
   "source": [
    "Use SELECT DISTINCT with multiple cols"
   ]
  },
  {
   "cell_type": "markdown",
   "id": "d71e1d61",
   "metadata": {},
   "source": [
    "`\n",
    "SELECT DISTINCT\n",
    "    city, state\n",
    "FROM\n",
    "    sales.customers\n",
    "`"
   ]
  },
  {
   "cell_type": "markdown",
   "id": "a3502a22",
   "metadata": {},
   "source": [
    "# Filtering - And Or"
   ]
  },
  {
   "cell_type": "markdown",
   "id": "07cad8a6",
   "metadata": {},
   "source": [
    "- AND is always evaluated first\n",
    "- This query acts as: get brand_id = 1 OR (brand_id = 2 AND list_price > 40)"
   ]
  },
  {
   "cell_type": "markdown",
   "id": "6612c695",
   "metadata": {},
   "source": [
    "`\n",
    "SELECT \n",
    "    product_name,\n",
    "    brand_id,\n",
    "    list_price\n",
    "FROM \n",
    "    production.products\n",
    "WHERE\n",
    "    brand_id = 1\n",
    "OR\n",
    "    brand_id = 2\n",
    "AND \n",
    "    list_price > 40\n",
    "`"
   ]
  },
  {
   "cell_type": "markdown",
   "id": "30e81ae7",
   "metadata": {},
   "source": [
    "USE parenthesis to make sure you retrieve correct data"
   ]
  },
  {
   "cell_type": "markdown",
   "id": "e68da444",
   "metadata": {},
   "source": [
    "`\n",
    "WHERE\n",
    "    (brand_id 1 OR brand_id = 2)\n",
    "AND\n",
    "    list_price > 40\n",
    "`"
   ]
  },
  {
   "cell_type": "markdown",
   "id": "4e795615",
   "metadata": {},
   "source": [
    "**Use the IN operator** - equivalent to many OR statements"
   ]
  },
  {
   "cell_type": "markdown",
   "id": "c7d60306",
   "metadata": {},
   "source": [
    "`\n",
    "SELECT \n",
    "    product_id,\n",
    "    brand_id\n",
    "FROM\n",
    "    products\n",
    "WHERE\n",
    "    brand_id IN(1,2,3,4)\n",
    "`"
   ]
  },
  {
   "cell_type": "markdown",
   "id": "15816f96",
   "metadata": {},
   "source": [
    "# Filtering - Between/ Not Between"
   ]
  },
  {
   "cell_type": "markdown",
   "id": "51f2a464",
   "metadata": {},
   "source": [
    "`\n",
    "SELECT\n",
    "    product_id,\n",
    "    product_name,\n",
    "    list_price\n",
    "FROM\n",
    "    production.products\n",
    "WHERE\n",
    "    list_price NOT BETWEEN 149.99 AND 199.99\n",
    "`"
   ]
  },
  {
   "cell_type": "markdown",
   "id": "9d59ea6c",
   "metadata": {},
   "source": [
    "Between dates example\n",
    "\n",
    "Use a string literal 'YYYYMMDD'"
   ]
  },
  {
   "cell_type": "markdown",
   "id": "220617f3",
   "metadata": {},
   "source": [
    "`\n",
    "WHERE\n",
    "    order_date BETWEEN '20170115' AND '20170117\n",
    "`"
   ]
  },
  {
   "cell_type": "markdown",
   "id": "57c7eef5",
   "metadata": {},
   "source": [
    "# Filtering - Like"
   ]
  },
  {
   "cell_type": "markdown",
   "id": "bbd8a29c",
   "metadata": {},
   "source": [
    "`\n",
    "WHERE\n",
    "    last_name LIKE 'z%'\n",
    "`"
   ]
  },
  {
   "cell_type": "markdown",
   "id": "b57a190e",
   "metadata": {},
   "source": [
    "`\n",
    "WHERE\n",
    "    last_name LIKE '%er'\n",
    "`"
   ]
  },
  {
   "cell_type": "markdown",
   "id": "e547b42e",
   "metadata": {},
   "source": [
    "`\n",
    "WHERE\n",
    "    last_name LIKE 't%s'\n",
    "`"
   ]
  },
  {
   "cell_type": "markdown",
   "id": "2edd44f3",
   "metadata": {},
   "source": [
    "`\n",
    "WHERE\n",
    "    last_name LIKE '_u%'\n",
    "`"
   ]
  },
  {
   "cell_type": "markdown",
   "id": "4db625c9",
   "metadata": {},
   "source": [
    "Wilcard [] means either of these"
   ]
  },
  {
   "cell_type": "markdown",
   "id": "6639d4fc",
   "metadata": {},
   "source": [
    "`\n",
    "WHERE\n",
    "    last_name LIKE '[ZY]%'\n",
    "`"
   ]
  },
  {
   "cell_type": "markdown",
   "id": "e25f934b",
   "metadata": {},
   "source": [
    "[^A-X] means not starting with this range"
   ]
  },
  {
   "cell_type": "markdown",
   "id": "f06c7d2f",
   "metadata": {},
   "source": [
    "`\n",
    "WHERE\n",
    "    last_name LIKE '[^A-X]%'\n",
    "`"
   ]
  },
  {
   "cell_type": "markdown",
   "id": "0960ac2d",
   "metadata": {},
   "source": [
    "Escape clause allows us to use wilcard characters like '%'"
   ]
  },
  {
   "cell_type": "markdown",
   "id": "480f9fd2",
   "metadata": {},
   "source": [
    "`\n",
    "WHERE \n",
    "    comment LIKE '%30!%%' ESCAPE '!';\n",
    "`"
   ]
  },
  {
   "cell_type": "markdown",
   "id": "bc4de964",
   "metadata": {},
   "source": [
    "# Filtering - Column Aliases"
   ]
  },
  {
   "cell_type": "markdown",
   "id": "ad6e8196",
   "metadata": {},
   "source": [
    "`\n",
    "SELECT\n",
    "    first_name + ' ' + last_name AS full_name\n",
    "`"
   ]
  },
  {
   "cell_type": "markdown",
   "id": "00f4f3a8",
   "metadata": {},
   "source": [
    "Use ' ' for spaces in alias"
   ]
  },
  {
   "cell_type": "markdown",
   "id": "02da11af",
   "metadata": {},
   "source": [
    "`\n",
    "SELECT\n",
    "    first_name + ' ' + last_name AS 'Full Name'\n",
    "`"
   ]
  },
  {
   "cell_type": "markdown",
   "id": "6ee590f2",
   "metadata": {},
   "source": [
    "Use aliases for joining tables"
   ]
  },
  {
   "cell_type": "markdown",
   "id": "c48840b8",
   "metadata": {},
   "source": [
    "`\n",
    "SELECT\n",
    "    c.customer_id,\n",
    "    first_name,\n",
    "FROM\n",
    "    sales.customers c\n",
    "INNER JOIN sales.orders o ON o.customer_id = c.customer_id\n",
    "`"
   ]
  },
  {
   "cell_type": "markdown",
   "id": "3f74fa23",
   "metadata": {},
   "source": [
    "# Joining Tables - Inner Join"
   ]
  },
  {
   "cell_type": "markdown",
   "id": "bf139f5f",
   "metadata": {},
   "source": [
    "Find all in both tables"
   ]
  },
  {
   "cell_type": "markdown",
   "id": "95f8fee6",
   "metadata": {},
   "source": [
    "`\n",
    "SELECT \n",
    "    c.id candidate_id,\n",
    "    c.full_name candidate_name,\n",
    "    e.id employeed_id,\n",
    "    e.full_name employee_name\n",
    "FROM \n",
    "    candidates c\n",
    "    INNER JOIN \n",
    "        employees e\n",
    "        ON c.id = e.id\n",
    "`"
   ]
  },
  {
   "cell_type": "markdown",
   "id": "0a4c57c0",
   "metadata": {},
   "source": [
    "Use joins to get information from other tables.\n",
    "\n",
    "Often we want to retrieve a name instead of an id"
   ]
  },
  {
   "cell_type": "markdown",
   "id": "9ed39a68",
   "metadata": {},
   "source": [
    "`\n",
    "SELECT \n",
    "    product_name, \n",
    "    category_name,\n",
    "    list_price\n",
    "FROM \n",
    "    production.products p\n",
    "    INNER JOIN production.categories c\n",
    "        ON p.category_id = c.category_id\n",
    "`"
   ]
  },
  {
   "cell_type": "markdown",
   "id": "0aa3db34",
   "metadata": {},
   "source": [
    "# Joining Tables - Left Join"
   ]
  },
  {
   "cell_type": "markdown",
   "id": "15ef7c35",
   "metadata": {},
   "source": [
    "Return ALL candidates, not just matching ones in employees table -  NULL will appear if not in employee table"
   ]
  },
  {
   "cell_type": "markdown",
   "id": "f356e97b",
   "metadata": {},
   "source": [
    "`\n",
    "SELECT  \n",
    "    c.id candidate_id,\n",
    "    c.fullname candidate_name,\n",
    "    e.id employee_id,\n",
    "    e.fullname employee_name\n",
    "FROM \n",
    "    hr.candidates c\n",
    "    LEFT JOIN hr.employees e \n",
    "        ON e.fullname = c.fullname\n",
    "`"
   ]
  },
  {
   "cell_type": "markdown",
   "id": "5be1ab19",
   "metadata": {},
   "source": [
    "List all product names with order_id (NULL will appear for any unsold products (products without order_id))"
   ]
  },
  {
   "cell_type": "markdown",
   "id": "4eb94040",
   "metadata": {},
   "source": [
    "`\n",
    "SELECT\n",
    "    product_name,\n",
    "    order_id\n",
    "FROM\n",
    "    production.products p\n",
    "    LEFT JOIN sales.order_items o \n",
    "        ON o.product_id = p.product_id\n",
    "    ORDER BY\n",
    "        order_id;\n",
    "`"
   ]
  },
  {
   "cell_type": "markdown",
   "id": "294a59c0",
   "metadata": {},
   "source": [
    "# Joining Tables - Right Join"
   ]
  },
  {
   "cell_type": "markdown",
   "id": "eda2dadc",
   "metadata": {},
   "source": [
    "Opposite of left join"
   ]
  },
  {
   "cell_type": "markdown",
   "id": "85af1849",
   "metadata": {},
   "source": [
    "Show all employees in the right column, showing if they appear in the candidates table (or NULL) in the left column."
   ]
  },
  {
   "cell_type": "markdown",
   "id": "ecc0b36a",
   "metadata": {},
   "source": [
    "`\n",
    "SELECT \n",
    "    c.id candidate_id,\n",
    "    c.full_name candidate_name,\n",
    "    e.id employee_id,\n",
    "    e.full_name employee_name\n",
    "FROM \n",
    "    candidates c\n",
    "    RIGHT JOIN employees e\n",
    "        ON c.full_name = e.full_name\n",
    "`"
   ]
  },
  {
   "cell_type": "markdown",
   "id": "88ad01b3",
   "metadata": {},
   "source": [
    "# Joining Tables - Full Outer Join"
   ]
  },
  {
   "cell_type": "markdown",
   "id": "66b61b74",
   "metadata": {},
   "source": [
    "Mix of left and right joins\n",
    "\n",
    "Will show all canditates from left table, all employees from right and display if they appear in both tables or show NULL if they appear in one but not the other."
   ]
  },
  {
   "cell_type": "markdown",
   "id": "d537ba45",
   "metadata": {},
   "source": [
    "`\n",
    "SELECT  \n",
    "    c.id candidate_id,\n",
    "    c.fullname candidate_name,\n",
    "    e.id employee_id,\n",
    "    e.fullname employee_name\n",
    "FROM \n",
    "    hr.candidates c\n",
    "    FULL JOIN hr.employees e \n",
    "        ON e.fullname = c.fullname;\n",
    "`"
   ]
  },
  {
   "cell_type": "markdown",
   "id": "a05079a2",
   "metadata": {},
   "source": [
    "RESULTS LIKE THIS:\n",
    "\n",
    "1 John Doe 1 John Doe\n",
    "\n",
    "2 Jane Smith NULL NULL\n",
    "\n",
    "NULL NULL 2 Pete Jones"
   ]
  },
  {
   "cell_type": "markdown",
   "id": "be9feb3b",
   "metadata": {},
   "source": [
    "# Joining Tables - Cross Join"
   ]
  },
  {
   "cell_type": "markdown",
   "id": "9e0bda7b",
   "metadata": {},
   "source": [
    "Called a CARTESIAN JOIN\n",
    "\n",
    "Will create all possible combinations.\n",
    "\n",
    "Often used as part of a query that will be used with a sub query\n",
    "\n",
    "Store and Product match is a good example - will show all stores and product combinations..."
   ]
  },
  {
   "cell_type": "markdown",
   "id": "52cf81b7",
   "metadata": {},
   "source": [
    "`\n",
    "SELECT\n",
    "    s.store_id,\n",
    "    p.product_id,\n",
    "    ISNULL(sales, 0) sales\n",
    "FROM\n",
    "    sales.stores s\n",
    "CROSS JOIN production.products p\n",
    "    LEFT JOIN (....SUB QUERY...)\n",
    "`"
   ]
  },
  {
   "cell_type": "markdown",
   "id": "b7e16d75",
   "metadata": {},
   "source": [
    "# Joining Tables - Self Join"
   ]
  },
  {
   "cell_type": "markdown",
   "id": "f89747c1",
   "metadata": {},
   "source": [
    "Two versions of same table used (with aliases)\n",
    "\n",
    "Often used for hierarchy queries such as employees and managers in the same table."
   ]
  },
  {
   "cell_type": "markdown",
   "id": "4455a630",
   "metadata": {},
   "source": [
    "`\n",
    "SELECT\n",
    "    e.full_name employee,\n",
    "    m.full_name manager\n",
    "FROM \n",
    "    employees e\n",
    "    LEFT JOIN employees m\n",
    "    ON m.employee_id = e.manager_id\n",
    "`"
   ]
  },
  {
   "cell_type": "markdown",
   "id": "40a3129c",
   "metadata": {},
   "source": [
    "# Grouping - Group By"
   ]
  },
  {
   "cell_type": "markdown",
   "id": "6c849158",
   "metadata": {},
   "source": [
    " COUNT num of orders per year per customer, eg. 1,2016,2...1,2017,1....2,2017,2...2,2018,1 etc."
   ]
  },
  {
   "cell_type": "markdown",
   "id": "0484546c",
   "metadata": {},
   "source": [
    "`\n",
    "SELECT\n",
    "    customer_id,\n",
    "    YEAR (order_date) order_year,\n",
    "    COUNT (order_id) order_placed\n",
    "FROM\n",
    "    sales.orders\n",
    "WHERE\n",
    "    customer_id IN (1, 2)\n",
    "GROUP BY\n",
    "    customer_id,\n",
    "    YEAR (order_date)\n",
    "ORDER BY\n",
    "    customer_id; \n",
    "`"
   ]
  },
  {
   "cell_type": "markdown",
   "id": "ec29612b",
   "metadata": {},
   "source": [
    "COUNT customers in every city"
   ]
  },
  {
   "cell_type": "markdown",
   "id": "51bcc042",
   "metadata": {},
   "source": [
    "`\n",
    "SELECT\n",
    "    city,\n",
    "    COUNT (customer_id) customer_count\n",
    "FROM\n",
    "    sales.customers\n",
    "GROUP BY\n",
    "    city\n",
    "ORDER BY\n",
    "    city;\n",
    "`"
   ]
  },
  {
   "cell_type": "markdown",
   "id": "01284f03",
   "metadata": {},
   "source": [
    "Get AVG list price (join used to retrieve brand name)"
   ]
  },
  {
   "cell_type": "markdown",
   "id": "8040a8e2",
   "metadata": {},
   "source": [
    "`\n",
    "SELECT\n",
    "    brand_name,\n",
    "    AVG (list_price) avg_price\n",
    "FROM\n",
    "    production.products p\n",
    "INNER JOIN production.brands b ON b.brand_id = p.brand_id\n",
    "WHERE\n",
    "    model_year = 2018\n",
    "GROUP BY\n",
    "    brand_name\n",
    "ORDER BY\n",
    "    brand_name;\n",
    "`"
   ]
  },
  {
   "cell_type": "markdown",
   "id": "d50a7405",
   "metadata": {},
   "source": [
    "Get net value of every order using SUM()"
   ]
  },
  {
   "cell_type": "markdown",
   "id": "a2852f16",
   "metadata": {},
   "source": [
    "`\n",
    "SELECT\n",
    "    order_id,\n",
    "    SUM (\n",
    "        quantity * list_price * (1 - discount)\n",
    "    ) net_value\n",
    "FROM\n",
    "    sales.order_items\n",
    "GROUP BY\n",
    "    order_id;\n",
    "`"
   ]
  },
  {
   "cell_type": "markdown",
   "id": "6214931e",
   "metadata": {},
   "source": [
    "# Grouping - Having"
   ]
  },
  {
   "cell_type": "markdown",
   "id": "6047b3a7",
   "metadata": {},
   "source": [
    "HAVING is similar to WHERE clause, often used to filter GROUP BY\n",
    "\n",
    "NOTE - HAVING is evaluated later in the query, so calculations not column aliases are used.\n"
   ]
  },
  {
   "cell_type": "markdown",
   "id": "7f3fce47",
   "metadata": {},
   "source": [
    "`\n",
    "SELECT \n",
    "    salesperson_name,\n",
    "    SUM(sales) sales_total\n",
    "FROM \n",
    "    sales\n",
    "GROUP BY \n",
    "    salesperson_name\n",
    "HAVING \n",
    "    SUM(sales) < 2000\n",
    "`"
   ]
  },
  {
   "cell_type": "markdown",
   "id": "3e417d3f",
   "metadata": {},
   "source": [
    "`\n",
    "SELECT\n",
    "    category_id,\n",
    "    MAX (list_price) max_list_price,\n",
    "    MIN (list_price) min_list_price\n",
    "FROM\n",
    "    production.products\n",
    "GROUP BY\n",
    "    category_id\n",
    "HAVING\n",
    "    MAX (list_price) > 4000 OR MIN (list_price) < 500;\n",
    "`"
   ]
  },
  {
   "cell_type": "markdown",
   "id": "a36e0014",
   "metadata": {},
   "source": [
    "`\n",
    "SELECT\n",
    "    category_id,\n",
    "    AVG (list_price) avg_list_price\n",
    "FROM\n",
    "    production.products\n",
    "GROUP BY\n",
    "    category_id\n",
    "HAVING\n",
    "    AVG (list_price) BETWEEN 500 AND 1000;\n",
    "`"
   ]
  },
  {
   "cell_type": "markdown",
   "id": "a7ff4e7f",
   "metadata": {},
   "source": [
    "# Grouping - Grouping Sets"
   ]
  },
  {
   "cell_type": "markdown",
   "id": "37a0c64d",
   "metadata": {},
   "source": [
    "Without having to perform lengthy UNION statements\n",
    "\n",
    "GROUPING SETS allow us to define multiple group by queries within the same query."
   ]
  },
  {
   "cell_type": "markdown",
   "id": "2587f492",
   "metadata": {},
   "source": [
    "`\n",
    "SELECT\n",
    "\tbrand,\n",
    "\tcategory,\n",
    "\tSUM (sales) sales\n",
    "FROM\n",
    "\tsales.sales_summary\n",
    "GROUP BY\n",
    "\tGROUPING SETS (\n",
    "\t\t(brand, category),\n",
    "\t\t(brand),\n",
    "\t\t(category),\n",
    "\t\t()\n",
    "\t)\n",
    "ORDER BY\n",
    "\tbrand,\n",
    "\tcategory;\n",
    "`"
   ]
  },
  {
   "cell_type": "markdown",
   "id": "14b30708",
   "metadata": {},
   "source": [
    "The result from the above query would return aggregated results for both brand and category, only brand results, only category results and neither brand or category results (total sales):\n",
    "\n",
    "**Brand Category Sales**\n",
    "\n",
    "NULL NULL 20000\n",
    "\n",
    "NULL Bikes 10000\n",
    "\n",
    "BrandA NULL 5000\n",
    "\n",
    "BrandA Bikes 2000 \n"
   ]
  },
  {
   "cell_type": "markdown",
   "id": "57772806",
   "metadata": {},
   "source": [
    "# Grouping - Cube"
   ]
  },
  {
   "cell_type": "markdown",
   "id": "5562a429",
   "metadata": {},
   "source": [
    "CUBE is a perfect follow on the GROUPING SETS () function\n",
    "\n",
    "CUBE creates all possible grouping sets  from given columns\n",
    "\n",
    "Ideal if you have more than 2 columns --- combos from 3 cols is large using GROUPING SET()..."
   ]
  },
  {
   "cell_type": "markdown",
   "id": "281574ec",
   "metadata": {},
   "source": [
    "`\n",
    "SELECT\n",
    "    d1,\n",
    "    d2,\n",
    "    d3,\n",
    "    aggregate_function (c4)\n",
    "FROM\n",
    "    table_name\n",
    "GROUP BY\n",
    "    CUBE (d1, d2, d3);  \n",
    "`"
   ]
  },
  {
   "cell_type": "markdown",
   "id": "4ee76773",
   "metadata": {},
   "source": [
    "A partial cube is used to group by brand first, then group by category AND then by NULL showing all results.\n",
    "\n",
    "**RESULTS:**\n",
    "\n",
    "brand + category \n",
    "\n",
    "brand + NULL (total brand sales)"
   ]
  },
  {
   "cell_type": "markdown",
   "id": "b27267a3",
   "metadata": {},
   "source": [
    "`\n",
    "SELECT\n",
    "    brand,\n",
    "    category,\n",
    "    SUM (sales) sales\n",
    "FROM\n",
    "    sales.sales_summary\n",
    "GROUP BY\n",
    "    brand,\n",
    "    CUBE(category);\n",
    "`"
   ]
  },
  {
   "cell_type": "markdown",
   "id": "6104e911",
   "metadata": {},
   "source": [
    "# Grouping - Roll Up"
   ]
  },
  {
   "cell_type": "markdown",
   "id": "dbc4ca8c",
   "metadata": {},
   "source": [
    "Subset of GROUP BY - assumes hierarchy - creates less sets than CUBE\n",
    "\n",
    "Often used in accounting totals, such as totals for year, month, quarter\n",
    "\n",
    "ROLLUP(d1,d2,d3) produces:\n",
    "\n",
    "(d1, d2, d3)\n",
    "(d1, d2)\n",
    "(d1)\n",
    "()"
   ]
  },
  {
   "cell_type": "markdown",
   "id": "425f604b",
   "metadata": {},
   "source": [
    "`\n",
    "SELECT\n",
    "    brand,\n",
    "    category,\n",
    "    SUM (sales) sales\n",
    "FROM\n",
    "    sales.sales_summary\n",
    "GROUP BY\n",
    "    ROLLUP(brand, category);\n",
    "`"
   ]
  },
  {
   "cell_type": "markdown",
   "id": "ed4a35ff",
   "metadata": {},
   "source": [
    "The above query returns:\n",
    "\n",
    "brand + category\n",
    "\n",
    "brand + NULL ( brand total)\n",
    "\n",
    "NULL + NULL (overall total)\n",
    "\n",
    "**RESULTS:** \n",
    "\n",
    "BrandA CategoryA 2000\n",
    "\n",
    "BrandA NULL 4000\n",
    "\n",
    "NULL NULL 6000\n"
   ]
  },
  {
   "cell_type": "markdown",
   "id": "a6d66bcd",
   "metadata": {},
   "source": [
    "`\n",
    "SELECT\n",
    "    category,\n",
    "    brand,\n",
    "    SUM (sales) sales\n",
    "FROM\n",
    "    sales.sales_summary\n",
    "GROUP BY\n",
    "    ROLLUP (category, brand)\n",
    "`"
   ]
  },
  {
   "cell_type": "markdown",
   "id": "d1e85531",
   "metadata": {},
   "source": [
    "The above produces the following results:\n",
    "    \n",
    "category + brand\n",
    "\n",
    "category + NULL (category total)\n",
    "\n",
    "NULL + NULL (overall total)"
   ]
  },
  {
   "cell_type": "markdown",
   "id": "f4e019d1",
   "metadata": {},
   "source": [
    "`\n",
    "SELECT\n",
    "    brand,\n",
    "    category,\n",
    "    SUM (sales) sales\n",
    "FROM\n",
    "    sales.sales_summary\n",
    "GROUP BY\n",
    "    brand,\n",
    "    ROLLUP (category);\n",
    "`"
   ]
  },
  {
   "cell_type": "markdown",
   "id": "fad7d689",
   "metadata": {},
   "source": [
    "The above is a 'partial' ROLLUP and will only return:\n",
    "\n",
    "brand + category\n",
    "\n",
    "brand + NULL (brand total sales)"
   ]
  },
  {
   "cell_type": "markdown",
   "id": "6cc458bf",
   "metadata": {},
   "source": []
  },
  {
   "cell_type": "markdown",
   "id": "2d934f5b",
   "metadata": {},
   "source": []
  },
  {
   "cell_type": "markdown",
   "id": "188d1762",
   "metadata": {},
   "source": []
  }
 ],
 "metadata": {
  "kernelspec": {
   "display_name": "Python 3 (ipykernel)",
   "language": "python",
   "name": "python3"
  },
  "language_info": {
   "codemirror_mode": {
    "name": "ipython",
    "version": 3
   },
   "file_extension": ".py",
   "mimetype": "text/x-python",
   "name": "python",
   "nbconvert_exporter": "python",
   "pygments_lexer": "ipython3",
   "version": "3.9.7"
  }
 },
 "nbformat": 4,
 "nbformat_minor": 5
}
