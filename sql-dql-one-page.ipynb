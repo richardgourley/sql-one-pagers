{
 "cells": [
  {
   "cell_type": "markdown",
   "id": "341f0005",
   "metadata": {},
   "source": [
    "# SQL Data Query Language - One Page"
   ]
  },
  {
   "cell_type": "markdown",
   "id": "cb6baf78",
   "metadata": {},
   "source": [
    "This one pager is a reference for all SQL DQL (Data Query Language) commands.\n",
    "Although some notes are added, this is intended to be a quick but comprehensive reference and reminder of all SQL query language commands."
   ]
  },
  {
   "cell_type": "markdown",
   "id": "2e759803",
   "metadata": {},
   "source": [
    "**CONTENTS**\n",
    "\n",
    "**1. SQL Query Order**\n",
    "\n",
    "**2. Sorting**\n",
    "\n",
    "**3. Limiting**\n",
    "\n",
    "**3. Filtering**\n",
    "\n",
    "**4. Joining Tables**\n",
    "\n",
    "**5. Grouping**\n",
    "\n",
    "**6. SubQuery**"
   ]
  },
  {
   "cell_type": "markdown",
   "id": "f2f5ce73",
   "metadata": {},
   "source": [
    "# SQL Query Order"
   ]
  },
  {
   "cell_type": "markdown",
   "id": "386eed05",
   "metadata": {},
   "source": [
    "**SQL queries are evaluated in the following order:**"
   ]
  },
  {
   "cell_type": "markdown",
   "id": "d8e51cdb",
   "metadata": {},
   "source": [
    "- FROM - choose and join tables\n",
    "- WHERE - filters the data\n",
    "- GROUP BY - aggregates the data\n",
    "- HAVING - filters the aggregated data\n",
    "- SELECT - returns the final data\n",
    "- ORDER BY - sorts the final data\n",
    "- LIMIT - limits sorted data to a row count"
   ]
  },
  {
   "cell_type": "markdown",
   "id": "a8845e88",
   "metadata": {},
   "source": [
    "# Sorting - Order By"
   ]
  },
  {
   "cell_type": "markdown",
   "id": "a0e6124e",
   "metadata": {},
   "source": [
    "`\n",
    "SELECT \n",
    "    first_name\n",
    "FROM\n",
    "    sales.customers\n",
    "ORDER BY \n",
    "    first_name DESC\n",
    "`"
   ]
  },
  {
   "cell_type": "markdown",
   "id": "9b20cd4d",
   "metadata": {},
   "source": [
    "ORDER BY multiple cols - city first, then first name eg. 'New York, Brian', 'New York, Jane'"
   ]
  },
  {
   "cell_type": "markdown",
   "id": "215f30a0",
   "metadata": {},
   "source": [
    "`\n",
    "ORDER BY \n",
    "    city,\n",
    "    first_name\n",
    "`"
   ]
  },
  {
   "cell_type": "markdown",
   "id": "41f24303",
   "metadata": {},
   "source": [
    "ORDER BY expression"
   ]
  },
  {
   "cell_type": "markdown",
   "id": "65995433",
   "metadata": {},
   "source": [
    "`\n",
    "SELECT\n",
    "    first_name\n",
    "FROM\n",
    "    sales.customers\n",
    "ORDER BY \n",
    "    LEN(first_name) DESC\n",
    "`"
   ]
  },
  {
   "cell_type": "markdown",
   "id": "70b7887b",
   "metadata": {},
   "source": [
    "# Limiting - Offset and Fetch"
   ]
  },
  {
   "cell_type": "markdown",
   "id": "10ddf065",
   "metadata": {},
   "source": [
    "OFFSET - means skip the first n rows\n",
    "\n",
    "FETCH FIRST - means how many rows to fetch\n",
    "\n",
    "- Often ORDER BY is used first, to put the data in it's correct order before limiting results."
   ]
  },
  {
   "cell_type": "markdown",
   "id": "70929ea2",
   "metadata": {},
   "source": [
    "`SELECT \n",
    "    team_name,\n",
    "    points,\n",
    "FROM \n",
    "    prem_table\n",
    "ORDER BY \n",
    "    points DESC\n",
    "OFFSET 4 ROWS\n",
    "FETCH FIRST 13 ROWS`"
   ]
  },
  {
   "cell_type": "markdown",
   "id": "2e706f86",
   "metadata": {},
   "source": [
    "# Limiting - Select Top"
   ]
  },
  {
   "cell_type": "markdown",
   "id": "34b62080",
   "metadata": {},
   "source": [
    "Get the Top n, top n%, or top nwith ties (means if tied for n number, show all tied results!)\n",
    "\n",
    "Start the query with these options and continue with a normal query"
   ]
  },
  {
   "cell_type": "markdown",
   "id": "847a8afd",
   "metadata": {},
   "source": [
    "`\n",
    "SELECT TOP 10\n",
    "SELECT TOP 1 PERCENT\n",
    "SELECT TOP 3 WITH TIES\n",
    "`"
   ]
  },
  {
   "cell_type": "markdown",
   "id": "ba10eebe",
   "metadata": {},
   "source": [
    "# Filtering - Distinct"
   ]
  },
  {
   "cell_type": "markdown",
   "id": "d8862e82",
   "metadata": {},
   "source": [
    "`\n",
    "SELECT DISTINCT \n",
    "    country\n",
    "FROM \n",
    "    sales.customers\n",
    "`"
   ]
  },
  {
   "cell_type": "markdown",
   "id": "dd90a8a2",
   "metadata": {},
   "source": [
    "Use SELECT DISTINCT with multiple cols"
   ]
  },
  {
   "cell_type": "markdown",
   "id": "2be3dea9",
   "metadata": {},
   "source": [
    "`\n",
    "SELECT DISTINCT\n",
    "    city, state\n",
    "FROM\n",
    "    sales.customers\n",
    "`"
   ]
  },
  {
   "cell_type": "markdown",
   "id": "a9995ed0",
   "metadata": {},
   "source": [
    "# Filtering - And Or"
   ]
  },
  {
   "cell_type": "markdown",
   "id": "3922a77e",
   "metadata": {},
   "source": [
    "- AND is always evaluated first\n",
    "- This query acts as: get brand_id = 1 OR (brand_id = 2 AND list_price > 40)"
   ]
  },
  {
   "cell_type": "markdown",
   "id": "27d39c6e",
   "metadata": {},
   "source": [
    "`\n",
    "SELECT \n",
    "    product_name,\n",
    "    brand_id,\n",
    "    list_price\n",
    "FROM \n",
    "    production.products\n",
    "WHERE\n",
    "    brand_id = 1\n",
    "OR\n",
    "    brand_id = 2\n",
    "AND \n",
    "    list_price > 40\n",
    "`"
   ]
  },
  {
   "cell_type": "markdown",
   "id": "dc2c437b",
   "metadata": {},
   "source": [
    "USE parenthesis to make sure you retrieve correct data"
   ]
  },
  {
   "cell_type": "markdown",
   "id": "4c85483c",
   "metadata": {},
   "source": [
    "`\n",
    "WHERE\n",
    "    (brand_id 1 OR brand_id = 2)\n",
    "AND\n",
    "    list_price > 40\n",
    "`"
   ]
  },
  {
   "cell_type": "markdown",
   "id": "5b2e527f",
   "metadata": {},
   "source": [
    "**Use the IN operator** - equivalent to many OR statements"
   ]
  },
  {
   "cell_type": "markdown",
   "id": "63e7f540",
   "metadata": {},
   "source": [
    "`\n",
    "SELECT \n",
    "    product_id,\n",
    "    brand_id\n",
    "FROM\n",
    "    products\n",
    "WHERE\n",
    "    brand_id IN(1,2,3,4)\n",
    "`"
   ]
  },
  {
   "cell_type": "markdown",
   "id": "6310ef6a",
   "metadata": {},
   "source": [
    "# Filtering - Between/ Not Between"
   ]
  },
  {
   "cell_type": "markdown",
   "id": "c734e1a5",
   "metadata": {},
   "source": [
    "`\n",
    "SELECT\n",
    "    product_id,\n",
    "    product_name,\n",
    "    list_price\n",
    "FROM\n",
    "    production.products\n",
    "WHERE\n",
    "    list_price NOT BETWEEN 149.99 AND 199.99\n",
    "`"
   ]
  },
  {
   "cell_type": "markdown",
   "id": "e8e5e7bb",
   "metadata": {},
   "source": [
    "Between dates example\n",
    "\n",
    "Use a string literal 'YYYYMMDD'"
   ]
  },
  {
   "cell_type": "markdown",
   "id": "c11c9b4e",
   "metadata": {},
   "source": [
    "`\n",
    "WHERE\n",
    "    order_date BETWEEN '20170115' AND '20170117\n",
    "`"
   ]
  },
  {
   "cell_type": "markdown",
   "id": "da2c8d8f",
   "metadata": {},
   "source": [
    "# Filtering - Like"
   ]
  },
  {
   "cell_type": "markdown",
   "id": "bb377920",
   "metadata": {},
   "source": [
    "`\n",
    "WHERE\n",
    "    last_name LIKE 'z%'\n",
    "`"
   ]
  },
  {
   "cell_type": "markdown",
   "id": "2deb24f3",
   "metadata": {},
   "source": [
    "`\n",
    "WHERE\n",
    "    last_name LIKE '%er'\n",
    "`"
   ]
  },
  {
   "cell_type": "markdown",
   "id": "3b19d70d",
   "metadata": {},
   "source": [
    "`\n",
    "WHERE\n",
    "    last_name LIKE 't%s'\n",
    "`"
   ]
  },
  {
   "cell_type": "markdown",
   "id": "23c70c2f",
   "metadata": {},
   "source": [
    "`\n",
    "WHERE\n",
    "    last_name LIKE '_u%'\n",
    "`"
   ]
  },
  {
   "cell_type": "markdown",
   "id": "724049e1",
   "metadata": {},
   "source": [
    "Wilcard [] means either of these"
   ]
  },
  {
   "cell_type": "markdown",
   "id": "f58d1aa8",
   "metadata": {},
   "source": [
    "`\n",
    "WHERE\n",
    "    last_name LIKE '[ZY]%'\n",
    "`"
   ]
  },
  {
   "cell_type": "markdown",
   "id": "0f463656",
   "metadata": {},
   "source": [
    "[^A-X] means not starting with this range"
   ]
  },
  {
   "cell_type": "markdown",
   "id": "58147610",
   "metadata": {},
   "source": [
    "`\n",
    "WHERE\n",
    "    last_name LIKE '[^A-X]%'\n",
    "`"
   ]
  },
  {
   "cell_type": "markdown",
   "id": "ad55c54d",
   "metadata": {},
   "source": [
    "Escape clause allows us to use wilcard characters like '%'"
   ]
  },
  {
   "cell_type": "markdown",
   "id": "ccc7dd7c",
   "metadata": {},
   "source": [
    "`\n",
    "WHERE \n",
    "    comment LIKE '%30!%%' ESCAPE '!';\n",
    "`"
   ]
  },
  {
   "cell_type": "markdown",
   "id": "7ff308ac",
   "metadata": {},
   "source": [
    "# Filtering - Column Aliases"
   ]
  },
  {
   "cell_type": "markdown",
   "id": "efd5c5b6",
   "metadata": {},
   "source": [
    "`\n",
    "SELECT\n",
    "    first_name + ' ' + last_name AS full_name\n",
    "`"
   ]
  },
  {
   "cell_type": "markdown",
   "id": "fe7831b9",
   "metadata": {},
   "source": [
    "Use ' ' for spaces in alias"
   ]
  },
  {
   "cell_type": "markdown",
   "id": "6774af1e",
   "metadata": {},
   "source": [
    "`\n",
    "SELECT\n",
    "    first_name + ' ' + last_name AS 'Full Name'\n",
    "`"
   ]
  },
  {
   "cell_type": "markdown",
   "id": "47295c01",
   "metadata": {},
   "source": [
    "Use aliases for joining tables"
   ]
  },
  {
   "cell_type": "markdown",
   "id": "4fd5aaac",
   "metadata": {},
   "source": [
    "`\n",
    "SELECT\n",
    "    c.customer_id,\n",
    "    first_name,\n",
    "FROM\n",
    "    sales.customers c\n",
    "INNER JOIN sales.orders o ON o.customer_id = c.customer_id\n",
    "`"
   ]
  },
  {
   "cell_type": "markdown",
   "id": "cc059ffb",
   "metadata": {},
   "source": [
    "# Joining Tables - Inner Join"
   ]
  },
  {
   "cell_type": "markdown",
   "id": "a4f7b41c",
   "metadata": {},
   "source": [
    "Find all in both tables"
   ]
  },
  {
   "cell_type": "markdown",
   "id": "a3375a67",
   "metadata": {},
   "source": [
    "`\n",
    "SELECT \n",
    "    c.id candidate_id,\n",
    "    c.full_name candidate_name,\n",
    "    e.id employeed_id,\n",
    "    e.full_name employee_name\n",
    "FROM \n",
    "    candidates c\n",
    "    INNER JOIN \n",
    "        employees e\n",
    "        ON c.id = e.id\n",
    "`"
   ]
  },
  {
   "cell_type": "markdown",
   "id": "ed7fb7ea",
   "metadata": {},
   "source": [
    "Use joins to get information from other tables.\n",
    "\n",
    "Often we want to retrieve a name instead of an id"
   ]
  },
  {
   "cell_type": "markdown",
   "id": "68ce6741",
   "metadata": {},
   "source": [
    "`\n",
    "SELECT \n",
    "    product_name, \n",
    "    category_name,\n",
    "    list_price\n",
    "FROM \n",
    "    production.products p\n",
    "    INNER JOIN production.categories c\n",
    "        ON p.category_id = c.category_id\n",
    "`"
   ]
  },
  {
   "cell_type": "markdown",
   "id": "65772f43",
   "metadata": {},
   "source": [
    "# Joining Tables - Left Join"
   ]
  },
  {
   "cell_type": "markdown",
   "id": "5a1847c0",
   "metadata": {},
   "source": [
    "Return ALL candidates, not just matching ones in employees table -  NULL will appear if not in employee table"
   ]
  },
  {
   "cell_type": "markdown",
   "id": "36865af3",
   "metadata": {},
   "source": [
    "`\n",
    "SELECT  \n",
    "    c.id candidate_id,\n",
    "    c.fullname candidate_name,\n",
    "    e.id employee_id,\n",
    "    e.fullname employee_name\n",
    "FROM \n",
    "    hr.candidates c\n",
    "    LEFT JOIN hr.employees e \n",
    "        ON e.fullname = c.fullname\n",
    "`"
   ]
  },
  {
   "cell_type": "markdown",
   "id": "67de55be",
   "metadata": {},
   "source": [
    "List all product names with order_id (NULL will appear for any unsold products (products without order_id))"
   ]
  },
  {
   "cell_type": "markdown",
   "id": "29c7c43e",
   "metadata": {},
   "source": [
    "`\n",
    "SELECT\n",
    "    product_name,\n",
    "    order_id\n",
    "FROM\n",
    "    production.products p\n",
    "    LEFT JOIN sales.order_items o \n",
    "        ON o.product_id = p.product_id\n",
    "    ORDER BY\n",
    "        order_id;\n",
    "`"
   ]
  },
  {
   "cell_type": "markdown",
   "id": "1027b1ad",
   "metadata": {},
   "source": [
    "# Joining Tables - Right Join"
   ]
  },
  {
   "cell_type": "markdown",
   "id": "7e6cfb69",
   "metadata": {},
   "source": [
    "Opposite of left join"
   ]
  },
  {
   "cell_type": "markdown",
   "id": "eb5e0e62",
   "metadata": {},
   "source": [
    "Show all employees in the right column, showing if they appear in the candidates table (or NULL) in the left column."
   ]
  },
  {
   "cell_type": "markdown",
   "id": "d772dce7",
   "metadata": {},
   "source": [
    "`\n",
    "SELECT \n",
    "    c.id candidate_id,\n",
    "    c.full_name candidate_name,\n",
    "    e.id employee_id,\n",
    "    e.full_name employee_name\n",
    "FROM \n",
    "    candidates c\n",
    "    RIGHT JOIN employees e\n",
    "        ON c.full_name = e.full_name\n",
    "`"
   ]
  },
  {
   "cell_type": "markdown",
   "id": "f83fd1c7",
   "metadata": {},
   "source": [
    "# Joining Tables - Full Outer Join"
   ]
  },
  {
   "cell_type": "markdown",
   "id": "8e0b8ef3",
   "metadata": {},
   "source": [
    "Mix of left and right joins\n",
    "\n",
    "Will show all canditates from left table, all employees from right and display if they appear in both tables or show NULL if they appear in one but not the other."
   ]
  },
  {
   "cell_type": "markdown",
   "id": "8229f073",
   "metadata": {},
   "source": [
    "`\n",
    "SELECT  \n",
    "    c.id candidate_id,\n",
    "    c.fullname candidate_name,\n",
    "    e.id employee_id,\n",
    "    e.fullname employee_name\n",
    "FROM \n",
    "    hr.candidates c\n",
    "    FULL JOIN hr.employees e \n",
    "        ON e.fullname = c.fullname;\n",
    "`"
   ]
  },
  {
   "cell_type": "markdown",
   "id": "eb5bd821",
   "metadata": {},
   "source": [
    "RESULTS LIKE THIS:\n",
    "\n",
    "1 John Doe 1 John Doe\n",
    "\n",
    "2 Jane Smith NULL NULL\n",
    "\n",
    "NULL NULL 2 Pete Jones"
   ]
  },
  {
   "cell_type": "markdown",
   "id": "75943e76",
   "metadata": {},
   "source": [
    "# Joining Tables - Cross Join"
   ]
  },
  {
   "cell_type": "markdown",
   "id": "aba31f8c",
   "metadata": {},
   "source": [
    "Called a CARTESIAN JOIN\n",
    "\n",
    "Will create all possible combinations.\n",
    "\n",
    "Often used as part of a query that will be used with a sub query\n",
    "\n",
    "Store and Product match is a good example - will show all stores and product combinations..."
   ]
  },
  {
   "cell_type": "markdown",
   "id": "93e5b5bf",
   "metadata": {},
   "source": [
    "`\n",
    "SELECT\n",
    "    s.store_id,\n",
    "    p.product_id,\n",
    "    ISNULL(sales, 0) sales\n",
    "FROM\n",
    "    sales.stores s\n",
    "CROSS JOIN production.products p\n",
    "    LEFT JOIN (....SUB QUERY...)\n",
    "`"
   ]
  },
  {
   "cell_type": "markdown",
   "id": "cf943969",
   "metadata": {},
   "source": [
    "# Joining Tables - Self Join"
   ]
  },
  {
   "cell_type": "markdown",
   "id": "96246f50",
   "metadata": {},
   "source": [
    "Two versions of same table used (with aliases)\n",
    "\n",
    "Often used for hierarchy queries such as employees and managers in the same table."
   ]
  },
  {
   "cell_type": "markdown",
   "id": "1ea98a3d",
   "metadata": {},
   "source": [
    "`\n",
    "SELECT\n",
    "    e.full_name employee,\n",
    "    m.full_name manager\n",
    "FROM \n",
    "    employees e\n",
    "    LEFT JOIN employees m\n",
    "    ON m.employee_id = e.manager_id\n",
    "`"
   ]
  },
  {
   "cell_type": "markdown",
   "id": "cb834c29",
   "metadata": {},
   "source": [
    "# Grouping - Group By"
   ]
  },
  {
   "cell_type": "markdown",
   "id": "f6d58075",
   "metadata": {},
   "source": [
    " COUNT num of orders per year per customer, eg. 1,2016,2...1,2017,1....2,2017,2...2,2018,1 etc."
   ]
  },
  {
   "cell_type": "markdown",
   "id": "8d97e52b",
   "metadata": {},
   "source": [
    "`\n",
    "SELECT\n",
    "    customer_id,\n",
    "    YEAR (order_date) order_year,\n",
    "    COUNT (order_id) order_placed\n",
    "FROM\n",
    "    sales.orders\n",
    "WHERE\n",
    "    customer_id IN (1, 2)\n",
    "GROUP BY\n",
    "    customer_id,\n",
    "    YEAR (order_date)\n",
    "ORDER BY\n",
    "    customer_id; \n",
    "`"
   ]
  },
  {
   "cell_type": "markdown",
   "id": "85df2bad",
   "metadata": {},
   "source": [
    "COUNT customers in every city"
   ]
  },
  {
   "cell_type": "markdown",
   "id": "2ae59054",
   "metadata": {},
   "source": [
    "`\n",
    "SELECT\n",
    "    city,\n",
    "    COUNT (customer_id) customer_count\n",
    "FROM\n",
    "    sales.customers\n",
    "GROUP BY\n",
    "    city\n",
    "ORDER BY\n",
    "    city;\n",
    "`"
   ]
  },
  {
   "cell_type": "markdown",
   "id": "511e59c7",
   "metadata": {},
   "source": [
    "Get AVG list price (join used to retrieve brand name)"
   ]
  },
  {
   "cell_type": "markdown",
   "id": "4fdb9c88",
   "metadata": {},
   "source": [
    "`\n",
    "SELECT\n",
    "    brand_name,\n",
    "    AVG (list_price) avg_price\n",
    "FROM\n",
    "    production.products p\n",
    "INNER JOIN production.brands b ON b.brand_id = p.brand_id\n",
    "WHERE\n",
    "    model_year = 2018\n",
    "GROUP BY\n",
    "    brand_name\n",
    "ORDER BY\n",
    "    brand_name;\n",
    "`"
   ]
  },
  {
   "cell_type": "markdown",
   "id": "dfc2abd2",
   "metadata": {},
   "source": [
    "Get net value of every order using SUM()"
   ]
  },
  {
   "cell_type": "markdown",
   "id": "aed62378",
   "metadata": {},
   "source": [
    "`\n",
    "SELECT\n",
    "    order_id,\n",
    "    SUM (\n",
    "        quantity * list_price * (1 - discount)\n",
    "    ) net_value\n",
    "FROM\n",
    "    sales.order_items\n",
    "GROUP BY\n",
    "    order_id;\n",
    "`"
   ]
  },
  {
   "cell_type": "markdown",
   "id": "534bdfc0",
   "metadata": {},
   "source": [
    "# Grouping - Having"
   ]
  },
  {
   "cell_type": "markdown",
   "id": "42b86be3",
   "metadata": {},
   "source": [
    "HAVING is similar to WHERE clause, often used to filter GROUP BY\n",
    "\n",
    "NOTE - HAVING is evaluated later in the query, so calculations not column aliases are used.\n"
   ]
  },
  {
   "cell_type": "markdown",
   "id": "d45f0291",
   "metadata": {},
   "source": [
    "`\n",
    "SELECT \n",
    "    salesperson_name,\n",
    "    SUM(sales) sales_total\n",
    "FROM \n",
    "    sales\n",
    "GROUP BY \n",
    "    salesperson_name\n",
    "HAVING \n",
    "    SUM(sales) < 2000\n",
    "`"
   ]
  },
  {
   "cell_type": "markdown",
   "id": "c8eaf1f1",
   "metadata": {},
   "source": [
    "`\n",
    "SELECT\n",
    "    category_id,\n",
    "    MAX (list_price) max_list_price,\n",
    "    MIN (list_price) min_list_price\n",
    "FROM\n",
    "    production.products\n",
    "GROUP BY\n",
    "    category_id\n",
    "HAVING\n",
    "    MAX (list_price) > 4000 OR MIN (list_price) < 500;\n",
    "`"
   ]
  },
  {
   "cell_type": "markdown",
   "id": "57358306",
   "metadata": {},
   "source": [
    "`\n",
    "SELECT\n",
    "    category_id,\n",
    "    AVG (list_price) avg_list_price\n",
    "FROM\n",
    "    production.products\n",
    "GROUP BY\n",
    "    category_id\n",
    "HAVING\n",
    "    AVG (list_price) BETWEEN 500 AND 1000;\n",
    "`"
   ]
  },
  {
   "cell_type": "markdown",
   "id": "4f14faab",
   "metadata": {},
   "source": [
    "# Grouping - Grouping Sets"
   ]
  },
  {
   "cell_type": "markdown",
   "id": "496fa5ff",
   "metadata": {},
   "source": [
    "Without having to perform lengthy UNION statements\n",
    "\n",
    "GROUPING SETS allow us to define multiple group by queries within the same query."
   ]
  },
  {
   "cell_type": "markdown",
   "id": "c5acb7d5",
   "metadata": {},
   "source": [
    "`\n",
    "SELECT\n",
    "\tbrand,\n",
    "\tcategory,\n",
    "\tSUM (sales) sales\n",
    "FROM\n",
    "\tsales.sales_summary\n",
    "GROUP BY\n",
    "\tGROUPING SETS (\n",
    "\t\t(brand, category),\n",
    "\t\t(brand),\n",
    "\t\t(category),\n",
    "\t\t()\n",
    "\t)\n",
    "ORDER BY\n",
    "\tbrand,\n",
    "\tcategory;\n",
    "`"
   ]
  },
  {
   "cell_type": "markdown",
   "id": "fedacb13",
   "metadata": {},
   "source": [
    "The result from the above query would return aggregated results for both brand and category, only brand results, only category results and neither brand or category results (total sales):\n",
    "\n",
    "**Brand Category Sales**\n",
    "\n",
    "NULL NULL 20000\n",
    "\n",
    "NULL Bikes 10000\n",
    "\n",
    "BrandA NULL 5000\n",
    "\n",
    "BrandA Bikes 2000 \n"
   ]
  },
  {
   "cell_type": "markdown",
   "id": "afae355c",
   "metadata": {},
   "source": [
    "# Grouping - Cube"
   ]
  },
  {
   "cell_type": "markdown",
   "id": "f0d3f77a",
   "metadata": {},
   "source": [
    "CUBE is a perfect follow on the GROUPING SETS () function\n",
    "\n",
    "CUBE creates all possible grouping sets  from given columns\n",
    "\n",
    "Ideal if you have more than 2 columns --- combos from 3 cols is large using GROUPING SET()..."
   ]
  },
  {
   "cell_type": "markdown",
   "id": "4fefc531",
   "metadata": {},
   "source": [
    "`\n",
    "SELECT\n",
    "    d1,\n",
    "    d2,\n",
    "    d3,\n",
    "    aggregate_function (c4)\n",
    "FROM\n",
    "    table_name\n",
    "GROUP BY\n",
    "    CUBE (d1, d2, d3);  \n",
    "`"
   ]
  },
  {
   "cell_type": "markdown",
   "id": "b8d66e97",
   "metadata": {},
   "source": [
    "A partial cube is used to group by brand first, then group by category AND then by NULL showing all results.\n",
    "\n",
    "**RESULTS:**\n",
    "\n",
    "brand + category \n",
    "\n",
    "brand + NULL (total brand sales)"
   ]
  },
  {
   "cell_type": "markdown",
   "id": "684ed367",
   "metadata": {},
   "source": [
    "`\n",
    "SELECT\n",
    "    brand,\n",
    "    category,\n",
    "    SUM (sales) sales\n",
    "FROM\n",
    "    sales.sales_summary\n",
    "GROUP BY\n",
    "    brand,\n",
    "    CUBE(category);\n",
    "`"
   ]
  },
  {
   "cell_type": "markdown",
   "id": "0ef5a023",
   "metadata": {},
   "source": [
    "# Grouping - Roll Up"
   ]
  },
  {
   "cell_type": "markdown",
   "id": "e0c9a2d8",
   "metadata": {},
   "source": [
    "Subset of GROUP BY - assumes hierarchy - creates less sets than CUBE\n",
    "\n",
    "Often used in accounting totals, such as totals for year, month, quarter\n",
    "\n",
    "ROLLUP(d1,d2,d3) produces:\n",
    "\n",
    "(d1, d2, d3)\n",
    "(d1, d2)\n",
    "(d1)\n",
    "()"
   ]
  },
  {
   "cell_type": "markdown",
   "id": "cd9e7cdb",
   "metadata": {},
   "source": [
    "`\n",
    "SELECT\n",
    "    brand,\n",
    "    category,\n",
    "    SUM (sales) sales\n",
    "FROM\n",
    "    sales.sales_summary\n",
    "GROUP BY\n",
    "    ROLLUP(brand, category);\n",
    "`"
   ]
  },
  {
   "cell_type": "markdown",
   "id": "fc4c9825",
   "metadata": {},
   "source": [
    "The above query returns:\n",
    "\n",
    "brand + category\n",
    "\n",
    "brand + NULL ( brand total)\n",
    "\n",
    "NULL + NULL (overall total)\n",
    "\n",
    "**RESULTS:** \n",
    "\n",
    "BrandA CategoryA 2000\n",
    "\n",
    "BrandA NULL 4000\n",
    "\n",
    "NULL NULL 6000\n"
   ]
  },
  {
   "cell_type": "markdown",
   "id": "55edd4ad",
   "metadata": {},
   "source": [
    "`\n",
    "SELECT\n",
    "    category,\n",
    "    brand,\n",
    "    SUM (sales) sales\n",
    "FROM\n",
    "    sales.sales_summary\n",
    "GROUP BY\n",
    "    ROLLUP (category, brand)\n",
    "`"
   ]
  },
  {
   "cell_type": "markdown",
   "id": "39bb821f",
   "metadata": {},
   "source": [
    "The above produces the following results:\n",
    "    \n",
    "category + brand\n",
    "\n",
    "category + NULL (category total)\n",
    "\n",
    "NULL + NULL (overall total)"
   ]
  },
  {
   "cell_type": "markdown",
   "id": "610b935d",
   "metadata": {},
   "source": [
    "`\n",
    "SELECT\n",
    "    brand,\n",
    "    category,\n",
    "    SUM (sales) sales\n",
    "FROM\n",
    "    sales.sales_summary\n",
    "GROUP BY\n",
    "    brand,\n",
    "    ROLLUP (category);\n",
    "`"
   ]
  },
  {
   "cell_type": "markdown",
   "id": "88545a32",
   "metadata": {},
   "source": [
    "The above is a 'partial' ROLLUP and will only return:\n",
    "\n",
    "brand + category\n",
    "\n",
    "brand + NULL (brand total sales)"
   ]
  },
  {
   "cell_type": "markdown",
   "id": "b6acbdde",
   "metadata": {},
   "source": [
    "# SubQuery - Overview"
   ]
  },
  {
   "cell_type": "markdown",
   "id": "f9654138",
   "metadata": {},
   "source": [
    "A subquery is evaluated first.\n",
    "\n",
    "In this example, the subquery obtaining all customer_id of customers in New York is evaluated and returned first\n",
    "..."
   ]
  },
  {
   "cell_type": "markdown",
   "id": "a5ff5031",
   "metadata": {},
   "source": [
    "`\n",
    "SELECT\n",
    "    order_id,\n",
    "    order_date,\n",
    "    customer_id\n",
    "FROM\n",
    "    sales.orders\n",
    "WHERE\n",
    "    customer_id IN (\n",
    "        SELECT\n",
    "            customer_id\n",
    "        FROM\n",
    "            sales.customers\n",
    "        WHERE\n",
    "            city = 'New York'\n",
    "    )\n",
    "ORDER BY\n",
    "    order_date DESC;\n",
    "`"
   ]
  },
  {
   "cell_type": "markdown",
   "id": "7ede843a",
   "metadata": {},
   "source": [
    "A subquery can be used as a column expression where a single result is returned:"
   ]
  },
  {
   "cell_type": "markdown",
   "id": "d19278cf",
   "metadata": {},
   "source": [
    "`\n",
    "SELECT\n",
    "    order_id,\n",
    "    order_date,\n",
    "    (\n",
    "        SELECT\n",
    "            MAX (list_price)\n",
    "        FROM\n",
    "            sales.order_items i\n",
    "        WHERE\n",
    "            i.order_id = o.order_id\n",
    "    ) AS max_list_price\n",
    "FROM\n",
    "    sales.orders o\n",
    "ORDER BY order_date desc;\n",
    "`"
   ]
  },
  {
   "cell_type": "markdown",
   "id": "6d2ad15d",
   "metadata": {},
   "source": [
    "Subquery can be used with:\n",
    "\n",
    "IN\n",
    "\n",
    "ANY\n",
    "\n",
    "ALL\n",
    "\n",
    "EXISTS/ NOT EXISTS\n",
    "\n",
    "FROM"
   ]
  },
  {
   "cell_type": "markdown",
   "id": "f2f5d64b",
   "metadata": {},
   "source": [
    "# SubQuery - Correlated SubQuery"
   ]
  },
  {
   "cell_type": "markdown",
   "id": "1c399164",
   "metadata": {},
   "source": [
    "A correlated subquery is repeated for every row in the outer query.\n",
    "\n"
   ]
  },
  {
   "cell_type": "markdown",
   "id": "95635df7",
   "metadata": {},
   "source": [
    "A correlated subquery requires the outer query table."
   ]
  },
  {
   "cell_type": "markdown",
   "id": "be1c3c5e",
   "metadata": {},
   "source": [
    "This query finds products whose list price is equal to the highest list price of products in the same category:"
   ]
  },
  {
   "cell_type": "markdown",
   "id": "5946b249",
   "metadata": {},
   "source": [
    "`\n",
    "SELECT\n",
    "    product_name,\n",
    "    list_price,\n",
    "    category_id\n",
    "FROM\n",
    "    production.products p1\n",
    "WHERE\n",
    "    list_price IN (\n",
    "        SELECT\n",
    "            MAX (p2.list_price)\n",
    "        FROM\n",
    "            production.products p2\n",
    "        WHERE\n",
    "            p2.category_id = p1.category_id\n",
    "        GROUP BY\n",
    "            p2.category_id\n",
    "    )\n",
    "ORDER BY\n",
    "    category_id,\n",
    "    product_name;\n",
    "`"
   ]
  },
  {
   "cell_type": "markdown",
   "id": "33fa43a1",
   "metadata": {},
   "source": [
    "In the above query for each product row, the query asks... \n",
    "\n",
    "Does this row have the same category_id as the MAX list price category_id?\n",
    "\n",
    "If yes, add it to the result\n",
    "\n",
    "If no, go on to the next row!"
   ]
  },
  {
   "cell_type": "markdown",
   "id": "5ffd0b84",
   "metadata": {},
   "source": [
    "# SubQuery - Exists"
   ]
  },
  {
   "cell_type": "markdown",
   "id": "56beb454",
   "metadata": {},
   "source": [
    "EXISTS (subquery) evaluates to TRUE if the subquery matches and stops searching."
   ]
  },
  {
   "cell_type": "markdown",
   "id": "d7676ac5",
   "metadata": {},
   "source": [
    "NOTE: If the subquery returns NULL, it evaluates to TRUE and returns the row"
   ]
  },
  {
   "cell_type": "markdown",
   "id": "ac4fec49",
   "metadata": {},
   "source": [
    "This SUBQUERY finds all customer_id grouped together by numver of appearances in order table.  Then its filtered to only include customer_id whose count is more than 2."
   ]
  },
  {
   "cell_type": "markdown",
   "id": "66058e89",
   "metadata": {},
   "source": [
    "In this query, the subquery returns a grouped total count of customer_ids appearances in the 'sales.orders' table.\n",
    "\n",
    "- If the customer_id for each row EXISTS in the sub query (where customer_id count is greater than 2) then that customer_id and first_name, last_name is returned (TRUE evaluation)\n",
    "\n",
    "- If the customer_id doesnt EXIST, then that customer is not added. (FALSE evaluation)\n",
    "\n",
    "- The question asked is for EVERY ROW, does this customer appear in the subquery table?"
   ]
  },
  {
   "cell_type": "markdown",
   "id": "b53846f5",
   "metadata": {},
   "source": [
    "`\n",
    "SELECT\n",
    "    customer_id,\n",
    "    first_name,\n",
    "    last_name\n",
    "FROM\n",
    "    sales.customers c\n",
    "WHERE\n",
    "    EXISTS (\n",
    "        SELECT\n",
    "            COUNT (*)\n",
    "        FROM\n",
    "            sales.orders o\n",
    "        WHERE\n",
    "            customer_id = c.customer_id\n",
    "        GROUP BY\n",
    "            customer_id\n",
    "        HAVING\n",
    "            COUNT (*) > 2\n",
    "    )\n",
    "ORDER BY\n",
    "    first_name,\n",
    "    last_name;\n",
    "`"
   ]
  },
  {
   "cell_type": "markdown",
   "id": "8ca2bd44",
   "metadata": {},
   "source": [
    "EXISTS makes use of a correlated subquery (relying on matching a row like customer_id from the outer table.\n",
    "\n",
    "A simpler IN subquery can stand alone as a query (not correlated sub query)\n",
    "\n",
    "2 examples - same result:"
   ]
  },
  {
   "cell_type": "markdown",
   "id": "313bd9ab",
   "metadata": {},
   "source": [
    "`\n",
    "SELECT\n",
    "    *\n",
    "FROM\n",
    "    sales.orders\n",
    "WHERE\n",
    "    customer_id IN (\n",
    "        SELECT\n",
    "            customer_id\n",
    "        FROM\n",
    "            sales.customers\n",
    "        WHERE\n",
    "            city = 'San Jose'\n",
    "    )\n",
    "ORDER BY\n",
    "    customer_id,\n",
    "    order_date;\n",
    "`"
   ]
  },
  {
   "cell_type": "markdown",
   "id": "4aaf9491",
   "metadata": {},
   "source": [
    "`\n",
    "SELECT\n",
    "    *\n",
    "FROM\n",
    "    sales.orders o\n",
    "WHERE\n",
    "    EXISTS (\n",
    "        SELECT\n",
    "            customer_id\n",
    "        FROM\n",
    "            sales.customers c\n",
    "        WHERE\n",
    "            o.customer_id = c.customer_id\n",
    "        AND city = 'San Jose'\n",
    "    )\n",
    "ORDER BY\n",
    "    o.customer_id,\n",
    "    order_date;\n",
    "`"
   ]
  },
  {
   "cell_type": "markdown",
   "id": "b8c22fae",
   "metadata": {},
   "source": [
    "NOTE: A key difference between JOIN and EXISTS is that you might want to check that somebody or something exists in another table WITHOUT getting data from the other table.\n",
    "\n",
    "With JOIN, you actively want to get columns from another table.\n",
    "\n",
    "EXISTS merely checks they exist in another table!"
   ]
  },
  {
   "cell_type": "markdown",
   "id": "701f6951",
   "metadata": {},
   "source": [
    "# SubQuery - Any"
   ]
  },
  {
   "cell_type": "markdown",
   "id": "b769c134",
   "metadata": {},
   "source": [
    "ANY is used with conditional operators = > < to compare the rows of an outer query with a match of an inner query."
   ]
  },
  {
   "cell_type": "markdown",
   "id": "eddac701",
   "metadata": {},
   "source": [
    "This query finds ANY product that was sold with more than 2 items in the order."
   ]
  },
  {
   "cell_type": "markdown",
   "id": "253c0f29",
   "metadata": {},
   "source": [
    "`\n",
    "SELECT\n",
    "    product_name,\n",
    "    list_price\n",
    "FROM\n",
    "    production.products\n",
    "WHERE\n",
    "    product_id = ANY (\n",
    "        SELECT\n",
    "            product_id\n",
    "        FROM\n",
    "            sales.order_items\n",
    "        WHERE\n",
    "            quantity >= 2\n",
    "    )\n",
    "ORDER BY\n",
    "    product_name;\n",
    "`"
   ]
  },
  {
   "cell_type": "markdown",
   "id": "f3382dd8",
   "metadata": {},
   "source": [
    "# SubQuery - All"
   ]
  },
  {
   "cell_type": "markdown",
   "id": "a7e8a014",
   "metadata": {},
   "source": [
    "ALL is used with conditional operators = > < to compare the rows of an outer query with a match of an inner query."
   ]
  },
  {
   "cell_type": "markdown",
   "id": "d2a28daa",
   "metadata": {},
   "source": [
    "The key here is that ALL conditions must match to return TRUE and include the outer row in the result set."
   ]
  },
  {
   "cell_type": "markdown",
   "id": "9a0324bb",
   "metadata": {},
   "source": [
    "This query returns all products whose list price is greater than ALL of the average list prices grouped by brand."
   ]
  },
  {
   "cell_type": "markdown",
   "id": "7ec48a66",
   "metadata": {},
   "source": [
    "`\n",
    "SELECT\n",
    "    product_name,\n",
    "    list_price\n",
    "FROM\n",
    "    production.products\n",
    "WHERE\n",
    "    list_price > ALL (\n",
    "        SELECT\n",
    "            AVG (list_price) avg_list_price\n",
    "        FROM\n",
    "            production.products\n",
    "        GROUP BY\n",
    "            brand_id\n",
    "    )\n",
    "ORDER BY\n",
    "    list_price;\n",
    "`"
   ]
  }
 ],
 "metadata": {
  "kernelspec": {
   "display_name": "Python 3 (ipykernel)",
   "language": "python",
   "name": "python3"
  },
  "language_info": {
   "codemirror_mode": {
    "name": "ipython",
    "version": 3
   },
   "file_extension": ".py",
   "mimetype": "text/x-python",
   "name": "python",
   "nbconvert_exporter": "python",
   "pygments_lexer": "ipython3",
   "version": "3.9.7"
  }
 },
 "nbformat": 4,
 "nbformat_minor": 5
}
