{
 "cells": [
  {
   "cell_type": "markdown",
   "id": "87e6e15b",
   "metadata": {},
   "source": [
    "# SQL Data Query Language - One Page (Syntax Only)"
   ]
  },
  {
   "cell_type": "markdown",
   "id": "3e4eecdf",
   "metadata": {},
   "source": [
    "- This page contains query examples only as a syntax reference."
   ]
  },
  {
   "cell_type": "markdown",
   "id": "068b437d",
   "metadata": {},
   "source": [
    "# 4 FILTERING"
   ]
  },
  {
   "cell_type": "markdown",
   "id": "1d09591f",
   "metadata": {},
   "source": [
    "## 4a. Filtering - Distinct"
   ]
  },
  {
   "cell_type": "markdown",
   "id": "dfe07816",
   "metadata": {},
   "source": [
    "```SQL\n",
    "SELECT DISTINCT \n",
    "    country\n",
    "FROM \n",
    "    sales.customers\n",
    "```"
   ]
  },
  {
   "cell_type": "markdown",
   "id": "c31a662c",
   "metadata": {},
   "source": [
    "## 4b. Filtering - AND, OR, IN"
   ]
  },
  {
   "cell_type": "markdown",
   "id": "76f28406",
   "metadata": {},
   "source": [
    "```SQL\n",
    "SELECT \n",
    "    product_name,\n",
    "    brand_id,\n",
    "    list_price\n",
    "FROM \n",
    "    production.products\n",
    "WHERE\n",
    "    (brand_id 1 OR brand_id = 2)\n",
    "AND\n",
    "    list_price > 40\n",
    "```"
   ]
  },
  {
   "cell_type": "markdown",
   "id": "fa07b8dd",
   "metadata": {},
   "source": [
    "----"
   ]
  },
  {
   "cell_type": "markdown",
   "id": "1e2151a8",
   "metadata": {},
   "source": [
    "```SQL\n",
    "SELECT \n",
    "    product_id,\n",
    "    brand_id\n",
    "FROM\n",
    "    products\n",
    "WHERE\n",
    "    brand_id IN(1,2,3,4)\n",
    "```"
   ]
  },
  {
   "cell_type": "markdown",
   "id": "eed658e4",
   "metadata": {},
   "source": [
    "## 4c. Filtering - Between, Not Between"
   ]
  },
  {
   "cell_type": "markdown",
   "id": "e367c5c3",
   "metadata": {},
   "source": [
    "```SQL\n",
    "SELECT\n",
    "    product_id,\n",
    "    product_name,\n",
    "    list_price\n",
    "FROM\n",
    "    production.products\n",
    "WHERE\n",
    "    list_price NOT BETWEEN 149.99 AND 199.99\n",
    "```"
   ]
  },
  {
   "cell_type": "markdown",
   "id": "5e4e4b5c",
   "metadata": {},
   "source": [
    "----"
   ]
  },
  {
   "cell_type": "markdown",
   "id": "6a6b5c23",
   "metadata": {},
   "source": [
    "```SQL\n",
    "SELECT \n",
    "    order_id,\n",
    "    order_date\n",
    "FROM\n",
    "    orders\n",
    "WHERE\n",
    "    order_date BETWEEN '20170115' AND '20170117\n",
    "```"
   ]
  },
  {
   "cell_type": "markdown",
   "id": "99f73636",
   "metadata": {},
   "source": [
    "---"
   ]
  },
  {
   "cell_type": "markdown",
   "id": "e4877bfb",
   "metadata": {},
   "source": [
    "## 4d. Filtering - LIKE"
   ]
  },
  {
   "cell_type": "markdown",
   "id": "51ad7caa",
   "metadata": {},
   "source": [
    "```SQL\n",
    "WHERE\n",
    "    last_name LIKE 'z%'\n",
    "```"
   ]
  },
  {
   "cell_type": "markdown",
   "id": "82dd00cf",
   "metadata": {},
   "source": [
    "```SQL\n",
    "WHERE\n",
    "    last_name LIKE '%er'\n",
    "```"
   ]
  },
  {
   "cell_type": "markdown",
   "id": "5fc1cf56",
   "metadata": {},
   "source": [
    "```SQL\n",
    "WHERE\n",
    "    last_name LIKE 't%s'\n",
    "```"
   ]
  },
  {
   "cell_type": "markdown",
   "id": "36af5e7d",
   "metadata": {},
   "source": [
    "```SQL\n",
    "WHERE\n",
    "    last_name LIKE '_u%'\n",
    "```"
   ]
  },
  {
   "cell_type": "markdown",
   "id": "a86fb573",
   "metadata": {},
   "source": [
    "```SQL\n",
    "WHERE\n",
    "    last_name LIKE '[ZY]%'\n",
    "```"
   ]
  },
  {
   "cell_type": "markdown",
   "id": "8cb58115",
   "metadata": {},
   "source": [
    "```SQL\n",
    "WHERE\n",
    "    last_name LIKE '[^A-X]%'\n",
    "```"
   ]
  },
  {
   "cell_type": "markdown",
   "id": "a2c66e8f",
   "metadata": {},
   "source": [
    "```SQL\n",
    "WHERE \n",
    "    comment LIKE '%30!%%' ESCAPE '!'\n",
    "```"
   ]
  },
  {
   "cell_type": "markdown",
   "id": "696e60c0",
   "metadata": {},
   "source": [
    "## 4e. Filtering - Column Aliases"
   ]
  },
  {
   "cell_type": "markdown",
   "id": "7f56c76d",
   "metadata": {},
   "source": [
    "```SQL\n",
    "SELECT\n",
    "    first_name + ' ' + last_name AS full_name\n",
    "```"
   ]
  },
  {
   "cell_type": "markdown",
   "id": "3629db89",
   "metadata": {},
   "source": [
    "```SQL\n",
    "SELECT\n",
    "    first_name + ' ' + last_name AS 'Full Name'\n",
    "```"
   ]
  },
  {
   "cell_type": "markdown",
   "id": "eb1d2996",
   "metadata": {},
   "source": [
    "```SQL\n",
    "SELECT\n",
    "    c.customer_id,\n",
    "    first_name,\n",
    "FROM\n",
    "    sales.customers c\n",
    "INNER JOIN sales.orders o ON o.customer_id = c.customer_id\n",
    "```"
   ]
  },
  {
   "cell_type": "markdown",
   "id": "4e73b00a",
   "metadata": {},
   "source": []
  }
 ],
 "metadata": {
  "kernelspec": {
   "display_name": "Python 3 (ipykernel)",
   "language": "python",
   "name": "python3"
  },
  "language_info": {
   "codemirror_mode": {
    "name": "ipython",
    "version": 3
   },
   "file_extension": ".py",
   "mimetype": "text/x-python",
   "name": "python",
   "nbconvert_exporter": "python",
   "pygments_lexer": "ipython3",
   "version": "3.9.7"
  }
 },
 "nbformat": 4,
 "nbformat_minor": 5
}
