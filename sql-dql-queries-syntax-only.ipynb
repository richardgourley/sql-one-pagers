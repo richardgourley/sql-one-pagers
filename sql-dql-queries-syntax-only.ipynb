{
 "cells": [
  {
   "cell_type": "markdown",
   "id": "87e6e15b",
   "metadata": {},
   "source": [
    "# SQL Data Query Language - One Page (Syntax Only)"
   ]
  },
  {
   "cell_type": "markdown",
   "id": "3e4eecdf",
   "metadata": {},
   "source": [
    "- This page contains query examples only as a syntax reference."
   ]
  },
  {
   "cell_type": "markdown",
   "id": "40e562f5",
   "metadata": {},
   "source": [
    "# 1. SQL Query Order"
   ]
  },
  {
   "cell_type": "markdown",
   "id": "5ae02445",
   "metadata": {},
   "source": [
    "```SQL\n",
    "FROM - choose and join tables\n",
    "WHERE - filters the data\n",
    "GROUP BY - aggregates the data\n",
    "HAVING - filters the aggregated data\n",
    "SELECT - returns the final data\n",
    "ORDER BY - sorts the final data\n",
    "LIMIT - limits sorted data to a row count\n",
    "```"
   ]
  },
  {
   "cell_type": "markdown",
   "id": "108838ad",
   "metadata": {},
   "source": [
    "# 2. SORTING"
   ]
  },
  {
   "cell_type": "markdown",
   "id": "7c89ce3c",
   "metadata": {},
   "source": [
    "## 2a. Order By"
   ]
  },
  {
   "cell_type": "markdown",
   "id": "e1213797",
   "metadata": {},
   "source": [
    "```SQL\n",
    "SELECT \n",
    "    first_name\n",
    "FROM\n",
    "    sales.customers\n",
    "ORDER BY \n",
    "    first_name DESC\n",
    "```"
   ]
  },
  {
   "cell_type": "markdown",
   "id": "a7d931d8",
   "metadata": {},
   "source": [
    "----"
   ]
  },
  {
   "cell_type": "markdown",
   "id": "4fa02c33",
   "metadata": {},
   "source": [
    "```SQL\n",
    "SELECT \n",
    "    first_name\n",
    "FROM\n",
    "    sales.customers\n",
    "ORDER BY \n",
    "    city,\n",
    "    first_name\n",
    "```"
   ]
  },
  {
   "cell_type": "markdown",
   "id": "e57232d9",
   "metadata": {},
   "source": [
    "-----"
   ]
  },
  {
   "cell_type": "markdown",
   "id": "f32c3d77",
   "metadata": {},
   "source": [
    "```SQL\n",
    "SELECT\n",
    "    first_name\n",
    "FROM\n",
    "    sales.customers\n",
    "ORDER BY \n",
    "    LEN(first_name) DESC\n",
    "```"
   ]
  },
  {
   "cell_type": "markdown",
   "id": "589689b0",
   "metadata": {},
   "source": [
    "# 3. LIMITING"
   ]
  },
  {
   "cell_type": "markdown",
   "id": "910fa8a2",
   "metadata": {},
   "source": [
    "## 3a. Offset, Fetch"
   ]
  },
  {
   "cell_type": "markdown",
   "id": "67b966d4",
   "metadata": {},
   "source": [
    "```SQL\n",
    "SELECT \n",
    "    team_name,\n",
    "    points,\n",
    "FROM \n",
    "    prem_table\n",
    "ORDER BY \n",
    "    points DESC\n",
    "OFFSET 4 ROWS\n",
    "FETCH FIRST 13 ROWS\n",
    "```"
   ]
  },
  {
   "cell_type": "markdown",
   "id": "daef2a96",
   "metadata": {},
   "source": [
    "## 3b. Select Top"
   ]
  },
  {
   "cell_type": "markdown",
   "id": "f3bad532",
   "metadata": {},
   "source": [
    "```SQL\n",
    "SELECT TOP 10\n",
    "SELECT TOP 1 PERCENT\n",
    "SELECT TOP 3 WITH TIES\n",
    "```"
   ]
  },
  {
   "cell_type": "markdown",
   "id": "068b437d",
   "metadata": {},
   "source": [
    "# 4. FILTERING"
   ]
  },
  {
   "cell_type": "markdown",
   "id": "1d09591f",
   "metadata": {},
   "source": [
    "## 4a. Distinct"
   ]
  },
  {
   "cell_type": "markdown",
   "id": "dfe07816",
   "metadata": {},
   "source": [
    "```SQL\n",
    "SELECT DISTINCT \n",
    "    country\n",
    "FROM \n",
    "    sales.customers\n",
    "```"
   ]
  },
  {
   "cell_type": "markdown",
   "id": "b0f57876",
   "metadata": {},
   "source": [
    "## 4b. And, Or, In"
   ]
  },
  {
   "cell_type": "markdown",
   "id": "c86b0c9d",
   "metadata": {},
   "source": [
    "```SQL\n",
    "SELECT \n",
    "    product_name,\n",
    "    brand_id,\n",
    "    list_price\n",
    "FROM \n",
    "    production.products\n",
    "WHERE\n",
    "    (brand_id 1 OR brand_id = 2)\n",
    "AND\n",
    "    list_price > 40\n",
    "```"
   ]
  },
  {
   "cell_type": "markdown",
   "id": "726ef533",
   "metadata": {},
   "source": [
    "----"
   ]
  },
  {
   "cell_type": "markdown",
   "id": "c1d99584",
   "metadata": {},
   "source": [
    "```SQL\n",
    "SELECT \n",
    "    product_id,\n",
    "    brand_id\n",
    "FROM\n",
    "    products\n",
    "WHERE\n",
    "    brand_id IN(1,2,3,4)\n",
    "```"
   ]
  },
  {
   "cell_type": "markdown",
   "id": "eed658e4",
   "metadata": {},
   "source": [
    "## 4c. Between, Not Between"
   ]
  },
  {
   "cell_type": "markdown",
   "id": "e367c5c3",
   "metadata": {},
   "source": [
    "```SQL\n",
    "SELECT\n",
    "    product_id,\n",
    "    product_name,\n",
    "    list_price\n",
    "FROM\n",
    "    production.products\n",
    "WHERE\n",
    "    list_price NOT BETWEEN 149.99 AND 199.99\n",
    "```"
   ]
  },
  {
   "cell_type": "markdown",
   "id": "5e4e4b5c",
   "metadata": {},
   "source": [
    "----"
   ]
  },
  {
   "cell_type": "markdown",
   "id": "6a6b5c23",
   "metadata": {},
   "source": [
    "```SQL\n",
    "SELECT \n",
    "    order_id,\n",
    "    order_date\n",
    "FROM\n",
    "    orders\n",
    "WHERE\n",
    "    order_date BETWEEN '20170115' AND '20170117\n",
    "```"
   ]
  },
  {
   "cell_type": "markdown",
   "id": "9b39b4a7",
   "metadata": {},
   "source": [
    "## 4d. Like"
   ]
  },
  {
   "cell_type": "markdown",
   "id": "8259f837",
   "metadata": {},
   "source": [
    "```SQL\n",
    "WHERE\n",
    "    last_name LIKE 'z%'\n",
    "```"
   ]
  },
  {
   "cell_type": "markdown",
   "id": "1a619251",
   "metadata": {},
   "source": [
    "```SQL\n",
    "WHERE\n",
    "    last_name LIKE '%er'\n",
    "```"
   ]
  },
  {
   "cell_type": "markdown",
   "id": "fcb37297",
   "metadata": {},
   "source": [
    "```SQL\n",
    "WHERE\n",
    "    last_name LIKE 't%s'\n",
    "```"
   ]
  },
  {
   "cell_type": "markdown",
   "id": "5fc69ce3",
   "metadata": {},
   "source": [
    "```SQL\n",
    "WHERE\n",
    "    last_name LIKE '_u%'\n",
    "```"
   ]
  },
  {
   "cell_type": "markdown",
   "id": "6954f9f3",
   "metadata": {},
   "source": [
    "```SQL\n",
    "WHERE\n",
    "    last_name LIKE '[ZY]%'\n",
    "```"
   ]
  },
  {
   "cell_type": "markdown",
   "id": "3f5ccd95",
   "metadata": {},
   "source": [
    "```SQL\n",
    "WHERE\n",
    "    last_name LIKE '[^A-X]%'\n",
    "```"
   ]
  },
  {
   "cell_type": "markdown",
   "id": "671cc3f6",
   "metadata": {},
   "source": [
    "```SQL\n",
    "WHERE \n",
    "    comment LIKE '%30!%%' ESCAPE '!'\n",
    "```"
   ]
  },
  {
   "cell_type": "markdown",
   "id": "822e9f1a",
   "metadata": {},
   "source": [
    "## 4e. Column Aliases"
   ]
  },
  {
   "cell_type": "markdown",
   "id": "bc016929",
   "metadata": {},
   "source": [
    "```SQL\n",
    "SELECT\n",
    "    first_name + ' ' + last_name AS full_name\n",
    "```"
   ]
  },
  {
   "cell_type": "markdown",
   "id": "5d1c8d34",
   "metadata": {},
   "source": [
    "-----"
   ]
  },
  {
   "cell_type": "markdown",
   "id": "10dd1aea",
   "metadata": {},
   "source": [
    "```SQL\n",
    "SELECT\n",
    "    first_name + ' ' + last_name AS 'Full Name'\n",
    "```\n"
   ]
  },
  {
   "cell_type": "markdown",
   "id": "bf12ce3c",
   "metadata": {},
   "source": [
    "-----"
   ]
  },
  {
   "cell_type": "markdown",
   "id": "2442f515",
   "metadata": {},
   "source": [
    "```SQL\n",
    "SELECT\n",
    "    c.customer_id,\n",
    "    first_name,\n",
    "FROM\n",
    "    sales.customers c\n",
    "INNER JOIN sales.orders o ON o.customer_id = c.customer_id\n",
    "```"
   ]
  },
  {
   "cell_type": "markdown",
   "id": "9d9a069b",
   "metadata": {},
   "source": [
    "# 5. Joining Tables"
   ]
  },
  {
   "cell_type": "markdown",
   "id": "84eaa029",
   "metadata": {},
   "source": [
    "## 5a. Inner Join"
   ]
  },
  {
   "cell_type": "markdown",
   "id": "64b90d40",
   "metadata": {},
   "source": [
    "```SQL\n",
    "SELECT \n",
    "    c.id candidate_id,\n",
    "    c.full_name candidate_name,\n",
    "    e.id employeed_id,\n",
    "    e.full_name employee_name\n",
    "FROM \n",
    "    candidates c\n",
    "    INNER JOIN \n",
    "        employees e\n",
    "        ON c.id = e.id\n",
    "```"
   ]
  },
  {
   "cell_type": "markdown",
   "id": "dd40a2c8",
   "metadata": {},
   "source": [
    "-----"
   ]
  },
  {
   "cell_type": "markdown",
   "id": "3b2f5240",
   "metadata": {},
   "source": [
    "```SQL\n",
    "SELECT \n",
    "    product_name, \n",
    "    category_name,\n",
    "    list_price\n",
    "FROM \n",
    "    production.products p\n",
    "    INNER JOIN production.categories c\n",
    "        ON p.category_id = c.category_id\n",
    "```"
   ]
  },
  {
   "cell_type": "markdown",
   "id": "dcc21761",
   "metadata": {},
   "source": [
    "## 5b. Left Join"
   ]
  },
  {
   "cell_type": "markdown",
   "id": "41651252",
   "metadata": {},
   "source": [
    "```SQL\n",
    "SELECT  \n",
    "    c.id candidate_id,\n",
    "    c.fullname candidate_name,\n",
    "    e.id employee_id,\n",
    "    e.fullname employee_name\n",
    "FROM \n",
    "    candidates c\n",
    "    LEFT JOIN employees e \n",
    "        ON e.fullname = c.fullname\n",
    "```"
   ]
  },
  {
   "cell_type": "markdown",
   "id": "9852d9fc",
   "metadata": {},
   "source": [
    "------"
   ]
  },
  {
   "cell_type": "markdown",
   "id": "57a4ff04",
   "metadata": {},
   "source": [
    "```SQL\n",
    "SELECT\n",
    "    product_name,\n",
    "    order_id\n",
    "FROM\n",
    "    production.products p\n",
    "    LEFT JOIN sales.order_items o \n",
    "        ON o.product_id = p.product_id\n",
    "    ORDER BY\n",
    "        order_id;\n",
    "```"
   ]
  },
  {
   "cell_type": "markdown",
   "id": "b1bdd8e1",
   "metadata": {},
   "source": [
    "## 5c. Right Join"
   ]
  },
  {
   "cell_type": "markdown",
   "id": "47990007",
   "metadata": {},
   "source": [
    "```SQL\n",
    "SELECT \n",
    "    c.id candidate_id,\n",
    "    c.full_name candidate_name,\n",
    "    e.id employee_id,\n",
    "    e.full_name employee_name\n",
    "FROM \n",
    "    candidates c\n",
    "    RIGHT JOIN employees e\n",
    "        ON c.full_name = e.full_name\n",
    "```"
   ]
  },
  {
   "cell_type": "markdown",
   "id": "72cbe873",
   "metadata": {},
   "source": [
    "## 5d. Full Outer Join"
   ]
  },
  {
   "cell_type": "markdown",
   "id": "03cb426c",
   "metadata": {},
   "source": [
    "```SQL\n",
    "SELECT  \n",
    "    c.id candidate_id,\n",
    "    c.fullname candidate_name,\n",
    "    e.id employee_id,\n",
    "    e.fullname employee_name\n",
    "FROM \n",
    "    hr.candidates c\n",
    "    FULL JOIN hr.employees e \n",
    "        ON e.fullname = c.fullname;\n",
    "```"
   ]
  },
  {
   "cell_type": "markdown",
   "id": "200039c0",
   "metadata": {},
   "source": [
    "## 5e. Cross Join"
   ]
  },
  {
   "cell_type": "markdown",
   "id": "20aa4a46",
   "metadata": {},
   "source": [
    "```SQL\n",
    "SELECT\n",
    "    s.store_id,\n",
    "    p.product_id,\n",
    "    ISNULL(sales, 0) sales\n",
    "FROM\n",
    "    sales.stores s\n",
    "CROSS JOIN production.products p\n",
    "    LEFT JOIN (....SUB QUERY...)\n",
    "\n",
    "```"
   ]
  },
  {
   "cell_type": "markdown",
   "id": "1c3c32d1",
   "metadata": {},
   "source": [
    "## 5f. Self Join"
   ]
  },
  {
   "cell_type": "markdown",
   "id": "536a5095",
   "metadata": {},
   "source": [
    "```SQL\n",
    "SELECT\n",
    "    e.full_name employee,\n",
    "    m.full_name manager\n",
    "FROM \n",
    "    employees e\n",
    "    LEFT JOIN employees m\n",
    "    ON m.employee_id = e.manager_id\n",
    "```"
   ]
  },
  {
   "cell_type": "markdown",
   "id": "ad72e05f",
   "metadata": {},
   "source": [
    "# 6. Grouping"
   ]
  },
  {
   "cell_type": "markdown",
   "id": "84ba8c3d",
   "metadata": {},
   "source": [
    "## 6a. Group By"
   ]
  },
  {
   "cell_type": "markdown",
   "id": "8ad92ba9",
   "metadata": {},
   "source": [
    "```SQL\n",
    "SELECT\n",
    "    customer_id,\n",
    "    YEAR (order_date) order_year,\n",
    "    COUNT (order_id) orders_placed\n",
    "FROM\n",
    "    sales.orders\n",
    "WHERE\n",
    "    customer_id IN (1, 2)\n",
    "GROUP BY\n",
    "    customer_id,\n",
    "    YEAR (order_date)\n",
    "ORDER BY\n",
    "    customer_id\n",
    "\n",
    "```"
   ]
  },
  {
   "cell_type": "markdown",
   "id": "6975d82a",
   "metadata": {},
   "source": [
    "-----"
   ]
  },
  {
   "cell_type": "markdown",
   "id": "15ac64a9",
   "metadata": {},
   "source": [
    "```SQL\n",
    "SELECT\n",
    "    city,\n",
    "    COUNT (customer_id) customer_count\n",
    "FROM\n",
    "    sales.customers\n",
    "GROUP BY\n",
    "    city\n",
    "ORDER BY\n",
    "    city\n",
    "```"
   ]
  },
  {
   "cell_type": "markdown",
   "id": "9421d09e",
   "metadata": {},
   "source": [
    "-----"
   ]
  },
  {
   "cell_type": "markdown",
   "id": "da7b34f4",
   "metadata": {},
   "source": [
    "```SQL\n",
    "SELECT\n",
    "    brand_name,\n",
    "    AVG (list_price) avg_price\n",
    "FROM\n",
    "    production.products p\n",
    "INNER JOIN production.brands b ON b.brand_id = p.brand_id\n",
    "WHERE\n",
    "    model_year = 2018\n",
    "GROUP BY\n",
    "    brand_name\n",
    "ORDER BY\n",
    "    brand_name\n",
    "```"
   ]
  },
  {
   "cell_type": "markdown",
   "id": "9b2fa7cf",
   "metadata": {},
   "source": [
    "-----"
   ]
  },
  {
   "cell_type": "markdown",
   "id": "21fff8a3",
   "metadata": {},
   "source": [
    "```SQL\n",
    "SELECT\n",
    "    order_id,\n",
    "    SUM (\n",
    "        quantity * list_price * (1 - discount)\n",
    "    ) net_value\n",
    "FROM\n",
    "    sales.order_items\n",
    "GROUP BY\n",
    "    order_id;\n",
    "\n",
    "```"
   ]
  },
  {
   "cell_type": "markdown",
   "id": "6dfa1b4b",
   "metadata": {},
   "source": [
    "## 6b. Having"
   ]
  },
  {
   "cell_type": "markdown",
   "id": "8a60d60f",
   "metadata": {},
   "source": [
    "```SQL\n",
    "SELECT \n",
    "    salesperson_name,\n",
    "    SUM(sales) sales_total\n",
    "FROM \n",
    "    sales\n",
    "GROUP BY \n",
    "    salesperson_name\n",
    "HAVING \n",
    "    SUM(sales) < 2000\n",
    "```"
   ]
  },
  {
   "cell_type": "markdown",
   "id": "ccef1e30",
   "metadata": {},
   "source": [
    "-----"
   ]
  },
  {
   "cell_type": "markdown",
   "id": "17f67eb6",
   "metadata": {},
   "source": [
    "```SQL\n",
    "SELECT\n",
    "    category_id,\n",
    "    MAX (list_price) max_list_price,\n",
    "    MIN (list_price) min_list_price\n",
    "FROM\n",
    "    production.products\n",
    "GROUP BY\n",
    "    category_id\n",
    "HAVING\n",
    "    MAX (list_price) > 4000 OR MIN (list_price) < 500\n",
    "```"
   ]
  },
  {
   "cell_type": "markdown",
   "id": "7b0a307a",
   "metadata": {},
   "source": [
    "-----"
   ]
  },
  {
   "cell_type": "markdown",
   "id": "28e4d0dd",
   "metadata": {},
   "source": [
    "```SQL\n",
    "SELECT\n",
    "    category_id,\n",
    "    AVG (list_price) avg_list_price\n",
    "FROM\n",
    "    production.products\n",
    "GROUP BY\n",
    "    category_id\n",
    "HAVING\n",
    "    AVG (list_price) BETWEEN 500 AND 1000\n",
    "```"
   ]
  },
  {
   "cell_type": "markdown",
   "id": "36fec475",
   "metadata": {},
   "source": [
    "## 6c. Grouping Sets"
   ]
  },
  {
   "cell_type": "markdown",
   "id": "a9f58580",
   "metadata": {},
   "source": [
    "```SQL\n",
    "SELECT\n",
    "    brand,\n",
    "    category,\n",
    "    SUM (sales) sales\n",
    "FROM\n",
    "    sales.sales_summary\n",
    "GROUP BY\n",
    "    GROUPING SETS (\n",
    "        (brand, category),\n",
    "        (brand),\n",
    "        (category),\n",
    "        ()\n",
    "    )\n",
    "ORDER BY\n",
    "    brand,\n",
    "    category\n",
    "```"
   ]
  },
  {
   "cell_type": "markdown",
   "id": "0a393818",
   "metadata": {},
   "source": [
    "## 6d. Cube"
   ]
  },
  {
   "cell_type": "markdown",
   "id": "ad377429",
   "metadata": {},
   "source": [
    "```SQL\n",
    "GROUPING SETS (\n",
    "        (d1,d2,d3), \n",
    "        (d1,d2),\n",
    "        (d1,d3),\n",
    "        (d2,d3),\n",
    "        (d1),\n",
    "        (d2),\n",
    "        (d3), \n",
    "        ()\n",
    "     )\n",
    "```"
   ]
  },
  {
   "cell_type": "markdown",
   "id": "363c3465",
   "metadata": {},
   "source": [
    "-----"
   ]
  },
  {
   "cell_type": "markdown",
   "id": "57dd05c3",
   "metadata": {},
   "source": [
    "```SQL\n",
    "SELECT\n",
    "    d1,\n",
    "    d2,\n",
    "    d3,\n",
    "    aggregate_function (c4)\n",
    "FROM\n",
    "    table_name\n",
    "GROUP BY\n",
    "    CUBE (d1, d2, d3)\n",
    "```"
   ]
  },
  {
   "cell_type": "markdown",
   "id": "bfafaf02",
   "metadata": {},
   "source": [
    "-----"
   ]
  },
  {
   "cell_type": "markdown",
   "id": "32780185",
   "metadata": {},
   "source": [
    "```SQL\n",
    "SELECT\n",
    "    brand,\n",
    "    category,\n",
    "    SUM (sales) sales\n",
    "FROM\n",
    "    sales.sales_summary\n",
    "GROUP BY\n",
    "    brand,\n",
    "    CUBE(category)\n",
    "```"
   ]
  },
  {
   "cell_type": "markdown",
   "id": "0dc58a49",
   "metadata": {},
   "source": [
    "## 6e. Roll Up"
   ]
  },
  {
   "cell_type": "markdown",
   "id": "f1fe711e",
   "metadata": {},
   "source": [
    "```SQL\n",
    "SELECT\n",
    "    brand,\n",
    "    category,\n",
    "    SUM (sales) sales\n",
    "FROM\n",
    "    sales.sales_summary\n",
    "GROUP BY\n",
    "    ROLLUP(brand, category)\n",
    "```"
   ]
  },
  {
   "cell_type": "markdown",
   "id": "0bb597cd",
   "metadata": {},
   "source": [
    "-----"
   ]
  },
  {
   "cell_type": "markdown",
   "id": "edbad389",
   "metadata": {},
   "source": [
    "```SQL\n",
    "SELECT\n",
    "    category,\n",
    "    brand,\n",
    "    SUM (sales) sales\n",
    "FROM\n",
    "    sales.sales_summary\n",
    "GROUP BY\n",
    "    ROLLUP (category, brand)\n",
    "```"
   ]
  },
  {
   "cell_type": "markdown",
   "id": "f34f2f15",
   "metadata": {},
   "source": [
    "-----"
   ]
  },
  {
   "cell_type": "markdown",
   "id": "d404801a",
   "metadata": {},
   "source": [
    "```SQL\n",
    "SELECT\n",
    "    brand,\n",
    "    category,\n",
    "    SUM (sales) sales\n",
    "FROM\n",
    "    sales.sales_summary\n",
    "GROUP BY\n",
    "    brand,\n",
    "    ROLLUP (category)\n",
    "```"
   ]
  },
  {
   "cell_type": "markdown",
   "id": "2e3c7656",
   "metadata": {},
   "source": [
    "# 7. SubQuery"
   ]
  },
  {
   "cell_type": "markdown",
   "id": "89a6e689",
   "metadata": {},
   "source": [
    "## 7a. Overview"
   ]
  },
  {
   "cell_type": "markdown",
   "id": "f33df7cb",
   "metadata": {},
   "source": [
    "```SQL\n",
    "SELECT\n",
    "    order_id,\n",
    "    order_date,\n",
    "    customer_id\n",
    "FROM\n",
    "    sales.orders\n",
    "WHERE\n",
    "    customer_id IN (\n",
    "        SELECT\n",
    "            customer_id\n",
    "        FROM\n",
    "            sales.customers\n",
    "        WHERE\n",
    "            city = 'New York'\n",
    "    )\n",
    "ORDER BY\n",
    "    order_date DESC\n",
    "```"
   ]
  },
  {
   "cell_type": "markdown",
   "id": "0a571c42",
   "metadata": {},
   "source": [
    "-----"
   ]
  },
  {
   "cell_type": "markdown",
   "id": "7aad715b",
   "metadata": {},
   "source": [
    "```SQL \n",
    "SELECT\n",
    "    order_id,\n",
    "    order_date,\n",
    "    (\n",
    "        SELECT\n",
    "            MAX (list_price)\n",
    "        FROM\n",
    "            sales.order_items i\n",
    "        WHERE\n",
    "            i.order_id = o.order_id\n",
    "    ) AS max_list_price\n",
    "FROM\n",
    "    sales.orders o\n",
    "ORDER BY order_date desc\n",
    "```"
   ]
  },
  {
   "cell_type": "markdown",
   "id": "e584610a",
   "metadata": {},
   "source": [
    "## 7b. Correlated SubQuery"
   ]
  },
  {
   "cell_type": "markdown",
   "id": "314d93ef",
   "metadata": {},
   "source": [
    "```SQL\n",
    "SELECT\n",
    "    product_name,\n",
    "    list_price,\n",
    "    category_id\n",
    "FROM\n",
    "    production.products p1\n",
    "WHERE\n",
    "    list_price IN (\n",
    "        SELECT\n",
    "            MAX (p2.list_price)\n",
    "        FROM\n",
    "            production.products p2\n",
    "        WHERE\n",
    "            p2.category_id = p1.category_id\n",
    "        GROUP BY\n",
    "            p2.category_id\n",
    "    )\n",
    "ORDER BY\n",
    "    category_id,\n",
    "    product_name\n",
    "```"
   ]
  },
  {
   "cell_type": "markdown",
   "id": "9325ab7d",
   "metadata": {},
   "source": [
    "## 7c. Exists"
   ]
  },
  {
   "cell_type": "markdown",
   "id": "0b159e57",
   "metadata": {},
   "source": [
    "```SQL\n",
    "SELECT\n",
    "    customer_id,\n",
    "    first_name,\n",
    "    last_name\n",
    "FROM\n",
    "    sales.customers c\n",
    "WHERE\n",
    "    EXISTS (\n",
    "        SELECT\n",
    "            COUNT (*)\n",
    "        FROM\n",
    "            sales.orders o\n",
    "        WHERE\n",
    "            customer_id = c.customer_id\n",
    "        GROUP BY\n",
    "            customer_id\n",
    "        HAVING\n",
    "            COUNT (*) > 2\n",
    "    )\n",
    "ORDER BY\n",
    "    first_name,\n",
    "    last_name\n",
    "```"
   ]
  },
  {
   "cell_type": "markdown",
   "id": "3793ed62",
   "metadata": {},
   "source": [
    "-----"
   ]
  },
  {
   "cell_type": "markdown",
   "id": "67d1c941",
   "metadata": {},
   "source": [
    "```SQL\n",
    "SELECT\n",
    "    *\n",
    "FROM\n",
    "    sales.orders\n",
    "WHERE\n",
    "    customer_id IN (\n",
    "        SELECT\n",
    "            customer_id\n",
    "        FROM\n",
    "            sales.customers\n",
    "        WHERE\n",
    "            city = 'San Jose'\n",
    "    )\n",
    "ORDER BY\n",
    "    customer_id,\n",
    "    order_date\n",
    "```"
   ]
  },
  {
   "cell_type": "markdown",
   "id": "5adffb14",
   "metadata": {},
   "source": [
    "----"
   ]
  },
  {
   "cell_type": "markdown",
   "id": "16688a89",
   "metadata": {},
   "source": [
    "```SQL\n",
    "SELECT\n",
    "    *\n",
    "FROM\n",
    "    sales.orders o\n",
    "WHERE\n",
    "    EXISTS (\n",
    "        SELECT\n",
    "            customer_id\n",
    "        FROM\n",
    "            sales.customers c\n",
    "        WHERE\n",
    "            o.customer_id = c.customer_id\n",
    "        AND city = 'San Jose'\n",
    "    )\n",
    "ORDER BY\n",
    "    o.customer_id,\n",
    "    order_date\n",
    "```"
   ]
  },
  {
   "cell_type": "markdown",
   "id": "3bbdf8aa",
   "metadata": {},
   "source": [
    "## 7d. Any"
   ]
  },
  {
   "cell_type": "markdown",
   "id": "0fb6e5c8",
   "metadata": {},
   "source": [
    "```SQL\n",
    "SELECT\n",
    "    product_name,\n",
    "    list_price\n",
    "FROM\n",
    "    production.products\n",
    "WHERE\n",
    "    product_id = ANY (\n",
    "        SELECT\n",
    "            product_id\n",
    "        FROM\n",
    "            sales.order_items\n",
    "        WHERE\n",
    "            quantity >= 2\n",
    "    )\n",
    "ORDER BY\n",
    "    product_name\n",
    "```"
   ]
  },
  {
   "cell_type": "markdown",
   "id": "896e7c1b",
   "metadata": {},
   "source": [
    "## 7e. All"
   ]
  },
  {
   "cell_type": "markdown",
   "id": "81099fe2",
   "metadata": {},
   "source": [
    "```SQL\n",
    "SELECT\n",
    "    product_name,\n",
    "    list_price\n",
    "FROM\n",
    "    production.products\n",
    "WHERE\n",
    "    list_price > ALL (\n",
    "        SELECT\n",
    "            AVG (list_price) avg_list_price\n",
    "        FROM\n",
    "            production.products\n",
    "        GROUP BY\n",
    "            brand_id\n",
    "    )\n",
    "ORDER BY\n",
    "    list_price\n",
    "```"
   ]
  },
  {
   "cell_type": "markdown",
   "id": "eab744ad",
   "metadata": {},
   "source": [
    "# 8. Set Operators"
   ]
  },
  {
   "cell_type": "markdown",
   "id": "b82766fd",
   "metadata": {},
   "source": [
    "## 8a. Union"
   ]
  },
  {
   "cell_type": "markdown",
   "id": "c429a1fc",
   "metadata": {},
   "source": [
    "```SQL\n",
    "SELECT\n",
    "    first_name,\n",
    "    last_name\n",
    "FROM\n",
    "    sales.staffs\n",
    "UNION\n",
    "SELECT\n",
    "    first_name,\n",
    "    last_name\n",
    "FROM\n",
    "    sales.customers\n",
    "```"
   ]
  },
  {
   "cell_type": "markdown",
   "id": "16850360",
   "metadata": {},
   "source": [
    "## 8b. Union All"
   ]
  },
  {
   "cell_type": "markdown",
   "id": "45a510dd",
   "metadata": {},
   "source": [
    "```SQL\n",
    "SELECT\n",
    "    first_name,\n",
    "    last_name\n",
    "FROM\n",
    "    sales.staffs\n",
    "UNION ALL\n",
    "SELECT\n",
    "    first_name,\n",
    "    last_name\n",
    "FROM\n",
    "    sales.customer\n",
    "```"
   ]
  },
  {
   "cell_type": "markdown",
   "id": "668f8739",
   "metadata": {},
   "source": [
    "## 8c. Intersect"
   ]
  },
  {
   "cell_type": "markdown",
   "id": "4f4201b4",
   "metadata": {},
   "source": [
    "```SQL\n",
    "SELECT \n",
    "    player_name\n",
    "FROM \n",
    "    player_of_the_year 2021\n",
    "INTERSECT\n",
    "SELECT \n",
    "    player_id\n",
    "FROM \n",
    "    player_of_the_year_2020\n",
    "```"
   ]
  },
  {
   "cell_type": "markdown",
   "id": "504fdefd",
   "metadata": {},
   "source": [
    "## 8d. Except"
   ]
  },
  {
   "cell_type": "markdown",
   "id": "bde7dd8c",
   "metadata": {},
   "source": [
    "```SQL\n",
    "SELECT \n",
    "    first_name,\n",
    "    last_name\n",
    "FROM\n",
    "    employees\n",
    "EXCEPT\n",
    "SELECT\n",
    "    first_name,\n",
    "    last_name\n",
    "FROM \n",
    "    completed_health_and_safety\n",
    "```"
   ]
  },
  {
   "cell_type": "markdown",
   "id": "75e93baf",
   "metadata": {},
   "source": [
    "# 9. Common Table Expressions"
   ]
  },
  {
   "cell_type": "markdown",
   "id": "a76c3985",
   "metadata": {},
   "source": [
    "## 9a. CTEs"
   ]
  },
  {
   "cell_type": "markdown",
   "id": "12ebbb78",
   "metadata": {},
   "source": [
    "```SQL\n",
    "WITH sales_person_yearly_total (sales_person_id, sales, year) AS (\n",
    "SELECT\n",
    "    id,\n",
    "    SUM(sales_total)\n",
    "    YEAR(sales_date)\n",
    "FROM \n",
    "    sales\n",
    "GROUP BY \n",
    "    id,\n",
    "    YEAR(sales_date)\n",
    ")\n",
    "SELECT \n",
    "    sales_person_id,\n",
    "    sales,\n",
    "    year\n",
    "FROM \n",
    "    sales_person_yearly_total\n",
    "WHERE\n",
    "    year = 2019\n",
    "\n",
    "```"
   ]
  },
  {
   "cell_type": "markdown",
   "id": "d159a46c",
   "metadata": {},
   "source": [
    "-----"
   ]
  },
  {
   "cell_type": "markdown",
   "id": "94a7401d",
   "metadata": {},
   "source": [
    "```SQL\n",
    "WITH cte_sales AS (\n",
    "    SELECT \n",
    "        staff_id, \n",
    "        COUNT(*) order_count  \n",
    "    FROM\n",
    "        sales.orders\n",
    "    WHERE \n",
    "        YEAR(order_date) = 2018\n",
    "    GROUP BY\n",
    "        staff_id\n",
    ")\n",
    "SELECT\n",
    "    AVG(order_count) average_orders_by_staff\n",
    "FROM \n",
    "    cte_sales\n",
    "```"
   ]
  },
  {
   "cell_type": "markdown",
   "id": "c7035a3d",
   "metadata": {},
   "source": [
    "-----"
   ]
  },
  {
   "cell_type": "markdown",
   "id": "a58460f3",
   "metadata": {},
   "source": [
    "```SQL\n",
    "WITH cte_1 AS (\n",
    "SELECT ....\n",
    "),\n",
    "WITH cte_2 AS (\n",
    "SELECT ...\n",
    ")\n",
    "SELECT \n",
    "    col_a,\n",
    "    col_b\n",
    "FROM \n",
    "    cte_1\n",
    "    INNER JOIN cte_2 ON...\n",
    "WHERE...\n",
    "ORDER BY...\n",
    "\n",
    "```"
   ]
  },
  {
   "cell_type": "markdown",
   "id": "859c9029",
   "metadata": {},
   "source": [
    "## 9b. Recursive CTEs"
   ]
  },
  {
   "cell_type": "markdown",
   "id": "5a11325d",
   "metadata": {},
   "source": [
    "```SQL\n",
    "WITH cte ( value )\n",
    "  AS (\n",
    "       SELECT   1\n",
    "       UNION ALL\n",
    "       SELECT   value + 1\n",
    "       FROM     cte\n",
    "       WHERE    value < 4\n",
    "     )\n",
    "SELECT  *\n",
    "FROM    cte\n",
    "```"
   ]
  },
  {
   "cell_type": "markdown",
   "id": "3191013c",
   "metadata": {},
   "source": [
    "-----"
   ]
  },
  {
   "cell_type": "markdown",
   "id": "87e62972",
   "metadata": {},
   "source": [
    "```SQL\n",
    "WITH organization AS\n",
    "(\n",
    "SELECT \n",
    "    employee_id,\n",
    "    full_name,\n",
    "    manager_id\n",
    "FROM\n",
    "    employees\n",
    "WHERE\n",
    "    manager_id IS NULL\n",
    "UNION ALL\n",
    "SELECT \n",
    "    employees.employee_id,\n",
    "    employees.full_name, \n",
    "    employees.manager_id\n",
    "FROM\n",
    "    employees\n",
    "    INNER JOIN organization\n",
    "    ON organization.employee_id = employees.manager_id\n",
    ")\n",
    "SELECT *\n",
    "FROM \n",
    "organization\n",
    "```"
   ]
  },
  {
   "cell_type": "markdown",
   "id": "90e909ec",
   "metadata": {},
   "source": [
    "----"
   ]
  },
  {
   "cell_type": "markdown",
   "id": "835c3365",
   "metadata": {},
   "source": [
    "```SQL\n",
    "WITH outer_products AS\n",
    "(\n",
    "SELECT \n",
    "    item_id,\n",
    "    item_name,\n",
    "    product_id\n",
    "FROM\n",
    "    products\n",
    "WHERE\n",
    "    product_id IS NULL\n",
    "UNION ALL\n",
    "SELECT \n",
    "    p.item_id,\n",
    "    p.item_name, \n",
    "    p.product_id\n",
    "FROM\n",
    "    products p\n",
    "    INNER JOIN outer_products o\n",
    "    ON o.item_id = p.product_id\n",
    ")\n",
    "SELECT *\n",
    "FROM \n",
    "outer_products\n",
    "```"
   ]
  },
  {
   "cell_type": "markdown",
   "id": "9b68c300",
   "metadata": {},
   "source": [
    "# 10. Pivot"
   ]
  },
  {
   "cell_type": "markdown",
   "id": "902d94f0",
   "metadata": {},
   "source": [
    "# 10a. Pivot"
   ]
  },
  {
   "cell_type": "markdown",
   "id": "59cc4cd3",
   "metadata": {},
   "source": [
    "```SQL\n",
    "SELECT * FROM   \n",
    "(\n",
    "    SELECT \n",
    "        category_name, \n",
    "        product_id\n",
    "    FROM \n",
    "        products p\n",
    "        INNER JOIN categories c \n",
    "            ON c.category_id = p.category_id\n",
    ") t \n",
    "PIVOT(\n",
    "    COUNT(product_id) \n",
    "    FOR category_name IN (\n",
    "        [CatA], \n",
    "        [CatB], \n",
    "        [CatC], \n",
    "        [CatD]\n",
    ") AS pivot_table\n",
    "```"
   ]
  },
  {
   "cell_type": "markdown",
   "id": "1dd81a90",
   "metadata": {},
   "source": [
    "-----"
   ]
  },
  {
   "cell_type": "markdown",
   "id": "2601da2d",
   "metadata": {},
   "source": [
    "```SQL\n",
    "SELECT * FROM   \n",
    "(\n",
    "    SELECT \n",
    "        category_name, \n",
    "        product_id,\n",
    "        model_year\n",
    "    FROM \n",
    "        products p\n",
    "        INNER JOIN categories c \n",
    "            ON c.category_id = p.category_id\n",
    ") t \n",
    "PIVOT(\n",
    "    COUNT(product_id) \n",
    "    FOR category_name IN (\n",
    "        [CatA], \n",
    "        [CatB], \n",
    "        [CatC], \n",
    "        [CatD]\n",
    ") AS pivot_table\n",
    "```"
   ]
  },
  {
   "cell_type": "markdown",
   "id": "a313f83f",
   "metadata": {},
   "source": [
    "# 11. Expressions"
   ]
  },
  {
   "cell_type": "markdown",
   "id": "73002cba",
   "metadata": {},
   "source": [
    "## 11a. Case"
   ]
  },
  {
   "cell_type": "markdown",
   "id": "667f081e",
   "metadata": {},
   "source": [
    "```SQL\n",
    "SELECT \n",
    "    SUM(CASE\n",
    "        WHEN test_score > 70\n",
    "        THEN 1\n",
    "        ELSE 0\n",
    "    END) AS 'Pass',\n",
    "    SUM(CASE\n",
    "        WHEN test_score <= 70\n",
    "        THEN 1\n",
    "        ELSE 0\n",
    "    END) AS 'Fail'\n",
    "FROM \n",
    "    test_scores\n",
    "```"
   ]
  },
  {
   "cell_type": "markdown",
   "id": "746893bb",
   "metadata": {},
   "source": [
    "-----"
   ]
  },
  {
   "cell_type": "markdown",
   "id": "6fd0d428",
   "metadata": {},
   "source": [
    "```SQL\n",
    "SELECT \n",
    "    name, \n",
    "    score,\n",
    "    CASE\n",
    "        WHEN score > 70\n",
    "            THEN 'Pass'\n",
    "        WHEN score <= 70 AND score >= 60\n",
    "            THEN 'Possible retake'\n",
    "        WHEN score <60 \n",
    "            THEN 'Fail'\n",
    "    END outcome\n",
    "FROM \n",
    "    test_scores\n",
    "```"
   ]
  },
  {
   "cell_type": "markdown",
   "id": "aed6b84b",
   "metadata": {},
   "source": [
    "## 11b. Coalesce"
   ]
  },
  {
   "cell_type": "markdown",
   "id": "35bf8533",
   "metadata": {},
   "source": [
    "```SQL\n",
    "SELECT \n",
    "    first_name,\n",
    "    last_name,\n",
    "    COALESCE(phone,'N/A')\n",
    "FROM \n",
    "    employees\n",
    "```"
   ]
  },
  {
   "cell_type": "markdown",
   "id": "8c456061",
   "metadata": {},
   "source": [
    "----"
   ]
  },
  {
   "cell_type": "markdown",
   "id": "63a9c320",
   "metadata": {},
   "source": [
    "```SQL\n",
    "SELECT\n",
    "    staff_id,\n",
    "    COALESCE(\n",
    "        hourly_rate*22*8, \n",
    "        weekly_rate*4, \n",
    "        monthly_rate\n",
    "    ) monthly_salary\n",
    "FROM\n",
    "    salaries\n",
    "```"
   ]
  },
  {
   "cell_type": "markdown",
   "id": "c9e0d00c",
   "metadata": {},
   "source": [
    "----"
   ]
  },
  {
   "cell_type": "markdown",
   "id": "bc4ccc6b",
   "metadata": {},
   "source": [
    "```SQL\n",
    "COALESCE(e1,e2,e3)\n",
    "......\n",
    "CASE\n",
    "    WHEN e1 IS NOT NULL THEN e1\n",
    "    WHEN e2 IS NOT NULL THEN e2\n",
    "    ELSE e3\n",
    "END\n",
    "```"
   ]
  },
  {
   "cell_type": "markdown",
   "id": "2681f847",
   "metadata": {},
   "source": [
    "# 11c. Null If"
   ]
  },
  {
   "cell_type": "markdown",
   "id": "109c17ba",
   "metadata": {},
   "source": [
    "```SQL\n",
    "SELECT \n",
    "    name,\n",
    "    email\n",
    "FROM \n",
    "    clients\n",
    "WHERE\n",
    "    NULLIF(email, '') IS NULL\n",
    "\n",
    "```"
   ]
  },
  {
   "cell_type": "markdown",
   "id": "1d6ed11b",
   "metadata": {},
   "source": [
    "-----"
   ]
  },
  {
   "cell_type": "markdown",
   "id": "529733be",
   "metadata": {},
   "source": [
    "```SQL\n",
    "SELECT \n",
    "    NULLIF(a,b)\n",
    "........ equal to .....\n",
    "CASE\n",
    "    WHEN a=b\n",
    "    THEN NULL\n",
    "END\n",
    "```"
   ]
  }
 ],
 "metadata": {
  "kernelspec": {
   "display_name": "Python 3 (ipykernel)",
   "language": "python",
   "name": "python3"
  },
  "language_info": {
   "codemirror_mode": {
    "name": "ipython",
    "version": 3
   },
   "file_extension": ".py",
   "mimetype": "text/x-python",
   "name": "python",
   "nbconvert_exporter": "python",
   "pygments_lexer": "ipython3",
   "version": "3.9.7"
  }
 },
 "nbformat": 4,
 "nbformat_minor": 5
}
