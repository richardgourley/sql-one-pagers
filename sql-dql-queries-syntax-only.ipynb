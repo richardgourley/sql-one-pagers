{
 "cells": [
  {
   "cell_type": "markdown",
   "id": "87e6e15b",
   "metadata": {},
   "source": [
    "# SQL Data Query Language - One Page (Syntax Only)"
   ]
  },
  {
   "cell_type": "markdown",
   "id": "3e4eecdf",
   "metadata": {},
   "source": [
    "- This page contains query examples only as a syntax reference."
   ]
  },
  {
   "cell_type": "markdown",
   "id": "9c7208b3",
   "metadata": {},
   "source": [
    "# 1. SQL Query Order"
   ]
  },
  {
   "cell_type": "markdown",
   "id": "56b3cd0d",
   "metadata": {},
   "source": [
    "```SQL\n",
    "\n",
    "    FROM - choose and join tables\n",
    "    WHERE - filters the data\n",
    "    GROUP BY - aggregates the data\n",
    "    HAVING - filters the aggregated data\n",
    "    SELECT - returns the final data\n",
    "    ORDER BY - sorts the final data\n",
    "    LIMIT - limits sorted data to a row count\n",
    "\n",
    "\n",
    "```"
   ]
  },
  {
   "cell_type": "markdown",
   "id": "29d305a7",
   "metadata": {},
   "source": [
    "# 2. SORTING"
   ]
  },
  {
   "cell_type": "markdown",
   "id": "54d4d0ee",
   "metadata": {},
   "source": [
    "## 2a. Sorting - Order By"
   ]
  },
  {
   "cell_type": "markdown",
   "id": "49cd5058",
   "metadata": {},
   "source": [
    "```SQL\n",
    "SELECT \n",
    "    first_name\n",
    "FROM\n",
    "    sales.customers\n",
    "ORDER BY \n",
    "    first_name DESC\n",
    "```"
   ]
  },
  {
   "cell_type": "markdown",
   "id": "6cbb9ae4",
   "metadata": {},
   "source": [
    "====="
   ]
  },
  {
   "cell_type": "markdown",
   "id": "17b67f17",
   "metadata": {},
   "source": [
    "```SQL\n",
    "SELECT \n",
    "    first_name\n",
    "FROM\n",
    "    sales.customers\n",
    "ORDER BY \n",
    "    city,\n",
    "    first_name\n",
    "```"
   ]
  },
  {
   "cell_type": "markdown",
   "id": "abe7821a",
   "metadata": {},
   "source": [
    "====="
   ]
  },
  {
   "cell_type": "markdown",
   "id": "686381f2",
   "metadata": {},
   "source": [
    "```SQL\n",
    "SELECT\n",
    "    first_name\n",
    "FROM\n",
    "    sales.customers\n",
    "ORDER BY \n",
    "    LEN(first_name) DESC\n",
    "```"
   ]
  },
  {
   "cell_type": "markdown",
   "id": "6ed3056a",
   "metadata": {},
   "source": [
    "# 3. LIMITING"
   ]
  },
  {
   "cell_type": "markdown",
   "id": "3886f322",
   "metadata": {},
   "source": [
    "## 3a. OFFSET, FETCH"
   ]
  },
  {
   "cell_type": "markdown",
   "id": "d6e40d04",
   "metadata": {},
   "source": [
    "```SQL\n",
    "SELECT \n",
    "    team_name,\n",
    "    points,\n",
    "FROM \n",
    "    prem_table\n",
    "ORDER BY \n",
    "    points DESC\n",
    "OFFSET 4 ROWS\n",
    "FETCH FIRST 13 ROWS\n",
    "```"
   ]
  },
  {
   "cell_type": "markdown",
   "id": "0e530eb2",
   "metadata": {},
   "source": [
    "## 3b. SELECT TOP"
   ]
  },
  {
   "cell_type": "markdown",
   "id": "7b747afb",
   "metadata": {},
   "source": [
    "```SQL\n",
    "SELECT TOP 10\n",
    "SELECT TOP 1 PERCENT\n",
    "SELECT TOP 3 WITH TIES\n",
    "```"
   ]
  },
  {
   "cell_type": "markdown",
   "id": "068b437d",
   "metadata": {},
   "source": [
    "# 4. FILTERING"
   ]
  },
  {
   "cell_type": "markdown",
   "id": "1d09591f",
   "metadata": {},
   "source": [
    "## 4a. Filtering - Distinct"
   ]
  },
  {
   "cell_type": "markdown",
   "id": "dfe07816",
   "metadata": {},
   "source": [
    "```SQL\n",
    "SELECT DISTINCT \n",
    "    country\n",
    "FROM \n",
    "    sales.customers\n",
    "```"
   ]
  },
  {
   "cell_type": "markdown",
   "id": "b0f57876",
   "metadata": {},
   "source": [
    "## 4b. Filtering - AND, OR, IN"
   ]
  },
  {
   "cell_type": "markdown",
   "id": "c86b0c9d",
   "metadata": {},
   "source": [
    "```SQL\n",
    "SELECT \n",
    "    product_name,\n",
    "    brand_id,\n",
    "    list_price\n",
    "FROM \n",
    "    production.products\n",
    "WHERE\n",
    "    (brand_id 1 OR brand_id = 2)\n",
    "AND\n",
    "    list_price > 40\n",
    "```"
   ]
  },
  {
   "cell_type": "markdown",
   "id": "7142643a",
   "metadata": {},
   "source": [
    "====="
   ]
  },
  {
   "cell_type": "markdown",
   "id": "c1d99584",
   "metadata": {},
   "source": [
    "```SQL\n",
    "SELECT \n",
    "    product_id,\n",
    "    brand_id\n",
    "FROM\n",
    "    products\n",
    "WHERE\n",
    "    brand_id IN(1,2,3,4)\n",
    "```"
   ]
  },
  {
   "cell_type": "markdown",
   "id": "eed658e4",
   "metadata": {},
   "source": [
    "## 4c. Filtering - Between, Not Between"
   ]
  },
  {
   "cell_type": "markdown",
   "id": "e367c5c3",
   "metadata": {},
   "source": [
    "```SQL\n",
    "SELECT\n",
    "    product_id,\n",
    "    product_name,\n",
    "    list_price\n",
    "FROM\n",
    "    production.products\n",
    "WHERE\n",
    "    list_price NOT BETWEEN 149.99 AND 199.99\n",
    "```"
   ]
  },
  {
   "cell_type": "markdown",
   "id": "5e4e4b5c",
   "metadata": {},
   "source": [
    "====="
   ]
  },
  {
   "cell_type": "markdown",
   "id": "6a6b5c23",
   "metadata": {},
   "source": [
    "```SQL\n",
    "SELECT \n",
    "    order_id,\n",
    "    order_date\n",
    "FROM\n",
    "    orders\n",
    "WHERE\n",
    "    order_date BETWEEN '20170115' AND '20170117\n",
    "```"
   ]
  },
  {
   "cell_type": "markdown",
   "id": "9b39b4a7",
   "metadata": {},
   "source": [
    "## 4d. Filtering - LIKE"
   ]
  },
  {
   "cell_type": "markdown",
   "id": "8259f837",
   "metadata": {},
   "source": [
    "```SQL\n",
    "WHERE\n",
    "    last_name LIKE 'z%'\n",
    "```"
   ]
  },
  {
   "cell_type": "markdown",
   "id": "1a619251",
   "metadata": {},
   "source": [
    "```SQL\n",
    "WHERE\n",
    "    last_name LIKE '%er'\n",
    "```"
   ]
  },
  {
   "cell_type": "markdown",
   "id": "fcb37297",
   "metadata": {},
   "source": [
    "```SQL\n",
    "WHERE\n",
    "    last_name LIKE 't%s'\n",
    "```"
   ]
  },
  {
   "cell_type": "markdown",
   "id": "5fc69ce3",
   "metadata": {},
   "source": [
    "```SQL\n",
    "WHERE\n",
    "    last_name LIKE '_u%'\n",
    "```"
   ]
  },
  {
   "cell_type": "markdown",
   "id": "6954f9f3",
   "metadata": {},
   "source": [
    "```SQL\n",
    "WHERE\n",
    "    last_name LIKE '[ZY]%'\n",
    "```"
   ]
  },
  {
   "cell_type": "markdown",
   "id": "3f5ccd95",
   "metadata": {},
   "source": [
    "```SQL\n",
    "WHERE\n",
    "    last_name LIKE '[^A-X]%'\n",
    "```"
   ]
  },
  {
   "cell_type": "markdown",
   "id": "671cc3f6",
   "metadata": {},
   "source": [
    "```SQL\n",
    "WHERE \n",
    "    comment LIKE '%30!%%' ESCAPE '!'\n",
    "```"
   ]
  },
  {
   "cell_type": "markdown",
   "id": "822e9f1a",
   "metadata": {},
   "source": [
    "## 4e. Filtering - Column Aliases"
   ]
  },
  {
   "cell_type": "markdown",
   "id": "bc016929",
   "metadata": {},
   "source": [
    "```SQL\n",
    "SELECT\n",
    "    first_name + ' ' + last_name AS full_name\n",
    "```"
   ]
  },
  {
   "cell_type": "markdown",
   "id": "10dd1aea",
   "metadata": {},
   "source": [
    "```SQL\n",
    "SELECT\n",
    "    first_name + ' ' + last_name AS 'Full Name'\n",
    "```\n"
   ]
  },
  {
   "cell_type": "markdown",
   "id": "2442f515",
   "metadata": {},
   "source": [
    "```SQL\n",
    "SELECT\n",
    "    c.customer_id,\n",
    "    first_name,\n",
    "FROM\n",
    "    sales.customers c\n",
    "INNER JOIN sales.orders o ON o.customer_id = c.customer_id\n",
    "```"
   ]
  }
 ],
 "metadata": {
  "kernelspec": {
   "display_name": "Python 3 (ipykernel)",
   "language": "python",
   "name": "python3"
  },
  "language_info": {
   "codemirror_mode": {
    "name": "ipython",
    "version": 3
   },
   "file_extension": ".py",
   "mimetype": "text/x-python",
   "name": "python",
   "nbconvert_exporter": "python",
   "pygments_lexer": "ipython3",
   "version": "3.9.7"
  }
 },
 "nbformat": 4,
 "nbformat_minor": 5
}
