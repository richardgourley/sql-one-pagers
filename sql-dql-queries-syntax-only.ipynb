{
 "cells": [
  {
   "cell_type": "markdown",
   "id": "87e6e15b",
   "metadata": {},
   "source": [
    "# SQL Data Query Language - One Page (Syntax Only)"
   ]
  },
  {
   "cell_type": "markdown",
   "id": "3e4eecdf",
   "metadata": {},
   "source": [
    "- This page contains query examples only as a syntax reference."
   ]
  },
  {
   "cell_type": "markdown",
   "id": "e23c3b11",
   "metadata": {},
   "source": [
    "# 1. SQL Query Order"
   ]
  },
  {
   "cell_type": "markdown",
   "id": "a02375dc",
   "metadata": {},
   "source": [
    "```SQL\n",
    "FROM - choose and join tables\n",
    "WHERE - filters the data\n",
    "GROUP BY - aggregates the data\n",
    "HAVING - filters the aggregated data\n",
    "SELECT - returns the final data\n",
    "ORDER BY - sorts the final data\n",
    "LIMIT - limits sorted data to a row count\n",
    "```"
   ]
  },
  {
   "cell_type": "markdown",
   "id": "c439aadd",
   "metadata": {},
   "source": [
    "# 2. SORTING"
   ]
  },
  {
   "cell_type": "markdown",
   "id": "16a4c95b",
   "metadata": {},
   "source": [
    "## 2a. Order By"
   ]
  },
  {
   "cell_type": "markdown",
   "id": "b64eee68",
   "metadata": {},
   "source": [
    "```SQL\n",
    "SELECT \n",
    "    first_name\n",
    "FROM\n",
    "    sales.customers\n",
    "ORDER BY \n",
    "    first_name DESC\n",
    "```"
   ]
  },
  {
   "cell_type": "markdown",
   "id": "fd022cba",
   "metadata": {},
   "source": [
    "----"
   ]
  },
  {
   "cell_type": "markdown",
   "id": "fd7796ff",
   "metadata": {},
   "source": [
    "```SQL\n",
    "SELECT \n",
    "    first_name\n",
    "FROM\n",
    "    sales.customers\n",
    "ORDER BY \n",
    "    city,\n",
    "    first_name\n",
    "```"
   ]
  },
  {
   "cell_type": "markdown",
   "id": "c365a92a",
   "metadata": {},
   "source": [
    "-----"
   ]
  },
  {
   "cell_type": "markdown",
   "id": "6b966e87",
   "metadata": {},
   "source": [
    "```SQL\n",
    "SELECT\n",
    "    first_name\n",
    "FROM\n",
    "    sales.customers\n",
    "ORDER BY \n",
    "    LEN(first_name) DESC\n",
    "```"
   ]
  },
  {
   "cell_type": "markdown",
   "id": "f9663032",
   "metadata": {},
   "source": [
    "# 3. LIMITING"
   ]
  },
  {
   "cell_type": "markdown",
   "id": "b188850c",
   "metadata": {},
   "source": [
    "## 3a. Offset, Fetch"
   ]
  },
  {
   "cell_type": "markdown",
   "id": "c465c0b9",
   "metadata": {},
   "source": [
    "```SQL\n",
    "SELECT \n",
    "    team_name,\n",
    "    points,\n",
    "FROM \n",
    "    prem_table\n",
    "ORDER BY \n",
    "    points DESC\n",
    "OFFSET 4 ROWS\n",
    "FETCH FIRST 13 ROWS\n",
    "```"
   ]
  },
  {
   "cell_type": "markdown",
   "id": "1cec1579",
   "metadata": {},
   "source": [
    "## 3b. Select Top"
   ]
  },
  {
   "cell_type": "markdown",
   "id": "b51cc043",
   "metadata": {},
   "source": [
    "```SQL\n",
    "SELECT TOP 10\n",
    "SELECT TOP 1 PERCENT\n",
    "SELECT TOP 3 WITH TIES\n",
    "```"
   ]
  },
  {
   "cell_type": "markdown",
   "id": "068b437d",
   "metadata": {},
   "source": [
    "# 4. FILTERING"
   ]
  },
  {
   "cell_type": "markdown",
   "id": "1d09591f",
   "metadata": {},
   "source": [
    "## 4a. Distinct"
   ]
  },
  {
   "cell_type": "markdown",
   "id": "dfe07816",
   "metadata": {},
   "source": [
    "```SQL\n",
    "SELECT DISTINCT \n",
    "    country\n",
    "FROM \n",
    "    sales.customers\n",
    "```"
   ]
  },
  {
   "cell_type": "markdown",
   "id": "b0f57876",
   "metadata": {},
   "source": [
    "## 4b. And, Or, In"
   ]
  },
  {
   "cell_type": "markdown",
   "id": "c86b0c9d",
   "metadata": {},
   "source": [
    "```SQL\n",
    "SELECT \n",
    "    product_name,\n",
    "    brand_id,\n",
    "    list_price\n",
    "FROM \n",
    "    production.products\n",
    "WHERE\n",
    "    (brand_id 1 OR brand_id = 2)\n",
    "AND\n",
    "    list_price > 40\n",
    "```"
   ]
  },
  {
   "cell_type": "markdown",
   "id": "3e79ccde",
   "metadata": {},
   "source": [
    "-----"
   ]
  },
  {
   "cell_type": "markdown",
   "id": "c1d99584",
   "metadata": {},
   "source": [
    "```SQL\n",
    "SELECT \n",
    "    product_id,\n",
    "    brand_id\n",
    "FROM\n",
    "    products\n",
    "WHERE\n",
    "    brand_id IN(1,2,3,4)\n",
    "```"
   ]
  },
  {
   "cell_type": "markdown",
   "id": "eed658e4",
   "metadata": {},
   "source": [
    "## 4c. Between, Not Between"
   ]
  },
  {
   "cell_type": "markdown",
   "id": "e367c5c3",
   "metadata": {},
   "source": [
    "```SQL\n",
    "SELECT\n",
    "    product_id,\n",
    "    product_name,\n",
    "    list_price\n",
    "FROM\n",
    "    production.products\n",
    "WHERE\n",
    "    list_price NOT BETWEEN 149.99 AND 199.99\n",
    "```"
   ]
  },
  {
   "cell_type": "markdown",
   "id": "5e4e4b5c",
   "metadata": {},
   "source": [
    "----"
   ]
  },
  {
   "cell_type": "markdown",
   "id": "6a6b5c23",
   "metadata": {},
   "source": [
    "```SQL\n",
    "SELECT \n",
    "    order_id,\n",
    "    order_date\n",
    "FROM\n",
    "    orders\n",
    "WHERE\n",
    "    order_date BETWEEN '20170115' AND '20170117\n",
    "```"
   ]
  },
  {
   "cell_type": "markdown",
   "id": "9b39b4a7",
   "metadata": {},
   "source": [
    "## 4d. Like"
   ]
  },
  {
   "cell_type": "markdown",
   "id": "8259f837",
   "metadata": {},
   "source": [
    "```SQL\n",
    "WHERE\n",
    "    last_name LIKE 'z%'\n",
    "```"
   ]
  },
  {
   "cell_type": "markdown",
   "id": "1a619251",
   "metadata": {},
   "source": [
    "```SQL\n",
    "WHERE\n",
    "    last_name LIKE '%er'\n",
    "```"
   ]
  },
  {
   "cell_type": "markdown",
   "id": "fcb37297",
   "metadata": {},
   "source": [
    "```SQL\n",
    "WHERE\n",
    "    last_name LIKE 't%s'\n",
    "```"
   ]
  },
  {
   "cell_type": "markdown",
   "id": "5fc69ce3",
   "metadata": {},
   "source": [
    "```SQL\n",
    "WHERE\n",
    "    last_name LIKE '_u%'\n",
    "```"
   ]
  },
  {
   "cell_type": "markdown",
   "id": "6954f9f3",
   "metadata": {},
   "source": [
    "```SQL\n",
    "WHERE\n",
    "    last_name LIKE '[ZY]%'\n",
    "```"
   ]
  },
  {
   "cell_type": "markdown",
   "id": "3f5ccd95",
   "metadata": {},
   "source": [
    "```SQL\n",
    "WHERE\n",
    "    last_name LIKE '[^A-X]%'\n",
    "```"
   ]
  },
  {
   "cell_type": "markdown",
   "id": "671cc3f6",
   "metadata": {},
   "source": [
    "```SQL\n",
    "WHERE \n",
    "    comment LIKE '%30!%%' ESCAPE '!'\n",
    "```"
   ]
  },
  {
   "cell_type": "markdown",
   "id": "822e9f1a",
   "metadata": {},
   "source": [
    "## 4e. Column Aliases"
   ]
  },
  {
   "cell_type": "markdown",
   "id": "bc016929",
   "metadata": {},
   "source": [
    "```SQL\n",
    "SELECT\n",
    "    first_name + ' ' + last_name AS full_name\n",
    "```"
   ]
  },
  {
   "cell_type": "markdown",
   "id": "f26a59d8",
   "metadata": {},
   "source": [
    "-----"
   ]
  },
  {
   "cell_type": "markdown",
   "id": "10dd1aea",
   "metadata": {},
   "source": [
    "```SQL\n",
    "SELECT\n",
    "    first_name + ' ' + last_name AS 'Full Name'\n",
    "```\n"
   ]
  },
  {
   "cell_type": "markdown",
   "id": "355929ac",
   "metadata": {},
   "source": [
    "-----"
   ]
  },
  {
   "cell_type": "markdown",
   "id": "2442f515",
   "metadata": {},
   "source": [
    "```SQL\n",
    "SELECT\n",
    "    c.customer_id,\n",
    "    first_name,\n",
    "FROM\n",
    "    sales.customers c\n",
    "INNER JOIN sales.orders o ON o.customer_id = c.customer_id\n",
    "```"
   ]
  },
  {
   "cell_type": "markdown",
   "id": "2ca9ab20",
   "metadata": {},
   "source": [
    "------"
   ]
  },
  {
   "cell_type": "markdown",
   "id": "b661dd2f",
   "metadata": {},
   "source": [
    "# 5. Joining Tables"
   ]
  },
  {
   "cell_type": "markdown",
   "id": "3edecfad",
   "metadata": {},
   "source": [
    "## 5a. Inner Join"
   ]
  },
  {
   "cell_type": "markdown",
   "id": "c750bb67",
   "metadata": {},
   "source": [
    "```SQL\n",
    "SELECT \n",
    "    c.id candidate_id,\n",
    "    c.full_name candidate_name,\n",
    "    e.id employeed_id,\n",
    "    e.full_name employee_name\n",
    "FROM \n",
    "    candidates c\n",
    "    INNER JOIN \n",
    "        employees e\n",
    "        ON c.id = e.id\n",
    "```"
   ]
  },
  {
   "cell_type": "markdown",
   "id": "f8f74b06",
   "metadata": {},
   "source": [
    "__"
   ]
  },
  {
   "cell_type": "markdown",
   "id": "859471a7",
   "metadata": {},
   "source": [
    "```SQL\n",
    "SELECT \n",
    "    product_name, \n",
    "    category_name,\n",
    "    list_price\n",
    "FROM \n",
    "    production.products p\n",
    "    INNER JOIN production.categories c\n",
    "        ON p.category_id = c.category_id\n",
    "```"
   ]
  },
  {
   "cell_type": "markdown",
   "id": "442872b3",
   "metadata": {},
   "source": [
    "## 5b. Left Join"
   ]
  },
  {
   "cell_type": "markdown",
   "id": "4d5cb9ee",
   "metadata": {},
   "source": [
    "```SQL\n",
    "SELECT  \n",
    "    c.id candidate_id,\n",
    "    c.fullname candidate_name,\n",
    "    e.id employee_id,\n",
    "    e.fullname employee_name\n",
    "FROM \n",
    "    candidates c\n",
    "    LEFT JOIN employees e \n",
    "        ON e.fullname = c.fullname\n",
    "```"
   ]
  },
  {
   "cell_type": "markdown",
   "id": "008088fc",
   "metadata": {},
   "source": [
    "------"
   ]
  },
  {
   "cell_type": "markdown",
   "id": "5e8573d3",
   "metadata": {},
   "source": [
    "```SQL\n",
    "SELECT\n",
    "    product_name,\n",
    "    order_id\n",
    "FROM\n",
    "    production.products p\n",
    "    LEFT JOIN sales.order_items o \n",
    "        ON o.product_id = p.product_id\n",
    "    ORDER BY\n",
    "        order_id;\n",
    "```"
   ]
  },
  {
   "cell_type": "markdown",
   "id": "204e1032",
   "metadata": {},
   "source": [
    "## 5c. Right Join"
   ]
  },
  {
   "cell_type": "markdown",
   "id": "d3e56d36",
   "metadata": {},
   "source": [
    "```SQL\n",
    "SELECT \n",
    "    c.id candidate_id,\n",
    "    c.full_name candidate_name,\n",
    "    e.id employee_id,\n",
    "    e.full_name employee_name\n",
    "FROM \n",
    "    candidates c\n",
    "    RIGHT JOIN employees e\n",
    "        ON c.full_name = e.full_name\n",
    "```"
   ]
  },
  {
   "cell_type": "markdown",
   "id": "437d2c54",
   "metadata": {},
   "source": [
    "## 5d. Full Outer Join"
   ]
  },
  {
   "cell_type": "markdown",
   "id": "19e09bb1",
   "metadata": {},
   "source": [
    "```SQL\n",
    "SELECT  \n",
    "    c.id candidate_id,\n",
    "    c.fullname candidate_name,\n",
    "    e.id employee_id,\n",
    "    e.fullname employee_name\n",
    "FROM \n",
    "    hr.candidates c\n",
    "    FULL JOIN hr.employees e \n",
    "        ON e.fullname = c.fullname;\n",
    "```"
   ]
  },
  {
   "cell_type": "markdown",
   "id": "641daecd",
   "metadata": {},
   "source": [
    "## 5e. Cross Join"
   ]
  },
  {
   "cell_type": "markdown",
   "id": "0a4a4d24",
   "metadata": {},
   "source": [
    "```SQL\n",
    "SELECT\n",
    "    s.store_id,\n",
    "    p.product_id,\n",
    "    ISNULL(sales, 0) sales\n",
    "FROM\n",
    "    sales.stores s\n",
    "CROSS JOIN production.products p\n",
    "    LEFT JOIN (....SUB QUERY...)\n",
    "\n",
    "```"
   ]
  },
  {
   "cell_type": "markdown",
   "id": "28804a6c",
   "metadata": {},
   "source": [
    "## 5f. Self Join"
   ]
  },
  {
   "cell_type": "markdown",
   "id": "12f21847",
   "metadata": {},
   "source": [
    "```SQL\n",
    "SELECT\n",
    "    e.full_name employee,\n",
    "    m.full_name manager\n",
    "FROM \n",
    "    employees e\n",
    "    LEFT JOIN employees m\n",
    "    ON m.employee_id = e.manager_id\n",
    "```"
   ]
  },
  {
   "cell_type": "markdown",
   "id": "63fbda56",
   "metadata": {},
   "source": [
    "# 6. Grouping"
   ]
  },
  {
   "cell_type": "markdown",
   "id": "9bf7cad8",
   "metadata": {},
   "source": [
    "## 6a. Group By"
   ]
  },
  {
   "cell_type": "markdown",
   "id": "81dee711",
   "metadata": {},
   "source": [
    "```SQL\n",
    "SELECT\n",
    "    customer_id,\n",
    "    YEAR (order_date) order_year,\n",
    "    COUNT (order_id) orders_placed\n",
    "FROM\n",
    "    sales.orders\n",
    "WHERE\n",
    "    customer_id IN (1, 2)\n",
    "GROUP BY\n",
    "    customer_id,\n",
    "    YEAR (order_date)\n",
    "ORDER BY\n",
    "    customer_id\n",
    "\n",
    "```"
   ]
  },
  {
   "cell_type": "markdown",
   "id": "49cfa105",
   "metadata": {},
   "source": [
    "-----"
   ]
  },
  {
   "cell_type": "markdown",
   "id": "4bf356c4",
   "metadata": {},
   "source": [
    "```SQL\n",
    "SELECT\n",
    "    city,\n",
    "    COUNT (customer_id) customer_count\n",
    "FROM\n",
    "    sales.customers\n",
    "GROUP BY\n",
    "    city\n",
    "ORDER BY\n",
    "    city\n",
    "```"
   ]
  },
  {
   "cell_type": "markdown",
   "id": "e8e7584f",
   "metadata": {},
   "source": [
    "-----"
   ]
  },
  {
   "cell_type": "markdown",
   "id": "ba3e709b",
   "metadata": {},
   "source": [
    "```SQL\n",
    "SELECT\n",
    "    brand_name,\n",
    "    AVG (list_price) avg_price\n",
    "FROM\n",
    "    production.products p\n",
    "INNER JOIN production.brands b ON b.brand_id = p.brand_id\n",
    "WHERE\n",
    "    model_year = 2018\n",
    "GROUP BY\n",
    "    brand_name\n",
    "ORDER BY\n",
    "    brand_name\n",
    "```"
   ]
  },
  {
   "cell_type": "markdown",
   "id": "161ca593",
   "metadata": {},
   "source": [
    "-----"
   ]
  },
  {
   "cell_type": "markdown",
   "id": "76134397",
   "metadata": {},
   "source": [
    "```SQL\n",
    "SELECT\n",
    "    order_id,\n",
    "    SUM (\n",
    "        quantity * list_price * (1 - discount)\n",
    "    ) net_value\n",
    "FROM\n",
    "    sales.order_items\n",
    "GROUP BY\n",
    "    order_id;\n",
    "\n",
    "```"
   ]
  },
  {
   "cell_type": "markdown",
   "id": "c4b743bc",
   "metadata": {},
   "source": [
    "## 6b. Having"
   ]
  },
  {
   "cell_type": "markdown",
   "id": "8fd3c1f7",
   "metadata": {},
   "source": [
    "```SQL\n",
    "SELECT \n",
    "    salesperson_name,\n",
    "    SUM(sales) sales_total\n",
    "FROM \n",
    "    sales\n",
    "GROUP BY \n",
    "    salesperson_name\n",
    "HAVING \n",
    "    SUM(sales) < 2000\n",
    "```"
   ]
  },
  {
   "cell_type": "markdown",
   "id": "acbe4f24",
   "metadata": {},
   "source": [
    "-----"
   ]
  },
  {
   "cell_type": "markdown",
   "id": "5c5fdeb1",
   "metadata": {},
   "source": [
    "```SQL\n",
    "SELECT\n",
    "    category_id,\n",
    "    MAX (list_price) max_list_price,\n",
    "    MIN (list_price) min_list_price\n",
    "FROM\n",
    "    production.products\n",
    "GROUP BY\n",
    "    category_id\n",
    "HAVING\n",
    "    MAX (list_price) > 4000 OR MIN (list_price) < 500\n",
    "```"
   ]
  },
  {
   "cell_type": "markdown",
   "id": "6c991fdc",
   "metadata": {},
   "source": [
    "-----"
   ]
  },
  {
   "cell_type": "markdown",
   "id": "daa4a833",
   "metadata": {},
   "source": [
    "```SQL\n",
    "SELECT\n",
    "    category_id,\n",
    "    AVG (list_price) avg_list_price\n",
    "FROM\n",
    "    production.products\n",
    "GROUP BY\n",
    "    category_id\n",
    "HAVING\n",
    "    AVG (list_price) BETWEEN 500 AND 1000\n",
    "```"
   ]
  },
  {
   "cell_type": "markdown",
   "id": "b6e4e849",
   "metadata": {},
   "source": [
    "## 6c. Grouping Sets"
   ]
  },
  {
   "cell_type": "markdown",
   "id": "d02f0b18",
   "metadata": {},
   "source": [
    "```SQL\n",
    "SELECT\n",
    "    brand,\n",
    "    category,\n",
    "    SUM (sales) sales\n",
    "FROM\n",
    "    sales.sales_summary\n",
    "GROUP BY\n",
    "    GROUPING SETS (\n",
    "        (brand, category),\n",
    "        (brand),\n",
    "        (category),\n",
    "        ()\n",
    "    )\n",
    "ORDER BY\n",
    "    brand,\n",
    "    category\n",
    "```"
   ]
  },
  {
   "cell_type": "markdown",
   "id": "ec85d91c",
   "metadata": {},
   "source": [
    "## 6d. Cube"
   ]
  },
  {
   "cell_type": "markdown",
   "id": "c866748a",
   "metadata": {},
   "source": [
    "```SQL\n",
    "GROUPING SETS (\n",
    "        (d1,d2,d3), \n",
    "        (d1,d2),\n",
    "        (d1,d3),\n",
    "        (d2,d3),\n",
    "        (d1),\n",
    "        (d2),\n",
    "        (d3), \n",
    "        ()\n",
    "     )\n",
    "```"
   ]
  },
  {
   "cell_type": "markdown",
   "id": "ce3d38c4",
   "metadata": {},
   "source": [
    "-----"
   ]
  },
  {
   "cell_type": "markdown",
   "id": "98c2a4da",
   "metadata": {},
   "source": [
    "```SQL\n",
    "SELECT\n",
    "    d1,\n",
    "    d2,\n",
    "    d3,\n",
    "    aggregate_function (c4)\n",
    "FROM\n",
    "    table_name\n",
    "GROUP BY\n",
    "    CUBE (d1, d2, d3)\n",
    "```"
   ]
  },
  {
   "cell_type": "markdown",
   "id": "2e9e503f",
   "metadata": {},
   "source": [
    "-----"
   ]
  },
  {
   "cell_type": "markdown",
   "id": "dd7796ca",
   "metadata": {},
   "source": [
    "```SQL\n",
    "SELECT\n",
    "    brand,\n",
    "    category,\n",
    "    SUM (sales) sales\n",
    "FROM\n",
    "    sales.sales_summary\n",
    "GROUP BY\n",
    "    brand,\n",
    "    CUBE(category)\n",
    "```"
   ]
  },
  {
   "cell_type": "markdown",
   "id": "57962911",
   "metadata": {},
   "source": [
    "## 6e. Roll Up"
   ]
  },
  {
   "cell_type": "markdown",
   "id": "d4455983",
   "metadata": {},
   "source": [
    "```SQL\n",
    "SELECT\n",
    "    brand,\n",
    "    category,\n",
    "    SUM (sales) sales\n",
    "FROM\n",
    "    sales.sales_summary\n",
    "GROUP BY\n",
    "    ROLLUP(brand, category)\n",
    "```"
   ]
  },
  {
   "cell_type": "markdown",
   "id": "6c3dc79f",
   "metadata": {},
   "source": [
    "-----"
   ]
  },
  {
   "cell_type": "markdown",
   "id": "322923a6",
   "metadata": {},
   "source": [
    "```SQL\n",
    "SELECT\n",
    "    category,\n",
    "    brand,\n",
    "    SUM (sales) sales\n",
    "FROM\n",
    "    sales.sales_summary\n",
    "GROUP BY\n",
    "    ROLLUP (category, brand)\n",
    "```"
   ]
  },
  {
   "cell_type": "markdown",
   "id": "a9748fd1",
   "metadata": {},
   "source": [
    "-----"
   ]
  },
  {
   "cell_type": "markdown",
   "id": "56167abb",
   "metadata": {},
   "source": [
    "```SQL\n",
    "SELECT\n",
    "    brand,\n",
    "    category,\n",
    "    SUM (sales) sales\n",
    "FROM\n",
    "    sales.sales_summary\n",
    "GROUP BY\n",
    "    brand,\n",
    "    ROLLUP (category)\n",
    "```"
   ]
  },
  {
   "cell_type": "markdown",
   "id": "4c305b9b",
   "metadata": {},
   "source": [
    "# 7. SubQuery"
   ]
  },
  {
   "cell_type": "markdown",
   "id": "5dfe18c7",
   "metadata": {},
   "source": [
    "## 7a. Overview"
   ]
  },
  {
   "cell_type": "markdown",
   "id": "28311a60",
   "metadata": {},
   "source": [
    "```SQL\n",
    "SELECT\n",
    "    order_id,\n",
    "    order_date,\n",
    "    customer_id\n",
    "FROM\n",
    "    sales.orders\n",
    "WHERE\n",
    "    customer_id IN (\n",
    "        SELECT\n",
    "            customer_id\n",
    "        FROM\n",
    "            sales.customers\n",
    "        WHERE\n",
    "            city = 'New York'\n",
    "    )\n",
    "ORDER BY\n",
    "    order_date DESC\n",
    "```"
   ]
  },
  {
   "cell_type": "markdown",
   "id": "211d3007",
   "metadata": {},
   "source": [
    "-----"
   ]
  },
  {
   "cell_type": "markdown",
   "id": "3245dee9",
   "metadata": {},
   "source": [
    "```SQL \n",
    "SELECT\n",
    "    order_id,\n",
    "    order_date,\n",
    "    (\n",
    "        SELECT\n",
    "            MAX (list_price)\n",
    "        FROM\n",
    "            sales.order_items i\n",
    "        WHERE\n",
    "            i.order_id = o.order_id\n",
    "    ) AS max_list_price\n",
    "FROM\n",
    "    sales.orders o\n",
    "ORDER BY order_date desc\n",
    "```"
   ]
  },
  {
   "cell_type": "markdown",
   "id": "b42b8ebd",
   "metadata": {},
   "source": [
    "## 7b. Correlated SubQuery"
   ]
  },
  {
   "cell_type": "markdown",
   "id": "d685f09c",
   "metadata": {},
   "source": [
    "```SQL\n",
    "SELECT\n",
    "    product_name,\n",
    "    list_price,\n",
    "    category_id\n",
    "FROM\n",
    "    production.products p1\n",
    "WHERE\n",
    "    list_price IN (\n",
    "        SELECT\n",
    "            MAX (p2.list_price)\n",
    "        FROM\n",
    "            production.products p2\n",
    "        WHERE\n",
    "            p2.category_id = p1.category_id\n",
    "        GROUP BY\n",
    "            p2.category_id\n",
    "    )\n",
    "ORDER BY\n",
    "    category_id,\n",
    "    product_name\n",
    "```"
   ]
  },
  {
   "cell_type": "markdown",
   "id": "758b42e9",
   "metadata": {},
   "source": [
    "## 7c. Exists"
   ]
  },
  {
   "cell_type": "markdown",
   "id": "a5962a90",
   "metadata": {},
   "source": [
    "```SQL\n",
    "SELECT\n",
    "    customer_id,\n",
    "    first_name,\n",
    "    last_name\n",
    "FROM\n",
    "    sales.customers c\n",
    "WHERE\n",
    "    EXISTS (\n",
    "        SELECT\n",
    "            COUNT (*)\n",
    "        FROM\n",
    "            sales.orders o\n",
    "        WHERE\n",
    "            customer_id = c.customer_id\n",
    "        GROUP BY\n",
    "            customer_id\n",
    "        HAVING\n",
    "            COUNT (*) > 2\n",
    "    )\n",
    "ORDER BY\n",
    "    first_name,\n",
    "    last_name\n",
    "```"
   ]
  },
  {
   "cell_type": "markdown",
   "id": "483655d3",
   "metadata": {},
   "source": [
    "-----"
   ]
  },
  {
   "cell_type": "markdown",
   "id": "56c6a9da",
   "metadata": {},
   "source": [
    "```SQL\n",
    "SELECT\n",
    "    *\n",
    "FROM\n",
    "    sales.orders\n",
    "WHERE\n",
    "    customer_id IN (\n",
    "        SELECT\n",
    "            customer_id\n",
    "        FROM\n",
    "            sales.customers\n",
    "        WHERE\n",
    "            city = 'San Jose'\n",
    "    )\n",
    "ORDER BY\n",
    "    customer_id,\n",
    "    order_date\n",
    "```"
   ]
  },
  {
   "cell_type": "markdown",
   "id": "2bdd8394",
   "metadata": {},
   "source": [
    "----"
   ]
  },
  {
   "cell_type": "markdown",
   "id": "9121b612",
   "metadata": {},
   "source": [
    "```SQL\n",
    "SELECT\n",
    "    *\n",
    "FROM\n",
    "    sales.orders o\n",
    "WHERE\n",
    "    EXISTS (\n",
    "        SELECT\n",
    "            customer_id\n",
    "        FROM\n",
    "            sales.customers c\n",
    "        WHERE\n",
    "            o.customer_id = c.customer_id\n",
    "        AND city = 'San Jose'\n",
    "    )\n",
    "ORDER BY\n",
    "    o.customer_id,\n",
    "    order_date\n",
    "```"
   ]
  },
  {
   "cell_type": "markdown",
   "id": "1fd438e9",
   "metadata": {},
   "source": [
    "## 7d. Any"
   ]
  },
  {
   "cell_type": "markdown",
   "id": "2dbd14ef",
   "metadata": {},
   "source": [
    "```SQL\n",
    "SELECT\n",
    "    product_name,\n",
    "    list_price\n",
    "FROM\n",
    "    production.products\n",
    "WHERE\n",
    "    product_id = ANY (\n",
    "        SELECT\n",
    "            product_id\n",
    "        FROM\n",
    "            sales.order_items\n",
    "        WHERE\n",
    "            quantity >= 2\n",
    "    )\n",
    "ORDER BY\n",
    "    product_name\n",
    "```"
   ]
  },
  {
   "cell_type": "markdown",
   "id": "82670431",
   "metadata": {},
   "source": [
    "## 7e. All"
   ]
  },
  {
   "cell_type": "markdown",
   "id": "96137470",
   "metadata": {},
   "source": [
    "```SQL\n",
    "SELECT\n",
    "    product_name,\n",
    "    list_price\n",
    "FROM\n",
    "    production.products\n",
    "WHERE\n",
    "    list_price > ALL (\n",
    "        SELECT\n",
    "            AVG (list_price) avg_list_price\n",
    "        FROM\n",
    "            production.products\n",
    "        GROUP BY\n",
    "            brand_id\n",
    "    )\n",
    "ORDER BY\n",
    "    list_price\n",
    "```"
   ]
  },
  {
   "cell_type": "markdown",
   "id": "270d430c",
   "metadata": {},
   "source": [
    "# 8. Set Operators"
   ]
  },
  {
   "cell_type": "markdown",
   "id": "ac4bfef3",
   "metadata": {},
   "source": [
    "## 8a. Union"
   ]
  },
  {
   "cell_type": "markdown",
   "id": "b0d4a391",
   "metadata": {},
   "source": [
    "```SQL\n",
    "SELECT\n",
    "    first_name,\n",
    "    last_name\n",
    "FROM\n",
    "    sales.staffs\n",
    "UNION\n",
    "SELECT\n",
    "    first_name,\n",
    "    last_name\n",
    "FROM\n",
    "    sales.customers\n",
    "```"
   ]
  },
  {
   "cell_type": "markdown",
   "id": "5a6cc6d5",
   "metadata": {},
   "source": [
    "## 8b. Union All"
   ]
  },
  {
   "cell_type": "markdown",
   "id": "1fd20acf",
   "metadata": {},
   "source": [
    "```SQL\n",
    "SELECT\n",
    "    first_name,\n",
    "    last_name\n",
    "FROM\n",
    "    sales.staffs\n",
    "UNION ALL\n",
    "SELECT\n",
    "    first_name,\n",
    "    last_name\n",
    "FROM\n",
    "    sales.customer\n",
    "```"
   ]
  },
  {
   "cell_type": "markdown",
   "id": "df383fe2",
   "metadata": {},
   "source": [
    "## 8c. Intersect"
   ]
  },
  {
   "cell_type": "markdown",
   "id": "635ea94c",
   "metadata": {},
   "source": [
    "```SQL\n",
    "SELECT \n",
    "    player_name\n",
    "FROM \n",
    "    player_of_the_year 2021\n",
    "INTERSECT\n",
    "SELECT \n",
    "    player_id\n",
    "FROM \n",
    "    player_of_the_year_2020\n",
    "```"
   ]
  },
  {
   "cell_type": "markdown",
   "id": "263a0bbb",
   "metadata": {},
   "source": [
    "## 8d. Except"
   ]
  },
  {
   "cell_type": "markdown",
   "id": "5381fd75",
   "metadata": {},
   "source": [
    "```SQL\n",
    "SELECT \n",
    "    first_name,\n",
    "    last_name\n",
    "FROM\n",
    "    employees\n",
    "EXCEPT\n",
    "SELECT\n",
    "    first_name,\n",
    "    last_name\n",
    "FROM \n",
    "    completed_health_and_safety\n",
    "```"
   ]
  },
  {
   "cell_type": "markdown",
   "id": "ca42238c",
   "metadata": {},
   "source": [
    "# 9. Common Table Expressions"
   ]
  },
  {
   "cell_type": "markdown",
   "id": "667d0da8",
   "metadata": {},
   "source": [
    "## 9a. CTEs"
   ]
  },
  {
   "cell_type": "markdown",
   "id": "227ad5dc",
   "metadata": {},
   "source": [
    "```SQL\n",
    "WITH sales_person_yearly_total (sales_person_id, sales, year) AS (\n",
    "SELECT\n",
    "    id,\n",
    "    SUM(sales_total)\n",
    "    YEAR(sales_date)\n",
    "FROM \n",
    "    sales\n",
    "GROUP BY \n",
    "    id,\n",
    "    YEAR(sales_date)\n",
    ")\n",
    "SELECT \n",
    "    sales_person_id,\n",
    "    sales,\n",
    "    year\n",
    "FROM \n",
    "    sales_person_yearly_total\n",
    "WHERE\n",
    "    year = 2019\n",
    "\n",
    "```"
   ]
  },
  {
   "cell_type": "markdown",
   "id": "dc03ebc3",
   "metadata": {},
   "source": [
    "-----"
   ]
  },
  {
   "cell_type": "markdown",
   "id": "d1d7a0cf",
   "metadata": {},
   "source": [
    "```SQL\n",
    "WITH cte_sales AS (\n",
    "    SELECT \n",
    "        staff_id, \n",
    "        COUNT(*) order_count  \n",
    "    FROM\n",
    "        sales.orders\n",
    "    WHERE \n",
    "        YEAR(order_date) = 2018\n",
    "    GROUP BY\n",
    "        staff_id\n",
    ")\n",
    "SELECT\n",
    "    AVG(order_count) average_orders_by_staff\n",
    "FROM \n",
    "    cte_sales\n",
    "```"
   ]
  },
  {
   "cell_type": "markdown",
   "id": "4dce4a29",
   "metadata": {},
   "source": [
    "-----"
   ]
  },
  {
   "cell_type": "markdown",
   "id": "a9ed95f2",
   "metadata": {},
   "source": [
    "```SQL\n",
    "WITH cte_1 AS (\n",
    "SELECT ....\n",
    "),\n",
    "WITH cte_2 AS (\n",
    "SELECT ...\n",
    ")\n",
    "SELECT \n",
    "    col_a,\n",
    "    col_b\n",
    "FROM \n",
    "    cte_1\n",
    "    INNER JOIN cte_2 ON...\n",
    "WHERE...\n",
    "ORDER BY...\n",
    "\n",
    "```"
   ]
  },
  {
   "cell_type": "markdown",
   "id": "617e29c8",
   "metadata": {},
   "source": [
    "## 9b. Recursive CTEs"
   ]
  },
  {
   "cell_type": "markdown",
   "id": "a80c7f2c",
   "metadata": {},
   "source": [
    "```SQL\n",
    "WITH cte ( value )\n",
    "  AS (\n",
    "       SELECT   1\n",
    "       UNION ALL\n",
    "       SELECT   value + 1\n",
    "       FROM     cte\n",
    "       WHERE    value < 4\n",
    "     )\n",
    "SELECT  *\n",
    "FROM    cte\n",
    "```"
   ]
  },
  {
   "cell_type": "markdown",
   "id": "e8f2b1c9",
   "metadata": {},
   "source": [
    "-----"
   ]
  },
  {
   "cell_type": "markdown",
   "id": "88abece7",
   "metadata": {},
   "source": [
    "```SQL\n",
    "WITH organization AS\n",
    "(\n",
    "SELECT \n",
    "    employee_id,\n",
    "    full_name,\n",
    "    manager_id\n",
    "FROM\n",
    "    employees\n",
    "WHERE\n",
    "    manager_id IS NULL\n",
    "UNION ALL\n",
    "SELECT \n",
    "    employees.employee_id,\n",
    "    employees.full_name, \n",
    "    employees.manager_id\n",
    "FROM\n",
    "    employees\n",
    "    INNER JOIN organization\n",
    "    ON organization.employee_id = employees.manager_id\n",
    ")\n",
    "SELECT *\n",
    "FROM \n",
    "organization\n",
    "```"
   ]
  },
  {
   "cell_type": "markdown",
   "id": "a395e5cd",
   "metadata": {},
   "source": [
    "----"
   ]
  },
  {
   "cell_type": "markdown",
   "id": "9895f669",
   "metadata": {},
   "source": [
    "```SQL\n",
    "WITH outer_products AS\n",
    "(\n",
    "SELECT \n",
    "    item_id,\n",
    "    item_name,\n",
    "    product_id\n",
    "FROM\n",
    "    products\n",
    "WHERE\n",
    "    product_id IS NULL\n",
    "UNION ALL\n",
    "SELECT \n",
    "    p.item_id,\n",
    "    p.item_name, \n",
    "    p.product_id\n",
    "FROM\n",
    "    products p\n",
    "    INNER JOIN outer_products o\n",
    "    ON o.item_id = p.product_id\n",
    ")\n",
    "SELECT *\n",
    "FROM \n",
    "outer_products\n",
    "```"
   ]
  },
  {
   "cell_type": "markdown",
   "id": "1c3be760",
   "metadata": {},
   "source": [
    "# 10. Pivot"
   ]
  },
  {
   "cell_type": "markdown",
   "id": "94022d4c",
   "metadata": {},
   "source": [
    "# 10a. Pivot"
   ]
  },
  {
   "cell_type": "markdown",
   "id": "841150ab",
   "metadata": {},
   "source": [
    "```SQL\n",
    "SELECT * FROM   \n",
    "(\n",
    "    SELECT \n",
    "        category_name, \n",
    "        product_id\n",
    "    FROM \n",
    "        products p\n",
    "        INNER JOIN categories c \n",
    "            ON c.category_id = p.category_id\n",
    ") t \n",
    "PIVOT(\n",
    "    COUNT(product_id) \n",
    "    FOR category_name IN (\n",
    "        [CatA], \n",
    "        [CatB], \n",
    "        [CatC], \n",
    "        [CatD]\n",
    ") AS pivot_table\n",
    "```"
   ]
  },
  {
   "cell_type": "markdown",
   "id": "b7485d36",
   "metadata": {},
   "source": [
    "-----"
   ]
  },
  {
   "cell_type": "markdown",
   "id": "c69f12f7",
   "metadata": {},
   "source": [
    "```SQL\n",
    "SELECT * FROM   \n",
    "(\n",
    "    SELECT \n",
    "        category_name, \n",
    "        product_id,\n",
    "        model_year\n",
    "    FROM \n",
    "        products p\n",
    "        INNER JOIN categories c \n",
    "            ON c.category_id = p.category_id\n",
    ") t \n",
    "PIVOT(\n",
    "    COUNT(product_id) \n",
    "    FOR category_name IN (\n",
    "        [CatA], \n",
    "        [CatB], \n",
    "        [CatC], \n",
    "        [CatD]\n",
    ") AS pivot_table\n",
    "```"
   ]
  },
  {
   "cell_type": "markdown",
   "id": "1701a31e",
   "metadata": {},
   "source": [
    "# 11. Expressions"
   ]
  },
  {
   "cell_type": "markdown",
   "id": "e18eb2c7",
   "metadata": {},
   "source": [
    "## 11a. Case"
   ]
  },
  {
   "cell_type": "markdown",
   "id": "ce0682bd",
   "metadata": {},
   "source": [
    "```SQL\n",
    "SELECT \n",
    "    SUM(CASE\n",
    "        WHEN test_score > 70\n",
    "        THEN 1\n",
    "        ELSE 0\n",
    "    END) AS 'Pass',\n",
    "    SUM(CASE\n",
    "        WHEN test_score <= 70\n",
    "        THEN 1\n",
    "        ELSE 0\n",
    "    END) AS 'Fail'\n",
    "FROM \n",
    "    test_scores\n",
    "```"
   ]
  },
  {
   "cell_type": "markdown",
   "id": "0fcfb1a7",
   "metadata": {},
   "source": [
    "-----"
   ]
  },
  {
   "cell_type": "markdown",
   "id": "4809ed88",
   "metadata": {},
   "source": [
    "```SQL\n",
    "SELECT \n",
    "    name, \n",
    "    score,\n",
    "    CASE\n",
    "        WHEN score > 70\n",
    "            THEN 'Pass'\n",
    "        WHEN score <= 70 AND score >= 60\n",
    "            THEN 'Possible retake'\n",
    "        WHEN score <60 \n",
    "            THEN 'Fail'\n",
    "    END outcome\n",
    "FROM \n",
    "    test_scores\n",
    "```"
   ]
  },
  {
   "cell_type": "markdown",
   "id": "178bc6b4",
   "metadata": {},
   "source": [
    "## 11b. Coalesce"
   ]
  },
  {
   "cell_type": "markdown",
   "id": "1e480265",
   "metadata": {},
   "source": [
    "```SQL\n",
    "SELECT \n",
    "    first_name,\n",
    "    last_name,\n",
    "    COALESCE(phone,'N/A')\n",
    "FROM \n",
    "    employees\n",
    "```"
   ]
  },
  {
   "cell_type": "markdown",
   "id": "0c7d82c3",
   "metadata": {},
   "source": [
    "----"
   ]
  },
  {
   "cell_type": "markdown",
   "id": "e6b7a104",
   "metadata": {},
   "source": [
    "```SQL\n",
    "SELECT\n",
    "    staff_id,\n",
    "    COALESCE(\n",
    "        hourly_rate*22*8, \n",
    "        weekly_rate*4, \n",
    "        monthly_rate\n",
    "    ) monthly_salary\n",
    "FROM\n",
    "    salaries\n",
    "```"
   ]
  },
  {
   "cell_type": "markdown",
   "id": "d2202167",
   "metadata": {},
   "source": [
    "----"
   ]
  },
  {
   "cell_type": "markdown",
   "id": "fdeb071a",
   "metadata": {},
   "source": [
    "```SQL\n",
    "COALESCE(e1,e2,e3)\n",
    "......\n",
    "CASE\n",
    "    WHEN e1 IS NOT NULL THEN e1\n",
    "    WHEN e2 IS NOT NULL THEN e2\n",
    "    ELSE e3\n",
    "END\n",
    "```"
   ]
  },
  {
   "cell_type": "markdown",
   "id": "b04a9fc2",
   "metadata": {},
   "source": [
    "# 11c. Null If"
   ]
  },
  {
   "cell_type": "markdown",
   "id": "81b9a68b",
   "metadata": {},
   "source": [
    "```SQL\n",
    "SELECT \n",
    "    name,\n",
    "    email\n",
    "FROM \n",
    "    clients\n",
    "WHERE\n",
    "    NULLIF(email, '') IS NULL\n",
    "\n",
    "```"
   ]
  },
  {
   "cell_type": "markdown",
   "id": "3e716fe6",
   "metadata": {},
   "source": [
    "-----"
   ]
  },
  {
   "cell_type": "markdown",
   "id": "efcbcfcf",
   "metadata": {},
   "source": [
    "```SQL\n",
    "SELECT \n",
    "    NULLIF(a,b)\n",
    "........ equal to .....\n",
    "CASE\n",
    "    WHEN a=b\n",
    "    THEN NULL\n",
    "END\n",
    "```"
   ]
  }
 ],
 "metadata": {
  "kernelspec": {
   "display_name": "Python 3 (ipykernel)",
   "language": "python",
   "name": "python3"
  },
  "language_info": {
   "codemirror_mode": {
    "name": "ipython",
    "version": 3
   },
   "file_extension": ".py",
   "mimetype": "text/x-python",
   "name": "python",
   "nbconvert_exporter": "python",
   "pygments_lexer": "ipython3",
   "version": "3.9.7"
  }
 },
 "nbformat": 4,
 "nbformat_minor": 5
}
