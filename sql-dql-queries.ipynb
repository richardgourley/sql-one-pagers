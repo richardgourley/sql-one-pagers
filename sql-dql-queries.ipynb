{
 "cells": [
  {
   "cell_type": "markdown",
   "id": "87e6e15b",
   "metadata": {},
   "source": [
    "# SQL Data Query Language Queries - One Page"
   ]
  },
  {
   "cell_type": "markdown",
   "id": "3e4eecdf",
   "metadata": {},
   "source": [
    "- A one page reference for common Data Query Language Commands, all in one place.\n",
    "- Extensive notes are added to more difficult concepts such as correlated subqueries, cube, rollup etc. Notes aren't added to every example.  \n",
    "- Some notes and examples are my own, some notes and examples are from online tutorials.\n",
    "- To keep the length down, table creation is not included BUT the tables are usually logical in describing VARCHAR, INTS, BOOLEANS etc.\n",
    "\n",
    "- If you just want to review the syntax of these queries visit: \n",
    "https://github.com/richardgourley/sql-one-pagers/blob/main/sql-dql-syntax-only.ipynb"
   ]
  },
  {
   "cell_type": "markdown",
   "id": "a8f0bd83",
   "metadata": {},
   "source": [
    "**CONTENTS**\n",
    "\n",
    "**1. SQL Query Order**\n",
    "\n",
    "**2. Sorting**\n",
    "\n",
    "**3. Limiting**\n",
    "\n",
    "**4. Filtering**\n",
    "\n",
    "**5. Joining Tables**\n",
    "\n",
    "**6. Grouping**\n",
    "\n",
    "**7. SubQuery**\n",
    "\n",
    "**8. Set Operators**\n",
    "\n",
    "**9. Common Table Expressions**\n",
    "\n",
    "**10. Pivot**\n",
    "\n",
    "**11. Expressions - Coalesce, Case, NullIf**"
   ]
  },
  {
   "cell_type": "markdown",
   "id": "541ec77c",
   "metadata": {},
   "source": [
    "# 1. SQL Query Order"
   ]
  },
  {
   "cell_type": "markdown",
   "id": "696d4b2c",
   "metadata": {},
   "source": [
    "**SQL queries are evaluated in the following order:**"
   ]
  },
  {
   "cell_type": "markdown",
   "id": "9e7d3249",
   "metadata": {},
   "source": [
    "**FROM** - choose and join tables\n",
    "\n",
    "**WHERE** - filters the data\n",
    "\n",
    "**GROUP BY** - aggregates the data\n",
    "\n",
    "**HAVING** - filters the aggregated data\n",
    "\n",
    "**SELECT** - returns the final data\n",
    "\n",
    "**ORDER BY** - sorts the final data\n",
    "\n",
    "**LIMIT** - limits sorted data to a row count"
   ]
  },
  {
   "cell_type": "markdown",
   "id": "24e874a9",
   "metadata": {},
   "source": [
    "-----"
   ]
  },
  {
   "cell_type": "markdown",
   "id": "bd80d60e",
   "metadata": {},
   "source": [
    "# 2. SORTING"
   ]
  },
  {
   "cell_type": "markdown",
   "id": "6a0180e9",
   "metadata": {},
   "source": [
    "## 2a. Order By"
   ]
  },
  {
   "cell_type": "markdown",
   "id": "87cb7f71",
   "metadata": {},
   "source": [
    "**QUERY AIM:**\n",
    "- In this query, we retrieve all first_name from CUSTOMERS, ordered by first_name."
   ]
  },
  {
   "cell_type": "markdown",
   "id": "4c570193",
   "metadata": {},
   "source": [
    "```SQL\n",
    "SELECT \n",
    "    first_name\n",
    "FROM\n",
    "    sales.customers\n",
    "ORDER BY \n",
    "    first_name DESC\n",
    "```"
   ]
  },
  {
   "cell_type": "markdown",
   "id": "86bfcde3",
   "metadata": {},
   "source": [
    "--"
   ]
  },
  {
   "cell_type": "markdown",
   "id": "29d3cc40",
   "metadata": {},
   "source": [
    "**QUERY AIM:**\n",
    "- In this query, we retrieve all first_name from CUSTOMERS, ordered first by city, then wby first_name alphabetically."
   ]
  },
  {
   "cell_type": "markdown",
   "id": "3be08140",
   "metadata": {},
   "source": [
    "```SQL\n",
    "SELECT \n",
    "    first_name\n",
    "FROM\n",
    "    sales.customers\n",
    "ORDER BY \n",
    "    city,\n",
    "    first_name\n",
    "```"
   ]
  },
  {
   "cell_type": "markdown",
   "id": "c4312895",
   "metadata": {},
   "source": [
    "--"
   ]
  },
  {
   "cell_type": "markdown",
   "id": "0bdf0ec3",
   "metadata": {},
   "source": [
    "**QUERY AIM:**\n",
    "- This query returns all customers from the CUSTOMERS table in order of the length of their first_name.\n",
    "\n",
    "**NOTES:**\n",
    "- We can order results by expressions as well as columns."
   ]
  },
  {
   "cell_type": "markdown",
   "id": "1fd16147",
   "metadata": {},
   "source": [
    "```SQL\n",
    "SELECT\n",
    "    first_name\n",
    "FROM\n",
    "    sales.customers\n",
    "ORDER BY \n",
    "    LEN(first_name) DESC\n",
    "```"
   ]
  },
  {
   "cell_type": "markdown",
   "id": "c0c890bd",
   "metadata": {},
   "source": [
    "-----"
   ]
  },
  {
   "cell_type": "markdown",
   "id": "61ba6305",
   "metadata": {},
   "source": [
    "# 3. LIMITING"
   ]
  },
  {
   "cell_type": "markdown",
   "id": "bd62bea4",
   "metadata": {},
   "source": [
    "## 3a. Offset, Fetch"
   ]
  },
  {
   "cell_type": "markdown",
   "id": "f187bfa0",
   "metadata": {},
   "source": [
    "**QUERY AIM:**\n",
    "- In this query, from a 20 team league, we want to retrieve teams that are not in the top 4 (OFFSET) and teams that are not in the bottom 3 (FETCH FIRST 13 ROWS) after we offset the first 4 rows.\n",
    "\n",
    "**NOTES:**\n",
    "- Query order is very important here. SELECT is evaluated AFTER ORDER BY, so the teams are ordered by points first.\n",
    "- OFFSET omits the first number of rows, then we use FETCH to retrieve how many rows we want after the OFFSET."
   ]
  },
  {
   "cell_type": "markdown",
   "id": "d360aa00",
   "metadata": {},
   "source": [
    "```SQL\n",
    "SELECT \n",
    "    team_name,\n",
    "    points,\n",
    "FROM \n",
    "    prem_table\n",
    "ORDER BY \n",
    "    points DESC\n",
    "OFFSET 4 ROWS\n",
    "FETCH FIRST 13 ROWS\n",
    "```"
   ]
  },
  {
   "cell_type": "markdown",
   "id": "3cd3ce57",
   "metadata": {},
   "source": [
    "## 3b. Select Top"
   ]
  },
  {
   "cell_type": "markdown",
   "id": "ae50820b",
   "metadata": {},
   "source": [
    "**QUERY AIMS:**\n",
    "- The queries below would retrieve the TOP 10, the TOP 1% and the TOP 3 WITH TIES.\n",
    "\n",
    "**NOTES:**\n",
    "- TOP 3 WITH TIES means that all joint equal 3rd highest (or lowest) of a value are included in the result."
   ]
  },
  {
   "cell_type": "markdown",
   "id": "e9a1d366",
   "metadata": {},
   "source": [
    "```SQL\n",
    "SELECT TOP 10\n",
    "SELECT TOP 1 PERCENT\n",
    "SELECT TOP 3 WITH TIES\n",
    "```"
   ]
  },
  {
   "cell_type": "markdown",
   "id": "1a99aeb9",
   "metadata": {},
   "source": [
    "----"
   ]
  },
  {
   "cell_type": "markdown",
   "id": "068b437d",
   "metadata": {},
   "source": [
    "# 4. FILTERING"
   ]
  },
  {
   "cell_type": "markdown",
   "id": "1d09591f",
   "metadata": {},
   "source": [
    "## 4a. Distinct"
   ]
  },
  {
   "cell_type": "markdown",
   "id": "1de8195f",
   "metadata": {},
   "source": [
    "**QUERY AIM:**\n",
    "- This query tells us which countries we have cusomers in from the CUSTOMERS table.\n",
    "- DISTINCT removes any duplicates."
   ]
  },
  {
   "cell_type": "markdown",
   "id": "dfe07816",
   "metadata": {},
   "source": [
    "```SQL\n",
    "SELECT DISTINCT \n",
    "    country\n",
    "FROM \n",
    "    sales.customers\n",
    "```"
   ]
  },
  {
   "cell_type": "markdown",
   "id": "b0f57876",
   "metadata": {},
   "source": [
    "## 4b. And, Or, In"
   ]
  },
  {
   "cell_type": "markdown",
   "id": "0e7aca15",
   "metadata": {},
   "source": [
    "**QUERY AIM:**\n",
    "- This query uses OR and AND keywords to retrive details from the PRODUCTS table where the brand_id is 1 or 2, and the list_price is higher than 40.\n",
    "\n",
    "**NOTES:**\n",
    "- Brackets are very important.\n",
    "- AND is evaluated first, so without brackets this query would return:\n",
    "**All brand_id of 1 + brand_id of 2 products with list_price higher than 40. (Not the desired result)**"
   ]
  },
  {
   "cell_type": "markdown",
   "id": "c86b0c9d",
   "metadata": {},
   "source": [
    "```SQL\n",
    "SELECT \n",
    "    product_name,\n",
    "    brand_id,\n",
    "    list_price\n",
    "FROM \n",
    "    production.products\n",
    "WHERE\n",
    "    (brand_id 1 OR brand_id = 2)\n",
    "AND\n",
    "    list_price > 40\n",
    "```"
   ]
  },
  {
   "cell_type": "markdown",
   "id": "aa6b8560",
   "metadata": {},
   "source": [
    "--"
   ]
  },
  {
   "cell_type": "markdown",
   "id": "4a60972b",
   "metadata": {},
   "source": [
    "**QUERY AIM:**\n",
    "- This query uses the IN operator to find products with a brand_id that is either 1,2,3 or 4."
   ]
  },
  {
   "cell_type": "markdown",
   "id": "c1d99584",
   "metadata": {},
   "source": [
    "```SQL\n",
    "SELECT \n",
    "    product_id,\n",
    "    brand_id\n",
    "FROM\n",
    "    products\n",
    "WHERE\n",
    "    brand_id IN(1,2,3,4)\n",
    "```"
   ]
  },
  {
   "cell_type": "markdown",
   "id": "eed658e4",
   "metadata": {},
   "source": [
    "## 4c. Between, Not Between"
   ]
  },
  {
   "cell_type": "markdown",
   "id": "573ee45d",
   "metadata": {},
   "source": [
    "**QUERY AIM:**\n",
    "- This query uses NOT BETWEEN to find products whose list_price does not match the price range below."
   ]
  },
  {
   "cell_type": "markdown",
   "id": "e367c5c3",
   "metadata": {},
   "source": [
    "```SQL\n",
    "SELECT\n",
    "    product_id,\n",
    "    product_name,\n",
    "    list_price\n",
    "FROM\n",
    "    production.products\n",
    "WHERE\n",
    "    list_price NOT BETWEEN 149.99 AND 199.99\n",
    "```"
   ]
  },
  {
   "cell_type": "markdown",
   "id": "5e4e4b5c",
   "metadata": {},
   "source": [
    "--"
   ]
  },
  {
   "cell_type": "markdown",
   "id": "b70286e2",
   "metadata": {},
   "source": [
    "**QUERY AIM:**\n",
    "- This query finds all orders from the table ORDERS where the date of the order matches a specific date range.\n",
    "\n",
    "**NOTES:**\n",
    "- Note how the date is input as a string with 'YYYMMDD' format."
   ]
  },
  {
   "cell_type": "markdown",
   "id": "6a6b5c23",
   "metadata": {},
   "source": [
    "```SQL\n",
    "SELECT \n",
    "    order_id,\n",
    "    order_date\n",
    "FROM\n",
    "    orders\n",
    "WHERE\n",
    "    order_date BETWEEN '20170115' AND '20170117\n",
    "```"
   ]
  },
  {
   "cell_type": "markdown",
   "id": "9b39b4a7",
   "metadata": {},
   "source": [
    "## 4d. Like"
   ]
  },
  {
   "cell_type": "markdown",
   "id": "41ef5be0",
   "metadata": {},
   "source": [
    "**QUERY AIMS:**\n",
    "- These queries use types of regular expressions to return filtered string results.\n",
    "\n",
    "**NOTES:**\n",
    "- 'z%' means starts with z and followed by ANY characters.\n",
    "- '%er' means ANY characters followed by 'er' at the end.\n",
    "- 't%s' means a string starting with 't', ending with 's' and ANY characters in between.\n",
    "- '_u%' -> the underscore means 1 SINGLE character (ANY) followed here by a 'u' and then any characters, eg. Duncan, super, Humphrey\n",
    "- '[ZY]%' -> Square brackets means either of these here (Z or Y) followed by ANY characters (%).\n",
    "- '[^A-Z]%' -> The ^ sign means not any character in the range (A-Z) followed by ANY characters (%).\n",
    "- If we want to include regex symbols such as '%^' in our search, then we can escape them by choosing any key we want to use before a regex character, then declaring that character with the ESCAPE keyword."
   ]
  },
  {
   "cell_type": "markdown",
   "id": "8259f837",
   "metadata": {},
   "source": [
    "```SQL\n",
    "WHERE\n",
    "    last_name LIKE 'z%'\n",
    "```"
   ]
  },
  {
   "cell_type": "markdown",
   "id": "1a619251",
   "metadata": {},
   "source": [
    "```SQL\n",
    "WHERE\n",
    "    last_name LIKE '%er'\n",
    "```"
   ]
  },
  {
   "cell_type": "markdown",
   "id": "fcb37297",
   "metadata": {},
   "source": [
    "```SQL\n",
    "WHERE\n",
    "    last_name LIKE 't%s'\n",
    "```"
   ]
  },
  {
   "cell_type": "markdown",
   "id": "5fc69ce3",
   "metadata": {},
   "source": [
    "```SQL\n",
    "WHERE\n",
    "    last_name LIKE '_u%'\n",
    "```"
   ]
  },
  {
   "cell_type": "markdown",
   "id": "6954f9f3",
   "metadata": {},
   "source": [
    "```SQL\n",
    "WHERE\n",
    "    last_name LIKE '[ZY]%'\n",
    "```"
   ]
  },
  {
   "cell_type": "markdown",
   "id": "3f5ccd95",
   "metadata": {},
   "source": [
    "```SQL\n",
    "WHERE\n",
    "    last_name LIKE '[^A-X]%'\n",
    "```"
   ]
  },
  {
   "cell_type": "markdown",
   "id": "671cc3f6",
   "metadata": {},
   "source": [
    "```SQL\n",
    "WHERE \n",
    "    comment LIKE '%30!%%' ESCAPE '!'\n",
    "```"
   ]
  },
  {
   "cell_type": "markdown",
   "id": "822e9f1a",
   "metadata": {},
   "source": [
    "## 4e. Column Aliases"
   ]
  },
  {
   "cell_type": "markdown",
   "id": "dc0df5da",
   "metadata": {},
   "source": [
    "**QUERY AIMS:**\n",
    "- The queries below all use table aliases.\n",
    "- The second query uses ' ' as we want to include a columns alias with spaces.\n",
    "- The third query is an example of using aliases with joins to make join queries easier to read."
   ]
  },
  {
   "cell_type": "markdown",
   "id": "bc016929",
   "metadata": {},
   "source": [
    "```SQL\n",
    "SELECT\n",
    "    first_name + ' ' + last_name AS full_name\n",
    "```"
   ]
  },
  {
   "cell_type": "markdown",
   "id": "2105e913",
   "metadata": {},
   "source": [
    "--"
   ]
  },
  {
   "cell_type": "markdown",
   "id": "10dd1aea",
   "metadata": {},
   "source": [
    "```SQL\n",
    "SELECT\n",
    "    first_name + ' ' + last_name AS 'Full Name'\n",
    "```\n"
   ]
  },
  {
   "cell_type": "markdown",
   "id": "eaf92ef8",
   "metadata": {},
   "source": [
    "--"
   ]
  },
  {
   "cell_type": "markdown",
   "id": "2442f515",
   "metadata": {},
   "source": [
    "```SQL\n",
    "SELECT\n",
    "    c.customer_id,\n",
    "    first_name,\n",
    "FROM\n",
    "    sales.customers c\n",
    "INNER JOIN sales.orders o ON o.customer_id = c.customer_id\n",
    "```"
   ]
  },
  {
   "cell_type": "markdown",
   "id": "cad29e27",
   "metadata": {},
   "source": [
    "------"
   ]
  },
  {
   "cell_type": "markdown",
   "id": "092fecff",
   "metadata": {},
   "source": [
    "# 5. Joining Tables"
   ]
  },
  {
   "cell_type": "markdown",
   "id": "8c9e37ff",
   "metadata": {},
   "source": [
    "## 5a. Inner Join"
   ]
  },
  {
   "cell_type": "markdown",
   "id": "dfab1e29",
   "metadata": {},
   "source": [
    "**QUERY AIM:**\n",
    "- This query retrieves all candidates from the CANDIDATES table whose name also appears in the EMPLOYEES table."
   ]
  },
  {
   "cell_type": "markdown",
   "id": "fa2e56ab",
   "metadata": {},
   "source": [
    "```SQL\n",
    "SELECT \n",
    "    c.id candidate_id,\n",
    "    c.full_name candidate_name,\n",
    "    e.id employeed_id,\n",
    "    e.full_name employee_name\n",
    "FROM \n",
    "    candidates c\n",
    "    INNER JOIN \n",
    "        employees e\n",
    "        ON c.fullname = e.fullname\n",
    "```"
   ]
  },
  {
   "cell_type": "markdown",
   "id": "af893b76",
   "metadata": {},
   "source": [
    "--"
   ]
  },
  {
   "cell_type": "markdown",
   "id": "7baa9a07",
   "metadata": {},
   "source": [
    "**QUERY AIM:**\n",
    "- This inner join obtains data from two tables to get product details from the PRODUCTS table and category_name from the CATEGORIES table.\n",
    "\n",
    "**NOTES:**\n",
    "- An INNER JOIN effectively finds matches between the two tables and is often based on an id.\n",
    "- In this query, we have a category_id stored in the PRODUCTS table but further information is required from fields in the CATEGORIES table.\n",
    "- The PRODUCTS and CATEGORIES tables are linked but separate and we use joins to connect them (via category_id) in this case."
   ]
  },
  {
   "cell_type": "markdown",
   "id": "8149b4bc",
   "metadata": {},
   "source": [
    "```SQL\n",
    "SELECT \n",
    "    product_name, \n",
    "    category_name,\n",
    "    list_price\n",
    "FROM \n",
    "    production.products p\n",
    "    INNER JOIN production.categories c\n",
    "        ON p.category_id = c.category_id\n",
    "```"
   ]
  },
  {
   "cell_type": "markdown",
   "id": "69e5bc2e",
   "metadata": {},
   "source": [
    "## 5b. Left Join"
   ]
  },
  {
   "cell_type": "markdown",
   "id": "817ecf59",
   "metadata": {},
   "source": [
    "**QUERY AIM:**\n",
    "- In this query, we want to see everyone from the CANDIDATES table, and return either NULL or if they are also in the EMPLOYEES table, return their details."
   ]
  },
  {
   "cell_type": "markdown",
   "id": "bbcf98ca",
   "metadata": {},
   "source": [
    "```SQL\n",
    "SELECT  \n",
    "    c.id candidate_id,\n",
    "    c.fullname candidate_name,\n",
    "    e.id employee_id,\n",
    "    e.fullname employee_name\n",
    "FROM \n",
    "    candidates c\n",
    "    LEFT JOIN employees e \n",
    "        ON e.fullname = c.fullname\n",
    "```"
   ]
  },
  {
   "cell_type": "markdown",
   "id": "7937fa90",
   "metadata": {},
   "source": [
    "--"
   ]
  },
  {
   "cell_type": "markdown",
   "id": "6045b1bb",
   "metadata": {},
   "source": [
    "**QUERY AIM:**\n",
    "- In this query we want a list of all product names from the PRODUCTS table (LEFT table) and then either NULL or the order_ids for this product.\n",
    "\n",
    "**NOTES:**\n",
    "- We can find out which products have NOT been ordered so far by viewing or filtering the NULL values."
   ]
  },
  {
   "cell_type": "markdown",
   "id": "1a6cfe3e",
   "metadata": {},
   "source": [
    "```SQL\n",
    "SELECT\n",
    "    product_name,\n",
    "    order_id\n",
    "FROM\n",
    "    production.products p\n",
    "    LEFT JOIN sales.order_items o \n",
    "        ON o.product_id = p.product_id\n",
    "    ORDER BY\n",
    "        order_id;\n",
    "```"
   ]
  },
  {
   "cell_type": "markdown",
   "id": "140389e5",
   "metadata": {},
   "source": [
    "## 5c. Right Join"
   ]
  },
  {
   "cell_type": "markdown",
   "id": "c7d0aff6",
   "metadata": {},
   "source": [
    "**QUERY AIM:**\n",
    "- This query aims to retrieve and asses ALL employees from the EMPLOYEES table (RIGHT table) and see if they appear in the CANDIDATES table (on the left).\n",
    "\n",
    "**NOTES:** \n",
    "- This is the reverse of the LEFT JOIN."
   ]
  },
  {
   "cell_type": "markdown",
   "id": "30280637",
   "metadata": {},
   "source": [
    "```SQL\n",
    "SELECT \n",
    "    c.id candidate_id,\n",
    "    c.full_name candidate_name,\n",
    "    e.id employee_id,\n",
    "    e.full_name employee_name\n",
    "FROM \n",
    "    candidates c\n",
    "    RIGHT JOIN employees e\n",
    "        ON c.full_name = e.full_name\n",
    "```"
   ]
  },
  {
   "cell_type": "markdown",
   "id": "ea88e4e7",
   "metadata": {},
   "source": [
    "## 5d. Full Outer Join"
   ]
  },
  {
   "cell_type": "markdown",
   "id": "bb28c8ab",
   "metadata": {},
   "source": [
    "**QUERY AIM:**\n",
    "- This query aims to get all candidates from the CANDIDATES table and all employees from the EMPLOYEES table and show if they are in BOTH tables or just appear in one of the tables.\n",
    "\n",
    "**NOTES:**\n",
    "- A FULL OUTER JOIN combines both a LEFT JOIN and RIGHT JOIN and gives us all matches and all NON matches from the two tables. \n",
    "- This type of join will always show all results from both tables."
   ]
  },
  {
   "cell_type": "markdown",
   "id": "86052012",
   "metadata": {},
   "source": [
    "```SQL\n",
    "SELECT  \n",
    "    c.id candidate_id,\n",
    "    c.fullname candidate_name,\n",
    "    e.id employee_id,\n",
    "    e.fullname employee_name\n",
    "FROM \n",
    "    hr.candidates c\n",
    "    FULL JOIN hr.employees e \n",
    "        ON e.fullname = c.fullname;\n",
    "```"
   ]
  },
  {
   "cell_type": "markdown",
   "id": "ee2a0d54",
   "metadata": {},
   "source": [
    "## 5e. Cross Join"
   ]
  },
  {
   "cell_type": "markdown",
   "id": "268aefd4",
   "metadata": {},
   "source": [
    "**QUERY AIM:**\n",
    "- This query aims to combine all possible combinations of store from STORES and product from PRODUCTS and then use that combination further as a LEFT table in a further left JOIN.\n",
    "\n",
    "**NOTES:**\n",
    "- CROSS JOIN isn't often used on its own but can be part of a query.\n",
    "- In the example here we can use it as a LEFT table because we can find out the sales for each product in each store OR return NULL as 0 if there are 0 sales of a particular product in a particular store."
   ]
  },
  {
   "cell_type": "markdown",
   "id": "b681f994",
   "metadata": {},
   "source": [
    "```SQL\n",
    "SELECT\n",
    "    s.store_id,\n",
    "    p.product_id,\n",
    "    ISNULL(sales, 0) sales\n",
    "FROM\n",
    "    sales.stores s\n",
    "CROSS JOIN production.products p\n",
    "    LEFT JOIN (....SUB QUERY...)\n",
    "\n",
    "```"
   ]
  },
  {
   "cell_type": "markdown",
   "id": "36dabc30",
   "metadata": {},
   "source": [
    "## 5f. Self Join"
   ]
  },
  {
   "cell_type": "markdown",
   "id": "f76bfb46",
   "metadata": {},
   "source": [
    "**QUERY AIM:**\n",
    "- This query aims to return all employees and their manager_id using a SELF JOIN where the table EMPLOYEES is assessed against itself.\n",
    "\n",
    "**NOTES:**\n",
    "- Recursive CTEs (see below) can perform a similar task.\n",
    "- We can include NULL in the results to find the 'top boss' who has an employee_id but NO "
   ]
  },
  {
   "cell_type": "markdown",
   "id": "e5e4aa33",
   "metadata": {},
   "source": [
    "```SQL\n",
    "SELECT\n",
    "    e.full_name employee,\n",
    "    m.full_name manager\n",
    "FROM \n",
    "    employees e\n",
    "    LEFT JOIN employees m\n",
    "    ON m.employee_id = e.manager_id\n",
    "```"
   ]
  },
  {
   "cell_type": "markdown",
   "id": "f57e1a96",
   "metadata": {},
   "source": [
    "-----"
   ]
  },
  {
   "cell_type": "markdown",
   "id": "ae233309",
   "metadata": {},
   "source": [
    "# 6. Grouping"
   ]
  },
  {
   "cell_type": "markdown",
   "id": "384d9752",
   "metadata": {},
   "source": [
    "## 6a. Group By"
   ]
  },
  {
   "cell_type": "markdown",
   "id": "a33095d8",
   "metadata": {},
   "source": [
    "```SQL\n",
    "SELECT\n",
    "    customer_id,\n",
    "    YEAR (order_date) order_year,\n",
    "    COUNT (order_id) orders_placed\n",
    "FROM\n",
    "    sales.orders\n",
    "WHERE\n",
    "    customer_id IN (1, 2)\n",
    "GROUP BY\n",
    "    customer_id,\n",
    "    YEAR (order_date)\n",
    "ORDER BY\n",
    "    customer_id\n",
    "\n",
    "```"
   ]
  },
  {
   "cell_type": "markdown",
   "id": "4cd21eb8",
   "metadata": {},
   "source": [
    "--"
   ]
  },
  {
   "cell_type": "markdown",
   "id": "dca4c0da",
   "metadata": {},
   "source": [
    "```SQL\n",
    "SELECT\n",
    "    city,\n",
    "    COUNT (customer_id) customer_count\n",
    "FROM\n",
    "    sales.customers\n",
    "GROUP BY\n",
    "    city\n",
    "ORDER BY\n",
    "    city\n",
    "```"
   ]
  },
  {
   "cell_type": "markdown",
   "id": "1f994119",
   "metadata": {},
   "source": [
    "--"
   ]
  },
  {
   "cell_type": "markdown",
   "id": "9c1efae7",
   "metadata": {},
   "source": [
    "```SQL\n",
    "SELECT\n",
    "    brand_name,\n",
    "    AVG (list_price) avg_price\n",
    "FROM\n",
    "    production.products p\n",
    "INNER JOIN production.brands b ON b.brand_id = p.brand_id\n",
    "WHERE\n",
    "    model_year = 2018\n",
    "GROUP BY\n",
    "    brand_name\n",
    "ORDER BY\n",
    "    brand_name\n",
    "```"
   ]
  },
  {
   "cell_type": "markdown",
   "id": "14b3e460",
   "metadata": {},
   "source": [
    "--"
   ]
  },
  {
   "cell_type": "markdown",
   "id": "711b7074",
   "metadata": {},
   "source": [
    "```SQL\n",
    "SELECT\n",
    "    order_id,\n",
    "    SUM (\n",
    "        quantity * list_price * (1 - discount)\n",
    "    ) net_value\n",
    "FROM\n",
    "    sales.order_items\n",
    "GROUP BY\n",
    "    order_id;\n",
    "\n",
    "```"
   ]
  },
  {
   "cell_type": "markdown",
   "id": "da3022c2",
   "metadata": {},
   "source": [
    "## 6b. Having"
   ]
  },
  {
   "cell_type": "markdown",
   "id": "0c18121d",
   "metadata": {},
   "source": [
    "```SQL\n",
    "SELECT \n",
    "    salesperson_name,\n",
    "    SUM(sales) sales_total\n",
    "FROM \n",
    "    sales\n",
    "GROUP BY \n",
    "    salesperson_name\n",
    "HAVING \n",
    "    SUM(sales) < 2000\n",
    "```"
   ]
  },
  {
   "cell_type": "markdown",
   "id": "f9e4cd8a",
   "metadata": {},
   "source": [
    "--"
   ]
  },
  {
   "cell_type": "markdown",
   "id": "8390ade0",
   "metadata": {},
   "source": [
    "```SQL\n",
    "SELECT\n",
    "    category_id,\n",
    "    MAX (list_price) max_list_price,\n",
    "    MIN (list_price) min_list_price\n",
    "FROM\n",
    "    production.products\n",
    "GROUP BY\n",
    "    category_id\n",
    "HAVING\n",
    "    MAX (list_price) > 4000 OR MIN (list_price) < 500\n",
    "```"
   ]
  },
  {
   "cell_type": "markdown",
   "id": "d1040e79",
   "metadata": {},
   "source": [
    "--"
   ]
  },
  {
   "cell_type": "markdown",
   "id": "a499cc66",
   "metadata": {},
   "source": [
    "```SQL\n",
    "SELECT\n",
    "    category_id,\n",
    "    AVG (list_price) avg_list_price\n",
    "FROM\n",
    "    production.products\n",
    "GROUP BY\n",
    "    category_id\n",
    "HAVING\n",
    "    AVG (list_price) BETWEEN 500 AND 1000\n",
    "```"
   ]
  },
  {
   "cell_type": "markdown",
   "id": "cd157ad0",
   "metadata": {},
   "source": [
    "## 6c. Grouping Sets"
   ]
  },
  {
   "cell_type": "markdown",
   "id": "6dda5494",
   "metadata": {},
   "source": [
    "```SQL\n",
    "SELECT\n",
    "    brand,\n",
    "    category,\n",
    "    SUM (sales) sales\n",
    "FROM\n",
    "    sales.sales_summary\n",
    "GROUP BY\n",
    "    GROUPING SETS (\n",
    "        (brand, category),\n",
    "        (brand),\n",
    "        (category),\n",
    "        ()\n",
    "    )\n",
    "ORDER BY\n",
    "    brand,\n",
    "    category\n",
    "```"
   ]
  },
  {
   "cell_type": "markdown",
   "id": "fe698f15",
   "metadata": {},
   "source": [
    "## 6d. Cube"
   ]
  },
  {
   "cell_type": "markdown",
   "id": "de50586e",
   "metadata": {},
   "source": [
    "```SQL\n",
    "GROUPING SETS (\n",
    "        (d1,d2,d3), \n",
    "        (d1,d2),\n",
    "        (d1,d3),\n",
    "        (d2,d3),\n",
    "        (d1),\n",
    "        (d2),\n",
    "        (d3), \n",
    "        ()\n",
    "     )\n",
    "```"
   ]
  },
  {
   "cell_type": "markdown",
   "id": "c696ee4f",
   "metadata": {},
   "source": [
    "--"
   ]
  },
  {
   "cell_type": "markdown",
   "id": "484863d5",
   "metadata": {},
   "source": [
    "```SQL\n",
    "SELECT\n",
    "    d1,\n",
    "    d2,\n",
    "    d3,\n",
    "    aggregate_function (c4)\n",
    "FROM\n",
    "    table_name\n",
    "GROUP BY\n",
    "    CUBE (d1, d2, d3)\n",
    "```"
   ]
  },
  {
   "cell_type": "markdown",
   "id": "5f1fded6",
   "metadata": {},
   "source": [
    "--"
   ]
  },
  {
   "cell_type": "markdown",
   "id": "beff134b",
   "metadata": {},
   "source": [
    "```SQL\n",
    "SELECT\n",
    "    brand,\n",
    "    category,\n",
    "    SUM (sales) sales\n",
    "FROM\n",
    "    sales.sales_summary\n",
    "GROUP BY\n",
    "    brand,\n",
    "    CUBE(category)\n",
    "```"
   ]
  },
  {
   "cell_type": "markdown",
   "id": "824a03ff",
   "metadata": {},
   "source": [
    "## 6e. Roll Up"
   ]
  },
  {
   "cell_type": "markdown",
   "id": "fbbb64da",
   "metadata": {},
   "source": [
    "```SQL\n",
    "SELECT\n",
    "    brand,\n",
    "    category,\n",
    "    SUM (sales) sales\n",
    "FROM\n",
    "    sales.sales_summary\n",
    "GROUP BY\n",
    "    ROLLUP(brand, category)\n",
    "```"
   ]
  },
  {
   "cell_type": "markdown",
   "id": "ad4b8df7",
   "metadata": {},
   "source": [
    "--"
   ]
  },
  {
   "cell_type": "markdown",
   "id": "fad5e223",
   "metadata": {},
   "source": [
    "```SQL\n",
    "SELECT\n",
    "    category,\n",
    "    brand,\n",
    "    SUM (sales) sales\n",
    "FROM\n",
    "    sales.sales_summary\n",
    "GROUP BY\n",
    "    ROLLUP (category, brand)\n",
    "```"
   ]
  },
  {
   "cell_type": "markdown",
   "id": "6df2b130",
   "metadata": {},
   "source": [
    "--"
   ]
  },
  {
   "cell_type": "markdown",
   "id": "68fd06f6",
   "metadata": {},
   "source": [
    "```SQL\n",
    "SELECT\n",
    "    brand,\n",
    "    category,\n",
    "    SUM (sales) sales\n",
    "FROM\n",
    "    sales.sales_summary\n",
    "GROUP BY\n",
    "    brand,\n",
    "    ROLLUP (category)\n",
    "```"
   ]
  },
  {
   "cell_type": "markdown",
   "id": "e0ddcb90",
   "metadata": {},
   "source": [
    "-----"
   ]
  },
  {
   "cell_type": "markdown",
   "id": "3f001e19",
   "metadata": {},
   "source": [
    "# 7. SubQuery"
   ]
  },
  {
   "cell_type": "markdown",
   "id": "6119fbc6",
   "metadata": {},
   "source": [
    "## 7a. Overview"
   ]
  },
  {
   "cell_type": "markdown",
   "id": "58d37e13",
   "metadata": {},
   "source": [
    "**QUERY AIM:**\n",
    "- This query aims to get details from the ORDER table based on the city of the customer in the CUSOMTER being in New York.\n",
    "\n",
    "**NOTES:**\n",
    "- The sub query finds all customers in New York. The outer query then gets order details where the customer_id appears in the sub-query.\n",
    "- We can't find out the city of customers directly from the orders table (the order table only has access to the customer_id)"
   ]
  },
  {
   "cell_type": "markdown",
   "id": "ae9562fc",
   "metadata": {},
   "source": [
    "```SQL\n",
    "SELECT\n",
    "    order_id,\n",
    "    order_date,\n",
    "    customer_id\n",
    "FROM\n",
    "    sales.orders\n",
    "WHERE\n",
    "    customer_id IN (\n",
    "        SELECT\n",
    "            customer_id\n",
    "        FROM\n",
    "            sales.customers\n",
    "        WHERE\n",
    "            city = 'New York'\n",
    "    )\n",
    "ORDER BY\n",
    "    order_date DESC\n",
    "```"
   ]
  },
  {
   "cell_type": "markdown",
   "id": "1c0d21f6",
   "metadata": {},
   "source": [
    "--"
   ]
  },
  {
   "cell_type": "markdown",
   "id": "4bedcb3b",
   "metadata": {},
   "source": [
    "**QUERY AIM:**\n",
    "- This query finds the highest list price item from ORDER ITEMS for every single order from the ORDERS table.\n",
    "\n",
    "**NOTES:**\n",
    "- The subquery is required because the ORDERS table can't directly access the ORDER ITEMS table but they are linked.\n",
    "- The subquery is run for every order in the ORDERS table."
   ]
  },
  {
   "cell_type": "markdown",
   "id": "bca10df6",
   "metadata": {},
   "source": [
    "```SQL \n",
    "SELECT\n",
    "    order_id,\n",
    "    order_date,\n",
    "    (\n",
    "        SELECT\n",
    "            MAX (list_price)\n",
    "        FROM\n",
    "            sales.order_items i\n",
    "        WHERE\n",
    "            i.order_id = o.order_id\n",
    "    ) AS max_list_price\n",
    "FROM\n",
    "    sales.orders o\n",
    "ORDER BY order_date desc\n",
    "```"
   ]
  },
  {
   "cell_type": "markdown",
   "id": "45019f5a",
   "metadata": {},
   "source": [
    "## 7b. Correlated SubQuery"
   ]
  },
  {
   "cell_type": "markdown",
   "id": "53619943",
   "metadata": {},
   "source": [
    "**QUERY AIM:**\n",
    "- This query returns all products from the PRODUCTS table that have the MAX list_price in it's category."
   ]
  },
  {
   "cell_type": "markdown",
   "id": "cb47d2f2",
   "metadata": {},
   "source": [
    "**NOTES:**\n",
    "- Correlated subqueries rely on the outer table with a  column match.\n",
    "- The table in the subquery can be the same table as the outer table (using table aliases) or a different table."
   ]
  },
  {
   "cell_type": "markdown",
   "id": "cc6e1e9a",
   "metadata": {},
   "source": [
    "```SQL\n",
    "SELECT\n",
    "    product_name,\n",
    "    list_price,\n",
    "    category_id\n",
    "FROM\n",
    "    production.products p1\n",
    "WHERE\n",
    "    list_price IN (\n",
    "        SELECT\n",
    "            MAX (p2.list_price)\n",
    "        FROM\n",
    "            production.products p2\n",
    "        WHERE\n",
    "            p2.category_id = p1.category_id\n",
    "        GROUP BY\n",
    "            p2.category_id\n",
    "    )\n",
    "ORDER BY\n",
    "    category_id,\n",
    "    product_name\n",
    "```"
   ]
  },
  {
   "cell_type": "markdown",
   "id": "c6fcf73f",
   "metadata": {},
   "source": [
    "## 7c. Exists"
   ]
  },
  {
   "cell_type": "markdown",
   "id": "80488c07",
   "metadata": {},
   "source": [
    "**QUERY AIM:**\n",
    "- This query returns all customers from CUSTOMERS if they have placed more than 2 orders from the ORDERS table.\n",
    "\n",
    "**NOTES:**\n",
    "- For every customer_id, the subquery counts up the number of orders placed for that customer_id, returning True if more than 2, or False if less."
   ]
  },
  {
   "cell_type": "markdown",
   "id": "a3778cd0",
   "metadata": {},
   "source": [
    "```SQL\n",
    "SELECT\n",
    "    customer_id,\n",
    "    first_name,\n",
    "    last_name\n",
    "FROM\n",
    "    sales.customers c\n",
    "WHERE\n",
    "    EXISTS (\n",
    "        SELECT\n",
    "            COUNT (*)\n",
    "        FROM\n",
    "            sales.orders o\n",
    "        WHERE\n",
    "            customer_id = c.customer_id\n",
    "        GROUP BY\n",
    "            customer_id\n",
    "        HAVING\n",
    "            COUNT (*) > 2\n",
    "    )\n",
    "ORDER BY\n",
    "    first_name,\n",
    "    last_name\n",
    "```"
   ]
  },
  {
   "cell_type": "markdown",
   "id": "71806f30",
   "metadata": {},
   "source": [
    "--"
   ]
  },
  {
   "cell_type": "markdown",
   "id": "c4df779b",
   "metadata": {},
   "source": [
    "**QUERY AIM:**\n",
    "- This query returns finds all orders from the ORDERS table placed by customers FROM the CUSTOMERS table who are based in San Jose.\n",
    "\n",
    "**NOTES:**\n",
    "- Sometimes a simpler subquery using IN can achieve the same results, without the need for a correlated subquery."
   ]
  },
  {
   "cell_type": "markdown",
   "id": "bc14cfd9",
   "metadata": {},
   "source": [
    "```SQL\n",
    "SELECT\n",
    "    *\n",
    "FROM\n",
    "    sales.orders\n",
    "WHERE\n",
    "    customer_id IN (\n",
    "        SELECT\n",
    "            customer_id\n",
    "        FROM\n",
    "            sales.customers\n",
    "        WHERE\n",
    "            city = 'San Jose'\n",
    "    )\n",
    "ORDER BY\n",
    "    customer_id,\n",
    "    order_date\n",
    "```"
   ]
  },
  {
   "cell_type": "markdown",
   "id": "6d1e7032",
   "metadata": {},
   "source": [
    "--"
   ]
  },
  {
   "cell_type": "markdown",
   "id": "fc32e965",
   "metadata": {},
   "source": [
    "**NOTES:**\n",
    "- The same query as above using a correlated subquery and EXISTS."
   ]
  },
  {
   "cell_type": "markdown",
   "id": "6e56e54d",
   "metadata": {},
   "source": [
    "```SQL\n",
    "SELECT\n",
    "    *\n",
    "FROM\n",
    "    sales.orders o\n",
    "WHERE\n",
    "    EXISTS (\n",
    "        SELECT\n",
    "            customer_id\n",
    "        FROM\n",
    "            sales.customers c\n",
    "        WHERE\n",
    "            o.customer_id = c.customer_id\n",
    "        AND city = 'San Jose'\n",
    "    )\n",
    "ORDER BY\n",
    "    o.customer_id,\n",
    "    order_date\n",
    "```"
   ]
  },
  {
   "cell_type": "markdown",
   "id": "684284ae",
   "metadata": {},
   "source": [
    "## 7d. Any"
   ]
  },
  {
   "cell_type": "markdown",
   "id": "db257047",
   "metadata": {},
   "source": [
    "**QUERY AIM:**\n",
    "- This query gets all products from the PRODUCTS table where the product_id matches ANY product_ids from the SALES table where the product_id appears twice or more.\n",
    "\n",
    "**NOTES:**\n",
    "- The sales table only has the product_id. To get the product name and list price we need to use both tables."
   ]
  },
  {
   "cell_type": "markdown",
   "id": "5bb75b0d",
   "metadata": {},
   "source": [
    "```SQL\n",
    "SELECT\n",
    "    product_name,\n",
    "    list_price\n",
    "FROM\n",
    "    production.products\n",
    "WHERE\n",
    "    product_id = ANY (\n",
    "        SELECT\n",
    "            product_id\n",
    "        FROM\n",
    "            sales.order_items\n",
    "        WHERE\n",
    "            quantity >= 2\n",
    "    )\n",
    "ORDER BY\n",
    "    product_name\n",
    "```"
   ]
  },
  {
   "cell_type": "markdown",
   "id": "9299488e",
   "metadata": {},
   "source": [
    "## 7e. All"
   ]
  },
  {
   "cell_type": "markdown",
   "id": "a555c0c7",
   "metadata": {},
   "source": [
    "**QUERY AIM:**\n",
    "- This query finds all products from the PRODUCTS table that have a higher list_price than ALL of the AVERAGE list prices for each brand_id, also from the PRODUCTS table.\n",
    "\n",
    "**NOTES:**\n",
    "- The subquery returns the AVERAGE list_price of every brand_id.\n",
    "- Every product is assessed and the list_price of the product must be higher than ALL of the averages from the subquery."
   ]
  },
  {
   "cell_type": "markdown",
   "id": "0f5d969c",
   "metadata": {},
   "source": [
    "```SQL\n",
    "SELECT\n",
    "    product_name,\n",
    "    list_price\n",
    "FROM\n",
    "    production.products\n",
    "WHERE\n",
    "    list_price > ALL (\n",
    "        SELECT\n",
    "            AVG (list_price) avg_list_price\n",
    "        FROM\n",
    "            production.products\n",
    "        GROUP BY\n",
    "            brand_id\n",
    "    )\n",
    "ORDER BY\n",
    "    list_price\n",
    "```"
   ]
  },
  {
   "cell_type": "markdown",
   "id": "e1c24ffd",
   "metadata": {},
   "source": [
    "-----"
   ]
  },
  {
   "cell_type": "markdown",
   "id": "215f54c3",
   "metadata": {},
   "source": [
    "# 8. Set Operators"
   ]
  },
  {
   "cell_type": "markdown",
   "id": "b85a3045",
   "metadata": {},
   "source": [
    "**QUERY AIM:**\n",
    "- This query aims to get a complete list combining all staff members and customers without any duplicates."
   ]
  },
  {
   "cell_type": "markdown",
   "id": "46baa0d9",
   "metadata": {},
   "source": [
    "**NOTES:**\n",
    "- UNION will remove any duplicates"
   ]
  },
  {
   "cell_type": "markdown",
   "id": "2fdfd727",
   "metadata": {},
   "source": [
    "## 8a. Union"
   ]
  },
  {
   "cell_type": "markdown",
   "id": "41e880e3",
   "metadata": {},
   "source": [
    "```SQL\n",
    "SELECT\n",
    "    first_name,\n",
    "    last_name\n",
    "FROM\n",
    "    sales.staffs\n",
    "UNION\n",
    "SELECT\n",
    "    first_name,\n",
    "    last_name\n",
    "FROM\n",
    "    sales.customers\n",
    "```"
   ]
  },
  {
   "cell_type": "markdown",
   "id": "13981e0c",
   "metadata": {},
   "source": [
    "## 8b. Union All"
   ]
  },
  {
   "cell_type": "markdown",
   "id": "11d84f2e",
   "metadata": {},
   "source": [
    "**QUERY AIM:**\n",
    "- This query aims to created a merged list of the first_name and last_name of everyone in the STAFFS table and everyone in the CUSTOMER table.\n",
    "\n",
    "**NOTES:**\n",
    "- UNION ALL does NOT remove duplicates.\n",
    "- A UNION ALL query could then be used to work out how many staff members are also customers."
   ]
  },
  {
   "cell_type": "markdown",
   "id": "c9155451",
   "metadata": {},
   "source": [
    "```SQL\n",
    "SELECT\n",
    "    first_name,\n",
    "    last_name\n",
    "FROM\n",
    "    sales.staffs\n",
    "UNION ALL\n",
    "SELECT\n",
    "    first_name,\n",
    "    last_name\n",
    "FROM\n",
    "    sales.customer\n",
    "```"
   ]
  },
  {
   "cell_type": "markdown",
   "id": "8d2aaebf",
   "metadata": {},
   "source": [
    "## 8c. Intersect"
   ]
  },
  {
   "cell_type": "markdown",
   "id": "e034e46c",
   "metadata": {},
   "source": [
    "```SQL\n",
    "SELECT \n",
    "    player_name\n",
    "FROM \n",
    "    player_of_the_year 2021\n",
    "INTERSECT\n",
    "SELECT \n",
    "    player_id\n",
    "FROM \n",
    "    player_of_the_year_2020\n",
    "```"
   ]
  },
  {
   "cell_type": "markdown",
   "id": "99f7570b",
   "metadata": {},
   "source": [
    "## 8d. Except"
   ]
  },
  {
   "cell_type": "markdown",
   "id": "c1dd0bdb",
   "metadata": {},
   "source": [
    "```SQL\n",
    "SELECT \n",
    "    first_name,\n",
    "    last_name\n",
    "FROM\n",
    "    employees\n",
    "EXCEPT\n",
    "SELECT\n",
    "    first_name,\n",
    "    last_name\n",
    "FROM \n",
    "    completed_health_and_safety\n",
    "```"
   ]
  },
  {
   "cell_type": "markdown",
   "id": "008ca782",
   "metadata": {},
   "source": [
    "-----"
   ]
  },
  {
   "cell_type": "markdown",
   "id": "48a7b798",
   "metadata": {},
   "source": [
    "# 9. Common Table Expressions"
   ]
  },
  {
   "cell_type": "markdown",
   "id": "a32c7f44",
   "metadata": {},
   "source": [
    "## 9a. CTEs"
   ]
  },
  {
   "cell_type": "markdown",
   "id": "58fb4968",
   "metadata": {},
   "source": [
    "```SQL\n",
    "WITH sales_person_yearly_total (sales_person_id, sales, year) AS (\n",
    "SELECT\n",
    "    id,\n",
    "    SUM(sales_total)\n",
    "    YEAR(sales_date)\n",
    "FROM \n",
    "    sales\n",
    "GROUP BY \n",
    "    id,\n",
    "    YEAR(sales_date)\n",
    ")\n",
    "SELECT \n",
    "    sales_person_id,\n",
    "    sales,\n",
    "    year\n",
    "FROM \n",
    "    sales_person_yearly_total\n",
    "WHERE\n",
    "    year = 2019\n",
    "\n",
    "```"
   ]
  },
  {
   "cell_type": "markdown",
   "id": "865d4e51",
   "metadata": {},
   "source": [
    "--"
   ]
  },
  {
   "cell_type": "markdown",
   "id": "675fc2ef",
   "metadata": {},
   "source": [
    "```SQL\n",
    "WITH cte_sales AS (\n",
    "    SELECT \n",
    "        staff_id, \n",
    "        COUNT(*) order_count  \n",
    "    FROM\n",
    "        sales.orders\n",
    "    WHERE \n",
    "        YEAR(order_date) = 2018\n",
    "    GROUP BY\n",
    "        staff_id\n",
    ")\n",
    "SELECT\n",
    "    AVG(order_count) average_orders_by_staff\n",
    "FROM \n",
    "    cte_sales\n",
    "```"
   ]
  },
  {
   "cell_type": "markdown",
   "id": "f91a136c",
   "metadata": {},
   "source": [
    "--"
   ]
  },
  {
   "cell_type": "markdown",
   "id": "2e60957f",
   "metadata": {},
   "source": [
    "```SQL\n",
    "WITH cte_1 AS (\n",
    "SELECT ....\n",
    "),\n",
    "WITH cte_2 AS (\n",
    "SELECT ...\n",
    ")\n",
    "SELECT \n",
    "    col_a,\n",
    "    col_b\n",
    "FROM \n",
    "    cte_1\n",
    "    INNER JOIN cte_2 ON...\n",
    "WHERE...\n",
    "ORDER BY...\n",
    "\n",
    "```"
   ]
  },
  {
   "cell_type": "markdown",
   "id": "f0aa2df3",
   "metadata": {},
   "source": [
    "## 9b. Recursive CTEs"
   ]
  },
  {
   "cell_type": "markdown",
   "id": "5deb1600",
   "metadata": {},
   "source": [
    "```SQL\n",
    "WITH cte ( value )\n",
    "  AS (\n",
    "       SELECT   1\n",
    "       UNION ALL\n",
    "       SELECT   value + 1\n",
    "       FROM     cte\n",
    "       WHERE    value < 4\n",
    "     )\n",
    "SELECT  *\n",
    "FROM    cte\n",
    "```"
   ]
  },
  {
   "cell_type": "markdown",
   "id": "9bd6be34",
   "metadata": {},
   "source": [
    "--"
   ]
  },
  {
   "cell_type": "markdown",
   "id": "dc931413",
   "metadata": {},
   "source": [
    "```SQL\n",
    "WITH organization AS\n",
    "(\n",
    "SELECT \n",
    "    employee_id,\n",
    "    full_name,\n",
    "    manager_id\n",
    "FROM\n",
    "    employees\n",
    "WHERE\n",
    "    manager_id IS NULL\n",
    "UNION ALL\n",
    "SELECT \n",
    "    employees.employee_id,\n",
    "    employees.full_name, \n",
    "    employees.manager_id\n",
    "FROM\n",
    "    employees\n",
    "    INNER JOIN organization\n",
    "    ON organization.employee_id = employees.manager_id\n",
    ")\n",
    "SELECT *\n",
    "FROM \n",
    "organization\n",
    "```"
   ]
  },
  {
   "cell_type": "markdown",
   "id": "683f89e0",
   "metadata": {},
   "source": [
    "--"
   ]
  },
  {
   "cell_type": "markdown",
   "id": "f487d43d",
   "metadata": {},
   "source": [
    "```SQL\n",
    "WITH outer_products AS\n",
    "(\n",
    "SELECT \n",
    "    item_id,\n",
    "    item_name,\n",
    "    product_id\n",
    "FROM\n",
    "    products\n",
    "WHERE\n",
    "    product_id IS NULL\n",
    "UNION ALL\n",
    "SELECT \n",
    "    p.item_id,\n",
    "    p.item_name, \n",
    "    p.product_id\n",
    "FROM\n",
    "    products p\n",
    "    INNER JOIN outer_products o\n",
    "    ON o.item_id = p.product_id\n",
    ")\n",
    "SELECT *\n",
    "FROM \n",
    "outer_products\n",
    "```"
   ]
  },
  {
   "cell_type": "markdown",
   "id": "743ba470",
   "metadata": {},
   "source": [
    "-----"
   ]
  },
  {
   "cell_type": "markdown",
   "id": "36b291f7",
   "metadata": {},
   "source": [
    "# 10. Pivot"
   ]
  },
  {
   "cell_type": "markdown",
   "id": "060637ef",
   "metadata": {},
   "source": [
    "## 10a. Pivot"
   ]
  },
  {
   "cell_type": "markdown",
   "id": "dc0cb15f",
   "metadata": {},
   "source": [
    "```SQL\n",
    "SELECT * FROM   \n",
    "(\n",
    "    SELECT \n",
    "        category_name, \n",
    "        product_id\n",
    "    FROM \n",
    "        products p\n",
    "        INNER JOIN categories c \n",
    "            ON c.category_id = p.category_id\n",
    ") t \n",
    "PIVOT(\n",
    "    COUNT(product_id) \n",
    "    FOR category_name IN (\n",
    "        [CatA], \n",
    "        [CatB], \n",
    "        [CatC], \n",
    "        [CatD]\n",
    ") AS pivot_table\n",
    "```"
   ]
  },
  {
   "cell_type": "markdown",
   "id": "0fc4e4b7",
   "metadata": {},
   "source": [
    "--"
   ]
  },
  {
   "cell_type": "markdown",
   "id": "4b721168",
   "metadata": {},
   "source": [
    "```SQL\n",
    "SELECT * FROM   \n",
    "(\n",
    "    SELECT \n",
    "        category_name, \n",
    "        product_id,\n",
    "        model_year\n",
    "    FROM \n",
    "        products p\n",
    "        INNER JOIN categories c \n",
    "            ON c.category_id = p.category_id\n",
    ") t \n",
    "PIVOT(\n",
    "    COUNT(product_id) \n",
    "    FOR category_name IN (\n",
    "        [CatA], \n",
    "        [CatB], \n",
    "        [CatC], \n",
    "        [CatD]\n",
    ") AS pivot_table\n",
    "```"
   ]
  },
  {
   "cell_type": "markdown",
   "id": "1812bda0",
   "metadata": {},
   "source": [
    "-----"
   ]
  },
  {
   "cell_type": "markdown",
   "id": "dbd61f2c",
   "metadata": {},
   "source": [
    "# 11. Expressions"
   ]
  },
  {
   "cell_type": "markdown",
   "id": "8d96edcf",
   "metadata": {},
   "source": [
    "## 11a. Case"
   ]
  },
  {
   "cell_type": "markdown",
   "id": "ce954364",
   "metadata": {},
   "source": [
    "```SQL\n",
    "SELECT \n",
    "    SUM(CASE\n",
    "        WHEN test_score > 70\n",
    "        THEN 1\n",
    "        ELSE 0\n",
    "    END) AS 'Pass',\n",
    "    SUM(CASE\n",
    "        WHEN test_score <= 70\n",
    "        THEN 1\n",
    "        ELSE 0\n",
    "    END) AS 'Fail'\n",
    "FROM \n",
    "    test_scores\n",
    "```"
   ]
  },
  {
   "cell_type": "markdown",
   "id": "9adef8a0",
   "metadata": {},
   "source": [
    "--"
   ]
  },
  {
   "cell_type": "markdown",
   "id": "7f50e824",
   "metadata": {},
   "source": [
    "```SQL\n",
    "SELECT \n",
    "    name, \n",
    "    score,\n",
    "    CASE\n",
    "        WHEN score > 70\n",
    "            THEN 'Pass'\n",
    "        WHEN score <= 70 AND score >= 60\n",
    "            THEN 'Possible retake'\n",
    "        WHEN score <60 \n",
    "            THEN 'Fail'\n",
    "    END outcome\n",
    "FROM \n",
    "    test_scores\n",
    "```"
   ]
  },
  {
   "cell_type": "markdown",
   "id": "75fee031",
   "metadata": {},
   "source": [
    "## 11b. Coalesce"
   ]
  },
  {
   "cell_type": "markdown",
   "id": "3909779c",
   "metadata": {},
   "source": [
    "```SQL\n",
    "SELECT \n",
    "    first_name,\n",
    "    last_name,\n",
    "    COALESCE(phone,'N/A')\n",
    "FROM \n",
    "    employees\n",
    "```"
   ]
  },
  {
   "cell_type": "markdown",
   "id": "6588ac94",
   "metadata": {},
   "source": [
    "--"
   ]
  },
  {
   "cell_type": "markdown",
   "id": "e7c5aefe",
   "metadata": {},
   "source": [
    "```SQL\n",
    "SELECT\n",
    "    staff_id,\n",
    "    COALESCE(\n",
    "        hourly_rate*22*8, \n",
    "        weekly_rate*4, \n",
    "        monthly_rate\n",
    "    ) monthly_salary\n",
    "FROM\n",
    "    salaries\n",
    "```"
   ]
  },
  {
   "cell_type": "markdown",
   "id": "0cc1182a",
   "metadata": {},
   "source": [
    "--"
   ]
  },
  {
   "cell_type": "markdown",
   "id": "8f5327b1",
   "metadata": {},
   "source": [
    "```SQL\n",
    "COALESCE(e1,e2,e3)\n",
    "......\n",
    "CASE\n",
    "    WHEN e1 IS NOT NULL THEN e1\n",
    "    WHEN e2 IS NOT NULL THEN e2\n",
    "    ELSE e3\n",
    "END\n",
    "```"
   ]
  },
  {
   "cell_type": "markdown",
   "id": "60e91e75",
   "metadata": {},
   "source": [
    "# 11c. Null If"
   ]
  },
  {
   "cell_type": "markdown",
   "id": "a4f86b83",
   "metadata": {},
   "source": [
    "```SQL\n",
    "SELECT \n",
    "    name,\n",
    "    email\n",
    "FROM \n",
    "    clients\n",
    "WHERE\n",
    "    NULLIF(email, '') IS NULL\n",
    "\n",
    "```"
   ]
  },
  {
   "cell_type": "markdown",
   "id": "0f6af108",
   "metadata": {},
   "source": [
    "--"
   ]
  },
  {
   "cell_type": "markdown",
   "id": "4b5b39ec",
   "metadata": {},
   "source": [
    "```SQL\n",
    "SELECT \n",
    "    NULLIF(a,b)\n",
    "........ equal to .....\n",
    "CASE\n",
    "    WHEN a=b\n",
    "    THEN NULL\n",
    "END\n",
    "```"
   ]
  }
 ],
 "metadata": {
  "kernelspec": {
   "display_name": "Python 3 (ipykernel)",
   "language": "python",
   "name": "python3"
  },
  "language_info": {
   "codemirror_mode": {
    "name": "ipython",
    "version": 3
   },
   "file_extension": ".py",
   "mimetype": "text/x-python",
   "name": "python",
   "nbconvert_exporter": "python",
   "pygments_lexer": "ipython3",
   "version": "3.9.7"
  }
 },
 "nbformat": 4,
 "nbformat_minor": 5
}
