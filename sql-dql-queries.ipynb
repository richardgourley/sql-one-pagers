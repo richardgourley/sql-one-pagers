{
 "cells": [
  {
   "cell_type": "markdown",
   "id": "87e6e15b",
   "metadata": {},
   "source": [
    "# SQL Data Query Language Queries - One Page"
   ]
  },
  {
   "cell_type": "markdown",
   "id": "3e4eecdf",
   "metadata": {},
   "source": [
    "- A one page reference for common Data Query Language Commands, all in one place.  \n",
    "- My own query aims and notes are included. \n",
    "- The database tables uses, unless specified, are from the BikeStores sample database - see README."
   ]
  },
  {
   "cell_type": "markdown",
   "id": "a8f0bd83",
   "metadata": {},
   "source": [
    "**CONTENTS**\n",
    "\n",
    "**1. SQL Query Order**\n",
    "\n",
    "**2. Sorting**\n",
    "\n",
    "**3. Limiting**\n",
    "\n",
    "**4. Filtering**\n",
    "\n",
    "**5. Joining Tables**\n",
    "\n",
    "**6. Grouping**\n",
    "\n",
    "**7. SubQuery**\n",
    "\n",
    "**8. Set Operators**\n",
    "\n",
    "**9. Common Table Expressions**\n",
    "\n",
    "**10. Pivot**\n",
    "\n",
    "**11. Expressions - Coalesce, Case, NullIf**"
   ]
  },
  {
   "cell_type": "markdown",
   "id": "541ec77c",
   "metadata": {},
   "source": [
    "# 1. SQL Query Order"
   ]
  },
  {
   "cell_type": "markdown",
   "id": "696d4b2c",
   "metadata": {},
   "source": [
    "**SQL queries are evaluated in the following order:**"
   ]
  },
  {
   "cell_type": "markdown",
   "id": "9e7d3249",
   "metadata": {},
   "source": [
    "**FROM** - choose and join tables\n",
    "\n",
    "**WHERE** - filters the data\n",
    "\n",
    "**GROUP BY** - aggregates the data\n",
    "\n",
    "**HAVING** - filters the aggregated data\n",
    "\n",
    "**SELECT** - returns the final data\n",
    "\n",
    "**ORDER BY** - sorts the final data\n",
    "\n",
    "**LIMIT** - limits sorted data to a row count"
   ]
  },
  {
   "cell_type": "markdown",
   "id": "24e874a9",
   "metadata": {},
   "source": [
    "-----"
   ]
  },
  {
   "cell_type": "markdown",
   "id": "bd80d60e",
   "metadata": {},
   "source": [
    "# 2. SORTING"
   ]
  },
  {
   "cell_type": "markdown",
   "id": "6a0180e9",
   "metadata": {},
   "source": [
    "## 2a. Order By"
   ]
  },
  {
   "cell_type": "markdown",
   "id": "87cb7f71",
   "metadata": {},
   "source": [
    "**QUERY AIM:**\n",
    "- This query retrieves all first names and orders them in descending order."
   ]
  },
  {
   "cell_type": "markdown",
   "id": "4c570193",
   "metadata": {},
   "source": [
    "```SQL\n",
    "SELECT \n",
    "    first_name\n",
    "FROM\n",
    "    sales.customers\n",
    "ORDER BY \n",
    "    first_name DESC\n",
    "```"
   ]
  },
  {
   "cell_type": "markdown",
   "id": "86bfcde3",
   "metadata": {},
   "source": [
    "--"
   ]
  },
  {
   "cell_type": "markdown",
   "id": "29d3cc40",
   "metadata": {},
   "source": [
    "**QUERY AIM:**\n",
    "- This query retrieves first names and then orders them first by city and then by first name."
   ]
  },
  {
   "cell_type": "markdown",
   "id": "3be08140",
   "metadata": {},
   "source": [
    "```SQL\n",
    "SELECT \n",
    "    first_name\n",
    "FROM\n",
    "    sales.customers\n",
    "ORDER BY \n",
    "    city,\n",
    "    first_name\n",
    "```"
   ]
  },
  {
   "cell_type": "markdown",
   "id": "c4312895",
   "metadata": {},
   "source": [
    "--"
   ]
  },
  {
   "cell_type": "markdown",
   "id": "0bdf0ec3",
   "metadata": {},
   "source": [
    "**QUERY AIM:**\n",
    "- This query returns all first names, ordered by the length of the name in characters.\n",
    "- We can order results by expressions as well as columns."
   ]
  },
  {
   "cell_type": "markdown",
   "id": "1fd16147",
   "metadata": {},
   "source": [
    "```SQL\n",
    "SELECT\n",
    "    first_name\n",
    "FROM\n",
    "    sales.customers\n",
    "ORDER BY \n",
    "    LEN(first_name) DESC\n",
    "```"
   ]
  },
  {
   "cell_type": "markdown",
   "id": "c0c890bd",
   "metadata": {},
   "source": [
    "-----"
   ]
  },
  {
   "cell_type": "markdown",
   "id": "61ba6305",
   "metadata": {},
   "source": [
    "# 3. LIMITING"
   ]
  },
  {
   "cell_type": "markdown",
   "id": "bd62bea4",
   "metadata": {},
   "source": [
    "## 3a. Offset, Fetch"
   ]
  },
  {
   "cell_type": "markdown",
   "id": "f187bfa0",
   "metadata": {},
   "source": [
    "**QUERY AIM:**\n",
    "- In this query, from a 20 team league, we want to skip the top 4 teams (OFFSET) and then retrieve the next 13 rows.\n",
    "\n",
    "**NOTES:**\n",
    "- Query order is very important here. SELECT is evaluated AFTER ORDER BY, so the teams are ordered by points first before we use OFFSET and FETCH.\n",
    "- The table used in this query is an invented sports league table with team_name and points column."
   ]
  },
  {
   "cell_type": "markdown",
   "id": "d360aa00",
   "metadata": {},
   "source": [
    "```SQL\n",
    "SELECT \n",
    "    team_name,\n",
    "    points,\n",
    "FROM \n",
    "    prem_table\n",
    "ORDER BY \n",
    "    points DESC\n",
    "OFFSET 4 ROWS\n",
    "FETCH NEXT 13 ROWS ONLY\n",
    "```"
   ]
  },
  {
   "cell_type": "markdown",
   "id": "91e80027",
   "metadata": {},
   "source": [
    "--"
   ]
  },
  {
   "cell_type": "markdown",
   "id": "3cd3ce57",
   "metadata": {},
   "source": [
    "## 3b. Select Top"
   ]
  },
  {
   "cell_type": "markdown",
   "id": "ae50820b",
   "metadata": {},
   "source": [
    "**QUERY AIMS:**\n",
    "- The queries below would retrieve the TOP 10, the TOP 1% and the TOP 3 WITH TIES.\n",
    "\n",
    "**NOTES:**\n",
    "- TOP 3 WITH TIES means that all joint equal 3rd highest (or lowest) of a value are included in the result."
   ]
  },
  {
   "cell_type": "markdown",
   "id": "e9a1d366",
   "metadata": {},
   "source": [
    "```SQL\n",
    "SELECT TOP 10\n",
    "SELECT TOP 1 PERCENT\n",
    "SELECT TOP 3 WITH TIES\n",
    "```"
   ]
  },
  {
   "cell_type": "markdown",
   "id": "1a99aeb9",
   "metadata": {},
   "source": [
    "----"
   ]
  },
  {
   "cell_type": "markdown",
   "id": "068b437d",
   "metadata": {},
   "source": [
    "# 4. FILTERING"
   ]
  },
  {
   "cell_type": "markdown",
   "id": "1d09591f",
   "metadata": {},
   "source": [
    "## 4a. Distinct"
   ]
  },
  {
   "cell_type": "markdown",
   "id": "2522f97d",
   "metadata": {},
   "source": [
    "**QUERY AIM:**\n",
    "- This query retuns all unique countries in the customers table."
   ]
  },
  {
   "cell_type": "markdown",
   "id": "dfe07816",
   "metadata": {},
   "source": [
    "```SQL\n",
    "SELECT DISTINCT \n",
    "    country\n",
    "FROM \n",
    "    sales.customers\n",
    "```"
   ]
  },
  {
   "cell_type": "markdown",
   "id": "4bd2e450",
   "metadata": {},
   "source": [
    "--"
   ]
  },
  {
   "cell_type": "markdown",
   "id": "b0f57876",
   "metadata": {},
   "source": [
    "## 4b. And, Or, In"
   ]
  },
  {
   "cell_type": "markdown",
   "id": "f3ce25bb",
   "metadata": {},
   "source": [
    "**QUERY AIM:**\n",
    "- This query uses OR and AND keywords to retrieve product details where the brand_id is 1 or 2, AND the list_price is higher than 40.\n",
    "\n",
    "**NOTES:**\n",
    "- AND is evaluated before OR\n",
    "- Brackets are important!\n",
    "- Without brackets, the query would return (brand_id = 2 AND list_price > 40)"
   ]
  },
  {
   "cell_type": "markdown",
   "id": "c86b0c9d",
   "metadata": {},
   "source": [
    "```SQL\n",
    "SELECT \n",
    "    product_name,\n",
    "    brand_id,\n",
    "    list_price\n",
    "FROM \n",
    "    production.products\n",
    "WHERE\n",
    "    (brand_id = 1 OR brand_id = 2)\n",
    "AND\n",
    "    list_price > 40\n",
    "```"
   ]
  },
  {
   "cell_type": "markdown",
   "id": "aa6b8560",
   "metadata": {},
   "source": [
    "--"
   ]
  },
  {
   "cell_type": "markdown",
   "id": "145bbd15",
   "metadata": {},
   "source": [
    "**QUERY AIM:**\n",
    "- This query uses the IN operator to find products with a brand_id that is either 1,2,3 or 4."
   ]
  },
  {
   "cell_type": "markdown",
   "id": "c1d99584",
   "metadata": {},
   "source": [
    "```SQL\n",
    "SELECT \n",
    "    product_id,\n",
    "    brand_id\n",
    "FROM\n",
    "    products\n",
    "WHERE\n",
    "    brand_id IN(1,2,3,4)\n",
    "```"
   ]
  },
  {
   "cell_type": "markdown",
   "id": "4b6cbc0a",
   "metadata": {},
   "source": [
    "--"
   ]
  },
  {
   "cell_type": "markdown",
   "id": "eed658e4",
   "metadata": {},
   "source": [
    "## 4c. Between, Not Between"
   ]
  },
  {
   "cell_type": "markdown",
   "id": "b844489f",
   "metadata": {},
   "source": [
    "**QUERY AIM:**\n",
    "- This query uses NOT BETWEEN to find products whose list_price doesn't fall between 149.99 and 199.99 (inclusive)."
   ]
  },
  {
   "cell_type": "markdown",
   "id": "e367c5c3",
   "metadata": {},
   "source": [
    "```SQL\n",
    "SELECT\n",
    "    product_id,\n",
    "    product_name,\n",
    "    list_price\n",
    "FROM\n",
    "    production.products\n",
    "WHERE\n",
    "    list_price NOT BETWEEN 149.99 AND 199.99\n",
    "```"
   ]
  },
  {
   "cell_type": "markdown",
   "id": "5e4e4b5c",
   "metadata": {},
   "source": [
    "--"
   ]
  },
  {
   "cell_type": "markdown",
   "id": "0aa494eb",
   "metadata": {},
   "source": [
    "**QUERY AIM:**\n",
    "- This query finds all orders where the date of the order matches a specific date range.\n",
    "\n",
    "**NOTES:**\n",
    "- Note how the date is input as a string with 'YYYMMDD' format."
   ]
  },
  {
   "cell_type": "markdown",
   "id": "6a6b5c23",
   "metadata": {},
   "source": [
    "```SQL\n",
    "SELECT \n",
    "    order_id,\n",
    "    order_date\n",
    "FROM\n",
    "    orders\n",
    "WHERE\n",
    "    order_date BETWEEN '20170115' AND '20170117\n",
    "```"
   ]
  },
  {
   "cell_type": "markdown",
   "id": "e24ae5a8",
   "metadata": {},
   "source": [
    "--"
   ]
  },
  {
   "cell_type": "markdown",
   "id": "9b39b4a7",
   "metadata": {},
   "source": [
    "## 4d. Like"
   ]
  },
  {
   "cell_type": "markdown",
   "id": "f032867b",
   "metadata": {},
   "source": [
    "**QUERY AIMS:**\n",
    "- These queries use types of regular expressions to return filtered string results.\n",
    "\n",
    "**NOTES:**\n",
    "- 'z%' means starts with z and followed by ANY characters.\n",
    "- '%er' means ANY characters followed by 'er' at the end.\n",
    "- 't%s' means a string starting with 't', ending with 's' and ANY characters in between.\n",
    "- '_u%' -> the underscore means 1 SINGLE character (ANY) followed here by a 'u' and then any characters, eg. Duncan, super, Humphrey\n",
    "- '[ZY]%' -> Square brackets means either of these here (Z or Y) followed by ANY characters (%).\n",
    "- '[^A-Z]%' -> The ^ sign means not any character in the range (A-Z) followed by ANY characters (%).\n",
    "- If we want to include regex symbols such as '%^' in our search, then we can escape them by choosing any key we want to use before a regex character, then declaring that character with the ESCAPE keyword."
   ]
  },
  {
   "cell_type": "markdown",
   "id": "8259f837",
   "metadata": {},
   "source": [
    "```SQL\n",
    "WHERE\n",
    "    last_name LIKE 'z%'\n",
    "```"
   ]
  },
  {
   "cell_type": "markdown",
   "id": "1a619251",
   "metadata": {},
   "source": [
    "```SQL\n",
    "WHERE\n",
    "    last_name LIKE '%er'\n",
    "```"
   ]
  },
  {
   "cell_type": "markdown",
   "id": "fcb37297",
   "metadata": {},
   "source": [
    "```SQL\n",
    "WHERE\n",
    "    last_name LIKE 't%s'\n",
    "```"
   ]
  },
  {
   "cell_type": "markdown",
   "id": "5fc69ce3",
   "metadata": {},
   "source": [
    "```SQL\n",
    "WHERE\n",
    "    last_name LIKE '_u%'\n",
    "```"
   ]
  },
  {
   "cell_type": "markdown",
   "id": "6954f9f3",
   "metadata": {},
   "source": [
    "```SQL\n",
    "WHERE\n",
    "    last_name LIKE '[ZY]%'\n",
    "```"
   ]
  },
  {
   "cell_type": "markdown",
   "id": "3f5ccd95",
   "metadata": {},
   "source": [
    "```SQL\n",
    "WHERE\n",
    "    last_name LIKE '[^A-X]%'\n",
    "```"
   ]
  },
  {
   "cell_type": "markdown",
   "id": "671cc3f6",
   "metadata": {},
   "source": [
    "```SQL\n",
    "WHERE \n",
    "    comment LIKE '%30!%%' ESCAPE '!'\n",
    "```"
   ]
  },
  {
   "cell_type": "markdown",
   "id": "e3e0d12e",
   "metadata": {},
   "source": [
    "--"
   ]
  },
  {
   "cell_type": "markdown",
   "id": "822e9f1a",
   "metadata": {},
   "source": [
    "## 4e. Column Aliases"
   ]
  },
  {
   "cell_type": "markdown",
   "id": "e7d61a3c",
   "metadata": {},
   "source": [
    "**QUERY AIMS:**\n",
    "- The queries below all use table aliases.\n",
    "- The second query uses ' ' as we want to include a column alias name which has spaces.\n",
    "- The third query is an example of using aliases within joins to make join queries easier to read."
   ]
  },
  {
   "cell_type": "markdown",
   "id": "bc016929",
   "metadata": {},
   "source": [
    "```SQL\n",
    "SELECT\n",
    "    first_name + ' ' + last_name AS full_name\n",
    "```"
   ]
  },
  {
   "cell_type": "markdown",
   "id": "2105e913",
   "metadata": {},
   "source": [
    "--"
   ]
  },
  {
   "cell_type": "markdown",
   "id": "10dd1aea",
   "metadata": {},
   "source": [
    "```SQL\n",
    "SELECT\n",
    "    first_name + ' ' + last_name AS 'Full Name'\n",
    "```\n"
   ]
  },
  {
   "cell_type": "markdown",
   "id": "eaf92ef8",
   "metadata": {},
   "source": [
    "--"
   ]
  },
  {
   "cell_type": "markdown",
   "id": "61f92a59",
   "metadata": {},
   "source": [
    "**NOTES ON SPECIFYING COLUMNS:**\n",
    "- In SQL, when performing a join, we don't need to specify which table a column belongs to, if the column is unique.\n",
    "- In this example, we need to specify that we want the customer_id from table 'c' because their is also a customer_id column in 'o'.\n",
    "- first_name is only unique to customers, so we don't need to specify 'c.first_name'."
   ]
  },
  {
   "cell_type": "markdown",
   "id": "2442f515",
   "metadata": {},
   "source": [
    "```SQL\n",
    "SELECT\n",
    "    c.customer_id,\n",
    "    first_name,\n",
    "FROM\n",
    "    sales.customers c\n",
    "INNER JOIN sales.orders o ON o.customer_id = c.customer_id\n",
    "```"
   ]
  },
  {
   "cell_type": "markdown",
   "id": "cad29e27",
   "metadata": {},
   "source": [
    "------"
   ]
  },
  {
   "cell_type": "markdown",
   "id": "092fecff",
   "metadata": {},
   "source": [
    "# 5. Joining Tables"
   ]
  },
  {
   "cell_type": "markdown",
   "id": "8c9e37ff",
   "metadata": {},
   "source": [
    "## 5a. Inner Join"
   ]
  },
  {
   "cell_type": "markdown",
   "id": "e11dd520",
   "metadata": {},
   "source": [
    "**QUERY AIM:**\n",
    "- This query retrieves all candidates who are also employees."
   ]
  },
  {
   "cell_type": "markdown",
   "id": "fa2e56ab",
   "metadata": {},
   "source": [
    "```SQL\n",
    "SELECT \n",
    "    c.id candidate_id,\n",
    "    c.full_name candidate_name,\n",
    "    e.id employeed_id,\n",
    "    e.full_name employee_name\n",
    "FROM \n",
    "    candidates c\n",
    "    INNER JOIN \n",
    "        employees e\n",
    "        ON c.fullname = e.fullname\n",
    "```"
   ]
  },
  {
   "cell_type": "markdown",
   "id": "af893b76",
   "metadata": {},
   "source": [
    "--"
   ]
  },
  {
   "cell_type": "markdown",
   "id": "f42cd1af",
   "metadata": {},
   "source": [
    "**QUERY AIM:**\n",
    "- This query retrieves product information and the category name for each product.\n",
    "\n",
    "**NOTES:**\n",
    "- An INNER JOIN finds matches between the product and category tables.\n",
    "- Here, the category_id from the products table is used to get extra information about the category from the category table."
   ]
  },
  {
   "cell_type": "markdown",
   "id": "8149b4bc",
   "metadata": {},
   "source": [
    "```SQL\n",
    "SELECT \n",
    "    product_name, \n",
    "    category_name,\n",
    "    list_price\n",
    "FROM \n",
    "    production.products p\n",
    "    INNER JOIN production.categories c\n",
    "        ON p.category_id = c.category_id\n",
    "```"
   ]
  },
  {
   "cell_type": "markdown",
   "id": "1c842e8b",
   "metadata": {},
   "source": [
    "--"
   ]
  },
  {
   "cell_type": "markdown",
   "id": "69e5bc2e",
   "metadata": {},
   "source": [
    "## 5b. Left Join"
   ]
  },
  {
   "cell_type": "markdown",
   "id": "48090bf0",
   "metadata": {},
   "source": [
    "**QUERY AIM:**\n",
    "- This query returns ALL candidates (left table) and their name if they also appear in the employees table.\n",
    "- NULL is returned in the employeed_id and employee_name columns if they don't appear in the employees table."
   ]
  },
  {
   "cell_type": "markdown",
   "id": "bbcf98ca",
   "metadata": {},
   "source": [
    "```SQL\n",
    "SELECT  \n",
    "    c.id candidate_id,\n",
    "    c.fullname candidate_name,\n",
    "    e.id employee_id,\n",
    "    e.fullname employee_name\n",
    "FROM \n",
    "    candidates c\n",
    "    LEFT JOIN employees e \n",
    "        ON e.fullname = c.fullname\n",
    "```"
   ]
  },
  {
   "cell_type": "markdown",
   "id": "7937fa90",
   "metadata": {},
   "source": [
    "--"
   ]
  },
  {
   "cell_type": "markdown",
   "id": "46b33862",
   "metadata": {},
   "source": [
    "**QUERY AIM:**\n",
    "- This query returns ALL product names (left table) and their order_id.\n",
    "- NULL will be returned if there is no order_id for that product.\n",
    "\n",
    "**NOTES:**\n",
    "- We can find out which products have NOT been ordered so far by viewing or filtering the NULL values."
   ]
  },
  {
   "cell_type": "markdown",
   "id": "1a6cfe3e",
   "metadata": {},
   "source": [
    "```SQL\n",
    "SELECT\n",
    "    product_name,\n",
    "    order_id\n",
    "FROM\n",
    "    production.products p\n",
    "    LEFT JOIN sales.order_items o \n",
    "        ON o.product_id = p.product_id\n",
    "    ORDER BY\n",
    "        order_id;\n",
    "```"
   ]
  },
  {
   "cell_type": "markdown",
   "id": "0c64d1ed",
   "metadata": {},
   "source": [
    "--"
   ]
  },
  {
   "cell_type": "markdown",
   "id": "140389e5",
   "metadata": {},
   "source": [
    "## 5c. Right Join"
   ]
  },
  {
   "cell_type": "markdown",
   "id": "98589b52",
   "metadata": {},
   "source": [
    "**QUERY AIM:**\n",
    "- This query retrieves all employees (right table) and any matches that appear in the candidates table.\n",
    "- The query will return NULL in the candidates columns (left table) if there is no match.\n",
    "\n",
    "**NOTES:** \n",
    "- This is the reverse of the LEFT JOIN."
   ]
  },
  {
   "cell_type": "markdown",
   "id": "30280637",
   "metadata": {},
   "source": [
    "```SQL\n",
    "SELECT \n",
    "    c.id candidate_id,\n",
    "    c.full_name candidate_name,\n",
    "    e.id employee_id,\n",
    "    e.full_name employee_name\n",
    "FROM \n",
    "    candidates c\n",
    "    RIGHT JOIN employees e\n",
    "        ON c.full_name = e.full_name\n",
    "```"
   ]
  },
  {
   "cell_type": "markdown",
   "id": "d1bed631",
   "metadata": {},
   "source": [
    "--"
   ]
  },
  {
   "cell_type": "markdown",
   "id": "ea88e4e7",
   "metadata": {},
   "source": [
    "## 5d. Full Outer Join"
   ]
  },
  {
   "cell_type": "markdown",
   "id": "420b9243",
   "metadata": {},
   "source": [
    "**QUERY AIM:**\n",
    "- This query retrieves all candidates and employees from both tables and shows us any matches where people appear in both tables.\n",
    "- The query will return NULL in the employees 'side' or NULL in the candidates 'side' if there is no match.\n",
    "\n",
    "**NOTES:**\n",
    "- A FULL OUTER JOIN combines both a LEFT JOIN and RIGHT JOIN and gives us all matches and all NON matches from the two tables. \n",
    "- This type of join will always show all results from both tables."
   ]
  },
  {
   "cell_type": "markdown",
   "id": "86052012",
   "metadata": {},
   "source": [
    "```SQL\n",
    "SELECT  \n",
    "    c.id candidate_id,\n",
    "    c.fullname candidate_name,\n",
    "    e.id employee_id,\n",
    "    e.fullname employee_name\n",
    "FROM \n",
    "    hr.candidates c\n",
    "    FULL JOIN hr.employees e \n",
    "        ON e.fullname = c.fullname;\n",
    "```"
   ]
  },
  {
   "cell_type": "markdown",
   "id": "6334c896",
   "metadata": {},
   "source": [
    "--"
   ]
  },
  {
   "cell_type": "markdown",
   "id": "ee2a0d54",
   "metadata": {},
   "source": [
    "## 5e. Cross Join"
   ]
  },
  {
   "cell_type": "markdown",
   "id": "295ff819",
   "metadata": {},
   "source": [
    "**QUERY AIM:**\n",
    "- This query aims to combine all possible combinations of store_id and product_id.\n",
    "- This query can then be used as a left table in a left join where the store_id and product_id can be used to find matches in a sales table containing store_id and product_id information.\n",
    "\n",
    "**NOTES:**\n",
    "- CROSS JOIN isn't often used on its own but can be part of a query."
   ]
  },
  {
   "cell_type": "markdown",
   "id": "b681f994",
   "metadata": {},
   "source": [
    "```SQL\n",
    "SELECT\n",
    "    s.store_id,\n",
    "    p.product_id,\n",
    "    ISNULL(sales, 0) sales\n",
    "FROM\n",
    "    sales.stores s\n",
    "CROSS JOIN production.products p\n",
    "    LEFT JOIN (....SUB QUERY...)\n",
    "\n",
    "```"
   ]
  },
  {
   "cell_type": "markdown",
   "id": "8a192f44",
   "metadata": {},
   "source": [
    "--"
   ]
  },
  {
   "cell_type": "markdown",
   "id": "36dabc30",
   "metadata": {},
   "source": [
    "## 5f. Self Join"
   ]
  },
  {
   "cell_type": "markdown",
   "id": "1bbd8ff9",
   "metadata": {},
   "source": [
    "**QUERY AIM:**\n",
    "- This query aims to get all staff emails alongside the email of the manager for each staff member. \n",
    "- This query sees the staffs table queried against itself.\n",
    "\n",
    "**NOTES:**\n",
    "- SELF JOIN is often used to query hierarchical data stored by ids in the same table.\n",
    "- We can also include NULL in the results to find the 'top boss' who has NULL for manager_id.\n",
    "- This is acheived by using a LEFT JOIN which will give us the email for EVERY staff member, regardless if they have a manager eg. the top boss."
   ]
  },
  {
   "cell_type": "markdown",
   "id": "e5e4aa33",
   "metadata": {},
   "source": [
    "```SQL\n",
    "SELECT\n",
    "    e.email employee_email,\n",
    "    m.email manager_email\n",
    "FROM \n",
    "    sales.staffs e\n",
    "    LEFT JOIN sales.staffs m\n",
    "    ON e.manager_id = m.staff_id;\n",
    "```"
   ]
  },
  {
   "cell_type": "markdown",
   "id": "f57e1a96",
   "metadata": {},
   "source": [
    "-----"
   ]
  },
  {
   "cell_type": "markdown",
   "id": "ae233309",
   "metadata": {},
   "source": [
    "# 6. Grouping"
   ]
  },
  {
   "cell_type": "markdown",
   "id": "384d9752",
   "metadata": {},
   "source": [
    "## 6a. Group By"
   ]
  },
  {
   "cell_type": "markdown",
   "id": "a1ca4a4f",
   "metadata": {},
   "source": [
    "**QUERY AIM:**\n",
    "- This query aims to return the total number of orders placed, grouped by customer_id and year, but only where the customer_id is either 1 or 2."
   ]
  },
  {
   "cell_type": "markdown",
   "id": "a33095d8",
   "metadata": {},
   "source": [
    "```SQL\n",
    "SELECT\n",
    "    customer_id,\n",
    "    YEAR (order_date) order_year,\n",
    "    COUNT (order_id) orders_placed\n",
    "FROM\n",
    "    sales.orders\n",
    "WHERE\n",
    "    customer_id IN (1, 2)\n",
    "GROUP BY\n",
    "    customer_id,\n",
    "    YEAR (order_date)\n",
    "ORDER BY\n",
    "    customer_id\n",
    "\n",
    "```"
   ]
  },
  {
   "cell_type": "markdown",
   "id": "4cd21eb8",
   "metadata": {},
   "source": [
    "--"
   ]
  },
  {
   "cell_type": "markdown",
   "id": "135aec03",
   "metadata": {},
   "source": [
    "**QUERY AIM:**\n",
    "- This query retrieves the total number of customers in each city."
   ]
  },
  {
   "cell_type": "markdown",
   "id": "dca4c0da",
   "metadata": {},
   "source": [
    "```SQL\n",
    "SELECT\n",
    "    city,\n",
    "    COUNT (customer_id) customer_count\n",
    "FROM\n",
    "    sales.customers\n",
    "GROUP BY\n",
    "    city\n",
    "ORDER BY\n",
    "    city\n",
    "```"
   ]
  },
  {
   "cell_type": "markdown",
   "id": "1f994119",
   "metadata": {},
   "source": [
    "--"
   ]
  },
  {
   "cell_type": "markdown",
   "id": "13b6be2f",
   "metadata": {},
   "source": [
    "**QUERY AIM:**\n",
    "- This query retrieves the average list price of products for each brand, where the model year is 2018.\n",
    "\n",
    "**NOTES:**\n",
    "- We use a join here because we only have brand_id in the products table and we retrieve the brand name from the brands table."
   ]
  },
  {
   "cell_type": "markdown",
   "id": "9c1efae7",
   "metadata": {},
   "source": [
    "```SQL\n",
    "SELECT\n",
    "    brand_name,\n",
    "    AVG (list_price) avg_price\n",
    "FROM\n",
    "    production.products p\n",
    "INNER JOIN production.brands b ON b.brand_id = p.brand_id\n",
    "WHERE\n",
    "    model_year = 2018\n",
    "GROUP BY\n",
    "    brand_name\n",
    "ORDER BY\n",
    "    brand_name\n",
    "```"
   ]
  },
  {
   "cell_type": "markdown",
   "id": "14b3e460",
   "metadata": {},
   "source": [
    "--"
   ]
  },
  {
   "cell_type": "markdown",
   "id": "c76e0f2e",
   "metadata": {},
   "source": [
    "**QUERY AIM:**\n",
    "- This query retrieves the net value of all sales (after discount) for each order_id."
   ]
  },
  {
   "cell_type": "markdown",
   "id": "711b7074",
   "metadata": {},
   "source": [
    "```SQL\n",
    "SELECT\n",
    "    order_id,\n",
    "    SUM (\n",
    "        quantity * list_price * (1 - discount)\n",
    "    ) net_value\n",
    "FROM\n",
    "    sales.order_items\n",
    "GROUP BY\n",
    "    order_id;\n",
    "\n",
    "```"
   ]
  },
  {
   "cell_type": "markdown",
   "id": "ae95e4d9",
   "metadata": {},
   "source": [
    "--"
   ]
  },
  {
   "cell_type": "markdown",
   "id": "da3022c2",
   "metadata": {},
   "source": [
    "## 6b. Having"
   ]
  },
  {
   "cell_type": "markdown",
   "id": "1c8f923a",
   "metadata": {},
   "source": [
    "**QUERY AIM:**\n",
    "- This query retrieves the sum of all sales per salesperson, where the sales sum is greater than 2000.\n",
    "\n",
    "**NOTES:**\n",
    "- HAVING acts like a WHERE clause on GROUP BY results.\n",
    "- HAVING is different in that it filters only aggregated results."
   ]
  },
  {
   "cell_type": "markdown",
   "id": "0c18121d",
   "metadata": {},
   "source": [
    "```SQL\n",
    "SELECT \n",
    "    salesperson_name,\n",
    "    SUM(sales) sales_total\n",
    "FROM \n",
    "    sales\n",
    "GROUP BY \n",
    "    salesperson_name\n",
    "HAVING \n",
    "    SUM(sales) < 2000\n",
    "```"
   ]
  },
  {
   "cell_type": "markdown",
   "id": "f9e4cd8a",
   "metadata": {},
   "source": [
    "--"
   ]
  },
  {
   "cell_type": "markdown",
   "id": "7b47ea67",
   "metadata": {},
   "source": [
    "**QUERY AIM:**\n",
    "- This query retrieves the MAX list_price and MIN list_price for each category_id where the MAX is less than 4000 but the MIN is greater than 500."
   ]
  },
  {
   "cell_type": "markdown",
   "id": "8390ade0",
   "metadata": {},
   "source": [
    "```SQL\n",
    "SELECT\n",
    "    category_id,\n",
    "    MAX (list_price) max_list_price,\n",
    "    MIN (list_price) min_list_price\n",
    "FROM\n",
    "    production.products\n",
    "GROUP BY\n",
    "    category_id\n",
    "HAVING\n",
    "    MAX (list_price) > 4000 OR MIN (list_price) < 500\n",
    "```"
   ]
  },
  {
   "cell_type": "markdown",
   "id": "d1040e79",
   "metadata": {},
   "source": [
    "--"
   ]
  },
  {
   "cell_type": "markdown",
   "id": "b287cbdc",
   "metadata": {},
   "source": [
    "**QUERY AIM:**\n",
    "- This query gets the average list_price for each category_id where the average list price is between 500 and 1000."
   ]
  },
  {
   "cell_type": "markdown",
   "id": "a499cc66",
   "metadata": {},
   "source": [
    "```SQL\n",
    "SELECT\n",
    "    category_id,\n",
    "    AVG (list_price) avg_list_price\n",
    "FROM\n",
    "    production.products\n",
    "GROUP BY\n",
    "    category_id\n",
    "HAVING\n",
    "    AVG (list_price) BETWEEN 500 AND 1000\n",
    "```"
   ]
  },
  {
   "cell_type": "markdown",
   "id": "3072b815",
   "metadata": {},
   "source": [
    "--"
   ]
  },
  {
   "cell_type": "markdown",
   "id": "cd157ad0",
   "metadata": {},
   "source": [
    "## 6c. Grouping Sets"
   ]
  },
  {
   "cell_type": "markdown",
   "id": "100480d3",
   "metadata": {},
   "source": [
    "**QUERY AIM:**\n",
    "- This query retrieves the total sales per brand and category, brand only, category only and finally neither brand nor category (total sales).\n",
    "\n",
    "**NOTES:**\n",
    "- We use GROUPING SETS to retrieve multiple differently grouped aggregate totals in one query result.\n",
    "- As shown below, CUBE and ROLLUP provide shorter ways to declare GROUPING SETS."
   ]
  },
  {
   "cell_type": "markdown",
   "id": "6dda5494",
   "metadata": {},
   "source": [
    "```SQL\n",
    "SELECT\n",
    "    brand,\n",
    "    category,\n",
    "    SUM (sales) sales\n",
    "FROM\n",
    "    sales.sales_summary\n",
    "GROUP BY\n",
    "    GROUPING SETS (\n",
    "        (brand, category),\n",
    "        (brand),\n",
    "        (category),\n",
    "        ()\n",
    "    )\n",
    "ORDER BY\n",
    "    brand,\n",
    "    category\n",
    "```"
   ]
  },
  {
   "cell_type": "markdown",
   "id": "5ecab1b3",
   "metadata": {},
   "source": [
    "--"
   ]
  },
  {
   "cell_type": "markdown",
   "id": "fe698f15",
   "metadata": {},
   "source": [
    "## 6d. Cube"
   ]
  },
  {
   "cell_type": "markdown",
   "id": "15350735",
   "metadata": {},
   "source": [
    "**QUERY AIM:**\n",
    "- This query uses CUBE to get all possible combinations of aggregated results for d1,d2 and d3.\n",
    "\n",
    "**NOTES:**\n",
    "- CUBE would return 8 grouping sets as follows:\n",
    "- d1+d2+d3, d1+d2, d1+d3, d2+d3, d1, d2, d3, NONE (Table total)"
   ]
  },
  {
   "cell_type": "markdown",
   "id": "484863d5",
   "metadata": {},
   "source": [
    "```SQL\n",
    "SELECT\n",
    "    d1,\n",
    "    d2,\n",
    "    d3,\n",
    "    aggregate_function (c4)\n",
    "FROM\n",
    "    table_name\n",
    "GROUP BY\n",
    "    CUBE (d1, d2, d3)\n",
    "```"
   ]
  },
  {
   "cell_type": "markdown",
   "id": "5f1fded6",
   "metadata": {},
   "source": [
    "--"
   ]
  },
  {
   "cell_type": "markdown",
   "id": "0fb996e7",
   "metadata": {},
   "source": [
    "**QUERY AIM:**\n",
    "- This query retrieves only the sum of sales for brand + category and brand.\n",
    "\n",
    "**NOTES:**\n",
    "- This is called a partial cube.\n",
    "- 'brand' is outside of the CUBE, so is considered the top of the hierarchy."
   ]
  },
  {
   "cell_type": "markdown",
   "id": "beff134b",
   "metadata": {},
   "source": [
    "```SQL\n",
    "SELECT\n",
    "    brand,\n",
    "    category,\n",
    "    SUM (sales) sales\n",
    "FROM\n",
    "    sales.sales_summary\n",
    "GROUP BY\n",
    "    brand,\n",
    "    CUBE(category)\n",
    "```"
   ]
  },
  {
   "cell_type": "markdown",
   "id": "090788bb",
   "metadata": {},
   "source": [
    "--"
   ]
  },
  {
   "cell_type": "markdown",
   "id": "824a03ff",
   "metadata": {},
   "source": [
    "## 6e. Roll Up"
   ]
  },
  {
   "cell_type": "markdown",
   "id": "4acbed54",
   "metadata": {},
   "source": [
    "**QUERY AIM:**\n",
    "- This query aims to get the sum of sales for brand + category, brand and overall sales.\n",
    "\n",
    "**NOTES:**\n",
    "- ROLLUP assumes a hierarchy - the first column passed in is treated as the top of the hierarchy and every combination of results with 'brand' will be returned."
   ]
  },
  {
   "cell_type": "markdown",
   "id": "fbbb64da",
   "metadata": {},
   "source": [
    "```SQL\n",
    "SELECT\n",
    "    brand,\n",
    "    category,\n",
    "    SUM (sales) sales\n",
    "FROM\n",
    "    sales.sales_summary\n",
    "GROUP BY\n",
    "    ROLLUP(brand, category)\n",
    "```"
   ]
  },
  {
   "cell_type": "markdown",
   "id": "ad4b8df7",
   "metadata": {},
   "source": [
    "--"
   ]
  },
  {
   "cell_type": "markdown",
   "id": "69bc8215",
   "metadata": {},
   "source": [
    "**QUERY AIM:**\n",
    "- This query aims to return sales totals for category + brand, category only and total sales."
   ]
  },
  {
   "cell_type": "markdown",
   "id": "fad5e223",
   "metadata": {},
   "source": [
    "```SQL\n",
    "SELECT\n",
    "    category,\n",
    "    brand,\n",
    "    SUM (sales) sales\n",
    "FROM\n",
    "    sales.sales_summary\n",
    "GROUP BY\n",
    "    ROLLUP (category, brand)\n",
    "```"
   ]
  },
  {
   "cell_type": "markdown",
   "id": "6df2b130",
   "metadata": {},
   "source": [
    "--"
   ]
  },
  {
   "cell_type": "markdown",
   "id": "3fdd47ee",
   "metadata": {},
   "source": [
    "**QUERY AIM:**\n",
    "- This query retrieves sales totals for brand + category and brand but not full table sales totals as it as a partial ROLLUP."
   ]
  },
  {
   "cell_type": "markdown",
   "id": "68fd06f6",
   "metadata": {},
   "source": [
    "```SQL\n",
    "SELECT\n",
    "    brand,\n",
    "    category,\n",
    "    SUM (sales) sales\n",
    "FROM\n",
    "    sales.sales_summary\n",
    "GROUP BY\n",
    "    brand,\n",
    "    ROLLUP (category)\n",
    "```"
   ]
  },
  {
   "cell_type": "markdown",
   "id": "e0ddcb90",
   "metadata": {},
   "source": [
    "-----"
   ]
  },
  {
   "cell_type": "markdown",
   "id": "3f001e19",
   "metadata": {},
   "source": [
    "# 7. SubQuery"
   ]
  },
  {
   "cell_type": "markdown",
   "id": "6119fbc6",
   "metadata": {},
   "source": [
    "## 7a. Overview"
   ]
  },
  {
   "cell_type": "markdown",
   "id": "58d37e13",
   "metadata": {},
   "source": [
    "**QUERY AIM:**\n",
    "- This query gets order information for all customers based in New York.\n",
    "\n",
    "**NOTES:**\n",
    "- The sub query finds all customers in New York. The outer query then gets order details where the customer_id appears in the sub-query.\n",
    "- We need access to both the orders table and the customers table to retrieve the information we require."
   ]
  },
  {
   "cell_type": "markdown",
   "id": "ae9562fc",
   "metadata": {},
   "source": [
    "```SQL\n",
    "SELECT\n",
    "    order_id,\n",
    "    order_date,\n",
    "    customer_id\n",
    "FROM\n",
    "    sales.orders\n",
    "WHERE\n",
    "    customer_id IN (\n",
    "        SELECT\n",
    "            customer_id\n",
    "        FROM\n",
    "            sales.customers\n",
    "        WHERE\n",
    "            city = 'New York'\n",
    "    )\n",
    "ORDER BY\n",
    "    order_date DESC\n",
    "```"
   ]
  },
  {
   "cell_type": "markdown",
   "id": "1c0d21f6",
   "metadata": {},
   "source": [
    "--"
   ]
  },
  {
   "cell_type": "markdown",
   "id": "4bedcb3b",
   "metadata": {},
   "source": [
    "**QUERY AIM:**\n",
    "- This query retrieves the highest list price item from every order.\n",
    "\n",
    "**NOTES:**\n",
    "- The subquery searches the order_items table for every order in the orders table.\n",
    "- This is an example of how a subquery can be used as a field."
   ]
  },
  {
   "cell_type": "markdown",
   "id": "bca10df6",
   "metadata": {},
   "source": [
    "```SQL \n",
    "SELECT\n",
    "    order_id,\n",
    "    order_date,\n",
    "    (\n",
    "        SELECT\n",
    "            MAX (list_price)\n",
    "        FROM\n",
    "            sales.order_items i\n",
    "        WHERE\n",
    "            i.order_id = o.order_id\n",
    "    ) AS max_list_price\n",
    "FROM\n",
    "    sales.orders o\n",
    "ORDER BY order_date desc\n",
    "```"
   ]
  },
  {
   "cell_type": "markdown",
   "id": "d83fedc7",
   "metadata": {},
   "source": [
    "--"
   ]
  },
  {
   "cell_type": "markdown",
   "id": "45019f5a",
   "metadata": {},
   "source": [
    "## 7b. Correlated SubQuery"
   ]
  },
  {
   "cell_type": "markdown",
   "id": "53619943",
   "metadata": {},
   "source": [
    "**QUERY AIM:**\n",
    "- This query finds the products with the highest list price in their category."
   ]
  },
  {
   "cell_type": "markdown",
   "id": "cb47d2f2",
   "metadata": {},
   "source": [
    "**NOTES:**\n",
    "- Correlated subqueries rely on the outer table with a  column match.\n",
    "- The table in the subquery can be the same table as the outer table (using table aliases) or a different table."
   ]
  },
  {
   "cell_type": "markdown",
   "id": "cc6e1e9a",
   "metadata": {},
   "source": [
    "```SQL\n",
    "SELECT\n",
    "    product_name,\n",
    "    list_price,\n",
    "    category_id\n",
    "FROM\n",
    "    production.products p1\n",
    "WHERE\n",
    "    list_price IN (\n",
    "        SELECT\n",
    "            MAX (p2.list_price)\n",
    "        FROM\n",
    "            production.products p2\n",
    "        WHERE\n",
    "            p2.category_id = p1.category_id\n",
    "        GROUP BY\n",
    "            p2.category_id\n",
    "    )\n",
    "ORDER BY\n",
    "    category_id,\n",
    "    product_name\n",
    "```"
   ]
  },
  {
   "cell_type": "markdown",
   "id": "2d8dd992",
   "metadata": {},
   "source": [
    "--"
   ]
  },
  {
   "cell_type": "markdown",
   "id": "c6fcf73f",
   "metadata": {},
   "source": [
    "## 7c. Exists"
   ]
  },
  {
   "cell_type": "markdown",
   "id": "80488c07",
   "metadata": {},
   "source": [
    "**QUERY AIM:**\n",
    "- This query returns all customers if they have placed more than 2 orders.\n",
    "\n",
    "**NOTES:**\n",
    "- For every customer_id, the subquery counts up the number of orders placed for that customer_id, returning True if more than 2, or False if less."
   ]
  },
  {
   "cell_type": "markdown",
   "id": "a3778cd0",
   "metadata": {},
   "source": [
    "```SQL\n",
    "SELECT\n",
    "    customer_id,\n",
    "    first_name,\n",
    "    last_name\n",
    "FROM\n",
    "    sales.customers c\n",
    "WHERE\n",
    "    EXISTS (\n",
    "        SELECT\n",
    "            COUNT (*)\n",
    "        FROM\n",
    "            sales.orders o\n",
    "        WHERE\n",
    "            customer_id = c.customer_id\n",
    "        GROUP BY\n",
    "            customer_id\n",
    "        HAVING\n",
    "            COUNT (*) > 2\n",
    "    )\n",
    "ORDER BY\n",
    "    first_name,\n",
    "    last_name\n",
    "```"
   ]
  },
  {
   "cell_type": "markdown",
   "id": "71806f30",
   "metadata": {},
   "source": [
    "--"
   ]
  },
  {
   "cell_type": "markdown",
   "id": "c4df779b",
   "metadata": {},
   "source": [
    "**QUERY AIM:**\n",
    "- This query finds all orders placed by customers who are based in San Jose.\n",
    "\n",
    "**NOTES:**\n",
    "- Sometimes a simpler subquery using IN can achieve the same results, without the need for a correlated subquery."
   ]
  },
  {
   "cell_type": "markdown",
   "id": "bc14cfd9",
   "metadata": {},
   "source": [
    "```SQL\n",
    "SELECT\n",
    "    *\n",
    "FROM\n",
    "    sales.orders\n",
    "WHERE\n",
    "    customer_id IN (\n",
    "        SELECT\n",
    "            customer_id\n",
    "        FROM\n",
    "            sales.customers\n",
    "        WHERE\n",
    "            city = 'San Jose'\n",
    "    )\n",
    "ORDER BY\n",
    "    customer_id,\n",
    "    order_date\n",
    "```"
   ]
  },
  {
   "cell_type": "markdown",
   "id": "6d1e7032",
   "metadata": {},
   "source": [
    "--"
   ]
  },
  {
   "cell_type": "markdown",
   "id": "fc32e965",
   "metadata": {},
   "source": [
    "**NOTES:**\n",
    "- The same query as above using a correlated subquery and EXISTS."
   ]
  },
  {
   "cell_type": "markdown",
   "id": "6e56e54d",
   "metadata": {},
   "source": [
    "```SQL\n",
    "SELECT\n",
    "    *\n",
    "FROM\n",
    "    sales.orders o\n",
    "WHERE\n",
    "    EXISTS (\n",
    "        SELECT\n",
    "            customer_id\n",
    "        FROM\n",
    "            sales.customers c\n",
    "        WHERE\n",
    "            o.customer_id = c.customer_id\n",
    "        AND city = 'San Jose'\n",
    "    )\n",
    "ORDER BY\n",
    "    o.customer_id,\n",
    "    order_date\n",
    "```"
   ]
  },
  {
   "cell_type": "markdown",
   "id": "19fdeab5",
   "metadata": {},
   "source": [
    "--"
   ]
  },
  {
   "cell_type": "markdown",
   "id": "684284ae",
   "metadata": {},
   "source": [
    "## 7d. Any"
   ]
  },
  {
   "cell_type": "markdown",
   "id": "db257047",
   "metadata": {},
   "source": [
    "**QUERY AIM:**\n",
    "- This query gets all products and their list price where the product has an order quantity of more than 2 in the order_items table.\n",
    "\n",
    "**NOTES:**\n",
    "- Here we return ANY matches where the product_id from the outer query is found inside the subquery.\n",
    "- The query will return true and stop when ANY matches are found."
   ]
  },
  {
   "cell_type": "markdown",
   "id": "5bb75b0d",
   "metadata": {},
   "source": [
    "```SQL\n",
    "SELECT\n",
    "    product_name,\n",
    "    list_price\n",
    "FROM\n",
    "    production.products\n",
    "WHERE\n",
    "    product_id = ANY (\n",
    "        SELECT\n",
    "            product_id\n",
    "        FROM\n",
    "            sales.order_items\n",
    "        WHERE\n",
    "            quantity >= 2\n",
    "    )\n",
    "ORDER BY\n",
    "    product_name\n",
    "```"
   ]
  },
  {
   "cell_type": "markdown",
   "id": "9d85de28",
   "metadata": {},
   "source": [
    "--"
   ]
  },
  {
   "cell_type": "markdown",
   "id": "9299488e",
   "metadata": {},
   "source": [
    "## 7e. All"
   ]
  },
  {
   "cell_type": "markdown",
   "id": "a555c0c7",
   "metadata": {},
   "source": [
    "**QUERY AIM:**\n",
    "- This query finds all products that have a higher list_price than ALL of the average list prices for each brand_id.\n",
    "\n",
    "**NOTES:**\n",
    "- Every product is assessed and the list_price of the product must be higher than ALL of the averages from the subquery to be returned."
   ]
  },
  {
   "cell_type": "markdown",
   "id": "0f5d969c",
   "metadata": {},
   "source": [
    "```SQL\n",
    "SELECT\n",
    "    product_name,\n",
    "    list_price\n",
    "FROM\n",
    "    production.products\n",
    "WHERE\n",
    "    list_price > ALL (\n",
    "        SELECT\n",
    "            AVG (list_price) avg_list_price\n",
    "        FROM\n",
    "            production.products\n",
    "        GROUP BY\n",
    "            brand_id\n",
    "    )\n",
    "ORDER BY\n",
    "    list_price\n",
    "```"
   ]
  },
  {
   "cell_type": "markdown",
   "id": "e1c24ffd",
   "metadata": {},
   "source": [
    "-----"
   ]
  },
  {
   "cell_type": "markdown",
   "id": "215f54c3",
   "metadata": {},
   "source": [
    "# 8. Set Operators"
   ]
  },
  {
   "cell_type": "markdown",
   "id": "b85a3045",
   "metadata": {},
   "source": [
    "**QUERY AIM:**\n",
    "- This query aims to get a complete combined list of all staff members and customers without any duplicates."
   ]
  },
  {
   "cell_type": "markdown",
   "id": "46baa0d9",
   "metadata": {},
   "source": [
    "**NOTES:**\n",
    "- UNION will remove any duplicates.\n",
    "- The data types must be the same in the two tables we assess using set operators."
   ]
  },
  {
   "cell_type": "markdown",
   "id": "2fdfd727",
   "metadata": {},
   "source": [
    "## 8a. Union"
   ]
  },
  {
   "cell_type": "markdown",
   "id": "41e880e3",
   "metadata": {},
   "source": [
    "```SQL\n",
    "SELECT\n",
    "    first_name,\n",
    "    last_name\n",
    "FROM\n",
    "    sales.staffs\n",
    "UNION\n",
    "SELECT\n",
    "    first_name,\n",
    "    last_name\n",
    "FROM\n",
    "    sales.customers\n",
    "```"
   ]
  },
  {
   "cell_type": "markdown",
   "id": "01568ddc",
   "metadata": {},
   "source": [
    "--"
   ]
  },
  {
   "cell_type": "markdown",
   "id": "13981e0c",
   "metadata": {},
   "source": [
    "## 8b. Union All"
   ]
  },
  {
   "cell_type": "markdown",
   "id": "11d84f2e",
   "metadata": {},
   "source": [
    "**QUERY AIM:**\n",
    "- This query aims to get a combined list of all staff and customers without removing any duplicates.\n",
    "\n",
    "**NOTES:**\n",
    "- UNION ALL does NOT remove duplicates.\n",
    "- Any staff members who are also customers would be included twice."
   ]
  },
  {
   "cell_type": "markdown",
   "id": "c9155451",
   "metadata": {},
   "source": [
    "```SQL\n",
    "SELECT\n",
    "    first_name,\n",
    "    last_name\n",
    "FROM\n",
    "    sales.staffs\n",
    "UNION ALL\n",
    "SELECT\n",
    "    first_name,\n",
    "    last_name\n",
    "FROM\n",
    "    sales.customer\n",
    "```"
   ]
  },
  {
   "cell_type": "markdown",
   "id": "7f2e9b34",
   "metadata": {},
   "source": [
    "--"
   ]
  },
  {
   "cell_type": "markdown",
   "id": "8d2aaebf",
   "metadata": {},
   "source": [
    "## 8c. Intersect"
   ]
  },
  {
   "cell_type": "markdown",
   "id": "100ad452",
   "metadata": {},
   "source": [
    "**QUERY AIM:**\n",
    "- In this query, we want to find the players who appear in both tables.\n",
    "\n",
    "**NOTE:**\n",
    "- The player of the year tables are invented and have a player_id and player_name column only.\n",
    "\n",
    "**NOTES:**\n",
    "**UNION vs. INTERSECT**\n",
    "- INTERSECT here will only return players who appear in BOTH tables.\n",
    "- UNION will find players who appear in EITHER table (but with no repetition of players)"
   ]
  },
  {
   "cell_type": "markdown",
   "id": "e034e46c",
   "metadata": {},
   "source": [
    "```SQL\n",
    "SELECT \n",
    "    player_id, \n",
    "    player_name\n",
    "FROM \n",
    "    player_of_the_year_2021\n",
    "INTERSECT\n",
    "SELECT \n",
    "    player_id,\n",
    "    player_name\n",
    "FROM \n",
    "    player_of_the_year_2020\n",
    "```"
   ]
  },
  {
   "cell_type": "markdown",
   "id": "4e6304df",
   "metadata": {},
   "source": [
    "--"
   ]
  },
  {
   "cell_type": "markdown",
   "id": "99f7570b",
   "metadata": {},
   "source": [
    "## 8d. Except"
   ]
  },
  {
   "cell_type": "markdown",
   "id": "de36cc55",
   "metadata": {},
   "source": [
    "**QUERY ORDER:**\n",
    "- This query retrieves employees who do not appear in the completed_health_and_safety table.\n",
    "\n",
    "**NOTES:**\n",
    "- EXCEPT assesses if people from the employees table appear in the second table, not vice-versa.\n",
    "- The completed_health_and_safety table is invented and simply has first_name and last_name columns of employees who have taken a health and safety course."
   ]
  },
  {
   "cell_type": "markdown",
   "id": "c1dd0bdb",
   "metadata": {},
   "source": [
    "```SQL\n",
    "SELECT \n",
    "    first_name,\n",
    "    last_name\n",
    "FROM\n",
    "    employees\n",
    "EXCEPT\n",
    "SELECT\n",
    "    first_name,\n",
    "    last_name\n",
    "FROM \n",
    "    completed_health_and_safety\n",
    "```"
   ]
  },
  {
   "cell_type": "markdown",
   "id": "008ca782",
   "metadata": {},
   "source": [
    "-----"
   ]
  },
  {
   "cell_type": "markdown",
   "id": "48a7b798",
   "metadata": {},
   "source": [
    "# 9. Common Table Expressions"
   ]
  },
  {
   "cell_type": "markdown",
   "id": "a32c7f44",
   "metadata": {},
   "source": [
    "## 9a. CTEs"
   ]
  },
  {
   "cell_type": "markdown",
   "id": "25fc609f",
   "metadata": {},
   "source": [
    "**QUERY AIM:**\n",
    "- This query returns the sales totals per salesperson per year for the year 2019.\n",
    "\n",
    "**NOTES:**\n",
    "- In the WITH statement, alias column names are optional.\n",
    "- A CTE can be a clearer way to write subqueries, among other uses."
   ]
  },
  {
   "cell_type": "markdown",
   "id": "58fb4968",
   "metadata": {},
   "source": [
    "```SQL\n",
    "WITH sales_person_yearly_total (sales_person_id, sales, year) AS (\n",
    "SELECT\n",
    "    id,\n",
    "    SUM(sales_total)\n",
    "    YEAR(sales_date)\n",
    "FROM \n",
    "    sales\n",
    "GROUP BY \n",
    "    id,\n",
    "    YEAR(sales_date)\n",
    ")\n",
    "SELECT \n",
    "    sales_person_id,\n",
    "    sales,\n",
    "    year\n",
    "FROM \n",
    "    sales_person_yearly_total\n",
    "WHERE\n",
    "    year = 2019\n",
    "\n",
    "```"
   ]
  },
  {
   "cell_type": "markdown",
   "id": "865d4e51",
   "metadata": {},
   "source": [
    "--"
   ]
  },
  {
   "cell_type": "markdown",
   "id": "146ca535",
   "metadata": {},
   "source": [
    "**QUERY AIM:**\n",
    "- This query returns the average order count per member of staff for the year 2018.\n",
    "\n",
    "\n",
    "**NOTES:**\n",
    "- You don't need to create column aliases inside WITH statement, as shown below.\n",
    "- The cte_sales table returns the number of orders per staff member (for 2018) which is then used to calculate the average number of orders from."
   ]
  },
  {
   "cell_type": "markdown",
   "id": "675fc2ef",
   "metadata": {},
   "source": [
    "```SQL\n",
    "WITH cte_sales AS (\n",
    "    SELECT \n",
    "        staff_id, \n",
    "        COUNT(*) order_count  \n",
    "    FROM\n",
    "        sales.orders\n",
    "    WHERE \n",
    "        YEAR(order_date) = 2018\n",
    "    GROUP BY\n",
    "        staff_id\n",
    ")\n",
    "SELECT\n",
    "    AVG(order_count) average_orders_by_staff\n",
    "FROM \n",
    "    cte_sales\n",
    "```"
   ]
  },
  {
   "cell_type": "markdown",
   "id": "f91a136c",
   "metadata": {},
   "source": [
    "--"
   ]
  },
  {
   "cell_type": "markdown",
   "id": "72e486af",
   "metadata": {},
   "source": [
    "**QUERY AIM:**\n",
    "- This query demonstrates how you can create multiple CTE tables and use both tables in a join, or any other SQL statement."
   ]
  },
  {
   "cell_type": "markdown",
   "id": "2e60957f",
   "metadata": {},
   "source": [
    "```SQL\n",
    "WITH cte_1 AS (\n",
    "SELECT ....\n",
    "),\n",
    "WITH cte_2 AS (\n",
    "SELECT ...\n",
    ")\n",
    "SELECT \n",
    "    col_a,\n",
    "    col_b\n",
    "FROM \n",
    "    cte_1\n",
    "    INNER JOIN cte_2 ON...\n",
    "WHERE...\n",
    "ORDER BY...\n",
    "\n",
    "```"
   ]
  },
  {
   "cell_type": "markdown",
   "id": "0e0a70ef",
   "metadata": {},
   "source": [
    "--"
   ]
  },
  {
   "cell_type": "markdown",
   "id": "f0aa2df3",
   "metadata": {},
   "source": [
    "## 9b. Recursive CTEs"
   ]
  },
  {
   "cell_type": "markdown",
   "id": "b1b49fe6",
   "metadata": {},
   "source": [
    "**QUERY AIM:**\n",
    "- This query simply starts with 1 and keeps counting up to 4, returning 1 to 4.\n",
    "\n",
    "**NOTES:**\n",
    "- Recursive CTE queries refer to the original cte itself as a starting point, then loops until a condition is met."
   ]
  },
  {
   "cell_type": "markdown",
   "id": "5deb1600",
   "metadata": {},
   "source": [
    "```SQL\n",
    "WITH cte ( value )\n",
    "  AS (\n",
    "       SELECT   1\n",
    "       UNION ALL\n",
    "       SELECT   value + 1\n",
    "       FROM     cte\n",
    "       WHERE    value < 4\n",
    "     )\n",
    "SELECT  *\n",
    "FROM    cte\n",
    "```"
   ]
  },
  {
   "cell_type": "markdown",
   "id": "9bd6be34",
   "metadata": {},
   "source": [
    "--"
   ]
  },
  {
   "cell_type": "markdown",
   "id": "faa07ef8",
   "metadata": {},
   "source": [
    "**QUERY AIM:**\n",
    "- This query returns all staff members and their manager, also returning the staff members who do not have a manager (NULL).\n",
    "\n",
    "**NOTES:**\n",
    "- Recursive CTEs often query hierarchical data.\n",
    "- The starting point in the query below is the top manager in the hirearchical structure (manager_id IS NULL)\n",
    "- Using the first result (main manager) as a base, we then use UNION ALL and then retreive the employees under the main manager. Then we get the employees under the employees under the manager. Then we get the employees under the employees under the employees under the manager and so on.\n",
    "\n",
    "- The cte table in recursive CTEs always calls itself!"
   ]
  },
  {
   "cell_type": "markdown",
   "id": "dc931413",
   "metadata": {},
   "source": [
    "```SQL\n",
    "WITH manager AS\n",
    "(\n",
    "SELECT \n",
    "    staff_id,\n",
    "    first_name + ' ' + last_name full_name,\n",
    "    manager_id\n",
    "FROM\n",
    "    sales.staffs\n",
    "WHERE\n",
    "    manager_id IS NULL\n",
    "UNION ALL\n",
    "SELECT \n",
    "    e.employee_id,\n",
    "    e.first_name + ' ' + e.last_name full_name, \n",
    "    e.manager_id\n",
    "FROM\n",
    "    sales.staffs e\n",
    "    INNER JOIN manager\n",
    "    ON m.staff_id = e.manager_id\n",
    ")\n",
    "SELECT *\n",
    "FROM \n",
    "manager\n",
    "```"
   ]
  },
  {
   "cell_type": "markdown",
   "id": "683f89e0",
   "metadata": {},
   "source": [
    "--"
   ]
  },
  {
   "cell_type": "markdown",
   "id": "045fcff8",
   "metadata": {},
   "source": [
    "**QUERY AIM:**\n",
    "- This query returns all items and the product that they belong to.\n",
    "\n",
    "**NOTES:**\n",
    "- This is another example of a hierarchical query using a recursive CTE.\n",
    "- For this example, imagine a car being the main product. The steering wheel, seats and doors would all be items belong to that car.\n",
    "- Smaller items such as the handle could be an item that belongs to the car door."
   ]
  },
  {
   "cell_type": "markdown",
   "id": "f487d43d",
   "metadata": {},
   "source": [
    "```SQL\n",
    "WITH outer_products AS\n",
    "(\n",
    "SELECT \n",
    "    item_id,\n",
    "    item_name,\n",
    "    product_id\n",
    "FROM\n",
    "    products\n",
    "WHERE\n",
    "    product_id IS NULL\n",
    "UNION ALL\n",
    "SELECT \n",
    "    p.item_id,\n",
    "    p.item_name, \n",
    "    p.product_id\n",
    "FROM\n",
    "    products p\n",
    "    INNER JOIN outer_products o\n",
    "    ON o.item_id = p.product_id\n",
    ")\n",
    "SELECT *\n",
    "FROM \n",
    "outer_products\n",
    "```"
   ]
  },
  {
   "cell_type": "markdown",
   "id": "743ba470",
   "metadata": {},
   "source": [
    "-----"
   ]
  },
  {
   "cell_type": "markdown",
   "id": "36b291f7",
   "metadata": {},
   "source": [
    "# 10. Pivot"
   ]
  },
  {
   "cell_type": "markdown",
   "id": "060637ef",
   "metadata": {},
   "source": [
    "## 10a. Pivot"
   ]
  },
  {
   "cell_type": "markdown",
   "id": "e83dbc69",
   "metadata": {},
   "source": [
    "**QUERY AIM:**\n",
    "- This query retrieves the total number of products per category name, with the category names pivoted to columns created with the PIVOT command.\n",
    "\n",
    "**NOTES:**\n",
    "- The inner query uses an INNER JOIN to retrieve the category name for each product.\n",
    "- In this example we use FOR and IN inside PIVOT to specify the category names we want.\n",
    "- The categories then become the columns in our result, with the total number of products displayed for each category.\n",
    "\n",
    "CatA, CatB, CatC, CatD\n",
    "\n",
    "25, 34, 42, 59"
   ]
  },
  {
   "cell_type": "markdown",
   "id": "dc0cb15f",
   "metadata": {},
   "source": [
    "```SQL\n",
    "SELECT * FROM   \n",
    "(\n",
    "    SELECT \n",
    "        category_name, \n",
    "        product_id\n",
    "    FROM \n",
    "        products p\n",
    "        INNER JOIN categories c \n",
    "            ON c.category_id = p.category_id\n",
    ") t \n",
    "PIVOT(\n",
    "    COUNT(product_id) \n",
    "    FOR category_name IN (\n",
    "        [CatA], \n",
    "        [CatB], \n",
    "        [CatC], \n",
    "        [CatD]\n",
    ") AS pivot_table\n",
    "```"
   ]
  },
  {
   "cell_type": "markdown",
   "id": "0fc4e4b7",
   "metadata": {},
   "source": [
    "--"
   ]
  },
  {
   "cell_type": "markdown",
   "id": "aa691530",
   "metadata": {},
   "source": [
    "**QUERY AIM:**\n",
    "- This query retrieves the total number of products per category name, per model year, with the category names pivoted to columns using the PIVOT command, and the years added as rows.\n",
    "\n",
    "**NOTE:**\n",
    "- This query is the same as the one above, except that we add model_year to the query.\n",
    "- By adding another column (model_year), we add a 'row group' which means the year becomes a row header, allowing us to see product totals per category per year.\n",
    "\n",
    "model_year, CatA, CatB, CatC, CatD\n",
    "\n",
    "2019, 3, 50, 22, 6\n",
    "\n",
    "2020, 52, 4, 12, 13\n",
    "\n",
    "2021, 41, 5, 29, 82"
   ]
  },
  {
   "cell_type": "markdown",
   "id": "4b721168",
   "metadata": {},
   "source": [
    "```SQL\n",
    "SELECT * FROM   \n",
    "(\n",
    "    SELECT \n",
    "        category_name, \n",
    "        product_id,\n",
    "        model_year\n",
    "    FROM \n",
    "        products p\n",
    "        INNER JOIN categories c \n",
    "            ON c.category_id = p.category_id\n",
    ") t \n",
    "PIVOT(\n",
    "    COUNT(product_id) \n",
    "    FOR category_name IN (\n",
    "        [CatA], \n",
    "        [CatB], \n",
    "        [CatC], \n",
    "        [CatD]\n",
    ") AS pivot_table\n",
    "```"
   ]
  },
  {
   "cell_type": "markdown",
   "id": "1812bda0",
   "metadata": {},
   "source": [
    "-----"
   ]
  },
  {
   "cell_type": "markdown",
   "id": "dbd61f2c",
   "metadata": {},
   "source": [
    "# 11. Expressions"
   ]
  },
  {
   "cell_type": "markdown",
   "id": "8d96edcf",
   "metadata": {},
   "source": [
    "## 11a. Case"
   ]
  },
  {
   "cell_type": "markdown",
   "id": "25cfad45",
   "metadata": {},
   "source": [
    "**QUERY AIM:**\n",
    "- This query returns the sum of all scores marked either 'Pass' or 'Fail'.\n",
    "\n",
    "**NOTES:**\n",
    "- This query uses CASE to assess each test_score and add 1 or 0 to the SUM column 'Pass' or 1 or 0 the SUM column 'Fail'.\n",
    "- The test_scores table is invented and simply has a test_score column."
   ]
  },
  {
   "cell_type": "markdown",
   "id": "ce954364",
   "metadata": {},
   "source": [
    "```SQL\n",
    "SELECT \n",
    "    SUM(CASE\n",
    "        WHEN test_score > 70\n",
    "        THEN 1\n",
    "        ELSE 0\n",
    "    END) AS 'Pass',\n",
    "    SUM(CASE\n",
    "        WHEN test_score <= 70\n",
    "        THEN 1\n",
    "        ELSE 0\n",
    "    END) AS 'Fail'\n",
    "FROM \n",
    "    test_scores\n",
    "```"
   ]
  },
  {
   "cell_type": "markdown",
   "id": "9adef8a0",
   "metadata": {},
   "source": [
    "--"
   ]
  },
  {
   "cell_type": "markdown",
   "id": "56bd412d",
   "metadata": {},
   "source": [
    "**QUERY AIM:**\n",
    "- This query returns all student names and score along with an additional outcome column determined by the score they managed on the test.\n",
    "\n",
    "**NOTES:**\n",
    "- The test_scores table is invented and only has a name and score column."
   ]
  },
  {
   "cell_type": "markdown",
   "id": "7f50e824",
   "metadata": {},
   "source": [
    "```SQL\n",
    "SELECT \n",
    "    name, \n",
    "    score,\n",
    "    CASE\n",
    "        WHEN score > 70\n",
    "            THEN 'Pass'\n",
    "        WHEN score <= 70 AND score >= 60\n",
    "            THEN 'Possible retake'\n",
    "        WHEN score <60 \n",
    "            THEN 'Fail'\n",
    "    END outcome\n",
    "FROM \n",
    "    test_scores\n",
    "```"
   ]
  },
  {
   "cell_type": "markdown",
   "id": "2145b0b2",
   "metadata": {},
   "source": [
    "--"
   ]
  },
  {
   "cell_type": "markdown",
   "id": "75fee031",
   "metadata": {},
   "source": [
    "## 11b. Coalesce"
   ]
  },
  {
   "cell_type": "markdown",
   "id": "377fbf8e",
   "metadata": {},
   "source": [
    "**QUERY AIM:**\n",
    "- This query retrieves the first name, last name and phone number of all employees, however if the phone number is NULL, then 'N/A' is returned instead.\n",
    "\n",
    "**NOTES:**\n",
    "- COALESCE will choose the first non null value that is passed in."
   ]
  },
  {
   "cell_type": "markdown",
   "id": "3909779c",
   "metadata": {},
   "source": [
    "```SQL\n",
    "SELECT \n",
    "    first_name,\n",
    "    last_name,\n",
    "    COALESCE(phone,'N/A')\n",
    "FROM \n",
    "    employees\n",
    "```"
   ]
  },
  {
   "cell_type": "markdown",
   "id": "6588ac94",
   "metadata": {},
   "source": [
    "--"
   ]
  },
  {
   "cell_type": "markdown",
   "id": "e63e0e25",
   "metadata": {},
   "source": [
    "**QUERY AIM:**\n",
    "- This query aims to retrieve all staff and a monthly salary rate for each employee.\n",
    "\n",
    "**NOTES:**\n",
    "- COALESCE finds the first NON NULL value and performs the given calculation (or no calculation if the employee has a monthly_rate.)\n",
    "- In this example all staff have one of hourly rate, weekly rate OR monthly rate. The others will be NULL.  \n",
    "- This is a clever way to achieve a uniform result for all staff salaries."
   ]
  },
  {
   "cell_type": "markdown",
   "id": "e7c5aefe",
   "metadata": {},
   "source": [
    "```SQL\n",
    "SELECT\n",
    "    staff_id,\n",
    "    COALESCE(\n",
    "        hourly_rate*22*8, \n",
    "        weekly_rate*4, \n",
    "        monthly_rate\n",
    "    ) monthly_salary\n",
    "FROM\n",
    "    salaries\n",
    "```"
   ]
  },
  {
   "cell_type": "markdown",
   "id": "0cc1182a",
   "metadata": {},
   "source": [
    "--"
   ]
  },
  {
   "cell_type": "markdown",
   "id": "540d2542",
   "metadata": {},
   "source": [
    "**NOTES:**\n",
    "- The action of finding the first non null value can also be achieved with CASE and WHEN, THEN...\n",
    "- COALESCE is a tidier way of finding the first non null value."
   ]
  },
  {
   "cell_type": "markdown",
   "id": "8f5327b1",
   "metadata": {},
   "source": [
    "```SQL\n",
    "COALESCE(e1,e2,e3)\n",
    "......\n",
    "CASE\n",
    "    WHEN e1 IS NOT NULL THEN e1\n",
    "    WHEN e2 IS NOT NULL THEN e2\n",
    "    ELSE e3\n",
    "END\n",
    "```"
   ]
  },
  {
   "cell_type": "markdown",
   "id": "b9985807",
   "metadata": {},
   "source": [
    "--"
   ]
  },
  {
   "cell_type": "markdown",
   "id": "60e91e75",
   "metadata": {},
   "source": [
    "# 11c. Null If"
   ]
  },
  {
   "cell_type": "markdown",
   "id": "6d1b7ddf",
   "metadata": {},
   "source": [
    "**QUERY AIM:**\n",
    "- This query aims to find clients whose email is blank or NULL.\n",
    "\n",
    "**NOTES:**\n",
    "- NULLIF returns NULL if the first parameter is equal to the second parameter.\n",
    "- In this example we specifically want NULL returned instead of empty strings."
   ]
  },
  {
   "cell_type": "markdown",
   "id": "a4f86b83",
   "metadata": {},
   "source": [
    "```SQL\n",
    "SELECT \n",
    "    name,\n",
    "    email\n",
    "FROM \n",
    "    clients\n",
    "WHERE\n",
    "    NULLIF(email, '') IS NULL\n",
    "\n",
    "```"
   ]
  },
  {
   "cell_type": "markdown",
   "id": "0f6af108",
   "metadata": {},
   "source": [
    "--"
   ]
  },
  {
   "cell_type": "markdown",
   "id": "0954d29a",
   "metadata": {},
   "source": [
    "**NOTES:**\n",
    "- The concept of checking if the 1st parameter is equal to the 2nd parameter can be replicated by using CASE."
   ]
  },
  {
   "cell_type": "markdown",
   "id": "4b5b39ec",
   "metadata": {},
   "source": [
    "```SQL\n",
    "SELECT \n",
    "    NULLIF(a,b)\n",
    "........ equal to .....\n",
    "CASE\n",
    "    WHEN a=b\n",
    "    THEN NULL\n",
    "END\n",
    "```"
   ]
  }
 ],
 "metadata": {
  "kernelspec": {
   "display_name": "Python 3 (ipykernel)",
   "language": "python",
   "name": "python3"
  },
  "language_info": {
   "codemirror_mode": {
    "name": "ipython",
    "version": 3
   },
   "file_extension": ".py",
   "mimetype": "text/x-python",
   "name": "python",
   "nbconvert_exporter": "python",
   "pygments_lexer": "ipython3",
   "version": "3.9.7"
  }
 },
 "nbformat": 4,
 "nbformat_minor": 5
}
